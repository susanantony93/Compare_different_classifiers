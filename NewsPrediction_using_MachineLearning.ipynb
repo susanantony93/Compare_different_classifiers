{
 "cells": [
  {
   "cell_type": "markdown",
   "metadata": {},
   "source": [
    "# Notebook imports"
   ]
  },
  {
   "cell_type": "code",
   "execution_count": 75,
   "metadata": {},
   "outputs": [],
   "source": [
    "import xml.etree.ElementTree as ET\n",
    "import pandas as pd\n",
    "import numpy as np\n",
    "from bs4 import BeautifulSoup\n",
    "from os import walk\n",
    "from os.path import join\n",
    "import nltk #package for NLP\n",
    "from nltk.stem import PorterStemmer\n",
    "from nltk.corpus import stopwords\n",
    "from nltk.tokenize import word_tokenize\n",
    "from bs4 import BeautifulSoup\n",
    "from sklearn.model_selection import train_test_split\n",
    "from sklearn.ensemble import RandomForestClassifier\n",
    "from sklearn.neural_network import MLPClassifier\n",
    "from sklearn.tree import DecisionTreeClassifier\n",
    "from sklearn.linear_model import LinearRegression\n",
    "from sklearn import svm\n",
    "from sklearn.model_selection import GridSearchCV \n",
    "from sklearn.feature_extraction.text import CountVectorizer\n",
    "from sklearn.feature_extraction.text import TfidfVectorizer\n",
    "from sklearn.preprocessing import LabelEncoder\n",
    "from sklearn.naive_bayes import MultinomialNB\n",
    "from sklearn.metrics import recall_score\n",
    "from sklearn.metrics import precision_score\n",
    "from sklearn.metrics import f1_score\n",
    "from sklearn.metrics import mean_squared_error, r2_score"
   ]
  },
  {
   "cell_type": "markdown",
   "metadata": {},
   "source": [
    "# Extract news from all xml files from all the directories\n",
    "### Extracting the filename,  headline,  text,  biptopics, date published and itemid from every news article"
   ]
  },
  {
   "cell_type": "code",
   "execution_count": 2,
   "metadata": {},
   "outputs": [],
   "source": [
    "def read_xml_files():\n",
    "    list =[]\n",
    "    count = 0\n",
    "    dataframes = []\n",
    "    for roots, dirs, files in walk('xml_files'):# code to read all the files in the given folders\n",
    "        for file in files:\n",
    "            if not file.startswith('.'): # to exclude the unwanted system files\n",
    "                file_path = join(roots,file)\n",
    "                tree = ET.parse(file_path) #parsing the.xml files\n",
    "                root = tree.getroot() \n",
    "                head_line = root.find(\"headline\") #Extracting the head_line\n",
    "                text = \"\";    #Extracting body and text\n",
    "                body = root.find(\"text\") #Extracting the text body\n",
    "                for data in body:\n",
    "                    text = text + \" \" + data.text\n",
    "                \n",
    "                meta_data = root.find(\"metadata\")\n",
    "                codes = meta_data.findall(\"codes\")\n",
    "                code_array = []\n",
    "                for i in codes:\n",
    "                    if i.attrib['class']=='bip:topics:1.0':\n",
    "                        code = i.findall(\"code\") #Extracting the biptopics\n",
    "                        for code_value in code:\n",
    "                            code_array.append(code_value.attrib['code'])\n",
    "                            \n",
    "                dc_elements = meta_data.findall(\"dc\")\n",
    "                for dc in dc_elements:\n",
    "                    if dc.attrib['element']=='dc.date.published': #Extracting the dc.date.published\n",
    "                        date_published = dc.attrib['value']\n",
    "                        \n",
    "                item_id = root.attrib['itemid'] #Extracting the filename\n",
    "                df = pd.DataFrame({\"filename\":file, \"headline\":head_line.text, \"text\":text, \"biptopics\":code_array, \"dc_date_published\":date_published, \"itemid\":item_id})\n",
    "                dataframes.append(df)\n",
    "                \n",
    "    \n",
    "    data_frame = pd.concat(dataframes,ignore_index=True) #creating a dataframe with all the extracted information for every news article\n",
    "    return data_frame"
   ]
  },
  {
   "cell_type": "code",
   "execution_count": 3,
   "metadata": {},
   "outputs": [],
   "source": [
    "df = read_xml_files() # initial dataframe with the original data fromall the .xml files"
   ]
  },
  {
   "cell_type": "markdown",
   "metadata": {},
   "source": [
    "# Function to extract all the possible biptopics\n",
    "### The function returns all the biptopics even if a news article has more than one."
   ]
  },
  {
   "cell_type": "code",
   "execution_count": 4,
   "metadata": {},
   "outputs": [],
   "source": [
    "def extract_biptopics(df):\n",
    "    \n",
    "    biptopics = set()\n",
    "    \n",
    "    for row in df['biptopics']:\n",
    "        biptopics.add(row)\n",
    "        \n",
    "    return biptopics"
   ]
  },
  {
   "cell_type": "code",
   "execution_count": 5,
   "metadata": {},
   "outputs": [
    {
     "data": {
      "text/plain": [
       "{'C11',\n",
       " 'C12',\n",
       " 'C13',\n",
       " 'C14',\n",
       " 'C15',\n",
       " 'C151',\n",
       " 'C1511',\n",
       " 'C152',\n",
       " 'C16',\n",
       " 'C17',\n",
       " 'C171',\n",
       " 'C172',\n",
       " 'C173',\n",
       " 'C174',\n",
       " 'C18',\n",
       " 'C181',\n",
       " 'C182',\n",
       " 'C183',\n",
       " 'C21',\n",
       " 'C22',\n",
       " 'C23',\n",
       " 'C24',\n",
       " 'C31',\n",
       " 'C311',\n",
       " 'C312',\n",
       " 'C313',\n",
       " 'C32',\n",
       " 'C33',\n",
       " 'C331',\n",
       " 'C34',\n",
       " 'C41',\n",
       " 'C411',\n",
       " 'C42',\n",
       " 'CCAT',\n",
       " 'E11',\n",
       " 'E12',\n",
       " 'E121',\n",
       " 'E13',\n",
       " 'E131',\n",
       " 'E132',\n",
       " 'E14',\n",
       " 'E141',\n",
       " 'E142',\n",
       " 'E143',\n",
       " 'E21',\n",
       " 'E211',\n",
       " 'E212',\n",
       " 'E31',\n",
       " 'E311',\n",
       " 'E312',\n",
       " 'E313',\n",
       " 'E41',\n",
       " 'E411',\n",
       " 'E51',\n",
       " 'E511',\n",
       " 'E512',\n",
       " 'E513',\n",
       " 'E61',\n",
       " 'E71',\n",
       " 'ECAT',\n",
       " 'G15',\n",
       " 'G151',\n",
       " 'G152',\n",
       " 'G153',\n",
       " 'G154',\n",
       " 'G155',\n",
       " 'G156',\n",
       " 'G157',\n",
       " 'G158',\n",
       " 'G159',\n",
       " 'GCAT',\n",
       " 'GCRIM',\n",
       " 'GDEF',\n",
       " 'GDIP',\n",
       " 'GDIS',\n",
       " 'GENT',\n",
       " 'GENV',\n",
       " 'GFAS',\n",
       " 'GHEA',\n",
       " 'GJOB',\n",
       " 'GOBIT',\n",
       " 'GODD',\n",
       " 'GPOL',\n",
       " 'GPRO',\n",
       " 'GREL',\n",
       " 'GSCI',\n",
       " 'GSPO',\n",
       " 'GTOUR',\n",
       " 'GVIO',\n",
       " 'GVOTE',\n",
       " 'GWEA',\n",
       " 'GWELF',\n",
       " 'M11',\n",
       " 'M12',\n",
       " 'M13',\n",
       " 'M131',\n",
       " 'M132',\n",
       " 'M14',\n",
       " 'M141',\n",
       " 'M142',\n",
       " 'M143',\n",
       " 'MCAT'}"
      ]
     },
     "execution_count": 5,
     "metadata": {},
     "output_type": "execute_result"
    }
   ],
   "source": [
    "biptopics = extract_biptopics(df) #Call the function to extract all the biptopics"
   ]
  },
  {
   "cell_type": "markdown",
   "metadata": {},
   "source": [
    "# Removing duplicate biptopic for every document\n",
    "\n",
    "### Note : I am working with single label for every data/news article hence keeping only the first label of every news article"
   ]
  },
  {
   "cell_type": "code",
   "execution_count": 7,
   "metadata": {},
   "outputs": [
    {
     "name": "stderr",
     "output_type": "stream",
     "text": [
      "/Library/Frameworks/Python.framework/Versions/3.7/lib/python3.7/site-packages/pandas/core/frame.py:4102: SettingWithCopyWarning: \n",
      "A value is trying to be set on a copy of a slice from a DataFrame\n",
      "\n",
      "See the caveats in the documentation: http://pandas.pydata.org/pandas-docs/stable/user_guide/indexing.html#returning-a-view-versus-a-copy\n",
      "  errors=errors,\n"
     ]
    }
   ],
   "source": [
    "# Reference : https://pandas.pydata.org/pandas-docs/stable/reference/api/pandas.DataFrame.drop_duplicates.html\n",
    "data = df.drop_duplicates(subset =\"filename\", keep = 'first') #dataframe with unique documents\n",
    "data.sort_index(inplace=True) # Sorting the indices of the df dataframe\n",
    "data.reset_index(inplace=True)\n",
    "data.drop(columns='index',inplace=True)"
   ]
  },
  {
   "cell_type": "markdown",
   "metadata": {},
   "source": [
    "# Function to clean the text body\n",
    "### remove html tags, tokenize, stemming, remove stopwords & remove non-alphabets"
   ]
  },
  {
   "cell_type": "code",
   "execution_count": 8,
   "metadata": {},
   "outputs": [],
   "source": [
    "def text_processing(data):\n",
    "    \n",
    "    list_rows = []\n",
    "    \n",
    "    stop_words = set(stopwords.words('english')) #convert the stopwords to a set and store it in the variable\n",
    "    stemmer = PorterStemmer() #variable to use porterstemmer object\n",
    "        \n",
    "    for row in data.text:\n",
    "        \n",
    "        #news_text = row['text']\n",
    "        \n",
    "        token_words=[]\n",
    "        filtered_words = \"\"\n",
    "        soup = BeautifulSoup(row,'html.parser') #html.parser is the type of parser used to remove html tags\n",
    "        text = soup.get_text() #get the text from the BeautifulSoup object\n",
    "        text_lower = text.lower() #convert the words to lowercase\n",
    "        text_lower = text_lower.strip()\n",
    "        token_words = (word_tokenize(text_lower)) #method to tokenize the message\n",
    "        \n",
    "        for word in token_words:\n",
    "            if word not in stop_words and word.isalpha(): #remove/filter non-aphabets\n",
    "                stemmed_word = stemmer.stem(word) #stemming to the root word\n",
    "                filtered_words = filtered_words + \" \" + stemmed_word\n",
    "                \n",
    "        list_rows.append(filtered_words)\n",
    "       \n",
    "    \n",
    "    return list_rows #return the list of all the cleaned news articles"
   ]
  },
  {
   "cell_type": "markdown",
   "metadata": {},
   "source": [
    "# Function to extract all the features and convert to a dataframe and sparse matrix"
   ]
  },
  {
   "cell_type": "code",
   "execution_count": 14,
   "metadata": {},
   "outputs": [],
   "source": [
    "def extract_features(data):\n",
    "\n",
    "    new_list = text_processing(data) # call the text_processing function\n",
    "    new_cleaned_data = data #copy the dataframe to a new one to modify with the cleaned text\n",
    "    new_cleaned_data.text = new_list # replacing the original text with the cleaned, stemmed news text\n",
    "    \n",
    "    vectorizer2 = TfidfVectorizer(stop_words = 'english', strip_accents='unicode',use_idf=True)\n",
    "    #to create the vocabulary and the document term matrix\n",
    "    \n",
    "    all_features = vectorizer2.fit_transform(new_cleaned_data.text) # to create a sparse matrix of the words in the text\n",
    "    \n",
    "    converted_df = pd.DataFrame(all_features.toarray(), columns = vectorizer2.get_feature_names())#convert the sparse matrix to a dataframe\n",
    "    converted_df['labels_biptopics'] = data.biptopics\n",
    "    \n",
    "    return all_features,converted_df\n",
    "    "
   ]
  },
  {
   "cell_type": "code",
   "execution_count": 15,
   "metadata": {
    "scrolled": true
   },
   "outputs": [
    {
     "name": "stderr",
     "output_type": "stream",
     "text": [
      "/Library/Frameworks/Python.framework/Versions/3.7/lib/python3.7/site-packages/pandas/core/generic.py:5208: SettingWithCopyWarning: \n",
      "A value is trying to be set on a copy of a slice from a DataFrame.\n",
      "Try using .loc[row_indexer,col_indexer] = value instead\n",
      "\n",
      "See the caveats in the documentation: http://pandas.pydata.org/pandas-docs/stable/user_guide/indexing.html#returning-a-view-versus-a-copy\n",
      "  self[name] = value\n"
     ]
    }
   ],
   "source": [
    "all_features,converted_df = extract_features(data) #call the above function"
   ]
  },
  {
   "cell_type": "code",
   "execution_count": 17,
   "metadata": {},
   "outputs": [
    {
     "data": {
      "text/html": [
       "<div>\n",
       "<style scoped>\n",
       "    .dataframe tbody tr th:only-of-type {\n",
       "        vertical-align: middle;\n",
       "    }\n",
       "\n",
       "    .dataframe tbody tr th {\n",
       "        vertical-align: top;\n",
       "    }\n",
       "\n",
       "    .dataframe thead th {\n",
       "        text-align: right;\n",
       "    }\n",
       "</style>\n",
       "<table border=\"1\" class=\"dataframe\">\n",
       "  <thead>\n",
       "    <tr style=\"text-align: right;\">\n",
       "      <th></th>\n",
       "      <th>aa</th>\n",
       "      <th>aaa</th>\n",
       "      <th>aaal</th>\n",
       "      <th>aachen</th>\n",
       "      <th>aad</th>\n",
       "      <th>aadn</th>\n",
       "      <th>aag</th>\n",
       "      <th>aagev</th>\n",
       "      <th>aah</th>\n",
       "      <th>aaholm</th>\n",
       "      <th>...</th>\n",
       "      <th>zyprexa</th>\n",
       "      <th>zypro</th>\n",
       "      <th>zyrtec</th>\n",
       "      <th>zysblat</th>\n",
       "      <th>zyuganov</th>\n",
       "      <th>zywcu</th>\n",
       "      <th>zywiec</th>\n",
       "      <th>zywnosciowej</th>\n",
       "      <th>zzn</th>\n",
       "      <th>labels_biptopics</th>\n",
       "    </tr>\n",
       "  </thead>\n",
       "  <tbody>\n",
       "    <tr>\n",
       "      <td>0</td>\n",
       "      <td>0.0</td>\n",
       "      <td>0.0</td>\n",
       "      <td>0.0</td>\n",
       "      <td>0.0</td>\n",
       "      <td>0.0</td>\n",
       "      <td>0.0</td>\n",
       "      <td>0.0</td>\n",
       "      <td>0.0</td>\n",
       "      <td>0.0</td>\n",
       "      <td>0.0</td>\n",
       "      <td>...</td>\n",
       "      <td>0.0</td>\n",
       "      <td>0.0</td>\n",
       "      <td>0.0</td>\n",
       "      <td>0.0</td>\n",
       "      <td>0.0</td>\n",
       "      <td>0.0</td>\n",
       "      <td>0.0</td>\n",
       "      <td>0.0</td>\n",
       "      <td>0.0</td>\n",
       "      <td>GCAT</td>\n",
       "    </tr>\n",
       "    <tr>\n",
       "      <td>1</td>\n",
       "      <td>0.0</td>\n",
       "      <td>0.0</td>\n",
       "      <td>0.0</td>\n",
       "      <td>0.0</td>\n",
       "      <td>0.0</td>\n",
       "      <td>0.0</td>\n",
       "      <td>0.0</td>\n",
       "      <td>0.0</td>\n",
       "      <td>0.0</td>\n",
       "      <td>0.0</td>\n",
       "      <td>...</td>\n",
       "      <td>0.0</td>\n",
       "      <td>0.0</td>\n",
       "      <td>0.0</td>\n",
       "      <td>0.0</td>\n",
       "      <td>0.0</td>\n",
       "      <td>0.0</td>\n",
       "      <td>0.0</td>\n",
       "      <td>0.0</td>\n",
       "      <td>0.0</td>\n",
       "      <td>GCAT</td>\n",
       "    </tr>\n",
       "    <tr>\n",
       "      <td>2</td>\n",
       "      <td>0.0</td>\n",
       "      <td>0.0</td>\n",
       "      <td>0.0</td>\n",
       "      <td>0.0</td>\n",
       "      <td>0.0</td>\n",
       "      <td>0.0</td>\n",
       "      <td>0.0</td>\n",
       "      <td>0.0</td>\n",
       "      <td>0.0</td>\n",
       "      <td>0.0</td>\n",
       "      <td>...</td>\n",
       "      <td>0.0</td>\n",
       "      <td>0.0</td>\n",
       "      <td>0.0</td>\n",
       "      <td>0.0</td>\n",
       "      <td>0.0</td>\n",
       "      <td>0.0</td>\n",
       "      <td>0.0</td>\n",
       "      <td>0.0</td>\n",
       "      <td>0.0</td>\n",
       "      <td>GDEF</td>\n",
       "    </tr>\n",
       "    <tr>\n",
       "      <td>3</td>\n",
       "      <td>0.0</td>\n",
       "      <td>0.0</td>\n",
       "      <td>0.0</td>\n",
       "      <td>0.0</td>\n",
       "      <td>0.0</td>\n",
       "      <td>0.0</td>\n",
       "      <td>0.0</td>\n",
       "      <td>0.0</td>\n",
       "      <td>0.0</td>\n",
       "      <td>0.0</td>\n",
       "      <td>...</td>\n",
       "      <td>0.0</td>\n",
       "      <td>0.0</td>\n",
       "      <td>0.0</td>\n",
       "      <td>0.0</td>\n",
       "      <td>0.0</td>\n",
       "      <td>0.0</td>\n",
       "      <td>0.0</td>\n",
       "      <td>0.0</td>\n",
       "      <td>0.0</td>\n",
       "      <td>GCAT</td>\n",
       "    </tr>\n",
       "    <tr>\n",
       "      <td>4</td>\n",
       "      <td>0.0</td>\n",
       "      <td>0.0</td>\n",
       "      <td>0.0</td>\n",
       "      <td>0.0</td>\n",
       "      <td>0.0</td>\n",
       "      <td>0.0</td>\n",
       "      <td>0.0</td>\n",
       "      <td>0.0</td>\n",
       "      <td>0.0</td>\n",
       "      <td>0.0</td>\n",
       "      <td>...</td>\n",
       "      <td>0.0</td>\n",
       "      <td>0.0</td>\n",
       "      <td>0.0</td>\n",
       "      <td>0.0</td>\n",
       "      <td>0.0</td>\n",
       "      <td>0.0</td>\n",
       "      <td>0.0</td>\n",
       "      <td>0.0</td>\n",
       "      <td>0.0</td>\n",
       "      <td>GCAT</td>\n",
       "    </tr>\n",
       "    <tr>\n",
       "      <td>...</td>\n",
       "      <td>...</td>\n",
       "      <td>...</td>\n",
       "      <td>...</td>\n",
       "      <td>...</td>\n",
       "      <td>...</td>\n",
       "      <td>...</td>\n",
       "      <td>...</td>\n",
       "      <td>...</td>\n",
       "      <td>...</td>\n",
       "      <td>...</td>\n",
       "      <td>...</td>\n",
       "      <td>...</td>\n",
       "      <td>...</td>\n",
       "      <td>...</td>\n",
       "      <td>...</td>\n",
       "      <td>...</td>\n",
       "      <td>...</td>\n",
       "      <td>...</td>\n",
       "      <td>...</td>\n",
       "      <td>...</td>\n",
       "      <td>...</td>\n",
       "    </tr>\n",
       "    <tr>\n",
       "      <td>48252</td>\n",
       "      <td>0.0</td>\n",
       "      <td>0.0</td>\n",
       "      <td>0.0</td>\n",
       "      <td>0.0</td>\n",
       "      <td>0.0</td>\n",
       "      <td>0.0</td>\n",
       "      <td>0.0</td>\n",
       "      <td>0.0</td>\n",
       "      <td>0.0</td>\n",
       "      <td>0.0</td>\n",
       "      <td>...</td>\n",
       "      <td>0.0</td>\n",
       "      <td>0.0</td>\n",
       "      <td>0.0</td>\n",
       "      <td>0.0</td>\n",
       "      <td>0.0</td>\n",
       "      <td>0.0</td>\n",
       "      <td>0.0</td>\n",
       "      <td>0.0</td>\n",
       "      <td>0.0</td>\n",
       "      <td>C15</td>\n",
       "    </tr>\n",
       "    <tr>\n",
       "      <td>48253</td>\n",
       "      <td>0.0</td>\n",
       "      <td>0.0</td>\n",
       "      <td>0.0</td>\n",
       "      <td>0.0</td>\n",
       "      <td>0.0</td>\n",
       "      <td>0.0</td>\n",
       "      <td>0.0</td>\n",
       "      <td>0.0</td>\n",
       "      <td>0.0</td>\n",
       "      <td>0.0</td>\n",
       "      <td>...</td>\n",
       "      <td>0.0</td>\n",
       "      <td>0.0</td>\n",
       "      <td>0.0</td>\n",
       "      <td>0.0</td>\n",
       "      <td>0.0</td>\n",
       "      <td>0.0</td>\n",
       "      <td>0.0</td>\n",
       "      <td>0.0</td>\n",
       "      <td>0.0</td>\n",
       "      <td>E11</td>\n",
       "    </tr>\n",
       "    <tr>\n",
       "      <td>48254</td>\n",
       "      <td>0.0</td>\n",
       "      <td>0.0</td>\n",
       "      <td>0.0</td>\n",
       "      <td>0.0</td>\n",
       "      <td>0.0</td>\n",
       "      <td>0.0</td>\n",
       "      <td>0.0</td>\n",
       "      <td>0.0</td>\n",
       "      <td>0.0</td>\n",
       "      <td>0.0</td>\n",
       "      <td>...</td>\n",
       "      <td>0.0</td>\n",
       "      <td>0.0</td>\n",
       "      <td>0.0</td>\n",
       "      <td>0.0</td>\n",
       "      <td>0.0</td>\n",
       "      <td>0.0</td>\n",
       "      <td>0.0</td>\n",
       "      <td>0.0</td>\n",
       "      <td>0.0</td>\n",
       "      <td>C11</td>\n",
       "    </tr>\n",
       "    <tr>\n",
       "      <td>48255</td>\n",
       "      <td>0.0</td>\n",
       "      <td>0.0</td>\n",
       "      <td>0.0</td>\n",
       "      <td>0.0</td>\n",
       "      <td>0.0</td>\n",
       "      <td>0.0</td>\n",
       "      <td>0.0</td>\n",
       "      <td>0.0</td>\n",
       "      <td>0.0</td>\n",
       "      <td>0.0</td>\n",
       "      <td>...</td>\n",
       "      <td>0.0</td>\n",
       "      <td>0.0</td>\n",
       "      <td>0.0</td>\n",
       "      <td>0.0</td>\n",
       "      <td>0.0</td>\n",
       "      <td>0.0</td>\n",
       "      <td>0.0</td>\n",
       "      <td>0.0</td>\n",
       "      <td>0.0</td>\n",
       "      <td>C31</td>\n",
       "    </tr>\n",
       "    <tr>\n",
       "      <td>48256</td>\n",
       "      <td>0.0</td>\n",
       "      <td>0.0</td>\n",
       "      <td>0.0</td>\n",
       "      <td>0.0</td>\n",
       "      <td>0.0</td>\n",
       "      <td>0.0</td>\n",
       "      <td>0.0</td>\n",
       "      <td>0.0</td>\n",
       "      <td>0.0</td>\n",
       "      <td>0.0</td>\n",
       "      <td>...</td>\n",
       "      <td>0.0</td>\n",
       "      <td>0.0</td>\n",
       "      <td>0.0</td>\n",
       "      <td>0.0</td>\n",
       "      <td>0.0</td>\n",
       "      <td>0.0</td>\n",
       "      <td>0.0</td>\n",
       "      <td>0.0</td>\n",
       "      <td>0.0</td>\n",
       "      <td>M11</td>\n",
       "    </tr>\n",
       "  </tbody>\n",
       "</table>\n",
       "<p>48257 rows × 73901 columns</p>\n",
       "</div>"
      ],
      "text/plain": [
       "        aa  aaa  aaal  aachen  aad  aadn  aag  aagev  aah  aaholm  ...  \\\n",
       "0      0.0  0.0   0.0     0.0  0.0   0.0  0.0    0.0  0.0     0.0  ...   \n",
       "1      0.0  0.0   0.0     0.0  0.0   0.0  0.0    0.0  0.0     0.0  ...   \n",
       "2      0.0  0.0   0.0     0.0  0.0   0.0  0.0    0.0  0.0     0.0  ...   \n",
       "3      0.0  0.0   0.0     0.0  0.0   0.0  0.0    0.0  0.0     0.0  ...   \n",
       "4      0.0  0.0   0.0     0.0  0.0   0.0  0.0    0.0  0.0     0.0  ...   \n",
       "...    ...  ...   ...     ...  ...   ...  ...    ...  ...     ...  ...   \n",
       "48252  0.0  0.0   0.0     0.0  0.0   0.0  0.0    0.0  0.0     0.0  ...   \n",
       "48253  0.0  0.0   0.0     0.0  0.0   0.0  0.0    0.0  0.0     0.0  ...   \n",
       "48254  0.0  0.0   0.0     0.0  0.0   0.0  0.0    0.0  0.0     0.0  ...   \n",
       "48255  0.0  0.0   0.0     0.0  0.0   0.0  0.0    0.0  0.0     0.0  ...   \n",
       "48256  0.0  0.0   0.0     0.0  0.0   0.0  0.0    0.0  0.0     0.0  ...   \n",
       "\n",
       "       zyprexa  zypro  zyrtec  zysblat  zyuganov  zywcu  zywiec  zywnosciowej  \\\n",
       "0          0.0    0.0     0.0      0.0       0.0    0.0     0.0           0.0   \n",
       "1          0.0    0.0     0.0      0.0       0.0    0.0     0.0           0.0   \n",
       "2          0.0    0.0     0.0      0.0       0.0    0.0     0.0           0.0   \n",
       "3          0.0    0.0     0.0      0.0       0.0    0.0     0.0           0.0   \n",
       "4          0.0    0.0     0.0      0.0       0.0    0.0     0.0           0.0   \n",
       "...        ...    ...     ...      ...       ...    ...     ...           ...   \n",
       "48252      0.0    0.0     0.0      0.0       0.0    0.0     0.0           0.0   \n",
       "48253      0.0    0.0     0.0      0.0       0.0    0.0     0.0           0.0   \n",
       "48254      0.0    0.0     0.0      0.0       0.0    0.0     0.0           0.0   \n",
       "48255      0.0    0.0     0.0      0.0       0.0    0.0     0.0           0.0   \n",
       "48256      0.0    0.0     0.0      0.0       0.0    0.0     0.0           0.0   \n",
       "\n",
       "       zzn  labels_biptopics  \n",
       "0      0.0              GCAT  \n",
       "1      0.0              GCAT  \n",
       "2      0.0              GDEF  \n",
       "3      0.0              GCAT  \n",
       "4      0.0              GCAT  \n",
       "...    ...               ...  \n",
       "48252  0.0               C15  \n",
       "48253  0.0               E11  \n",
       "48254  0.0               C11  \n",
       "48255  0.0               C31  \n",
       "48256  0.0               M11  \n",
       "\n",
       "[48257 rows x 73901 columns]"
      ]
     },
     "execution_count": 17,
     "metadata": {},
     "output_type": "execute_result"
    }
   ],
   "source": [
    "converted_df # the sparse matrix of all the features"
   ]
  },
  {
   "cell_type": "markdown",
   "metadata": {},
   "source": [
    "# Create Train and Test data set into features and labels\n",
    "## Reason to use train test split : \n",
    "\n",
    "#### The train-test split is normally done using a 70:30 ratio of train data to the test data out of the entire dataset. \n",
    "\n",
    "#### Since the amount of data given to train and test the model was very huge, it was appropriate to take the train test split approach as it trains on the 70% dataset and the test on the 30% dataset. \n",
    "\n",
    "#### On the other hand, cross validation iteratively trains on shuffled sets of train and test datasets. \n",
    "\n",
    "#### However, it will run for longer time periods as there is huge amount of data and computational constraints. \n",
    "\n",
    "#### Hence, I prefered test train split over the other methods."
   ]
  },
  {
   "cell_type": "code",
   "execution_count": 18,
   "metadata": {},
   "outputs": [],
   "source": [
    "y = data['biptopics'] #labes\n",
    "x = all_features #labels\n",
    "X_train,X_test,Y_train,Y_test = train_test_split(x,y,test_size = 0.3,random_state=100) #split the features and labels into train and test data"
   ]
  },
  {
   "cell_type": "code",
   "execution_count": 78,
   "metadata": {},
   "outputs": [],
   "source": [
    "# The below function trains the model from the dataframe. \n",
    "#However, I was not able to complete the training with the below function as I was facing continuos kernel dead issues when I was passing the dataframe.\n",
    "#As a result of which I have used the next function train_classifiers()\n",
    "\n",
    "def train_classifiers_data_frame(classifier_type,data_frame,p={}):\n",
    "    bip_topics = data_frame['labels_biptopics']\n",
    "    new_data_frame = data_frame.drop(columns=['labels_biptopics'])\n",
    "    X_train,X_test,Y_train,Y_test = train_test_split(new_data_frame,bip_topics,test_size = 0.3,random_state=100) #split the dataframe into train and test data\n",
    "    if classifier_type == 'MNB': \n",
    "        MNB_classifier = MultinomialNB()\n",
    "        MNB_classifier.set_params(**p)\n",
    "        \n",
    "        #training the naive bayes model\n",
    "        MNB_classifier.fit(X_train, Y_train) \n",
    "        return MNB_classifier\n",
    "    \n",
    "    #create a Random Forest model\n",
    "    elif classifier_type == 'RF': \n",
    "        RF_classifier = RandomForestClassifier()\n",
    "        RF_classifier.set_params(**p)\n",
    "        \n",
    "        #training the Random Forest model\n",
    "        RF_classifier.fit(X_train, Y_train) \n",
    "        return RF_classifier\n",
    "    \n",
    "    #create a Neural Network model\n",
    "    elif classifier_type == 'NN': \n",
    "        NN_classifier = MLPClassifier()\n",
    "        NN_classifier.set_params(**p)\n",
    "        \n",
    "        #training the Neural Network model\n",
    "        NN_classifier.fit(X_train, Y_train) \n",
    "        return NN_classifier\n",
    "    \n",
    "    #create a Decision Tree classifier model\n",
    "    elif classifier_type == 'DT': \n",
    "        DT_classifier = DecisionTreeClassifier()\n",
    "        DT_classifier.set_params(**p)\n",
    "        \n",
    "        #training the Decision Tree model\n",
    "        DT_classifier.fit(X_train, Y_train) \n",
    "        return DT_classifier\n",
    "    \n",
    "    #create a SVM SVC classifier model\n",
    "    elif classifier_type == 'SVC': \n",
    "        SVC_classifier = svm.SVC()\n",
    "        SVC_classifier.set_params(**p)\n",
    "        \n",
    "        #training the SVM SVC model\n",
    "        SVC_classifier.fit(X_train, Y_train) \n",
    "        return SVC_classifier\n",
    "    \n",
    "    \n",
    "    elif classifier_type == 'LR': \n",
    "        linear_regression = LinearRegression()\n",
    "        #training the LinearRegression model\n",
    "        linear_regression.fit(X_train, Y_train) \n",
    "        return linear_regression"
   ]
  },
  {
   "cell_type": "markdown",
   "metadata": {},
   "source": [
    "# Function to train the classifiers"
   ]
  },
  {
   "cell_type": "code",
   "execution_count": 70,
   "metadata": {},
   "outputs": [],
   "source": [
    "# I have used this function to train all the classifiers\n",
    "\n",
    "def train_classifiers(X_train,Y_train,classifier_type,p={}):\n",
    "    \n",
    "    #create a naive bayes model\n",
    "    if classifier_type == 'MNB': \n",
    "        MNB_classifier = MultinomialNB()\n",
    "        MNB_classifier.set_params(**p)\n",
    "        \n",
    "        #training the naive bayes model\n",
    "        MNB_classifier.fit(X_train, Y_train) \n",
    "        return MNB_classifier\n",
    "    \n",
    "    #create a Random Forest model\n",
    "    elif classifier_type == 'RF': \n",
    "        RF_classifier = RandomForestClassifier()\n",
    "        RF_classifier.set_params(**p)\n",
    "        \n",
    "        #training the Random Forest model\n",
    "        RF_classifier.fit(X_train, Y_train) \n",
    "        return RF_classifier\n",
    "    \n",
    "    #create a Neural Network model\n",
    "    elif classifier_type == 'NN': \n",
    "        NN_classifier = MLPClassifier()\n",
    "        NN_classifier.set_params(**p)\n",
    "        \n",
    "        #training the Neural Network model\n",
    "        NN_classifier.fit(X_train, Y_train) \n",
    "        return NN_classifier\n",
    "    \n",
    "    #create a Decision Tree classifier model\n",
    "    elif classifier_type == 'DT': \n",
    "        DT_classifier = DecisionTreeClassifier()\n",
    "        DT_classifier.set_params(**p)\n",
    "        \n",
    "        #training the Decision Tree model\n",
    "        DT_classifier.fit(X_train, Y_train) \n",
    "        return DT_classifier\n",
    "    \n",
    "    #create a SVM SVC classifier model\n",
    "    elif classifier_type == 'SVC': \n",
    "        SVC_classifier = svm.SVC()\n",
    "        SVC_classifier.set_params(**p)\n",
    "        \n",
    "        #training the SVM SVC model\n",
    "        SVC_classifier.fit(X_train, Y_train) \n",
    "        return SVC_classifier\n",
    "    \n",
    "    \n",
    "    elif classifier_type == 'LR': \n",
    "        linear_regression = LinearRegression()\n",
    "        #training the LinearRegression model\n",
    "        linear_regression.fit(X_train, Y_train) \n",
    "        return linear_regression"
   ]
  },
  {
   "cell_type": "markdown",
   "metadata": {},
   "source": [
    "# Function to calculate the F1 score of all the classifiers\n",
    "\n",
    "## Reason to use F1 Score to measure the performace of the classifier : \n",
    "\n",
    "#### F1 Score is the weighted average of Precision and Recall.  \n",
    "\n",
    "#### Hence, the F1 score considers both false positives and false negatives. \n",
    "\n",
    "#### F1 Score parameter is calculated by taking into account both the ratio of the correct positive predictions to the total positive predictions and the ratio of correctly predicted positive predictions to the total predictions. \n",
    "\n",
    "#### As it considers both precision and recall, I preferred the F1 Score as it gives a more accurate prediction performance of a classifier.\n",
    "\n",
    "\n"
   ]
  },
  {
   "cell_type": "code",
   "execution_count": 72,
   "metadata": {},
   "outputs": [],
   "source": [
    "def calculate_f1score(classifier, classifier_type,X_test,Y_test):\n",
    "    \n",
    "    #calculate the F1 score of Naive Bayes model\n",
    "    if classifier_type == 'MNB': \n",
    "        return f1_score(Y_test, classifier.predict(X_test), average='weighted')\n",
    "    \n",
    "    \n",
    "    #calculate the F1 score of Random Forest model\n",
    "    elif classifier_type == 'RF': \n",
    "        return f1_score(Y_test, classifier.predict(X_test), average='weighted')\n",
    "    \n",
    "    \n",
    "    #calculate the F1 score of Neural Network model\n",
    "    elif classifier_type == 'NN': \n",
    "        return f1_score(Y_test, classifier.predict(X_test), average='weighted')\n",
    "    \n",
    "    \n",
    "    #calculate the F1 score of Decision Tree model\n",
    "    elif classifier_type == 'DT': \n",
    "        return f1_score(Y_test, classifier.predict(X_test), average='weighted')\n",
    "    \n",
    "    \n",
    "    #calculate the F1 score of SVM SVC model\n",
    "    elif classifier_type == 'SVC': \n",
    "        return f1_score(Y_test, classifier.predict(X_test), average='weighted')\n",
    "    "
   ]
  },
  {
   "cell_type": "markdown",
   "metadata": {},
   "source": [
    "## Performance of MNB Classifier Before Tuning"
   ]
  },
  {
   "cell_type": "code",
   "execution_count": 31,
   "metadata": {},
   "outputs": [],
   "source": [
    "MNB_classifier = train_classifiers(X_train,Y_train,'MNB') "
   ]
  },
  {
   "cell_type": "code",
   "execution_count": 32,
   "metadata": {},
   "outputs": [
    {
     "name": "stderr",
     "output_type": "stream",
     "text": [
      "/Library/Frameworks/Python.framework/Versions/3.7/lib/python3.7/site-packages/sklearn/metrics/classification.py:1437: UndefinedMetricWarning: F-score is ill-defined and being set to 0.0 in labels with no predicted samples.\n",
      "  'precision', 'predicted', average, warn_for)\n"
     ]
    },
    {
     "data": {
      "text/plain": [
       "0.40928166669439386"
      ]
     },
     "execution_count": 32,
     "metadata": {},
     "output_type": "execute_result"
    }
   ],
   "source": [
    "f1_score_MNB = calculate_f1score(MNB_classifier, 'MNB',X_test,Y_test) \n",
    "f1_score_MNB"
   ]
  },
  {
   "cell_type": "markdown",
   "metadata": {},
   "source": [
    "## Performance of MNB Classifier After Tuning"
   ]
  },
  {
   "cell_type": "code",
   "execution_count": 35,
   "metadata": {},
   "outputs": [],
   "source": [
    "MNB_classifier = train_classifiers(X_train,Y_train,'MNB',{\"alpha\":0.0001})"
   ]
  },
  {
   "cell_type": "code",
   "execution_count": 36,
   "metadata": {},
   "outputs": [
    {
     "name": "stderr",
     "output_type": "stream",
     "text": [
      "/Library/Frameworks/Python.framework/Versions/3.7/lib/python3.7/site-packages/sklearn/metrics/classification.py:1437: UndefinedMetricWarning: F-score is ill-defined and being set to 0.0 in labels with no predicted samples.\n",
      "  'precision', 'predicted', average, warn_for)\n",
      "/Library/Frameworks/Python.framework/Versions/3.7/lib/python3.7/site-packages/sklearn/metrics/classification.py:1439: UndefinedMetricWarning: F-score is ill-defined and being set to 0.0 in labels with no true samples.\n",
      "  'recall', 'true', average, warn_for)\n"
     ]
    },
    {
     "data": {
      "text/plain": [
       "0.7113232971484191"
      ]
     },
     "execution_count": 36,
     "metadata": {},
     "output_type": "execute_result"
    }
   ],
   "source": [
    "f1_score_MNB = calculate_f1score(MNB_classifier, 'MNB',X_test,Y_test)\n",
    "f1_score_MNB"
   ]
  },
  {
   "cell_type": "markdown",
   "metadata": {},
   "source": [
    "## Performance of Random Forest Classifier Before Tuning"
   ]
  },
  {
   "cell_type": "code",
   "execution_count": 37,
   "metadata": {},
   "outputs": [
    {
     "name": "stderr",
     "output_type": "stream",
     "text": [
      "/Library/Frameworks/Python.framework/Versions/3.7/lib/python3.7/site-packages/sklearn/ensemble/forest.py:245: FutureWarning: The default value of n_estimators will change from 10 in version 0.20 to 100 in 0.22.\n",
      "  \"10 in version 0.20 to 100 in 0.22.\", FutureWarning)\n",
      "[Parallel(n_jobs=-1)]: Using backend ThreadingBackend with 4 concurrent workers.\n"
     ]
    },
    {
     "name": "stdout",
     "output_type": "stream",
     "text": [
      "building tree 1 of 10\n",
      "building tree 2 of 10building tree 3 of 10\n",
      "building tree 4 of 10\n",
      "\n",
      "building tree 5 of 10\n",
      "building tree 6 of 10\n",
      "building tree 7 of 10\n",
      "building tree 8 of 10\n",
      "building tree 9 of 10\n",
      "building tree 10 of 10\n"
     ]
    },
    {
     "name": "stderr",
     "output_type": "stream",
     "text": [
      "[Parallel(n_jobs=-1)]: Done  10 out of  10 | elapsed:   11.0s finished\n"
     ]
    }
   ],
   "source": [
    "RF_classifier = RandomForestClassifier()\n",
    "RF_classifier = train_classifiers(X_train,Y_train,'RF',{'n_jobs' : -1, 'verbose' : 2})"
   ]
  },
  {
   "cell_type": "code",
   "execution_count": 38,
   "metadata": {
    "scrolled": true
   },
   "outputs": [
    {
     "name": "stderr",
     "output_type": "stream",
     "text": [
      "[Parallel(n_jobs=4)]: Using backend ThreadingBackend with 4 concurrent workers.\n",
      "[Parallel(n_jobs=4)]: Done  10 out of  10 | elapsed:    0.1s finished\n",
      "/Library/Frameworks/Python.framework/Versions/3.7/lib/python3.7/site-packages/sklearn/metrics/classification.py:1437: UndefinedMetricWarning: F-score is ill-defined and being set to 0.0 in labels with no predicted samples.\n",
      "  'precision', 'predicted', average, warn_for)\n",
      "/Library/Frameworks/Python.framework/Versions/3.7/lib/python3.7/site-packages/sklearn/metrics/classification.py:1439: UndefinedMetricWarning: F-score is ill-defined and being set to 0.0 in labels with no true samples.\n",
      "  'recall', 'true', average, warn_for)\n"
     ]
    },
    {
     "data": {
      "text/plain": [
       "0.6443379634355636"
      ]
     },
     "execution_count": 38,
     "metadata": {},
     "output_type": "execute_result"
    }
   ],
   "source": [
    "f1_score_RF = calculate_f1score(RF_classifier, 'RF',X_test,Y_test)\n",
    "f1_score_RF"
   ]
  },
  {
   "cell_type": "markdown",
   "metadata": {},
   "source": [
    "# Tuning the Random Forest Classifier"
   ]
  },
  {
   "cell_type": "code",
   "execution_count": 168,
   "metadata": {},
   "outputs": [
    {
     "name": "stdout",
     "output_type": "stream",
     "text": [
      "Fitting 5 folds for each of 8 candidates, totalling 40 fits\n"
     ]
    },
    {
     "name": "stderr",
     "output_type": "stream",
     "text": [
      "/Library/Frameworks/Python.framework/Versions/3.7/lib/python3.7/site-packages/sklearn/model_selection/_split.py:657: Warning: The least populated class in y has only 1 members, which is too few. The minimum number of members in any class cannot be less than n_splits=5.\n",
      "  % (min_groups, self.n_splits)), Warning)\n",
      "[Parallel(n_jobs=-1)]: Using backend LokyBackend with 4 concurrent workers.\n",
      "[Parallel(n_jobs=-1)]: Done  33 tasks      | elapsed: 93.7min\n",
      "[Parallel(n_jobs=-1)]: Done  40 out of  40 | elapsed: 133.6min finished\n"
     ]
    },
    {
     "data": {
      "text/plain": [
       "GridSearchCV(cv=5, error_score='raise-deprecating',\n",
       "             estimator=RandomForestClassifier(bootstrap=True, class_weight=None,\n",
       "                                              criterion='gini', max_depth=None,\n",
       "                                              max_features='auto',\n",
       "                                              max_leaf_nodes=None,\n",
       "                                              min_impurity_decrease=0.0,\n",
       "                                              min_impurity_split=None,\n",
       "                                              min_samples_leaf=1,\n",
       "                                              min_samples_split=2,\n",
       "                                              min_weight_fraction_leaf=0.0,\n",
       "                                              n_estimators='warn', n_jobs=None,\n",
       "                                              oob_score=False,\n",
       "                                              random_state=None, verbose=0,\n",
       "                                              warm_start=False),\n",
       "             iid='warn', n_jobs=-1,\n",
       "             param_grid={'bootstrap': [True, False],\n",
       "                         'n_estimators': [400, 600, 800, 1000]},\n",
       "             pre_dispatch='2*n_jobs', refit=True, return_train_score=False,\n",
       "             scoring=None, verbose=2)"
      ]
     },
     "execution_count": 168,
     "metadata": {},
     "output_type": "execute_result"
    }
   ],
   "source": [
    "# I have run the gridsearch tuning in another jupyter notebook as a part of testing to get the gridsearch results\n",
    "from sklearn.model_selection import GridSearchCV# Create the parameter grid based on the results of random search \n",
    " \n",
    "n_estimators = [600, 800, 1000] #no of trees used in the Random Forest\n",
    "bootstrap = [True, False]\n",
    "\n",
    "param_tune = {'n_estimators':n_estimators, 'bootstrap':bootstrap}\n",
    "\n",
    "rf = RandomForestClassifier()# Instantiate the grid search model\n",
    "\n",
    "grid_search = GridSearchCV(estimator = rf, param_grid = param_tune, \n",
    "                          cv = 5, n_jobs = -1, verbose = 2)\n",
    "\n",
    "# Fit the grid search to the data\n",
    "grid_search.fit(x_train, y_train)\n"
   ]
  },
  {
   "cell_type": "code",
   "execution_count": 170,
   "metadata": {},
   "outputs": [
    {
     "data": {
      "text/plain": [
       "{'bootstrap': False, 'n_estimators': 1000}"
      ]
     },
     "execution_count": 170,
     "metadata": {},
     "output_type": "execute_result"
    }
   ],
   "source": [
    "grid_search.best_params_"
   ]
  },
  {
   "cell_type": "markdown",
   "metadata": {},
   "source": [
    "## Performance of Random Forest Classifier After Tuning"
   ]
  },
  {
   "cell_type": "code",
   "execution_count": 40,
   "metadata": {},
   "outputs": [
    {
     "name": "stderr",
     "output_type": "stream",
     "text": [
      "[Parallel(n_jobs=-1)]: Using backend ThreadingBackend with 4 concurrent workers.\n"
     ]
    },
    {
     "name": "stdout",
     "output_type": "stream",
     "text": [
      "building tree 1 of 1000building tree 2 of 1000\n",
      "building tree 3 of 1000\n",
      "building tree 4 of 1000\n",
      "\n"
     ]
    },
    {
     "name": "stderr",
     "output_type": "stream",
     "text": [
      "[Parallel(n_jobs=-1)]: Done   1 tasks      | elapsed:    6.7s\n",
      "[Parallel(n_jobs=-1)]: Done   2 tasks      | elapsed:    6.8s\n",
      "[Parallel(n_jobs=-1)]: Done   3 tasks      | elapsed:    6.8s\n",
      "[Parallel(n_jobs=-1)]: Done   4 tasks      | elapsed:    6.9s\n"
     ]
    },
    {
     "name": "stdout",
     "output_type": "stream",
     "text": [
      "building tree 5 of 1000\n",
      "building tree 6 of 1000\n",
      "building tree 7 of 1000\n",
      "building tree 8 of 1000\n"
     ]
    },
    {
     "name": "stderr",
     "output_type": "stream",
     "text": [
      "[Parallel(n_jobs=-1)]: Done   5 tasks      | elapsed:   13.7s\n",
      "[Parallel(n_jobs=-1)]: Done   6 tasks      | elapsed:   13.8s\n",
      "[Parallel(n_jobs=-1)]: Done   7 tasks      | elapsed:   13.8s\n",
      "[Parallel(n_jobs=-1)]: Done   8 tasks      | elapsed:   13.8s\n"
     ]
    },
    {
     "name": "stdout",
     "output_type": "stream",
     "text": [
      "building tree 9 of 1000\n",
      "building tree 10 of 1000\n",
      "building tree 11 of 1000\n",
      "building tree 12 of 1000\n"
     ]
    },
    {
     "name": "stderr",
     "output_type": "stream",
     "text": [
      "[Parallel(n_jobs=-1)]: Done   9 tasks      | elapsed:   22.0s\n",
      "[Parallel(n_jobs=-1)]: Done  10 tasks      | elapsed:   22.0s\n",
      "[Parallel(n_jobs=-1)]: Done  11 tasks      | elapsed:   22.0s\n",
      "[Parallel(n_jobs=-1)]: Done  12 tasks      | elapsed:   22.1s\n"
     ]
    },
    {
     "name": "stdout",
     "output_type": "stream",
     "text": [
      "building tree 13 of 1000\n",
      "building tree 14 of 1000\n",
      "building tree 15 of 1000\n",
      "building tree 16 of 1000\n"
     ]
    },
    {
     "name": "stderr",
     "output_type": "stream",
     "text": [
      "[Parallel(n_jobs=-1)]: Done  13 tasks      | elapsed:   29.5s\n",
      "[Parallel(n_jobs=-1)]: Done  14 tasks      | elapsed:   29.5s\n",
      "[Parallel(n_jobs=-1)]: Done  15 tasks      | elapsed:   29.6s\n",
      "[Parallel(n_jobs=-1)]: Done  16 tasks      | elapsed:   29.6s\n"
     ]
    },
    {
     "name": "stdout",
     "output_type": "stream",
     "text": [
      "building tree 17 of 1000\n",
      "building tree 18 of 1000\n",
      "building tree 19 of 1000\n",
      "building tree 20 of 1000\n"
     ]
    },
    {
     "name": "stderr",
     "output_type": "stream",
     "text": [
      "[Parallel(n_jobs=-1)]: Done  17 tasks      | elapsed:   37.4s\n",
      "[Parallel(n_jobs=-1)]: Done  18 tasks      | elapsed:   37.5s\n"
     ]
    },
    {
     "name": "stdout",
     "output_type": "stream",
     "text": [
      "building tree 21 of 1000\n",
      "building tree 22 of 1000\n"
     ]
    },
    {
     "name": "stderr",
     "output_type": "stream",
     "text": [
      "[Parallel(n_jobs=-1)]: Done  19 tasks      | elapsed:   37.8s\n",
      "[Parallel(n_jobs=-1)]: Done  20 tasks      | elapsed:   37.8s\n"
     ]
    },
    {
     "name": "stdout",
     "output_type": "stream",
     "text": [
      "building tree 23 of 1000\n",
      "building tree 24 of 1000\n"
     ]
    },
    {
     "name": "stderr",
     "output_type": "stream",
     "text": [
      "[Parallel(n_jobs=-1)]: Done  21 tasks      | elapsed:   46.3s\n",
      "[Parallel(n_jobs=-1)]: Done  22 tasks      | elapsed:   46.3s\n",
      "[Parallel(n_jobs=-1)]: Done  23 tasks      | elapsed:   46.4s\n"
     ]
    },
    {
     "name": "stdout",
     "output_type": "stream",
     "text": [
      "building tree 25 of 1000\n",
      "building tree 26 of 1000\n",
      "building tree 27 of 1000\n"
     ]
    },
    {
     "name": "stderr",
     "output_type": "stream",
     "text": [
      "[Parallel(n_jobs=-1)]: Done  24 tasks      | elapsed:   46.8s\n"
     ]
    },
    {
     "name": "stdout",
     "output_type": "stream",
     "text": [
      "building tree 28 of 1000\n"
     ]
    },
    {
     "name": "stderr",
     "output_type": "stream",
     "text": [
      "[Parallel(n_jobs=-1)]: Done  25 tasks      | elapsed:   54.1s\n"
     ]
    },
    {
     "name": "stdout",
     "output_type": "stream",
     "text": [
      "building tree 29 of 1000\n"
     ]
    },
    {
     "name": "stderr",
     "output_type": "stream",
     "text": [
      "[Parallel(n_jobs=-1)]: Done  26 tasks      | elapsed:   54.3s\n",
      "[Parallel(n_jobs=-1)]: Done  27 tasks      | elapsed:   54.5s\n"
     ]
    },
    {
     "name": "stdout",
     "output_type": "stream",
     "text": [
      "building tree 30 of 1000\n",
      "building tree 31 of 1000\n"
     ]
    },
    {
     "name": "stderr",
     "output_type": "stream",
     "text": [
      "[Parallel(n_jobs=-1)]: Done  28 tasks      | elapsed:   54.7s\n"
     ]
    },
    {
     "name": "stdout",
     "output_type": "stream",
     "text": [
      "building tree 32 of 1000\n"
     ]
    },
    {
     "name": "stderr",
     "output_type": "stream",
     "text": [
      "[Parallel(n_jobs=-1)]: Done  29 tasks      | elapsed:  1.0min\n"
     ]
    },
    {
     "name": "stdout",
     "output_type": "stream",
     "text": [
      "building tree 33 of 1000\n"
     ]
    },
    {
     "name": "stderr",
     "output_type": "stream",
     "text": [
      "[Parallel(n_jobs=-1)]: Done  30 tasks      | elapsed:  1.0min\n",
      "[Parallel(n_jobs=-1)]: Done  31 tasks      | elapsed:  1.0min\n"
     ]
    },
    {
     "name": "stdout",
     "output_type": "stream",
     "text": [
      "building tree 34 of 1000\n",
      "building tree 35 of 1000\n"
     ]
    },
    {
     "name": "stderr",
     "output_type": "stream",
     "text": [
      "[Parallel(n_jobs=-1)]: Done  32 tasks      | elapsed:  1.0min\n"
     ]
    },
    {
     "name": "stdout",
     "output_type": "stream",
     "text": [
      "building tree 36 of 1000\n"
     ]
    },
    {
     "name": "stderr",
     "output_type": "stream",
     "text": [
      "[Parallel(n_jobs=-1)]: Done  33 tasks      | elapsed:  1.2min\n"
     ]
    },
    {
     "name": "stdout",
     "output_type": "stream",
     "text": [
      "building tree 37 of 1000\n",
      "building tree 38 of 1000\n",
      "building tree 39 of 1000\n"
     ]
    },
    {
     "name": "stderr",
     "output_type": "stream",
     "text": [
      "[Parallel(n_jobs=-1)]: Done  34 tasks      | elapsed:  1.2min\n",
      "[Parallel(n_jobs=-1)]: Done  35 tasks      | elapsed:  1.2min\n",
      "[Parallel(n_jobs=-1)]: Done  36 tasks      | elapsed:  1.2min\n"
     ]
    },
    {
     "name": "stdout",
     "output_type": "stream",
     "text": [
      "building tree 40 of 1000\n",
      "building tree 41 of 1000\n"
     ]
    },
    {
     "name": "stderr",
     "output_type": "stream",
     "text": [
      "[Parallel(n_jobs=-1)]: Done  37 tasks      | elapsed:  1.3min\n",
      "[Parallel(n_jobs=-1)]: Done  38 tasks      | elapsed:  1.3min\n",
      "[Parallel(n_jobs=-1)]: Done  39 tasks      | elapsed:  1.3min\n"
     ]
    },
    {
     "name": "stdout",
     "output_type": "stream",
     "text": [
      "building tree 42 of 1000\n",
      "building tree 43 of 1000\n",
      "building tree 44 of 1000\n"
     ]
    },
    {
     "name": "stderr",
     "output_type": "stream",
     "text": [
      "[Parallel(n_jobs=-1)]: Done  40 tasks      | elapsed:  1.3min\n"
     ]
    },
    {
     "name": "stdout",
     "output_type": "stream",
     "text": [
      "building tree 45 of 1000\n"
     ]
    },
    {
     "name": "stderr",
     "output_type": "stream",
     "text": [
      "[Parallel(n_jobs=-1)]: Done  41 tasks      | elapsed:  1.5min\n",
      "[Parallel(n_jobs=-1)]: Done  42 tasks      | elapsed:  1.5min\n",
      "[Parallel(n_jobs=-1)]: Done  43 tasks      | elapsed:  1.5min\n"
     ]
    },
    {
     "name": "stdout",
     "output_type": "stream",
     "text": [
      "building tree 46 of 1000\n",
      "building tree 47 of 1000\n"
     ]
    },
    {
     "name": "stderr",
     "output_type": "stream",
     "text": [
      "[Parallel(n_jobs=-1)]: Done  44 tasks      | elapsed:  1.5min\n"
     ]
    },
    {
     "name": "stdout",
     "output_type": "stream",
     "text": [
      "building tree 48 of 1000\n"
     ]
    },
    {
     "name": "stderr",
     "output_type": "stream",
     "text": [
      "[Parallel(n_jobs=-1)]: Done  45 tasks      | elapsed:  1.7min\n"
     ]
    },
    {
     "name": "stdout",
     "output_type": "stream",
     "text": [
      "building tree 49 of 1000\n"
     ]
    },
    {
     "name": "stderr",
     "output_type": "stream",
     "text": [
      "[Parallel(n_jobs=-1)]: Done  46 tasks      | elapsed:  1.7min\n",
      "[Parallel(n_jobs=-1)]: Done  47 tasks      | elapsed:  1.7min\n"
     ]
    },
    {
     "name": "stdout",
     "output_type": "stream",
     "text": [
      "building tree 50 of 1000\n",
      "building tree 51 of 1000\n",
      "building tree 52 of 1000\n"
     ]
    },
    {
     "name": "stderr",
     "output_type": "stream",
     "text": [
      "[Parallel(n_jobs=-1)]: Done  48 tasks      | elapsed:  1.7min\n"
     ]
    },
    {
     "name": "stdout",
     "output_type": "stream",
     "text": [
      "building tree 53 of 1000\n"
     ]
    },
    {
     "name": "stderr",
     "output_type": "stream",
     "text": [
      "[Parallel(n_jobs=-1)]: Done  49 tasks      | elapsed:  1.8min\n",
      "[Parallel(n_jobs=-1)]: Done  50 tasks      | elapsed:  1.8min\n",
      "[Parallel(n_jobs=-1)]: Done  51 tasks      | elapsed:  1.8min\n"
     ]
    },
    {
     "name": "stdout",
     "output_type": "stream",
     "text": [
      "building tree 54 of 1000\n",
      "building tree 55 of 1000\n"
     ]
    },
    {
     "name": "stderr",
     "output_type": "stream",
     "text": [
      "[Parallel(n_jobs=-1)]: Done  52 tasks      | elapsed:  1.8min\n"
     ]
    },
    {
     "name": "stdout",
     "output_type": "stream",
     "text": [
      "building tree 56 of 1000\n"
     ]
    },
    {
     "name": "stderr",
     "output_type": "stream",
     "text": [
      "[Parallel(n_jobs=-1)]: Done  53 tasks      | elapsed:  1.9min\n"
     ]
    },
    {
     "name": "stdout",
     "output_type": "stream",
     "text": [
      "building tree 57 of 1000\n"
     ]
    },
    {
     "name": "stderr",
     "output_type": "stream",
     "text": [
      "[Parallel(n_jobs=-1)]: Done  54 tasks      | elapsed:  2.0min\n"
     ]
    },
    {
     "name": "stdout",
     "output_type": "stream",
     "text": [
      "building tree 58 of 1000\n"
     ]
    },
    {
     "name": "stderr",
     "output_type": "stream",
     "text": [
      "[Parallel(n_jobs=-1)]: Done  55 tasks      | elapsed:  2.0min\n",
      "[Parallel(n_jobs=-1)]: Done  56 tasks      | elapsed:  2.0min\n"
     ]
    },
    {
     "name": "stdout",
     "output_type": "stream",
     "text": [
      "building tree 59 of 1000\n",
      "building tree 60 of 1000\n"
     ]
    },
    {
     "name": "stderr",
     "output_type": "stream",
     "text": [
      "[Parallel(n_jobs=-1)]: Done  57 tasks      | elapsed:  2.1min\n"
     ]
    },
    {
     "name": "stdout",
     "output_type": "stream",
     "text": [
      "building tree 61 of 1000\n"
     ]
    },
    {
     "name": "stderr",
     "output_type": "stream",
     "text": [
      "[Parallel(n_jobs=-1)]: Done  58 tasks      | elapsed:  2.1min\n"
     ]
    },
    {
     "name": "stdout",
     "output_type": "stream",
     "text": [
      "building tree 62 of 1000\n"
     ]
    },
    {
     "name": "stderr",
     "output_type": "stream",
     "text": [
      "[Parallel(n_jobs=-1)]: Done  59 tasks      | elapsed:  2.1min\n"
     ]
    },
    {
     "name": "stdout",
     "output_type": "stream",
     "text": [
      "building tree 63 of 1000\n"
     ]
    },
    {
     "name": "stderr",
     "output_type": "stream",
     "text": [
      "[Parallel(n_jobs=-1)]: Done  60 tasks      | elapsed:  2.1min\n"
     ]
    },
    {
     "name": "stdout",
     "output_type": "stream",
     "text": [
      "building tree 64 of 1000\n",
      "building tree 65 of 1000\n"
     ]
    },
    {
     "name": "stderr",
     "output_type": "stream",
     "text": [
      "[Parallel(n_jobs=-1)]: Done  61 tasks      | elapsed:  2.2min\n",
      "[Parallel(n_jobs=-1)]: Done  62 tasks      | elapsed:  2.2min\n"
     ]
    },
    {
     "name": "stdout",
     "output_type": "stream",
     "text": [
      "building tree 66 of 1000\n"
     ]
    },
    {
     "name": "stderr",
     "output_type": "stream",
     "text": [
      "[Parallel(n_jobs=-1)]: Done  63 tasks      | elapsed:  2.2min\n"
     ]
    },
    {
     "name": "stdout",
     "output_type": "stream",
     "text": [
      "building tree 67 of 1000\n"
     ]
    },
    {
     "name": "stderr",
     "output_type": "stream",
     "text": [
      "[Parallel(n_jobs=-1)]: Done  64 tasks      | elapsed:  2.2min\n"
     ]
    },
    {
     "name": "stdout",
     "output_type": "stream",
     "text": [
      "building tree 68 of 1000\n"
     ]
    },
    {
     "name": "stderr",
     "output_type": "stream",
     "text": [
      "[Parallel(n_jobs=-1)]: Done  65 tasks      | elapsed:  2.4min\n"
     ]
    },
    {
     "name": "stdout",
     "output_type": "stream",
     "text": [
      "building tree 69 of 1000\n"
     ]
    },
    {
     "name": "stderr",
     "output_type": "stream",
     "text": [
      "[Parallel(n_jobs=-1)]: Done  66 tasks      | elapsed:  2.4min\n"
     ]
    },
    {
     "name": "stdout",
     "output_type": "stream",
     "text": [
      "building tree 70 of 1000\n"
     ]
    },
    {
     "name": "stderr",
     "output_type": "stream",
     "text": [
      "[Parallel(n_jobs=-1)]: Done  67 tasks      | elapsed:  2.4min\n"
     ]
    },
    {
     "name": "stdout",
     "output_type": "stream",
     "text": [
      "building tree 71 of 1000\n"
     ]
    },
    {
     "name": "stderr",
     "output_type": "stream",
     "text": [
      "[Parallel(n_jobs=-1)]: Done  68 tasks      | elapsed:  2.4min\n"
     ]
    },
    {
     "name": "stdout",
     "output_type": "stream",
     "text": [
      "building tree 72 of 1000\n"
     ]
    },
    {
     "name": "stderr",
     "output_type": "stream",
     "text": [
      "[Parallel(n_jobs=-1)]: Done  69 tasks      | elapsed:  2.5min\n",
      "[Parallel(n_jobs=-1)]: Done  70 tasks      | elapsed:  2.5min\n"
     ]
    },
    {
     "name": "stdout",
     "output_type": "stream",
     "text": [
      "building tree 73 of 1000\n",
      "building tree 74 of 1000\n"
     ]
    },
    {
     "name": "stderr",
     "output_type": "stream",
     "text": [
      "[Parallel(n_jobs=-1)]: Done  71 tasks      | elapsed:  2.5min\n"
     ]
    },
    {
     "name": "stdout",
     "output_type": "stream",
     "text": [
      "building tree 75 of 1000\n"
     ]
    },
    {
     "name": "stderr",
     "output_type": "stream",
     "text": [
      "[Parallel(n_jobs=-1)]: Done  72 tasks      | elapsed:  2.5min\n"
     ]
    },
    {
     "name": "stdout",
     "output_type": "stream",
     "text": [
      "building tree 76 of 1000\n"
     ]
    },
    {
     "name": "stderr",
     "output_type": "stream",
     "text": [
      "[Parallel(n_jobs=-1)]: Done  73 tasks      | elapsed:  2.7min\n"
     ]
    },
    {
     "name": "stdout",
     "output_type": "stream",
     "text": [
      "building tree 77 of 1000\n"
     ]
    },
    {
     "name": "stderr",
     "output_type": "stream",
     "text": [
      "[Parallel(n_jobs=-1)]: Done  74 tasks      | elapsed:  2.7min\n"
     ]
    },
    {
     "name": "stdout",
     "output_type": "stream",
     "text": [
      "building tree 78 of 1000\n"
     ]
    },
    {
     "name": "stderr",
     "output_type": "stream",
     "text": [
      "[Parallel(n_jobs=-1)]: Done  75 tasks      | elapsed:  2.7min\n"
     ]
    },
    {
     "name": "stdout",
     "output_type": "stream",
     "text": [
      "building tree 79 of 1000\n"
     ]
    },
    {
     "name": "stderr",
     "output_type": "stream",
     "text": [
      "[Parallel(n_jobs=-1)]: Done  76 tasks      | elapsed:  2.7min\n"
     ]
    },
    {
     "name": "stdout",
     "output_type": "stream",
     "text": [
      "building tree 80 of 1000\n"
     ]
    },
    {
     "name": "stderr",
     "output_type": "stream",
     "text": [
      "[Parallel(n_jobs=-1)]: Done  77 tasks      | elapsed:  2.8min\n",
      "[Parallel(n_jobs=-1)]: Done  78 tasks      | elapsed:  2.8min\n"
     ]
    },
    {
     "name": "stdout",
     "output_type": "stream",
     "text": [
      "building tree 81 of 1000\n",
      "building tree 82 of 1000\n"
     ]
    },
    {
     "name": "stderr",
     "output_type": "stream",
     "text": [
      "[Parallel(n_jobs=-1)]: Done  79 tasks      | elapsed:  2.8min\n"
     ]
    },
    {
     "name": "stdout",
     "output_type": "stream",
     "text": [
      "building tree 83 of 1000\n"
     ]
    },
    {
     "name": "stderr",
     "output_type": "stream",
     "text": [
      "[Parallel(n_jobs=-1)]: Done  80 tasks      | elapsed:  2.8min\n"
     ]
    },
    {
     "name": "stdout",
     "output_type": "stream",
     "text": [
      "building tree 84 of 1000\n"
     ]
    },
    {
     "name": "stderr",
     "output_type": "stream",
     "text": [
      "[Parallel(n_jobs=-1)]: Done  81 tasks      | elapsed:  2.9min\n"
     ]
    },
    {
     "name": "stdout",
     "output_type": "stream",
     "text": [
      "building tree 85 of 1000\n",
      "building tree 86 of 1000\n"
     ]
    },
    {
     "name": "stderr",
     "output_type": "stream",
     "text": [
      "[Parallel(n_jobs=-1)]: Done  82 tasks      | elapsed:  2.9min\n",
      "[Parallel(n_jobs=-1)]: Done  83 tasks      | elapsed:  2.9min\n",
      "[Parallel(n_jobs=-1)]: Done  84 tasks      | elapsed:  2.9min\n"
     ]
    },
    {
     "name": "stdout",
     "output_type": "stream",
     "text": [
      "building tree 87 of 1000\n",
      "building tree 88 of 1000\n"
     ]
    },
    {
     "name": "stderr",
     "output_type": "stream",
     "text": [
      "[Parallel(n_jobs=-1)]: Done  85 tasks      | elapsed:  3.1min\n"
     ]
    },
    {
     "name": "stdout",
     "output_type": "stream",
     "text": [
      "building tree 89 of 1000\n"
     ]
    },
    {
     "name": "stderr",
     "output_type": "stream",
     "text": [
      "[Parallel(n_jobs=-1)]: Done  86 tasks      | elapsed:  3.1min\n"
     ]
    },
    {
     "name": "stdout",
     "output_type": "stream",
     "text": [
      "building tree 90 of 1000\n"
     ]
    },
    {
     "name": "stderr",
     "output_type": "stream",
     "text": [
      "[Parallel(n_jobs=-1)]: Done  87 tasks      | elapsed:  3.1min\n"
     ]
    },
    {
     "name": "stdout",
     "output_type": "stream",
     "text": [
      "building tree 91 of 1000\n",
      "building tree 92 of 1000\n"
     ]
    },
    {
     "name": "stderr",
     "output_type": "stream",
     "text": [
      "[Parallel(n_jobs=-1)]: Done  88 tasks      | elapsed:  3.1min\n"
     ]
    },
    {
     "name": "stdout",
     "output_type": "stream",
     "text": [
      "building tree 93 of 1000\n"
     ]
    },
    {
     "name": "stderr",
     "output_type": "stream",
     "text": [
      "[Parallel(n_jobs=-1)]: Done  89 tasks      | elapsed:  3.2min\n",
      "[Parallel(n_jobs=-1)]: Done  90 tasks      | elapsed:  3.2min\n"
     ]
    },
    {
     "name": "stdout",
     "output_type": "stream",
     "text": [
      "building tree 94 of 1000\n"
     ]
    },
    {
     "name": "stderr",
     "output_type": "stream",
     "text": [
      "[Parallel(n_jobs=-1)]: Done  91 tasks      | elapsed:  3.2min\n",
      "[Parallel(n_jobs=-1)]: Done  92 tasks      | elapsed:  3.2min\n"
     ]
    },
    {
     "name": "stdout",
     "output_type": "stream",
     "text": [
      "building tree 95 of 1000\n",
      "building tree 96 of 1000\n",
      "building tree 97 of 1000\n"
     ]
    },
    {
     "name": "stderr",
     "output_type": "stream",
     "text": [
      "[Parallel(n_jobs=-1)]: Done  93 tasks      | elapsed:  3.3min\n",
      "[Parallel(n_jobs=-1)]: Done  94 tasks      | elapsed:  3.3min\n"
     ]
    },
    {
     "name": "stdout",
     "output_type": "stream",
     "text": [
      "building tree 98 of 1000\n"
     ]
    },
    {
     "name": "stderr",
     "output_type": "stream",
     "text": [
      "[Parallel(n_jobs=-1)]: Done  95 tasks      | elapsed:  3.3min\n"
     ]
    },
    {
     "name": "stdout",
     "output_type": "stream",
     "text": [
      "building tree 99 of 1000\n"
     ]
    },
    {
     "name": "stderr",
     "output_type": "stream",
     "text": [
      "[Parallel(n_jobs=-1)]: Done  96 tasks      | elapsed:  3.3min\n"
     ]
    },
    {
     "name": "stdout",
     "output_type": "stream",
     "text": [
      "building tree 100 of 1000\n"
     ]
    },
    {
     "name": "stderr",
     "output_type": "stream",
     "text": [
      "[Parallel(n_jobs=-1)]: Done  97 tasks      | elapsed:  3.5min\n"
     ]
    },
    {
     "name": "stdout",
     "output_type": "stream",
     "text": [
      "building tree 101 of 1000\n"
     ]
    },
    {
     "name": "stderr",
     "output_type": "stream",
     "text": [
      "[Parallel(n_jobs=-1)]: Done  98 tasks      | elapsed:  3.5min\n"
     ]
    },
    {
     "name": "stdout",
     "output_type": "stream",
     "text": [
      "building tree 102 of 1000\n"
     ]
    },
    {
     "name": "stderr",
     "output_type": "stream",
     "text": [
      "[Parallel(n_jobs=-1)]: Done  99 tasks      | elapsed:  3.5min\n"
     ]
    },
    {
     "name": "stdout",
     "output_type": "stream",
     "text": [
      "building tree 103 of 1000\n"
     ]
    },
    {
     "name": "stderr",
     "output_type": "stream",
     "text": [
      "[Parallel(n_jobs=-1)]: Done 100 tasks      | elapsed:  3.5min\n"
     ]
    },
    {
     "name": "stdout",
     "output_type": "stream",
     "text": [
      "building tree 104 of 1000\n"
     ]
    },
    {
     "name": "stderr",
     "output_type": "stream",
     "text": [
      "[Parallel(n_jobs=-1)]: Done 101 tasks      | elapsed:  3.6min\n"
     ]
    },
    {
     "name": "stdout",
     "output_type": "stream",
     "text": [
      "building tree 105 of 1000\n"
     ]
    },
    {
     "name": "stderr",
     "output_type": "stream",
     "text": [
      "[Parallel(n_jobs=-1)]: Done 102 tasks      | elapsed:  3.6min\n"
     ]
    },
    {
     "name": "stdout",
     "output_type": "stream",
     "text": [
      "building tree 106 of 1000\n",
      "building tree 107 of 1000\n"
     ]
    },
    {
     "name": "stderr",
     "output_type": "stream",
     "text": [
      "[Parallel(n_jobs=-1)]: Done 103 tasks      | elapsed:  3.6min\n",
      "[Parallel(n_jobs=-1)]: Done 104 tasks      | elapsed:  3.6min\n"
     ]
    },
    {
     "name": "stdout",
     "output_type": "stream",
     "text": [
      "building tree 108 of 1000\n"
     ]
    },
    {
     "name": "stderr",
     "output_type": "stream",
     "text": [
      "[Parallel(n_jobs=-1)]: Done 105 tasks      | elapsed:  3.7min\n"
     ]
    },
    {
     "name": "stdout",
     "output_type": "stream",
     "text": [
      "building tree 109 of 1000\n"
     ]
    },
    {
     "name": "stderr",
     "output_type": "stream",
     "text": [
      "[Parallel(n_jobs=-1)]: Done 106 tasks      | elapsed:  3.7min\n"
     ]
    },
    {
     "name": "stdout",
     "output_type": "stream",
     "text": [
      "building tree 110 of 1000\n"
     ]
    },
    {
     "name": "stderr",
     "output_type": "stream",
     "text": [
      "[Parallel(n_jobs=-1)]: Done 107 tasks      | elapsed:  3.7min\n"
     ]
    },
    {
     "name": "stdout",
     "output_type": "stream",
     "text": [
      "building tree 111 of 1000\n"
     ]
    },
    {
     "name": "stderr",
     "output_type": "stream",
     "text": [
      "[Parallel(n_jobs=-1)]: Done 108 tasks      | elapsed:  3.7min\n"
     ]
    },
    {
     "name": "stdout",
     "output_type": "stream",
     "text": [
      "building tree 112 of 1000\n"
     ]
    },
    {
     "name": "stderr",
     "output_type": "stream",
     "text": [
      "[Parallel(n_jobs=-1)]: Done 109 tasks      | elapsed:  3.9min\n"
     ]
    },
    {
     "name": "stdout",
     "output_type": "stream",
     "text": [
      "building tree 113 of 1000\n"
     ]
    },
    {
     "name": "stderr",
     "output_type": "stream",
     "text": [
      "[Parallel(n_jobs=-1)]: Done 110 tasks      | elapsed:  3.9min\n"
     ]
    },
    {
     "name": "stdout",
     "output_type": "stream",
     "text": [
      "building tree 114 of 1000\n"
     ]
    },
    {
     "name": "stderr",
     "output_type": "stream",
     "text": [
      "[Parallel(n_jobs=-1)]: Done 111 tasks      | elapsed:  3.9min\n"
     ]
    },
    {
     "name": "stdout",
     "output_type": "stream",
     "text": [
      "building tree 115 of 1000\n"
     ]
    },
    {
     "name": "stderr",
     "output_type": "stream",
     "text": [
      "[Parallel(n_jobs=-1)]: Done 112 tasks      | elapsed:  3.9min\n"
     ]
    },
    {
     "name": "stdout",
     "output_type": "stream",
     "text": [
      "building tree 116 of 1000\n"
     ]
    },
    {
     "name": "stderr",
     "output_type": "stream",
     "text": [
      "[Parallel(n_jobs=-1)]: Done 113 tasks      | elapsed:  4.0min\n"
     ]
    },
    {
     "name": "stdout",
     "output_type": "stream",
     "text": [
      "building tree 117 of 1000\n"
     ]
    },
    {
     "name": "stderr",
     "output_type": "stream",
     "text": [
      "[Parallel(n_jobs=-1)]: Done 114 tasks      | elapsed:  4.0min\n"
     ]
    },
    {
     "name": "stdout",
     "output_type": "stream",
     "text": [
      "building tree 118 of 1000\n",
      "building tree 119 of 1000\n"
     ]
    },
    {
     "name": "stderr",
     "output_type": "stream",
     "text": [
      "[Parallel(n_jobs=-1)]: Done 115 tasks      | elapsed:  4.0min\n",
      "[Parallel(n_jobs=-1)]: Done 116 tasks      | elapsed:  4.0min\n"
     ]
    },
    {
     "name": "stdout",
     "output_type": "stream",
     "text": [
      "building tree 120 of 1000\n"
     ]
    },
    {
     "name": "stderr",
     "output_type": "stream",
     "text": [
      "[Parallel(n_jobs=-1)]: Done 117 tasks      | elapsed:  4.1min\n"
     ]
    },
    {
     "name": "stdout",
     "output_type": "stream",
     "text": [
      "building tree 121 of 1000\n"
     ]
    },
    {
     "name": "stderr",
     "output_type": "stream",
     "text": [
      "[Parallel(n_jobs=-1)]: Done 118 tasks      | elapsed:  4.1min\n"
     ]
    },
    {
     "name": "stdout",
     "output_type": "stream",
     "text": [
      "building tree 122 of 1000\n",
      "building tree 123 of 1000\n"
     ]
    },
    {
     "name": "stderr",
     "output_type": "stream",
     "text": [
      "[Parallel(n_jobs=-1)]: Done 119 tasks      | elapsed:  4.1min\n",
      "[Parallel(n_jobs=-1)]: Done 120 tasks      | elapsed:  4.1min\n"
     ]
    },
    {
     "name": "stdout",
     "output_type": "stream",
     "text": [
      "building tree 124 of 1000\n"
     ]
    },
    {
     "name": "stderr",
     "output_type": "stream",
     "text": [
      "[Parallel(n_jobs=-1)]: Done 121 tasks      | elapsed:  4.2min\n"
     ]
    },
    {
     "name": "stdout",
     "output_type": "stream",
     "text": [
      "building tree 125 of 1000\n"
     ]
    },
    {
     "name": "stderr",
     "output_type": "stream",
     "text": [
      "[Parallel(n_jobs=-1)]: Done 122 tasks      | elapsed:  4.2min\n"
     ]
    },
    {
     "name": "stdout",
     "output_type": "stream",
     "text": [
      "building tree 126 of 1000\n"
     ]
    },
    {
     "name": "stderr",
     "output_type": "stream",
     "text": [
      "[Parallel(n_jobs=-1)]: Done 123 tasks      | elapsed:  4.3min\n"
     ]
    },
    {
     "name": "stdout",
     "output_type": "stream",
     "text": [
      "building tree 127 of 1000\n"
     ]
    },
    {
     "name": "stderr",
     "output_type": "stream",
     "text": [
      "[Parallel(n_jobs=-1)]: Done 124 tasks      | elapsed:  4.3min\n"
     ]
    },
    {
     "name": "stdout",
     "output_type": "stream",
     "text": [
      "building tree 128 of 1000\n"
     ]
    },
    {
     "name": "stderr",
     "output_type": "stream",
     "text": [
      "[Parallel(n_jobs=-1)]: Done 125 tasks      | elapsed:  4.4min\n"
     ]
    },
    {
     "name": "stdout",
     "output_type": "stream",
     "text": [
      "building tree 129 of 1000\n"
     ]
    },
    {
     "name": "stderr",
     "output_type": "stream",
     "text": [
      "[Parallel(n_jobs=-1)]: Done 126 tasks      | elapsed:  4.4min\n"
     ]
    },
    {
     "name": "stdout",
     "output_type": "stream",
     "text": [
      "building tree 130 of 1000\n"
     ]
    },
    {
     "name": "stderr",
     "output_type": "stream",
     "text": [
      "[Parallel(n_jobs=-1)]: Done 127 tasks      | elapsed:  4.4min\n"
     ]
    },
    {
     "name": "stdout",
     "output_type": "stream",
     "text": [
      "building tree 131 of 1000\n"
     ]
    },
    {
     "name": "stderr",
     "output_type": "stream",
     "text": [
      "[Parallel(n_jobs=-1)]: Done 128 tasks      | elapsed:  4.4min\n"
     ]
    },
    {
     "name": "stdout",
     "output_type": "stream",
     "text": [
      "building tree 132 of 1000\n"
     ]
    },
    {
     "name": "stderr",
     "output_type": "stream",
     "text": [
      "[Parallel(n_jobs=-1)]: Done 129 tasks      | elapsed:  4.5min\n"
     ]
    },
    {
     "name": "stdout",
     "output_type": "stream",
     "text": [
      "building tree 133 of 1000\n"
     ]
    },
    {
     "name": "stderr",
     "output_type": "stream",
     "text": [
      "[Parallel(n_jobs=-1)]: Done 130 tasks      | elapsed:  4.5min\n"
     ]
    },
    {
     "name": "stdout",
     "output_type": "stream",
     "text": [
      "building tree 134 of 1000\n"
     ]
    },
    {
     "name": "stderr",
     "output_type": "stream",
     "text": [
      "[Parallel(n_jobs=-1)]: Done 131 tasks      | elapsed:  4.5min\n"
     ]
    },
    {
     "name": "stdout",
     "output_type": "stream",
     "text": [
      "building tree 135 of 1000\n"
     ]
    },
    {
     "name": "stderr",
     "output_type": "stream",
     "text": [
      "[Parallel(n_jobs=-1)]: Done 132 tasks      | elapsed:  4.5min\n"
     ]
    },
    {
     "name": "stdout",
     "output_type": "stream",
     "text": [
      "building tree 136 of 1000\n"
     ]
    },
    {
     "name": "stderr",
     "output_type": "stream",
     "text": [
      "[Parallel(n_jobs=-1)]: Done 133 tasks      | elapsed:  4.6min\n"
     ]
    },
    {
     "name": "stdout",
     "output_type": "stream",
     "text": [
      "building tree 137 of 1000\n"
     ]
    },
    {
     "name": "stderr",
     "output_type": "stream",
     "text": [
      "[Parallel(n_jobs=-1)]: Done 134 tasks      | elapsed:  4.6min\n"
     ]
    },
    {
     "name": "stdout",
     "output_type": "stream",
     "text": [
      "building tree 138 of 1000\n"
     ]
    },
    {
     "name": "stderr",
     "output_type": "stream",
     "text": [
      "[Parallel(n_jobs=-1)]: Done 135 tasks      | elapsed:  4.6min\n"
     ]
    },
    {
     "name": "stdout",
     "output_type": "stream",
     "text": [
      "building tree 139 of 1000\n"
     ]
    },
    {
     "name": "stderr",
     "output_type": "stream",
     "text": [
      "[Parallel(n_jobs=-1)]: Done 136 tasks      | elapsed:  4.6min\n"
     ]
    },
    {
     "name": "stdout",
     "output_type": "stream",
     "text": [
      "building tree 140 of 1000\n"
     ]
    },
    {
     "name": "stderr",
     "output_type": "stream",
     "text": [
      "[Parallel(n_jobs=-1)]: Done 137 tasks      | elapsed:  4.7min\n"
     ]
    },
    {
     "name": "stdout",
     "output_type": "stream",
     "text": [
      "building tree 141 of 1000\n"
     ]
    },
    {
     "name": "stderr",
     "output_type": "stream",
     "text": [
      "[Parallel(n_jobs=-1)]: Done 138 tasks      | elapsed:  4.8min\n"
     ]
    },
    {
     "name": "stdout",
     "output_type": "stream",
     "text": [
      "building tree 142 of 1000\n"
     ]
    },
    {
     "name": "stderr",
     "output_type": "stream",
     "text": [
      "[Parallel(n_jobs=-1)]: Done 139 tasks      | elapsed:  4.8min\n"
     ]
    },
    {
     "name": "stdout",
     "output_type": "stream",
     "text": [
      "building tree 143 of 1000\n"
     ]
    },
    {
     "name": "stderr",
     "output_type": "stream",
     "text": [
      "[Parallel(n_jobs=-1)]: Done 140 tasks      | elapsed:  4.8min\n"
     ]
    },
    {
     "name": "stdout",
     "output_type": "stream",
     "text": [
      "building tree 144 of 1000\n"
     ]
    },
    {
     "name": "stderr",
     "output_type": "stream",
     "text": [
      "[Parallel(n_jobs=-1)]: Done 141 tasks      | elapsed:  4.9min\n"
     ]
    },
    {
     "name": "stdout",
     "output_type": "stream",
     "text": [
      "building tree 145 of 1000\n"
     ]
    },
    {
     "name": "stderr",
     "output_type": "stream",
     "text": [
      "[Parallel(n_jobs=-1)]: Done 142 tasks      | elapsed:  4.9min\n"
     ]
    },
    {
     "name": "stdout",
     "output_type": "stream",
     "text": [
      "building tree 146 of 1000\n"
     ]
    },
    {
     "name": "stderr",
     "output_type": "stream",
     "text": [
      "[Parallel(n_jobs=-1)]: Done 143 tasks      | elapsed:  4.9min\n"
     ]
    },
    {
     "name": "stdout",
     "output_type": "stream",
     "text": [
      "building tree 147 of 1000\n"
     ]
    },
    {
     "name": "stderr",
     "output_type": "stream",
     "text": [
      "[Parallel(n_jobs=-1)]: Done 144 tasks      | elapsed:  4.9min\n"
     ]
    },
    {
     "name": "stdout",
     "output_type": "stream",
     "text": [
      "building tree 148 of 1000\n"
     ]
    },
    {
     "name": "stderr",
     "output_type": "stream",
     "text": [
      "[Parallel(n_jobs=-1)]: Done 145 tasks      | elapsed:  5.0min\n"
     ]
    },
    {
     "name": "stdout",
     "output_type": "stream",
     "text": [
      "building tree 149 of 1000\n"
     ]
    },
    {
     "name": "stderr",
     "output_type": "stream",
     "text": [
      "[Parallel(n_jobs=-1)]: Done 146 tasks      | elapsed:  5.0min\n"
     ]
    },
    {
     "name": "stdout",
     "output_type": "stream",
     "text": [
      "building tree 150 of 1000\n"
     ]
    },
    {
     "name": "stderr",
     "output_type": "stream",
     "text": [
      "[Parallel(n_jobs=-1)]: Done 147 tasks      | elapsed:  5.0min\n"
     ]
    },
    {
     "name": "stdout",
     "output_type": "stream",
     "text": [
      "building tree 151 of 1000\n"
     ]
    },
    {
     "name": "stderr",
     "output_type": "stream",
     "text": [
      "[Parallel(n_jobs=-1)]: Done 148 tasks      | elapsed:  5.0min\n"
     ]
    },
    {
     "name": "stdout",
     "output_type": "stream",
     "text": [
      "building tree 152 of 1000\n"
     ]
    },
    {
     "name": "stderr",
     "output_type": "stream",
     "text": [
      "[Parallel(n_jobs=-1)]: Done 149 tasks      | elapsed:  5.1min\n"
     ]
    },
    {
     "name": "stdout",
     "output_type": "stream",
     "text": [
      "building tree 153 of 1000\n"
     ]
    },
    {
     "name": "stderr",
     "output_type": "stream",
     "text": [
      "[Parallel(n_jobs=-1)]: Done 150 tasks      | elapsed:  5.1min\n"
     ]
    },
    {
     "name": "stdout",
     "output_type": "stream",
     "text": [
      "building tree 154 of 1000\n"
     ]
    },
    {
     "name": "stderr",
     "output_type": "stream",
     "text": [
      "[Parallel(n_jobs=-1)]: Done 151 tasks      | elapsed:  5.2min\n"
     ]
    },
    {
     "name": "stdout",
     "output_type": "stream",
     "text": [
      "building tree 155 of 1000\n"
     ]
    },
    {
     "name": "stderr",
     "output_type": "stream",
     "text": [
      "[Parallel(n_jobs=-1)]: Done 152 tasks      | elapsed:  5.2min\n"
     ]
    },
    {
     "name": "stdout",
     "output_type": "stream",
     "text": [
      "building tree 156 of 1000\n"
     ]
    },
    {
     "name": "stderr",
     "output_type": "stream",
     "text": [
      "[Parallel(n_jobs=-1)]: Done 153 tasks      | elapsed:  5.3min\n"
     ]
    },
    {
     "name": "stdout",
     "output_type": "stream",
     "text": [
      "building tree 157 of 1000\n"
     ]
    },
    {
     "name": "stderr",
     "output_type": "stream",
     "text": [
      "[Parallel(n_jobs=-1)]: Done 154 tasks      | elapsed:  5.3min\n"
     ]
    },
    {
     "name": "stdout",
     "output_type": "stream",
     "text": [
      "building tree 158 of 1000\n"
     ]
    },
    {
     "name": "stderr",
     "output_type": "stream",
     "text": [
      "[Parallel(n_jobs=-1)]: Done 155 tasks      | elapsed:  5.3min\n"
     ]
    },
    {
     "name": "stdout",
     "output_type": "stream",
     "text": [
      "building tree 159 of 1000\n",
      "building tree 160 of 1000\n"
     ]
    },
    {
     "name": "stderr",
     "output_type": "stream",
     "text": [
      "[Parallel(n_jobs=-1)]: Done 156 tasks      | elapsed:  5.3min\n",
      "[Parallel(n_jobs=-1)]: Done 157 tasks      | elapsed:  5.4min\n"
     ]
    },
    {
     "name": "stdout",
     "output_type": "stream",
     "text": [
      "building tree 161 of 1000\n"
     ]
    },
    {
     "name": "stderr",
     "output_type": "stream",
     "text": [
      "[Parallel(n_jobs=-1)]: Done 158 tasks      | elapsed:  5.4min\n"
     ]
    },
    {
     "name": "stdout",
     "output_type": "stream",
     "text": [
      "building tree 162 of 1000\n"
     ]
    },
    {
     "name": "stderr",
     "output_type": "stream",
     "text": [
      "[Parallel(n_jobs=-1)]: Done 159 tasks      | elapsed:  5.5min\n"
     ]
    },
    {
     "name": "stdout",
     "output_type": "stream",
     "text": [
      "building tree 163 of 1000\n"
     ]
    },
    {
     "name": "stderr",
     "output_type": "stream",
     "text": [
      "[Parallel(n_jobs=-1)]: Done 160 tasks      | elapsed:  5.5min\n"
     ]
    },
    {
     "name": "stdout",
     "output_type": "stream",
     "text": [
      "building tree 164 of 1000\n"
     ]
    },
    {
     "name": "stderr",
     "output_type": "stream",
     "text": [
      "[Parallel(n_jobs=-1)]: Done 161 tasks      | elapsed:  5.6min\n"
     ]
    },
    {
     "name": "stdout",
     "output_type": "stream",
     "text": [
      "building tree 165 of 1000\n"
     ]
    },
    {
     "name": "stderr",
     "output_type": "stream",
     "text": [
      "[Parallel(n_jobs=-1)]: Done 162 tasks      | elapsed:  5.6min\n"
     ]
    },
    {
     "name": "stdout",
     "output_type": "stream",
     "text": [
      "building tree 166 of 1000\n"
     ]
    },
    {
     "name": "stderr",
     "output_type": "stream",
     "text": [
      "[Parallel(n_jobs=-1)]: Done 163 tasks      | elapsed:  5.6min\n"
     ]
    },
    {
     "name": "stdout",
     "output_type": "stream",
     "text": [
      "building tree 167 of 1000\n"
     ]
    },
    {
     "name": "stderr",
     "output_type": "stream",
     "text": [
      "[Parallel(n_jobs=-1)]: Done 164 tasks      | elapsed:  5.6min\n"
     ]
    },
    {
     "name": "stdout",
     "output_type": "stream",
     "text": [
      "building tree 168 of 1000\n"
     ]
    },
    {
     "name": "stderr",
     "output_type": "stream",
     "text": [
      "[Parallel(n_jobs=-1)]: Done 165 tasks      | elapsed:  5.7min\n"
     ]
    },
    {
     "name": "stdout",
     "output_type": "stream",
     "text": [
      "building tree 169 of 1000\n"
     ]
    },
    {
     "name": "stderr",
     "output_type": "stream",
     "text": [
      "[Parallel(n_jobs=-1)]: Done 166 tasks      | elapsed:  5.7min\n"
     ]
    },
    {
     "name": "stdout",
     "output_type": "stream",
     "text": [
      "building tree 170 of 1000\n"
     ]
    },
    {
     "name": "stderr",
     "output_type": "stream",
     "text": [
      "[Parallel(n_jobs=-1)]: Done 167 tasks      | elapsed:  5.7min\n"
     ]
    },
    {
     "name": "stdout",
     "output_type": "stream",
     "text": [
      "building tree 171 of 1000\n"
     ]
    },
    {
     "name": "stderr",
     "output_type": "stream",
     "text": [
      "[Parallel(n_jobs=-1)]: Done 168 tasks      | elapsed:  5.7min\n"
     ]
    },
    {
     "name": "stdout",
     "output_type": "stream",
     "text": [
      "building tree 172 of 1000\n"
     ]
    },
    {
     "name": "stderr",
     "output_type": "stream",
     "text": [
      "[Parallel(n_jobs=-1)]: Done 169 tasks      | elapsed:  5.8min\n"
     ]
    },
    {
     "name": "stdout",
     "output_type": "stream",
     "text": [
      "building tree 173 of 1000\n",
      "building tree 174 of 1000\n"
     ]
    },
    {
     "name": "stderr",
     "output_type": "stream",
     "text": [
      "[Parallel(n_jobs=-1)]: Done 170 tasks      | elapsed:  5.9min\n"
     ]
    },
    {
     "name": "stdout",
     "output_type": "stream",
     "text": [
      "building tree 175 of 1000\n"
     ]
    },
    {
     "name": "stderr",
     "output_type": "stream",
     "text": [
      "[Parallel(n_jobs=-1)]: Done 171 tasks      | elapsed:  5.9min\n",
      "[Parallel(n_jobs=-1)]: Done 172 tasks      | elapsed:  5.9min\n"
     ]
    },
    {
     "name": "stdout",
     "output_type": "stream",
     "text": [
      "building tree 176 of 1000\n"
     ]
    },
    {
     "name": "stderr",
     "output_type": "stream",
     "text": [
      "[Parallel(n_jobs=-1)]: Done 173 tasks      | elapsed:  6.0min\n"
     ]
    },
    {
     "name": "stdout",
     "output_type": "stream",
     "text": [
      "building tree 177 of 1000\n"
     ]
    },
    {
     "name": "stderr",
     "output_type": "stream",
     "text": [
      "[Parallel(n_jobs=-1)]: Done 174 tasks      | elapsed:  6.0min\n"
     ]
    },
    {
     "name": "stdout",
     "output_type": "stream",
     "text": [
      "building tree 178 of 1000\n"
     ]
    },
    {
     "name": "stderr",
     "output_type": "stream",
     "text": [
      "[Parallel(n_jobs=-1)]: Done 175 tasks      | elapsed:  6.1min\n"
     ]
    },
    {
     "name": "stdout",
     "output_type": "stream",
     "text": [
      "building tree 179 of 1000\n"
     ]
    },
    {
     "name": "stderr",
     "output_type": "stream",
     "text": [
      "[Parallel(n_jobs=-1)]: Done 176 tasks      | elapsed:  6.1min\n"
     ]
    },
    {
     "name": "stdout",
     "output_type": "stream",
     "text": [
      "building tree 180 of 1000\n"
     ]
    },
    {
     "name": "stderr",
     "output_type": "stream",
     "text": [
      "[Parallel(n_jobs=-1)]: Done 177 tasks      | elapsed:  6.2min\n"
     ]
    },
    {
     "name": "stdout",
     "output_type": "stream",
     "text": [
      "building tree 181 of 1000\n"
     ]
    },
    {
     "name": "stderr",
     "output_type": "stream",
     "text": [
      "[Parallel(n_jobs=-1)]: Done 178 tasks      | elapsed:  6.2min\n"
     ]
    },
    {
     "name": "stdout",
     "output_type": "stream",
     "text": [
      "building tree 182 of 1000\n"
     ]
    },
    {
     "name": "stderr",
     "output_type": "stream",
     "text": [
      "[Parallel(n_jobs=-1)]: Done 179 tasks      | elapsed:  6.2min\n"
     ]
    },
    {
     "name": "stdout",
     "output_type": "stream",
     "text": [
      "building tree 183 of 1000\n"
     ]
    },
    {
     "name": "stderr",
     "output_type": "stream",
     "text": [
      "[Parallel(n_jobs=-1)]: Done 180 tasks      | elapsed:  6.2min\n"
     ]
    },
    {
     "name": "stdout",
     "output_type": "stream",
     "text": [
      "building tree 184 of 1000\n"
     ]
    },
    {
     "name": "stderr",
     "output_type": "stream",
     "text": [
      "[Parallel(n_jobs=-1)]: Done 181 tasks      | elapsed:  6.3min\n"
     ]
    },
    {
     "name": "stdout",
     "output_type": "stream",
     "text": [
      "building tree 185 of 1000\n"
     ]
    },
    {
     "name": "stderr",
     "output_type": "stream",
     "text": [
      "[Parallel(n_jobs=-1)]: Done 182 tasks      | elapsed:  6.3min\n"
     ]
    },
    {
     "name": "stdout",
     "output_type": "stream",
     "text": [
      "building tree 186 of 1000\n"
     ]
    },
    {
     "name": "stderr",
     "output_type": "stream",
     "text": [
      "[Parallel(n_jobs=-1)]: Done 183 tasks      | elapsed:  6.3min\n"
     ]
    },
    {
     "name": "stdout",
     "output_type": "stream",
     "text": [
      "building tree 187 of 1000\n"
     ]
    },
    {
     "name": "stderr",
     "output_type": "stream",
     "text": [
      "[Parallel(n_jobs=-1)]: Done 184 tasks      | elapsed:  6.3min\n"
     ]
    },
    {
     "name": "stdout",
     "output_type": "stream",
     "text": [
      "building tree 188 of 1000\n"
     ]
    },
    {
     "name": "stderr",
     "output_type": "stream",
     "text": [
      "[Parallel(n_jobs=-1)]: Done 185 tasks      | elapsed:  6.4min\n"
     ]
    },
    {
     "name": "stdout",
     "output_type": "stream",
     "text": [
      "building tree 189 of 1000\n"
     ]
    },
    {
     "name": "stderr",
     "output_type": "stream",
     "text": [
      "[Parallel(n_jobs=-1)]: Done 186 tasks      | elapsed:  6.4min\n"
     ]
    },
    {
     "name": "stdout",
     "output_type": "stream",
     "text": [
      "building tree 190 of 1000\n"
     ]
    },
    {
     "name": "stderr",
     "output_type": "stream",
     "text": [
      "[Parallel(n_jobs=-1)]: Done 187 tasks      | elapsed:  6.5min\n"
     ]
    },
    {
     "name": "stdout",
     "output_type": "stream",
     "text": [
      "building tree 191 of 1000\n"
     ]
    },
    {
     "name": "stderr",
     "output_type": "stream",
     "text": [
      "[Parallel(n_jobs=-1)]: Done 188 tasks      | elapsed:  6.5min\n"
     ]
    },
    {
     "name": "stdout",
     "output_type": "stream",
     "text": [
      "building tree 192 of 1000\n"
     ]
    },
    {
     "name": "stderr",
     "output_type": "stream",
     "text": [
      "[Parallel(n_jobs=-1)]: Done 189 tasks      | elapsed:  6.6min\n"
     ]
    },
    {
     "name": "stdout",
     "output_type": "stream",
     "text": [
      "building tree 193 of 1000\n"
     ]
    },
    {
     "name": "stderr",
     "output_type": "stream",
     "text": [
      "[Parallel(n_jobs=-1)]: Done 190 tasks      | elapsed:  6.6min\n"
     ]
    },
    {
     "name": "stdout",
     "output_type": "stream",
     "text": [
      "building tree 194 of 1000\n",
      "building tree 195 of 1000\n",
      "building tree 196 of 1000\n"
     ]
    },
    {
     "name": "stderr",
     "output_type": "stream",
     "text": [
      "[Parallel(n_jobs=-1)]: Done 191 tasks      | elapsed:  6.6min\n",
      "[Parallel(n_jobs=-1)]: Done 192 tasks      | elapsed:  6.6min\n",
      "[Parallel(n_jobs=-1)]: Done 193 tasks      | elapsed:  6.7min\n"
     ]
    },
    {
     "name": "stdout",
     "output_type": "stream",
     "text": [
      "building tree 197 of 1000\n"
     ]
    },
    {
     "name": "stderr",
     "output_type": "stream",
     "text": [
      "[Parallel(n_jobs=-1)]: Done 194 tasks      | elapsed:  6.7min\n"
     ]
    },
    {
     "name": "stdout",
     "output_type": "stream",
     "text": [
      "building tree 198 of 1000\n"
     ]
    },
    {
     "name": "stderr",
     "output_type": "stream",
     "text": [
      "[Parallel(n_jobs=-1)]: Done 195 tasks      | elapsed:  6.7min\n",
      "[Parallel(n_jobs=-1)]: Done 196 tasks      | elapsed:  6.7min\n"
     ]
    },
    {
     "name": "stdout",
     "output_type": "stream",
     "text": [
      "building tree 199 of 1000\n",
      "building tree 200 of 1000\n"
     ]
    },
    {
     "name": "stderr",
     "output_type": "stream",
     "text": [
      "[Parallel(n_jobs=-1)]: Done 197 tasks      | elapsed:  6.8min\n"
     ]
    },
    {
     "name": "stdout",
     "output_type": "stream",
     "text": [
      "building tree 201 of 1000\n"
     ]
    },
    {
     "name": "stderr",
     "output_type": "stream",
     "text": [
      "[Parallel(n_jobs=-1)]: Done 198 tasks      | elapsed:  6.8min\n"
     ]
    },
    {
     "name": "stdout",
     "output_type": "stream",
     "text": [
      "building tree 202 of 1000\n"
     ]
    },
    {
     "name": "stderr",
     "output_type": "stream",
     "text": [
      "[Parallel(n_jobs=-1)]: Done 199 tasks      | elapsed:  6.8min\n",
      "[Parallel(n_jobs=-1)]: Done 200 tasks      | elapsed:  6.8min\n"
     ]
    },
    {
     "name": "stdout",
     "output_type": "stream",
     "text": [
      "building tree 203 of 1000\n",
      "building tree 204 of 1000\n"
     ]
    },
    {
     "name": "stderr",
     "output_type": "stream",
     "text": [
      "[Parallel(n_jobs=-1)]: Done 201 tasks      | elapsed:  6.9min\n",
      "[Parallel(n_jobs=-1)]: Done 202 tasks      | elapsed:  6.9min\n"
     ]
    },
    {
     "name": "stdout",
     "output_type": "stream",
     "text": [
      "building tree 205 of 1000\n",
      "building tree 206 of 1000\n"
     ]
    },
    {
     "name": "stderr",
     "output_type": "stream",
     "text": [
      "[Parallel(n_jobs=-1)]: Done 203 tasks      | elapsed:  7.0min\n",
      "[Parallel(n_jobs=-1)]: Done 204 tasks      | elapsed:  7.0min\n"
     ]
    },
    {
     "name": "stdout",
     "output_type": "stream",
     "text": [
      "building tree 207 of 1000\n",
      "building tree 208 of 1000\n"
     ]
    },
    {
     "name": "stderr",
     "output_type": "stream",
     "text": [
      "[Parallel(n_jobs=-1)]: Done 205 tasks      | elapsed:  7.1min\n",
      "[Parallel(n_jobs=-1)]: Done 206 tasks      | elapsed:  7.1min\n"
     ]
    },
    {
     "name": "stdout",
     "output_type": "stream",
     "text": [
      "building tree 209 of 1000\n",
      "building tree 210 of 1000\n"
     ]
    },
    {
     "name": "stderr",
     "output_type": "stream",
     "text": [
      "[Parallel(n_jobs=-1)]: Done 207 tasks      | elapsed:  7.1min\n"
     ]
    },
    {
     "name": "stdout",
     "output_type": "stream",
     "text": [
      "building tree 211 of 1000\n"
     ]
    },
    {
     "name": "stderr",
     "output_type": "stream",
     "text": [
      "[Parallel(n_jobs=-1)]: Done 208 tasks      | elapsed:  7.1min\n"
     ]
    },
    {
     "name": "stdout",
     "output_type": "stream",
     "text": [
      "building tree 212 of 1000\n"
     ]
    },
    {
     "name": "stderr",
     "output_type": "stream",
     "text": [
      "[Parallel(n_jobs=-1)]: Done 209 tasks      | elapsed:  7.2min\n",
      "[Parallel(n_jobs=-1)]: Done 210 tasks      | elapsed:  7.2min\n"
     ]
    },
    {
     "name": "stdout",
     "output_type": "stream",
     "text": [
      "building tree 213 of 1000\n",
      "building tree 214 of 1000\n"
     ]
    },
    {
     "name": "stderr",
     "output_type": "stream",
     "text": [
      "[Parallel(n_jobs=-1)]: Done 211 tasks      | elapsed:  7.2min\n",
      "[Parallel(n_jobs=-1)]: Done 212 tasks      | elapsed:  7.2min\n"
     ]
    },
    {
     "name": "stdout",
     "output_type": "stream",
     "text": [
      "building tree 215 of 1000\n",
      "building tree 216 of 1000\n"
     ]
    },
    {
     "name": "stderr",
     "output_type": "stream",
     "text": [
      "[Parallel(n_jobs=-1)]: Done 213 tasks      | elapsed:  7.3min\n",
      "[Parallel(n_jobs=-1)]: Done 214 tasks      | elapsed:  7.3min\n"
     ]
    },
    {
     "name": "stdout",
     "output_type": "stream",
     "text": [
      "building tree 217 of 1000\n",
      "building tree 218 of 1000\n",
      "building tree 219 of 1000\n"
     ]
    },
    {
     "name": "stderr",
     "output_type": "stream",
     "text": [
      "[Parallel(n_jobs=-1)]: Done 215 tasks      | elapsed:  7.3min\n",
      "[Parallel(n_jobs=-1)]: Done 216 tasks      | elapsed:  7.3min\n"
     ]
    },
    {
     "name": "stdout",
     "output_type": "stream",
     "text": [
      "building tree 220 of 1000\n"
     ]
    },
    {
     "name": "stderr",
     "output_type": "stream",
     "text": [
      "[Parallel(n_jobs=-1)]: Done 217 tasks      | elapsed:  7.4min\n",
      "[Parallel(n_jobs=-1)]: Done 218 tasks      | elapsed:  7.5min\n"
     ]
    },
    {
     "name": "stdout",
     "output_type": "stream",
     "text": [
      "building tree 221 of 1000\n",
      "building tree 222 of 1000\n"
     ]
    },
    {
     "name": "stderr",
     "output_type": "stream",
     "text": [
      "[Parallel(n_jobs=-1)]: Done 219 tasks      | elapsed:  7.5min\n"
     ]
    },
    {
     "name": "stdout",
     "output_type": "stream",
     "text": [
      "building tree 223 of 1000\n"
     ]
    },
    {
     "name": "stderr",
     "output_type": "stream",
     "text": [
      "[Parallel(n_jobs=-1)]: Done 220 tasks      | elapsed:  7.5min\n"
     ]
    },
    {
     "name": "stdout",
     "output_type": "stream",
     "text": [
      "building tree 224 of 1000\n"
     ]
    },
    {
     "name": "stderr",
     "output_type": "stream",
     "text": [
      "[Parallel(n_jobs=-1)]: Done 221 tasks      | elapsed:  7.6min\n",
      "[Parallel(n_jobs=-1)]: Done 222 tasks      | elapsed:  7.6min\n"
     ]
    },
    {
     "name": "stdout",
     "output_type": "stream",
     "text": [
      "building tree 225 of 1000\n",
      "building tree 226 of 1000\n"
     ]
    },
    {
     "name": "stderr",
     "output_type": "stream",
     "text": [
      "[Parallel(n_jobs=-1)]: Done 223 tasks      | elapsed:  7.6min\n"
     ]
    },
    {
     "name": "stdout",
     "output_type": "stream",
     "text": [
      "building tree 227 of 1000\n"
     ]
    },
    {
     "name": "stderr",
     "output_type": "stream",
     "text": [
      "[Parallel(n_jobs=-1)]: Done 224 tasks      | elapsed:  7.6min\n"
     ]
    },
    {
     "name": "stdout",
     "output_type": "stream",
     "text": [
      "building tree 228 of 1000\n"
     ]
    },
    {
     "name": "stderr",
     "output_type": "stream",
     "text": [
      "[Parallel(n_jobs=-1)]: Done 225 tasks      | elapsed:  7.7min\n",
      "[Parallel(n_jobs=-1)]: Done 226 tasks      | elapsed:  7.7min\n"
     ]
    },
    {
     "name": "stdout",
     "output_type": "stream",
     "text": [
      "building tree 229 of 1000\n",
      "building tree 230 of 1000\n"
     ]
    },
    {
     "name": "stderr",
     "output_type": "stream",
     "text": [
      "[Parallel(n_jobs=-1)]: Done 227 tasks      | elapsed:  7.7min\n"
     ]
    },
    {
     "name": "stdout",
     "output_type": "stream",
     "text": [
      "building tree 231 of 1000\n"
     ]
    },
    {
     "name": "stderr",
     "output_type": "stream",
     "text": [
      "[Parallel(n_jobs=-1)]: Done 228 tasks      | elapsed:  7.7min\n"
     ]
    },
    {
     "name": "stdout",
     "output_type": "stream",
     "text": [
      "building tree 232 of 1000\n"
     ]
    },
    {
     "name": "stderr",
     "output_type": "stream",
     "text": [
      "[Parallel(n_jobs=-1)]: Done 229 tasks      | elapsed:  7.8min\n",
      "[Parallel(n_jobs=-1)]: Done 230 tasks      | elapsed:  7.8min\n"
     ]
    },
    {
     "name": "stdout",
     "output_type": "stream",
     "text": [
      "building tree 233 of 1000\n",
      "building tree 234 of 1000\n",
      "building tree 235 of 1000\n"
     ]
    },
    {
     "name": "stderr",
     "output_type": "stream",
     "text": [
      "[Parallel(n_jobs=-1)]: Done 231 tasks      | elapsed:  7.8min\n"
     ]
    },
    {
     "name": "stdout",
     "output_type": "stream",
     "text": [
      "building tree 236 of 1000\n"
     ]
    },
    {
     "name": "stderr",
     "output_type": "stream",
     "text": [
      "[Parallel(n_jobs=-1)]: Done 232 tasks      | elapsed:  7.8min\n",
      "[Parallel(n_jobs=-1)]: Done 233 tasks      | elapsed:  7.9min\n",
      "[Parallel(n_jobs=-1)]: Done 234 tasks      | elapsed:  7.9min\n"
     ]
    },
    {
     "name": "stdout",
     "output_type": "stream",
     "text": [
      "building tree 237 of 1000\n",
      "building tree 238 of 1000\n"
     ]
    },
    {
     "name": "stderr",
     "output_type": "stream",
     "text": [
      "[Parallel(n_jobs=-1)]: Done 235 tasks      | elapsed:  8.0min\n"
     ]
    },
    {
     "name": "stdout",
     "output_type": "stream",
     "text": [
      "building tree 239 of 1000\n"
     ]
    },
    {
     "name": "stderr",
     "output_type": "stream",
     "text": [
      "[Parallel(n_jobs=-1)]: Done 236 tasks      | elapsed:  8.0min\n"
     ]
    },
    {
     "name": "stdout",
     "output_type": "stream",
     "text": [
      "building tree 240 of 1000\n"
     ]
    },
    {
     "name": "stderr",
     "output_type": "stream",
     "text": [
      "[Parallel(n_jobs=-1)]: Done 237 tasks      | elapsed:  8.1min\n",
      "[Parallel(n_jobs=-1)]: Done 238 tasks      | elapsed:  8.1min\n"
     ]
    },
    {
     "name": "stdout",
     "output_type": "stream",
     "text": [
      "building tree 241 of 1000\n",
      "building tree 242 of 1000\n"
     ]
    },
    {
     "name": "stderr",
     "output_type": "stream",
     "text": [
      "[Parallel(n_jobs=-1)]: Done 239 tasks      | elapsed:  8.1min\n"
     ]
    },
    {
     "name": "stdout",
     "output_type": "stream",
     "text": [
      "building tree 243 of 1000\n"
     ]
    },
    {
     "name": "stderr",
     "output_type": "stream",
     "text": [
      "[Parallel(n_jobs=-1)]: Done 240 tasks      | elapsed:  8.1min\n"
     ]
    },
    {
     "name": "stdout",
     "output_type": "stream",
     "text": [
      "building tree 244 of 1000\n",
      "building tree 245 of 1000\n",
      "building tree 246 of 1000\n"
     ]
    },
    {
     "name": "stderr",
     "output_type": "stream",
     "text": [
      "[Parallel(n_jobs=-1)]: Done 241 tasks      | elapsed:  8.2min\n",
      "[Parallel(n_jobs=-1)]: Done 242 tasks      | elapsed:  8.2min\n",
      "[Parallel(n_jobs=-1)]: Done 243 tasks      | elapsed:  8.2min\n"
     ]
    },
    {
     "name": "stdout",
     "output_type": "stream",
     "text": [
      "building tree 247 of 1000\n"
     ]
    },
    {
     "name": "stderr",
     "output_type": "stream",
     "text": [
      "[Parallel(n_jobs=-1)]: Done 244 tasks      | elapsed:  8.2min\n"
     ]
    },
    {
     "name": "stdout",
     "output_type": "stream",
     "text": [
      "building tree 248 of 1000\n"
     ]
    },
    {
     "name": "stderr",
     "output_type": "stream",
     "text": [
      "[Parallel(n_jobs=-1)]: Done 245 tasks      | elapsed:  8.3min\n",
      "[Parallel(n_jobs=-1)]: Done 246 tasks      | elapsed:  8.3min\n"
     ]
    },
    {
     "name": "stdout",
     "output_type": "stream",
     "text": [
      "building tree 249 of 1000\n",
      "building tree 250 of 1000\n"
     ]
    },
    {
     "name": "stderr",
     "output_type": "stream",
     "text": [
      "[Parallel(n_jobs=-1)]: Done 247 tasks      | elapsed:  8.3min\n"
     ]
    },
    {
     "name": "stdout",
     "output_type": "stream",
     "text": [
      "building tree 251 of 1000\n",
      "building tree 252 of 1000\n"
     ]
    },
    {
     "name": "stderr",
     "output_type": "stream",
     "text": [
      "[Parallel(n_jobs=-1)]: Done 248 tasks      | elapsed:  8.3min\n",
      "[Parallel(n_jobs=-1)]: Done 249 tasks      | elapsed:  8.4min\n",
      "[Parallel(n_jobs=-1)]: Done 250 tasks      | elapsed:  8.4min\n"
     ]
    },
    {
     "name": "stdout",
     "output_type": "stream",
     "text": [
      "building tree 253 of 1000\n",
      "building tree 254 of 1000\n"
     ]
    },
    {
     "name": "stderr",
     "output_type": "stream",
     "text": [
      "[Parallel(n_jobs=-1)]: Done 251 tasks      | elapsed:  8.5min\n"
     ]
    },
    {
     "name": "stdout",
     "output_type": "stream",
     "text": [
      "building tree 255 of 1000\n"
     ]
    },
    {
     "name": "stderr",
     "output_type": "stream",
     "text": [
      "[Parallel(n_jobs=-1)]: Done 252 tasks      | elapsed:  8.5min\n"
     ]
    },
    {
     "name": "stdout",
     "output_type": "stream",
     "text": [
      "building tree 256 of 1000\n"
     ]
    },
    {
     "name": "stderr",
     "output_type": "stream",
     "text": [
      "[Parallel(n_jobs=-1)]: Done 253 tasks      | elapsed:  8.6min\n"
     ]
    },
    {
     "name": "stdout",
     "output_type": "stream",
     "text": [
      "building tree 257 of 1000\n"
     ]
    },
    {
     "name": "stderr",
     "output_type": "stream",
     "text": [
      "[Parallel(n_jobs=-1)]: Done 254 tasks      | elapsed:  8.6min\n"
     ]
    },
    {
     "name": "stdout",
     "output_type": "stream",
     "text": [
      "building tree 258 of 1000\n"
     ]
    },
    {
     "name": "stderr",
     "output_type": "stream",
     "text": [
      "[Parallel(n_jobs=-1)]: Done 255 tasks      | elapsed:  8.6min\n"
     ]
    },
    {
     "name": "stdout",
     "output_type": "stream",
     "text": [
      "building tree 259 of 1000\n"
     ]
    },
    {
     "name": "stderr",
     "output_type": "stream",
     "text": [
      "[Parallel(n_jobs=-1)]: Done 256 tasks      | elapsed:  8.6min\n"
     ]
    },
    {
     "name": "stdout",
     "output_type": "stream",
     "text": [
      "building tree 260 of 1000\n"
     ]
    },
    {
     "name": "stderr",
     "output_type": "stream",
     "text": [
      "[Parallel(n_jobs=-1)]: Done 257 tasks      | elapsed:  8.7min\n"
     ]
    },
    {
     "name": "stdout",
     "output_type": "stream",
     "text": [
      "building tree 261 of 1000\n"
     ]
    },
    {
     "name": "stderr",
     "output_type": "stream",
     "text": [
      "[Parallel(n_jobs=-1)]: Done 258 tasks      | elapsed:  8.7min\n"
     ]
    },
    {
     "name": "stdout",
     "output_type": "stream",
     "text": [
      "building tree 262 of 1000\n"
     ]
    },
    {
     "name": "stderr",
     "output_type": "stream",
     "text": [
      "[Parallel(n_jobs=-1)]: Done 259 tasks      | elapsed:  8.7min\n"
     ]
    },
    {
     "name": "stdout",
     "output_type": "stream",
     "text": [
      "building tree 263 of 1000\n"
     ]
    },
    {
     "name": "stderr",
     "output_type": "stream",
     "text": [
      "[Parallel(n_jobs=-1)]: Done 260 tasks      | elapsed:  8.7min\n"
     ]
    },
    {
     "name": "stdout",
     "output_type": "stream",
     "text": [
      "building tree 264 of 1000\n"
     ]
    },
    {
     "name": "stderr",
     "output_type": "stream",
     "text": [
      "[Parallel(n_jobs=-1)]: Done 261 tasks      | elapsed:  8.8min\n"
     ]
    },
    {
     "name": "stdout",
     "output_type": "stream",
     "text": [
      "building tree 265 of 1000\n"
     ]
    },
    {
     "name": "stderr",
     "output_type": "stream",
     "text": [
      "[Parallel(n_jobs=-1)]: Done 262 tasks      | elapsed:  8.8min\n"
     ]
    },
    {
     "name": "stdout",
     "output_type": "stream",
     "text": [
      "building tree 266 of 1000\n"
     ]
    },
    {
     "name": "stderr",
     "output_type": "stream",
     "text": [
      "[Parallel(n_jobs=-1)]: Done 263 tasks      | elapsed:  8.8min\n"
     ]
    },
    {
     "name": "stdout",
     "output_type": "stream",
     "text": [
      "building tree 267 of 1000\n"
     ]
    },
    {
     "name": "stderr",
     "output_type": "stream",
     "text": [
      "[Parallel(n_jobs=-1)]: Done 264 tasks      | elapsed:  8.8min\n"
     ]
    },
    {
     "name": "stdout",
     "output_type": "stream",
     "text": [
      "building tree 268 of 1000\n"
     ]
    },
    {
     "name": "stderr",
     "output_type": "stream",
     "text": [
      "[Parallel(n_jobs=-1)]: Done 265 tasks      | elapsed:  8.9min\n",
      "[Parallel(n_jobs=-1)]: Done 266 tasks      | elapsed:  8.9min\n"
     ]
    },
    {
     "name": "stdout",
     "output_type": "stream",
     "text": [
      "building tree 269 of 1000\n",
      "building tree 270 of 1000\n"
     ]
    },
    {
     "name": "stderr",
     "output_type": "stream",
     "text": [
      "[Parallel(n_jobs=-1)]: Done 267 tasks      | elapsed:  9.0min\n"
     ]
    },
    {
     "name": "stdout",
     "output_type": "stream",
     "text": [
      "building tree 271 of 1000\n"
     ]
    },
    {
     "name": "stderr",
     "output_type": "stream",
     "text": [
      "[Parallel(n_jobs=-1)]: Done 268 tasks      | elapsed:  9.0min\n"
     ]
    },
    {
     "name": "stdout",
     "output_type": "stream",
     "text": [
      "building tree 272 of 1000\n"
     ]
    },
    {
     "name": "stderr",
     "output_type": "stream",
     "text": [
      "[Parallel(n_jobs=-1)]: Done 269 tasks      | elapsed:  9.1min\n",
      "[Parallel(n_jobs=-1)]: Done 270 tasks      | elapsed:  9.1min\n"
     ]
    },
    {
     "name": "stdout",
     "output_type": "stream",
     "text": [
      "building tree 273 of 1000\n",
      "building tree 274 of 1000\n"
     ]
    },
    {
     "name": "stderr",
     "output_type": "stream",
     "text": [
      "[Parallel(n_jobs=-1)]: Done 271 tasks      | elapsed:  9.1min\n"
     ]
    },
    {
     "name": "stdout",
     "output_type": "stream",
     "text": [
      "building tree 275 of 1000\n"
     ]
    },
    {
     "name": "stderr",
     "output_type": "stream",
     "text": [
      "[Parallel(n_jobs=-1)]: Done 272 tasks      | elapsed:  9.1min\n"
     ]
    },
    {
     "name": "stdout",
     "output_type": "stream",
     "text": [
      "building tree 276 of 1000\n"
     ]
    },
    {
     "name": "stderr",
     "output_type": "stream",
     "text": [
      "[Parallel(n_jobs=-1)]: Done 273 tasks      | elapsed:  9.2min\n",
      "[Parallel(n_jobs=-1)]: Done 274 tasks      | elapsed:  9.2min\n"
     ]
    },
    {
     "name": "stdout",
     "output_type": "stream",
     "text": [
      "building tree 277 of 1000\n",
      "building tree 278 of 1000\n"
     ]
    },
    {
     "name": "stderr",
     "output_type": "stream",
     "text": [
      "[Parallel(n_jobs=-1)]: Done 275 tasks      | elapsed:  9.2min\n"
     ]
    },
    {
     "name": "stdout",
     "output_type": "stream",
     "text": [
      "building tree 279 of 1000\n"
     ]
    },
    {
     "name": "stderr",
     "output_type": "stream",
     "text": [
      "[Parallel(n_jobs=-1)]: Done 276 tasks      | elapsed:  9.2min\n"
     ]
    },
    {
     "name": "stdout",
     "output_type": "stream",
     "text": [
      "building tree 280 of 1000\n"
     ]
    },
    {
     "name": "stderr",
     "output_type": "stream",
     "text": [
      "[Parallel(n_jobs=-1)]: Done 277 tasks      | elapsed:  9.3min\n",
      "[Parallel(n_jobs=-1)]: Done 278 tasks      | elapsed:  9.3min\n"
     ]
    },
    {
     "name": "stdout",
     "output_type": "stream",
     "text": [
      "building tree 281 of 1000\n",
      "building tree 282 of 1000\n",
      "building tree 283 of 1000\n"
     ]
    },
    {
     "name": "stderr",
     "output_type": "stream",
     "text": [
      "[Parallel(n_jobs=-1)]: Done 279 tasks      | elapsed:  9.3min\n",
      "[Parallel(n_jobs=-1)]: Done 280 tasks      | elapsed:  9.3min\n"
     ]
    },
    {
     "name": "stdout",
     "output_type": "stream",
     "text": [
      "building tree 284 of 1000\n"
     ]
    },
    {
     "name": "stderr",
     "output_type": "stream",
     "text": [
      "[Parallel(n_jobs=-1)]: Done 281 tasks      | elapsed:  9.4min\n",
      "[Parallel(n_jobs=-1)]: Done 282 tasks      | elapsed:  9.4min\n"
     ]
    },
    {
     "name": "stdout",
     "output_type": "stream",
     "text": [
      "building tree 285 of 1000\n",
      "building tree 286 of 1000\n"
     ]
    },
    {
     "name": "stderr",
     "output_type": "stream",
     "text": [
      "[Parallel(n_jobs=-1)]: Done 283 tasks      | elapsed:  9.5min\n"
     ]
    },
    {
     "name": "stdout",
     "output_type": "stream",
     "text": [
      "building tree 287 of 1000\n"
     ]
    },
    {
     "name": "stderr",
     "output_type": "stream",
     "text": [
      "[Parallel(n_jobs=-1)]: Done 284 tasks      | elapsed:  9.5min\n"
     ]
    },
    {
     "name": "stdout",
     "output_type": "stream",
     "text": [
      "building tree 288 of 1000\n"
     ]
    },
    {
     "name": "stderr",
     "output_type": "stream",
     "text": [
      "[Parallel(n_jobs=-1)]: Done 285 tasks      | elapsed:  9.6min\n",
      "[Parallel(n_jobs=-1)]: Done 286 tasks      | elapsed:  9.6min\n"
     ]
    },
    {
     "name": "stdout",
     "output_type": "stream",
     "text": [
      "building tree 289 of 1000\n",
      "building tree 290 of 1000\n"
     ]
    },
    {
     "name": "stderr",
     "output_type": "stream",
     "text": [
      "[Parallel(n_jobs=-1)]: Done 287 tasks      | elapsed:  9.6min\n"
     ]
    },
    {
     "name": "stdout",
     "output_type": "stream",
     "text": [
      "building tree 291 of 1000\n"
     ]
    },
    {
     "name": "stderr",
     "output_type": "stream",
     "text": [
      "[Parallel(n_jobs=-1)]: Done 288 tasks      | elapsed:  9.6min\n"
     ]
    },
    {
     "name": "stdout",
     "output_type": "stream",
     "text": [
      "building tree 292 of 1000\n"
     ]
    },
    {
     "name": "stderr",
     "output_type": "stream",
     "text": [
      "[Parallel(n_jobs=-1)]: Done 289 tasks      | elapsed:  9.7min\n",
      "[Parallel(n_jobs=-1)]: Done 290 tasks      | elapsed:  9.7min\n"
     ]
    },
    {
     "name": "stdout",
     "output_type": "stream",
     "text": [
      "building tree 293 of 1000\n",
      "building tree 294 of 1000\n"
     ]
    },
    {
     "name": "stderr",
     "output_type": "stream",
     "text": [
      "[Parallel(n_jobs=-1)]: Done 291 tasks      | elapsed:  9.8min\n"
     ]
    },
    {
     "name": "stdout",
     "output_type": "stream",
     "text": [
      "building tree 295 of 1000\n"
     ]
    },
    {
     "name": "stderr",
     "output_type": "stream",
     "text": [
      "[Parallel(n_jobs=-1)]: Done 292 tasks      | elapsed:  9.8min\n"
     ]
    },
    {
     "name": "stdout",
     "output_type": "stream",
     "text": [
      "building tree 296 of 1000\n"
     ]
    },
    {
     "name": "stderr",
     "output_type": "stream",
     "text": [
      "[Parallel(n_jobs=-1)]: Done 293 tasks      | elapsed:  9.9min\n"
     ]
    },
    {
     "name": "stdout",
     "output_type": "stream",
     "text": [
      "building tree 297 of 1000\n",
      "building tree 298 of 1000\n"
     ]
    },
    {
     "name": "stderr",
     "output_type": "stream",
     "text": [
      "[Parallel(n_jobs=-1)]: Done 294 tasks      | elapsed:  9.9min\n",
      "[Parallel(n_jobs=-1)]: Done 295 tasks      | elapsed:  9.9min\n"
     ]
    },
    {
     "name": "stdout",
     "output_type": "stream",
     "text": [
      "building tree 299 of 1000\n"
     ]
    },
    {
     "name": "stderr",
     "output_type": "stream",
     "text": [
      "[Parallel(n_jobs=-1)]: Done 296 tasks      | elapsed:  9.9min\n"
     ]
    },
    {
     "name": "stdout",
     "output_type": "stream",
     "text": [
      "building tree 300 of 1000\n"
     ]
    },
    {
     "name": "stderr",
     "output_type": "stream",
     "text": [
      "[Parallel(n_jobs=-1)]: Done 297 tasks      | elapsed: 10.0min\n"
     ]
    },
    {
     "name": "stdout",
     "output_type": "stream",
     "text": [
      "building tree 301 of 1000\n"
     ]
    },
    {
     "name": "stderr",
     "output_type": "stream",
     "text": [
      "[Parallel(n_jobs=-1)]: Done 298 tasks      | elapsed: 10.0min\n"
     ]
    },
    {
     "name": "stdout",
     "output_type": "stream",
     "text": [
      "building tree 302 of 1000\n"
     ]
    },
    {
     "name": "stderr",
     "output_type": "stream",
     "text": [
      "[Parallel(n_jobs=-1)]: Done 299 tasks      | elapsed: 10.0min\n"
     ]
    },
    {
     "name": "stdout",
     "output_type": "stream",
     "text": [
      "building tree 303 of 1000\n"
     ]
    },
    {
     "name": "stderr",
     "output_type": "stream",
     "text": [
      "[Parallel(n_jobs=-1)]: Done 300 tasks      | elapsed: 10.0min\n"
     ]
    },
    {
     "name": "stdout",
     "output_type": "stream",
     "text": [
      "building tree 304 of 1000\n"
     ]
    },
    {
     "name": "stderr",
     "output_type": "stream",
     "text": [
      "[Parallel(n_jobs=-1)]: Done 301 tasks      | elapsed: 10.1min\n"
     ]
    },
    {
     "name": "stdout",
     "output_type": "stream",
     "text": [
      "building tree 305 of 1000\n"
     ]
    },
    {
     "name": "stderr",
     "output_type": "stream",
     "text": [
      "[Parallel(n_jobs=-1)]: Done 302 tasks      | elapsed: 10.1min\n"
     ]
    },
    {
     "name": "stdout",
     "output_type": "stream",
     "text": [
      "building tree 306 of 1000\n"
     ]
    },
    {
     "name": "stderr",
     "output_type": "stream",
     "text": [
      "[Parallel(n_jobs=-1)]: Done 303 tasks      | elapsed: 10.2min\n"
     ]
    },
    {
     "name": "stdout",
     "output_type": "stream",
     "text": [
      "building tree 307 of 1000\n"
     ]
    },
    {
     "name": "stderr",
     "output_type": "stream",
     "text": [
      "[Parallel(n_jobs=-1)]: Done 304 tasks      | elapsed: 10.2min\n"
     ]
    },
    {
     "name": "stdout",
     "output_type": "stream",
     "text": [
      "building tree 308 of 1000\n"
     ]
    },
    {
     "name": "stderr",
     "output_type": "stream",
     "text": [
      "[Parallel(n_jobs=-1)]: Done 305 tasks      | elapsed: 10.3min\n"
     ]
    },
    {
     "name": "stdout",
     "output_type": "stream",
     "text": [
      "building tree 309 of 1000\n"
     ]
    },
    {
     "name": "stderr",
     "output_type": "stream",
     "text": [
      "[Parallel(n_jobs=-1)]: Done 306 tasks      | elapsed: 10.3min\n"
     ]
    },
    {
     "name": "stdout",
     "output_type": "stream",
     "text": [
      "building tree 310 of 1000\n"
     ]
    },
    {
     "name": "stderr",
     "output_type": "stream",
     "text": [
      "[Parallel(n_jobs=-1)]: Done 307 tasks      | elapsed: 10.3min\n"
     ]
    },
    {
     "name": "stdout",
     "output_type": "stream",
     "text": [
      "building tree 311 of 1000\n"
     ]
    },
    {
     "name": "stderr",
     "output_type": "stream",
     "text": [
      "[Parallel(n_jobs=-1)]: Done 308 tasks      | elapsed: 10.3min\n"
     ]
    },
    {
     "name": "stdout",
     "output_type": "stream",
     "text": [
      "building tree 312 of 1000\n"
     ]
    },
    {
     "name": "stderr",
     "output_type": "stream",
     "text": [
      "[Parallel(n_jobs=-1)]: Done 309 tasks      | elapsed: 10.4min\n"
     ]
    },
    {
     "name": "stdout",
     "output_type": "stream",
     "text": [
      "building tree 313 of 1000\n"
     ]
    },
    {
     "name": "stderr",
     "output_type": "stream",
     "text": [
      "[Parallel(n_jobs=-1)]: Done 310 tasks      | elapsed: 10.4min\n"
     ]
    },
    {
     "name": "stdout",
     "output_type": "stream",
     "text": [
      "building tree 314 of 1000\n",
      "building tree 315 of 1000\n"
     ]
    },
    {
     "name": "stderr",
     "output_type": "stream",
     "text": [
      "[Parallel(n_jobs=-1)]: Done 311 tasks      | elapsed: 10.4min\n",
      "[Parallel(n_jobs=-1)]: Done 312 tasks      | elapsed: 10.4min\n"
     ]
    },
    {
     "name": "stdout",
     "output_type": "stream",
     "text": [
      "building tree 316 of 1000\n"
     ]
    },
    {
     "name": "stderr",
     "output_type": "stream",
     "text": [
      "[Parallel(n_jobs=-1)]: Done 313 tasks      | elapsed: 10.5min\n"
     ]
    },
    {
     "name": "stdout",
     "output_type": "stream",
     "text": [
      "building tree 317 of 1000\n"
     ]
    },
    {
     "name": "stderr",
     "output_type": "stream",
     "text": [
      "[Parallel(n_jobs=-1)]: Done 314 tasks      | elapsed: 10.5min\n"
     ]
    },
    {
     "name": "stdout",
     "output_type": "stream",
     "text": [
      "building tree 318 of 1000\n"
     ]
    },
    {
     "name": "stderr",
     "output_type": "stream",
     "text": [
      "[Parallel(n_jobs=-1)]: Done 315 tasks      | elapsed: 10.5min\n"
     ]
    },
    {
     "name": "stdout",
     "output_type": "stream",
     "text": [
      "building tree 319 of 1000\n"
     ]
    },
    {
     "name": "stderr",
     "output_type": "stream",
     "text": [
      "[Parallel(n_jobs=-1)]: Done 316 tasks      | elapsed: 10.5min\n"
     ]
    },
    {
     "name": "stdout",
     "output_type": "stream",
     "text": [
      "building tree 320 of 1000\n"
     ]
    },
    {
     "name": "stderr",
     "output_type": "stream",
     "text": [
      "[Parallel(n_jobs=-1)]: Done 317 tasks      | elapsed: 10.6min\n"
     ]
    },
    {
     "name": "stdout",
     "output_type": "stream",
     "text": [
      "building tree 321 of 1000\n"
     ]
    },
    {
     "name": "stderr",
     "output_type": "stream",
     "text": [
      "[Parallel(n_jobs=-1)]: Done 318 tasks      | elapsed: 10.6min\n"
     ]
    },
    {
     "name": "stdout",
     "output_type": "stream",
     "text": [
      "building tree 322 of 1000\n"
     ]
    },
    {
     "name": "stderr",
     "output_type": "stream",
     "text": [
      "[Parallel(n_jobs=-1)]: Done 319 tasks      | elapsed: 10.6min\n"
     ]
    },
    {
     "name": "stdout",
     "output_type": "stream",
     "text": [
      "building tree 323 of 1000\n"
     ]
    },
    {
     "name": "stderr",
     "output_type": "stream",
     "text": [
      "[Parallel(n_jobs=-1)]: Done 320 tasks      | elapsed: 10.7min\n"
     ]
    },
    {
     "name": "stdout",
     "output_type": "stream",
     "text": [
      "building tree 324 of 1000\n"
     ]
    },
    {
     "name": "stderr",
     "output_type": "stream",
     "text": [
      "[Parallel(n_jobs=-1)]: Done 321 tasks      | elapsed: 10.7min\n"
     ]
    },
    {
     "name": "stdout",
     "output_type": "stream",
     "text": [
      "building tree 325 of 1000\n"
     ]
    },
    {
     "name": "stderr",
     "output_type": "stream",
     "text": [
      "[Parallel(n_jobs=-1)]: Done 322 tasks      | elapsed: 10.8min\n"
     ]
    },
    {
     "name": "stdout",
     "output_type": "stream",
     "text": [
      "building tree 326 of 1000\n"
     ]
    },
    {
     "name": "stderr",
     "output_type": "stream",
     "text": [
      "[Parallel(n_jobs=-1)]: Done 323 tasks      | elapsed: 10.8min\n"
     ]
    },
    {
     "name": "stdout",
     "output_type": "stream",
     "text": [
      "building tree 327 of 1000\n"
     ]
    },
    {
     "name": "stderr",
     "output_type": "stream",
     "text": [
      "[Parallel(n_jobs=-1)]: Done 324 tasks      | elapsed: 10.8min\n"
     ]
    },
    {
     "name": "stdout",
     "output_type": "stream",
     "text": [
      "building tree 328 of 1000\n"
     ]
    },
    {
     "name": "stderr",
     "output_type": "stream",
     "text": [
      "[Parallel(n_jobs=-1)]: Done 325 tasks      | elapsed: 10.9min\n"
     ]
    },
    {
     "name": "stdout",
     "output_type": "stream",
     "text": [
      "building tree 329 of 1000\n"
     ]
    },
    {
     "name": "stderr",
     "output_type": "stream",
     "text": [
      "[Parallel(n_jobs=-1)]: Done 326 tasks      | elapsed: 10.9min\n"
     ]
    },
    {
     "name": "stdout",
     "output_type": "stream",
     "text": [
      "building tree 330 of 1000\n",
      "building tree 331 of 1000\n"
     ]
    },
    {
     "name": "stderr",
     "output_type": "stream",
     "text": [
      "[Parallel(n_jobs=-1)]: Done 327 tasks      | elapsed: 10.9min\n",
      "[Parallel(n_jobs=-1)]: Done 328 tasks      | elapsed: 10.9min\n"
     ]
    },
    {
     "name": "stdout",
     "output_type": "stream",
     "text": [
      "building tree 332 of 1000\n"
     ]
    },
    {
     "name": "stderr",
     "output_type": "stream",
     "text": [
      "[Parallel(n_jobs=-1)]: Done 329 tasks      | elapsed: 11.0min\n"
     ]
    },
    {
     "name": "stdout",
     "output_type": "stream",
     "text": [
      "building tree 333 of 1000\n"
     ]
    },
    {
     "name": "stderr",
     "output_type": "stream",
     "text": [
      "[Parallel(n_jobs=-1)]: Done 330 tasks      | elapsed: 11.0min\n"
     ]
    },
    {
     "name": "stdout",
     "output_type": "stream",
     "text": [
      "building tree 334 of 1000\n"
     ]
    },
    {
     "name": "stderr",
     "output_type": "stream",
     "text": [
      "[Parallel(n_jobs=-1)]: Done 331 tasks      | elapsed: 11.0min\n"
     ]
    },
    {
     "name": "stdout",
     "output_type": "stream",
     "text": [
      "building tree 335 of 1000\n"
     ]
    },
    {
     "name": "stderr",
     "output_type": "stream",
     "text": [
      "[Parallel(n_jobs=-1)]: Done 332 tasks      | elapsed: 11.0min\n"
     ]
    },
    {
     "name": "stdout",
     "output_type": "stream",
     "text": [
      "building tree 336 of 1000\n"
     ]
    },
    {
     "name": "stderr",
     "output_type": "stream",
     "text": [
      "[Parallel(n_jobs=-1)]: Done 333 tasks      | elapsed: 11.1min\n"
     ]
    },
    {
     "name": "stdout",
     "output_type": "stream",
     "text": [
      "building tree 337 of 1000\n"
     ]
    },
    {
     "name": "stderr",
     "output_type": "stream",
     "text": [
      "[Parallel(n_jobs=-1)]: Done 334 tasks      | elapsed: 11.1min\n"
     ]
    },
    {
     "name": "stdout",
     "output_type": "stream",
     "text": [
      "building tree 338 of 1000\n"
     ]
    },
    {
     "name": "stderr",
     "output_type": "stream",
     "text": [
      "[Parallel(n_jobs=-1)]: Done 335 tasks      | elapsed: 11.1min\n"
     ]
    },
    {
     "name": "stdout",
     "output_type": "stream",
     "text": [
      "building tree 339 of 1000\n"
     ]
    },
    {
     "name": "stderr",
     "output_type": "stream",
     "text": [
      "[Parallel(n_jobs=-1)]: Done 336 tasks      | elapsed: 11.1min\n"
     ]
    },
    {
     "name": "stdout",
     "output_type": "stream",
     "text": [
      "building tree 340 of 1000\n"
     ]
    },
    {
     "name": "stderr",
     "output_type": "stream",
     "text": [
      "[Parallel(n_jobs=-1)]: Done 337 tasks      | elapsed: 11.2min\n"
     ]
    },
    {
     "name": "stdout",
     "output_type": "stream",
     "text": [
      "building tree 341 of 1000\n"
     ]
    },
    {
     "name": "stderr",
     "output_type": "stream",
     "text": [
      "[Parallel(n_jobs=-1)]: Done 338 tasks      | elapsed: 11.2min\n"
     ]
    },
    {
     "name": "stdout",
     "output_type": "stream",
     "text": [
      "building tree 342 of 1000\n"
     ]
    },
    {
     "name": "stderr",
     "output_type": "stream",
     "text": [
      "[Parallel(n_jobs=-1)]: Done 339 tasks      | elapsed: 11.3min\n"
     ]
    },
    {
     "name": "stdout",
     "output_type": "stream",
     "text": [
      "building tree 343 of 1000\n"
     ]
    },
    {
     "name": "stderr",
     "output_type": "stream",
     "text": [
      "[Parallel(n_jobs=-1)]: Done 340 tasks      | elapsed: 11.3min\n"
     ]
    },
    {
     "name": "stdout",
     "output_type": "stream",
     "text": [
      "building tree 344 of 1000\n"
     ]
    },
    {
     "name": "stderr",
     "output_type": "stream",
     "text": [
      "[Parallel(n_jobs=-1)]: Done 341 tasks      | elapsed: 11.4min\n"
     ]
    },
    {
     "name": "stdout",
     "output_type": "stream",
     "text": [
      "building tree 345 of 1000\n"
     ]
    },
    {
     "name": "stderr",
     "output_type": "stream",
     "text": [
      "[Parallel(n_jobs=-1)]: Done 342 tasks      | elapsed: 11.4min\n"
     ]
    },
    {
     "name": "stdout",
     "output_type": "stream",
     "text": [
      "building tree 346 of 1000\n",
      "building tree 347 of 1000\n"
     ]
    },
    {
     "name": "stderr",
     "output_type": "stream",
     "text": [
      "[Parallel(n_jobs=-1)]: Done 343 tasks      | elapsed: 11.4min\n",
      "[Parallel(n_jobs=-1)]: Done 344 tasks      | elapsed: 11.4min\n"
     ]
    },
    {
     "name": "stdout",
     "output_type": "stream",
     "text": [
      "building tree 348 of 1000\n"
     ]
    },
    {
     "name": "stderr",
     "output_type": "stream",
     "text": [
      "[Parallel(n_jobs=-1)]: Done 345 tasks      | elapsed: 11.5min\n"
     ]
    },
    {
     "name": "stdout",
     "output_type": "stream",
     "text": [
      "building tree 349 of 1000\n"
     ]
    },
    {
     "name": "stderr",
     "output_type": "stream",
     "text": [
      "[Parallel(n_jobs=-1)]: Done 346 tasks      | elapsed: 11.5min\n"
     ]
    },
    {
     "name": "stdout",
     "output_type": "stream",
     "text": [
      "building tree 350 of 1000\n"
     ]
    },
    {
     "name": "stderr",
     "output_type": "stream",
     "text": [
      "[Parallel(n_jobs=-1)]: Done 347 tasks      | elapsed: 11.5min\n",
      "[Parallel(n_jobs=-1)]: Done 348 tasks      | elapsed: 11.5min\n"
     ]
    },
    {
     "name": "stdout",
     "output_type": "stream",
     "text": [
      "building tree 351 of 1000\n",
      "building tree 352 of 1000\n"
     ]
    },
    {
     "name": "stderr",
     "output_type": "stream",
     "text": [
      "[Parallel(n_jobs=-1)]: Done 349 tasks      | elapsed: 11.6min\n"
     ]
    },
    {
     "name": "stdout",
     "output_type": "stream",
     "text": [
      "building tree 353 of 1000\n"
     ]
    },
    {
     "name": "stderr",
     "output_type": "stream",
     "text": [
      "[Parallel(n_jobs=-1)]: Done 350 tasks      | elapsed: 11.6min\n"
     ]
    },
    {
     "name": "stdout",
     "output_type": "stream",
     "text": [
      "building tree 354 of 1000\n"
     ]
    },
    {
     "name": "stderr",
     "output_type": "stream",
     "text": [
      "[Parallel(n_jobs=-1)]: Done 351 tasks      | elapsed: 11.6min\n",
      "[Parallel(n_jobs=-1)]: Done 352 tasks      | elapsed: 11.6min\n"
     ]
    },
    {
     "name": "stdout",
     "output_type": "stream",
     "text": [
      "building tree 355 of 1000\n",
      "building tree 356 of 1000\n"
     ]
    },
    {
     "name": "stderr",
     "output_type": "stream",
     "text": [
      "[Parallel(n_jobs=-1)]: Done 353 tasks      | elapsed: 11.7min\n"
     ]
    },
    {
     "name": "stdout",
     "output_type": "stream",
     "text": [
      "building tree 357 of 1000\n"
     ]
    },
    {
     "name": "stderr",
     "output_type": "stream",
     "text": [
      "[Parallel(n_jobs=-1)]: Done 354 tasks      | elapsed: 11.7min\n"
     ]
    },
    {
     "name": "stdout",
     "output_type": "stream",
     "text": [
      "building tree 358 of 1000\n"
     ]
    },
    {
     "name": "stderr",
     "output_type": "stream",
     "text": [
      "[Parallel(n_jobs=-1)]: Done 355 tasks      | elapsed: 11.8min\n",
      "[Parallel(n_jobs=-1)]: Done 356 tasks      | elapsed: 11.8min\n"
     ]
    },
    {
     "name": "stdout",
     "output_type": "stream",
     "text": [
      "building tree 359 of 1000\n",
      "building tree 360 of 1000\n"
     ]
    },
    {
     "name": "stderr",
     "output_type": "stream",
     "text": [
      "[Parallel(n_jobs=-1)]: Done 357 tasks      | elapsed: 11.9min\n"
     ]
    },
    {
     "name": "stdout",
     "output_type": "stream",
     "text": [
      "building tree 361 of 1000\n"
     ]
    },
    {
     "name": "stderr",
     "output_type": "stream",
     "text": [
      "[Parallel(n_jobs=-1)]: Done 358 tasks      | elapsed: 11.9min\n"
     ]
    },
    {
     "name": "stdout",
     "output_type": "stream",
     "text": [
      "building tree 362 of 1000\n"
     ]
    },
    {
     "name": "stderr",
     "output_type": "stream",
     "text": [
      "[Parallel(n_jobs=-1)]: Done 359 tasks      | elapsed: 11.9min\n",
      "[Parallel(n_jobs=-1)]: Done 360 tasks      | elapsed: 11.9min\n"
     ]
    },
    {
     "name": "stdout",
     "output_type": "stream",
     "text": [
      "building tree 363 of 1000\n",
      "building tree 364 of 1000\n"
     ]
    },
    {
     "name": "stderr",
     "output_type": "stream",
     "text": [
      "[Parallel(n_jobs=-1)]: Done 361 tasks      | elapsed: 12.0min\n"
     ]
    },
    {
     "name": "stdout",
     "output_type": "stream",
     "text": [
      "building tree 365 of 1000\n"
     ]
    },
    {
     "name": "stderr",
     "output_type": "stream",
     "text": [
      "[Parallel(n_jobs=-1)]: Done 362 tasks      | elapsed: 12.0min\n"
     ]
    },
    {
     "name": "stdout",
     "output_type": "stream",
     "text": [
      "building tree 366 of 1000\n"
     ]
    },
    {
     "name": "stderr",
     "output_type": "stream",
     "text": [
      "[Parallel(n_jobs=-1)]: Done 363 tasks      | elapsed: 12.0min\n",
      "[Parallel(n_jobs=-1)]: Done 364 tasks      | elapsed: 12.0min\n"
     ]
    },
    {
     "name": "stdout",
     "output_type": "stream",
     "text": [
      "building tree 367 of 1000\n",
      "building tree 368 of 1000\n"
     ]
    },
    {
     "name": "stderr",
     "output_type": "stream",
     "text": [
      "[Parallel(n_jobs=-1)]: Done 365 tasks      | elapsed: 12.1min\n"
     ]
    },
    {
     "name": "stdout",
     "output_type": "stream",
     "text": [
      "building tree 369 of 1000\n",
      "building tree 370 of 1000\n"
     ]
    },
    {
     "name": "stderr",
     "output_type": "stream",
     "text": [
      "[Parallel(n_jobs=-1)]: Done 366 tasks      | elapsed: 12.1min\n",
      "[Parallel(n_jobs=-1)]: Done 367 tasks      | elapsed: 12.1min\n",
      "[Parallel(n_jobs=-1)]: Done 368 tasks      | elapsed: 12.1min\n"
     ]
    },
    {
     "name": "stdout",
     "output_type": "stream",
     "text": [
      "building tree 371 of 1000\n",
      "building tree 372 of 1000\n",
      "building tree 373 of 1000\n",
      "building tree 374 of 1000"
     ]
    },
    {
     "name": "stderr",
     "output_type": "stream",
     "text": [
      "[Parallel(n_jobs=-1)]: Done 369 tasks      | elapsed: 12.2min\n",
      "[Parallel(n_jobs=-1)]: Done 370 tasks      | elapsed: 12.2min\n"
     ]
    },
    {
     "name": "stdout",
     "output_type": "stream",
     "text": [
      "\n"
     ]
    },
    {
     "name": "stderr",
     "output_type": "stream",
     "text": [
      "[Parallel(n_jobs=-1)]: Done 371 tasks      | elapsed: 12.2min\n",
      "[Parallel(n_jobs=-1)]: Done 372 tasks      | elapsed: 12.3min\n"
     ]
    },
    {
     "name": "stdout",
     "output_type": "stream",
     "text": [
      "building tree 375 of 1000\n",
      "building tree 376 of 1000\n"
     ]
    },
    {
     "name": "stderr",
     "output_type": "stream",
     "text": [
      "[Parallel(n_jobs=-1)]: Done 373 tasks      | elapsed: 12.3min\n"
     ]
    },
    {
     "name": "stdout",
     "output_type": "stream",
     "text": [
      "building tree 377 of 1000\n"
     ]
    },
    {
     "name": "stderr",
     "output_type": "stream",
     "text": [
      "[Parallel(n_jobs=-1)]: Done 374 tasks      | elapsed: 12.3min\n"
     ]
    },
    {
     "name": "stdout",
     "output_type": "stream",
     "text": [
      "building tree 378 of 1000\n"
     ]
    },
    {
     "name": "stderr",
     "output_type": "stream",
     "text": [
      "[Parallel(n_jobs=-1)]: Done 375 tasks      | elapsed: 12.4min\n",
      "[Parallel(n_jobs=-1)]: Done 376 tasks      | elapsed: 12.4min\n"
     ]
    },
    {
     "name": "stdout",
     "output_type": "stream",
     "text": [
      "building tree 379 of 1000\n",
      "building tree 380 of 1000\n"
     ]
    },
    {
     "name": "stderr",
     "output_type": "stream",
     "text": [
      "[Parallel(n_jobs=-1)]: Done 377 tasks      | elapsed: 12.5min\n"
     ]
    },
    {
     "name": "stdout",
     "output_type": "stream",
     "text": [
      "building tree 381 of 1000\n"
     ]
    },
    {
     "name": "stderr",
     "output_type": "stream",
     "text": [
      "[Parallel(n_jobs=-1)]: Done 378 tasks      | elapsed: 12.5min\n"
     ]
    },
    {
     "name": "stdout",
     "output_type": "stream",
     "text": [
      "building tree 382 of 1000\n"
     ]
    },
    {
     "name": "stderr",
     "output_type": "stream",
     "text": [
      "[Parallel(n_jobs=-1)]: Done 379 tasks      | elapsed: 12.5min\n",
      "[Parallel(n_jobs=-1)]: Done 380 tasks      | elapsed: 12.5min\n"
     ]
    },
    {
     "name": "stdout",
     "output_type": "stream",
     "text": [
      "building tree 383 of 1000\n",
      "building tree 384 of 1000\n"
     ]
    },
    {
     "name": "stderr",
     "output_type": "stream",
     "text": [
      "[Parallel(n_jobs=-1)]: Done 381 tasks      | elapsed: 12.6min\n"
     ]
    },
    {
     "name": "stdout",
     "output_type": "stream",
     "text": [
      "building tree 385 of 1000\n"
     ]
    },
    {
     "name": "stderr",
     "output_type": "stream",
     "text": [
      "[Parallel(n_jobs=-1)]: Done 382 tasks      | elapsed: 12.6min\n"
     ]
    },
    {
     "name": "stdout",
     "output_type": "stream",
     "text": [
      "building tree 386 of 1000\n"
     ]
    },
    {
     "name": "stderr",
     "output_type": "stream",
     "text": [
      "[Parallel(n_jobs=-1)]: Done 383 tasks      | elapsed: 12.6min\n",
      "[Parallel(n_jobs=-1)]: Done 384 tasks      | elapsed: 12.6min\n"
     ]
    },
    {
     "name": "stdout",
     "output_type": "stream",
     "text": [
      "building tree 387 of 1000\n",
      "building tree 388 of 1000\n"
     ]
    },
    {
     "name": "stderr",
     "output_type": "stream",
     "text": [
      "[Parallel(n_jobs=-1)]: Done 385 tasks      | elapsed: 12.7min\n"
     ]
    },
    {
     "name": "stdout",
     "output_type": "stream",
     "text": [
      "building tree 389 of 1000\n"
     ]
    },
    {
     "name": "stderr",
     "output_type": "stream",
     "text": [
      "[Parallel(n_jobs=-1)]: Done 386 tasks      | elapsed: 12.7min\n"
     ]
    },
    {
     "name": "stdout",
     "output_type": "stream",
     "text": [
      "building tree 390 of 1000\n"
     ]
    },
    {
     "name": "stderr",
     "output_type": "stream",
     "text": [
      "[Parallel(n_jobs=-1)]: Done 387 tasks      | elapsed: 12.7min\n",
      "[Parallel(n_jobs=-1)]: Done 388 tasks      | elapsed: 12.7min\n"
     ]
    },
    {
     "name": "stdout",
     "output_type": "stream",
     "text": [
      "building tree 391 of 1000\n",
      "building tree 392 of 1000\n"
     ]
    },
    {
     "name": "stderr",
     "output_type": "stream",
     "text": [
      "[Parallel(n_jobs=-1)]: Done 389 tasks      | elapsed: 12.8min\n",
      "[Parallel(n_jobs=-1)]: Done 390 tasks      | elapsed: 12.8min\n"
     ]
    },
    {
     "name": "stdout",
     "output_type": "stream",
     "text": [
      "building tree 393 of 1000\n",
      "building tree 394 of 1000\n"
     ]
    },
    {
     "name": "stderr",
     "output_type": "stream",
     "text": [
      "[Parallel(n_jobs=-1)]: Done 391 tasks      | elapsed: 12.9min\n",
      "[Parallel(n_jobs=-1)]: Done 392 tasks      | elapsed: 12.9min\n"
     ]
    },
    {
     "name": "stdout",
     "output_type": "stream",
     "text": [
      "building tree 395 of 1000\n",
      "building tree 396 of 1000\n"
     ]
    },
    {
     "name": "stderr",
     "output_type": "stream",
     "text": [
      "[Parallel(n_jobs=-1)]: Done 393 tasks      | elapsed: 12.9min\n",
      "[Parallel(n_jobs=-1)]: Done 394 tasks      | elapsed: 13.0min\n"
     ]
    },
    {
     "name": "stdout",
     "output_type": "stream",
     "text": [
      "building tree 397 of 1000\n",
      "building tree 398 of 1000\n",
      "building tree 399 of 1000\n",
      "building tree 400 of 1000\n"
     ]
    },
    {
     "name": "stderr",
     "output_type": "stream",
     "text": [
      "[Parallel(n_jobs=-1)]: Done 395 tasks      | elapsed: 13.0min\n",
      "[Parallel(n_jobs=-1)]: Done 396 tasks      | elapsed: 13.0min\n",
      "[Parallel(n_jobs=-1)]: Done 397 tasks      | elapsed: 13.1min\n",
      "[Parallel(n_jobs=-1)]: Done 398 tasks      | elapsed: 13.1min\n"
     ]
    },
    {
     "name": "stdout",
     "output_type": "stream",
     "text": [
      "building tree 401 of 1000\n",
      "building tree 402 of 1000\n"
     ]
    },
    {
     "name": "stderr",
     "output_type": "stream",
     "text": [
      "[Parallel(n_jobs=-1)]: Done 399 tasks      | elapsed: 13.1min\n",
      "[Parallel(n_jobs=-1)]: Done 400 tasks      | elapsed: 13.1min\n"
     ]
    },
    {
     "name": "stdout",
     "output_type": "stream",
     "text": [
      "building tree 403 of 1000\n",
      "building tree 404 of 1000\n"
     ]
    },
    {
     "name": "stderr",
     "output_type": "stream",
     "text": [
      "[Parallel(n_jobs=-1)]: Done 401 tasks      | elapsed: 13.2min\n",
      "[Parallel(n_jobs=-1)]: Done 402 tasks      | elapsed: 13.2min\n"
     ]
    },
    {
     "name": "stdout",
     "output_type": "stream",
     "text": [
      "building tree 405 of 1000\n",
      "building tree 406 of 1000\n"
     ]
    },
    {
     "name": "stderr",
     "output_type": "stream",
     "text": [
      "[Parallel(n_jobs=-1)]: Done 403 tasks      | elapsed: 13.2min\n",
      "[Parallel(n_jobs=-1)]: Done 404 tasks      | elapsed: 13.2min\n"
     ]
    },
    {
     "name": "stdout",
     "output_type": "stream",
     "text": [
      "building tree 407 of 1000\n",
      "building tree 408 of 1000\n"
     ]
    },
    {
     "name": "stderr",
     "output_type": "stream",
     "text": [
      "[Parallel(n_jobs=-1)]: Done 405 tasks      | elapsed: 13.3min\n"
     ]
    },
    {
     "name": "stdout",
     "output_type": "stream",
     "text": [
      "building tree 409 of 1000\n",
      "building tree 410 of 1000\n"
     ]
    },
    {
     "name": "stderr",
     "output_type": "stream",
     "text": [
      "[Parallel(n_jobs=-1)]: Done 406 tasks      | elapsed: 13.3min\n",
      "[Parallel(n_jobs=-1)]: Done 407 tasks      | elapsed: 13.3min\n",
      "[Parallel(n_jobs=-1)]: Done 408 tasks      | elapsed: 13.3min\n"
     ]
    },
    {
     "name": "stdout",
     "output_type": "stream",
     "text": [
      "building tree 411 of 1000\n",
      "building tree 412 of 1000\n"
     ]
    },
    {
     "name": "stderr",
     "output_type": "stream",
     "text": [
      "[Parallel(n_jobs=-1)]: Done 409 tasks      | elapsed: 13.4min\n"
     ]
    },
    {
     "name": "stdout",
     "output_type": "stream",
     "text": [
      "building tree 413 of 1000\n"
     ]
    },
    {
     "name": "stderr",
     "output_type": "stream",
     "text": [
      "[Parallel(n_jobs=-1)]: Done 410 tasks      | elapsed: 13.4min\n"
     ]
    },
    {
     "name": "stdout",
     "output_type": "stream",
     "text": [
      "building tree 414 of 1000\n"
     ]
    },
    {
     "name": "stderr",
     "output_type": "stream",
     "text": [
      "[Parallel(n_jobs=-1)]: Done 411 tasks      | elapsed: 13.5min\n",
      "[Parallel(n_jobs=-1)]: Done 412 tasks      | elapsed: 13.5min\n"
     ]
    },
    {
     "name": "stdout",
     "output_type": "stream",
     "text": [
      "building tree 415 of 1000\n",
      "building tree 416 of 1000\n"
     ]
    },
    {
     "name": "stderr",
     "output_type": "stream",
     "text": [
      "[Parallel(n_jobs=-1)]: Done 413 tasks      | elapsed: 13.6min\n"
     ]
    },
    {
     "name": "stdout",
     "output_type": "stream",
     "text": [
      "building tree 417 of 1000\n"
     ]
    },
    {
     "name": "stderr",
     "output_type": "stream",
     "text": [
      "[Parallel(n_jobs=-1)]: Done 414 tasks      | elapsed: 13.6min\n"
     ]
    },
    {
     "name": "stdout",
     "output_type": "stream",
     "text": [
      "building tree 418 of 1000\n"
     ]
    },
    {
     "name": "stderr",
     "output_type": "stream",
     "text": [
      "[Parallel(n_jobs=-1)]: Done 415 tasks      | elapsed: 13.6min\n",
      "[Parallel(n_jobs=-1)]: Done 416 tasks      | elapsed: 13.6min\n"
     ]
    },
    {
     "name": "stdout",
     "output_type": "stream",
     "text": [
      "building tree 419 of 1000\n",
      "building tree 420 of 1000\n"
     ]
    },
    {
     "name": "stderr",
     "output_type": "stream",
     "text": [
      "[Parallel(n_jobs=-1)]: Done 417 tasks      | elapsed: 13.7min\n"
     ]
    },
    {
     "name": "stdout",
     "output_type": "stream",
     "text": [
      "building tree 421 of 1000\n"
     ]
    },
    {
     "name": "stderr",
     "output_type": "stream",
     "text": [
      "[Parallel(n_jobs=-1)]: Done 418 tasks      | elapsed: 13.7min\n"
     ]
    },
    {
     "name": "stdout",
     "output_type": "stream",
     "text": [
      "building tree 422 of 1000\n"
     ]
    },
    {
     "name": "stderr",
     "output_type": "stream",
     "text": [
      "[Parallel(n_jobs=-1)]: Done 419 tasks      | elapsed: 13.7min\n",
      "[Parallel(n_jobs=-1)]: Done 420 tasks      | elapsed: 13.7min\n"
     ]
    },
    {
     "name": "stdout",
     "output_type": "stream",
     "text": [
      "building tree 423 of 1000\n",
      "building tree 424 of 1000\n"
     ]
    },
    {
     "name": "stderr",
     "output_type": "stream",
     "text": [
      "[Parallel(n_jobs=-1)]: Done 421 tasks      | elapsed: 13.8min\n"
     ]
    },
    {
     "name": "stdout",
     "output_type": "stream",
     "text": [
      "building tree 425 of 1000\n",
      "building tree 426 of 1000\n"
     ]
    },
    {
     "name": "stderr",
     "output_type": "stream",
     "text": [
      "[Parallel(n_jobs=-1)]: Done 422 tasks      | elapsed: 13.8min\n",
      "[Parallel(n_jobs=-1)]: Done 423 tasks      | elapsed: 13.8min\n",
      "[Parallel(n_jobs=-1)]: Done 424 tasks      | elapsed: 13.8min\n"
     ]
    },
    {
     "name": "stdout",
     "output_type": "stream",
     "text": [
      "building tree 427 of 1000\n",
      "building tree 428 of 1000\n"
     ]
    },
    {
     "name": "stderr",
     "output_type": "stream",
     "text": [
      "[Parallel(n_jobs=-1)]: Done 425 tasks      | elapsed: 13.9min\n"
     ]
    },
    {
     "name": "stdout",
     "output_type": "stream",
     "text": [
      "building tree 429 of 1000\n"
     ]
    },
    {
     "name": "stderr",
     "output_type": "stream",
     "text": [
      "[Parallel(n_jobs=-1)]: Done 426 tasks      | elapsed: 13.9min\n"
     ]
    },
    {
     "name": "stdout",
     "output_type": "stream",
     "text": [
      "building tree 430 of 1000\n"
     ]
    },
    {
     "name": "stderr",
     "output_type": "stream",
     "text": [
      "[Parallel(n_jobs=-1)]: Done 427 tasks      | elapsed: 14.0min\n",
      "[Parallel(n_jobs=-1)]: Done 428 tasks      | elapsed: 14.0min\n"
     ]
    },
    {
     "name": "stdout",
     "output_type": "stream",
     "text": [
      "building tree 431 of 1000\n",
      "building tree 432 of 1000\n"
     ]
    },
    {
     "name": "stderr",
     "output_type": "stream",
     "text": [
      "[Parallel(n_jobs=-1)]: Done 429 tasks      | elapsed: 14.0min\n"
     ]
    },
    {
     "name": "stdout",
     "output_type": "stream",
     "text": [
      "building tree 433 of 1000\n"
     ]
    },
    {
     "name": "stderr",
     "output_type": "stream",
     "text": [
      "[Parallel(n_jobs=-1)]: Done 430 tasks      | elapsed: 14.0min\n"
     ]
    },
    {
     "name": "stdout",
     "output_type": "stream",
     "text": [
      "building tree 434 of 1000\n"
     ]
    },
    {
     "name": "stderr",
     "output_type": "stream",
     "text": [
      "[Parallel(n_jobs=-1)]: Done 431 tasks      | elapsed: 14.1min\n"
     ]
    },
    {
     "name": "stdout",
     "output_type": "stream",
     "text": [
      "building tree 435 of 1000\n"
     ]
    },
    {
     "name": "stderr",
     "output_type": "stream",
     "text": [
      "[Parallel(n_jobs=-1)]: Done 432 tasks      | elapsed: 14.1min\n"
     ]
    },
    {
     "name": "stdout",
     "output_type": "stream",
     "text": [
      "building tree 436 of 1000\n",
      "building tree 437 of 1000\n"
     ]
    },
    {
     "name": "stderr",
     "output_type": "stream",
     "text": [
      "[Parallel(n_jobs=-1)]: Done 433 tasks      | elapsed: 14.2min\n",
      "[Parallel(n_jobs=-1)]: Done 434 tasks      | elapsed: 14.2min\n"
     ]
    },
    {
     "name": "stdout",
     "output_type": "stream",
     "text": [
      "building tree 438 of 1000\n"
     ]
    },
    {
     "name": "stderr",
     "output_type": "stream",
     "text": [
      "[Parallel(n_jobs=-1)]: Done 435 tasks      | elapsed: 14.2min\n"
     ]
    },
    {
     "name": "stdout",
     "output_type": "stream",
     "text": [
      "building tree 439 of 1000\n"
     ]
    },
    {
     "name": "stderr",
     "output_type": "stream",
     "text": [
      "[Parallel(n_jobs=-1)]: Done 436 tasks      | elapsed: 14.3min\n"
     ]
    },
    {
     "name": "stdout",
     "output_type": "stream",
     "text": [
      "building tree 440 of 1000\n"
     ]
    },
    {
     "name": "stderr",
     "output_type": "stream",
     "text": [
      "[Parallel(n_jobs=-1)]: Done 437 tasks      | elapsed: 14.4min\n",
      "[Parallel(n_jobs=-1)]: Done 438 tasks      | elapsed: 14.4min\n"
     ]
    },
    {
     "name": "stdout",
     "output_type": "stream",
     "text": [
      "building tree 441 of 1000\n",
      "building tree 442 of 1000\n"
     ]
    },
    {
     "name": "stderr",
     "output_type": "stream",
     "text": [
      "[Parallel(n_jobs=-1)]: Done 439 tasks      | elapsed: 14.4min\n"
     ]
    },
    {
     "name": "stdout",
     "output_type": "stream",
     "text": [
      "building tree 443 of 1000\n",
      "building tree 444 of 1000\n"
     ]
    },
    {
     "name": "stderr",
     "output_type": "stream",
     "text": [
      "[Parallel(n_jobs=-1)]: Done 440 tasks      | elapsed: 14.4min\n",
      "[Parallel(n_jobs=-1)]: Done 441 tasks      | elapsed: 14.5min\n",
      "[Parallel(n_jobs=-1)]: Done 442 tasks      | elapsed: 14.5min\n"
     ]
    },
    {
     "name": "stdout",
     "output_type": "stream",
     "text": [
      "building tree 445 of 1000\n",
      "building tree 446 of 1000\n",
      "building tree 447 of 1000\n"
     ]
    },
    {
     "name": "stderr",
     "output_type": "stream",
     "text": [
      "[Parallel(n_jobs=-1)]: Done 443 tasks      | elapsed: 14.5min\n",
      "[Parallel(n_jobs=-1)]: Done 444 tasks      | elapsed: 14.5min\n"
     ]
    },
    {
     "name": "stdout",
     "output_type": "stream",
     "text": [
      "building tree 448 of 1000\n"
     ]
    },
    {
     "name": "stderr",
     "output_type": "stream",
     "text": [
      "[Parallel(n_jobs=-1)]: Done 445 tasks      | elapsed: 14.6min\n",
      "[Parallel(n_jobs=-1)]: Done 446 tasks      | elapsed: 14.6min\n"
     ]
    },
    {
     "name": "stdout",
     "output_type": "stream",
     "text": [
      "building tree 449 of 1000\n",
      "building tree 450 of 1000\n"
     ]
    },
    {
     "name": "stderr",
     "output_type": "stream",
     "text": [
      "[Parallel(n_jobs=-1)]: Done 447 tasks      | elapsed: 14.6min\n"
     ]
    },
    {
     "name": "stdout",
     "output_type": "stream",
     "text": [
      "building tree 451 of 1000\n"
     ]
    },
    {
     "name": "stderr",
     "output_type": "stream",
     "text": [
      "[Parallel(n_jobs=-1)]: Done 448 tasks      | elapsed: 14.6min\n"
     ]
    },
    {
     "name": "stdout",
     "output_type": "stream",
     "text": [
      "building tree 452 of 1000\n"
     ]
    },
    {
     "name": "stderr",
     "output_type": "stream",
     "text": [
      "[Parallel(n_jobs=-1)]: Done 449 tasks      | elapsed: 14.7min\n",
      "[Parallel(n_jobs=-1)]: Done 450 tasks      | elapsed: 14.7min\n"
     ]
    },
    {
     "name": "stdout",
     "output_type": "stream",
     "text": [
      "building tree 453 of 1000\n",
      "building tree 454 of 1000\n"
     ]
    },
    {
     "name": "stderr",
     "output_type": "stream",
     "text": [
      "[Parallel(n_jobs=-1)]: Done 451 tasks      | elapsed: 14.8min\n",
      "[Parallel(n_jobs=-1)]: Done 452 tasks      | elapsed: 14.8min\n"
     ]
    },
    {
     "name": "stdout",
     "output_type": "stream",
     "text": [
      "building tree 455 of 1000\n",
      "building tree 456 of 1000\n"
     ]
    },
    {
     "name": "stderr",
     "output_type": "stream",
     "text": [
      "[Parallel(n_jobs=-1)]: Done 453 tasks      | elapsed: 14.8min\n"
     ]
    },
    {
     "name": "stdout",
     "output_type": "stream",
     "text": [
      "building tree 457 of 1000\n"
     ]
    },
    {
     "name": "stderr",
     "output_type": "stream",
     "text": [
      "[Parallel(n_jobs=-1)]: Done 454 tasks      | elapsed: 14.8min\n"
     ]
    },
    {
     "name": "stdout",
     "output_type": "stream",
     "text": [
      "building tree 458 of 1000\n"
     ]
    },
    {
     "name": "stderr",
     "output_type": "stream",
     "text": [
      "[Parallel(n_jobs=-1)]: Done 455 tasks      | elapsed: 14.9min\n"
     ]
    },
    {
     "name": "stdout",
     "output_type": "stream",
     "text": [
      "building tree 459 of 1000\n",
      "building tree 460 of 1000\n"
     ]
    },
    {
     "name": "stderr",
     "output_type": "stream",
     "text": [
      "[Parallel(n_jobs=-1)]: Done 456 tasks      | elapsed: 14.9min\n",
      "[Parallel(n_jobs=-1)]: Done 457 tasks      | elapsed: 15.0min\n"
     ]
    },
    {
     "name": "stdout",
     "output_type": "stream",
     "text": [
      "building tree 461 of 1000\n"
     ]
    },
    {
     "name": "stderr",
     "output_type": "stream",
     "text": [
      "[Parallel(n_jobs=-1)]: Done 458 tasks      | elapsed: 15.0min\n"
     ]
    },
    {
     "name": "stdout",
     "output_type": "stream",
     "text": [
      "building tree 462 of 1000\n"
     ]
    },
    {
     "name": "stderr",
     "output_type": "stream",
     "text": [
      "[Parallel(n_jobs=-1)]: Done 459 tasks      | elapsed: 15.0min\n"
     ]
    },
    {
     "name": "stdout",
     "output_type": "stream",
     "text": [
      "building tree 463 of 1000\n"
     ]
    },
    {
     "name": "stderr",
     "output_type": "stream",
     "text": [
      "[Parallel(n_jobs=-1)]: Done 460 tasks      | elapsed: 15.0min\n"
     ]
    },
    {
     "name": "stdout",
     "output_type": "stream",
     "text": [
      "building tree 464 of 1000\n"
     ]
    },
    {
     "name": "stderr",
     "output_type": "stream",
     "text": [
      "[Parallel(n_jobs=-1)]: Done 461 tasks      | elapsed: 15.1min\n"
     ]
    },
    {
     "name": "stdout",
     "output_type": "stream",
     "text": [
      "building tree 465 of 1000\n"
     ]
    },
    {
     "name": "stderr",
     "output_type": "stream",
     "text": [
      "[Parallel(n_jobs=-1)]: Done 462 tasks      | elapsed: 15.1min\n"
     ]
    },
    {
     "name": "stdout",
     "output_type": "stream",
     "text": [
      "building tree 466 of 1000\n"
     ]
    },
    {
     "name": "stderr",
     "output_type": "stream",
     "text": [
      "[Parallel(n_jobs=-1)]: Done 463 tasks      | elapsed: 15.1min\n"
     ]
    },
    {
     "name": "stdout",
     "output_type": "stream",
     "text": [
      "building tree 467 of 1000\n"
     ]
    },
    {
     "name": "stderr",
     "output_type": "stream",
     "text": [
      "[Parallel(n_jobs=-1)]: Done 464 tasks      | elapsed: 15.1min\n"
     ]
    },
    {
     "name": "stdout",
     "output_type": "stream",
     "text": [
      "building tree 468 of 1000\n"
     ]
    },
    {
     "name": "stderr",
     "output_type": "stream",
     "text": [
      "[Parallel(n_jobs=-1)]: Done 465 tasks      | elapsed: 15.2min\n"
     ]
    },
    {
     "name": "stdout",
     "output_type": "stream",
     "text": [
      "building tree 469 of 1000\n"
     ]
    },
    {
     "name": "stderr",
     "output_type": "stream",
     "text": [
      "[Parallel(n_jobs=-1)]: Done 466 tasks      | elapsed: 15.2min\n"
     ]
    },
    {
     "name": "stdout",
     "output_type": "stream",
     "text": [
      "building tree 470 of 1000\n"
     ]
    },
    {
     "name": "stderr",
     "output_type": "stream",
     "text": [
      "[Parallel(n_jobs=-1)]: Done 467 tasks      | elapsed: 15.2min\n"
     ]
    },
    {
     "name": "stdout",
     "output_type": "stream",
     "text": [
      "building tree 471 of 1000\n"
     ]
    },
    {
     "name": "stderr",
     "output_type": "stream",
     "text": [
      "[Parallel(n_jobs=-1)]: Done 468 tasks      | elapsed: 15.2min\n"
     ]
    },
    {
     "name": "stdout",
     "output_type": "stream",
     "text": [
      "building tree 472 of 1000\n"
     ]
    },
    {
     "name": "stderr",
     "output_type": "stream",
     "text": [
      "[Parallel(n_jobs=-1)]: Done 469 tasks      | elapsed: 15.3min\n"
     ]
    },
    {
     "name": "stdout",
     "output_type": "stream",
     "text": [
      "building tree 473 of 1000\n"
     ]
    },
    {
     "name": "stderr",
     "output_type": "stream",
     "text": [
      "[Parallel(n_jobs=-1)]: Done 470 tasks      | elapsed: 15.3min\n"
     ]
    },
    {
     "name": "stdout",
     "output_type": "stream",
     "text": [
      "building tree 474 of 1000\n",
      "building tree 475 of 1000\n"
     ]
    },
    {
     "name": "stderr",
     "output_type": "stream",
     "text": [
      "[Parallel(n_jobs=-1)]: Done 471 tasks      | elapsed: 15.4min\n",
      "[Parallel(n_jobs=-1)]: Done 472 tasks      | elapsed: 15.4min\n"
     ]
    },
    {
     "name": "stdout",
     "output_type": "stream",
     "text": [
      "building tree 476 of 1000\n"
     ]
    },
    {
     "name": "stderr",
     "output_type": "stream",
     "text": [
      "[Parallel(n_jobs=-1)]: Done 473 tasks      | elapsed: 15.5min\n"
     ]
    },
    {
     "name": "stdout",
     "output_type": "stream",
     "text": [
      "building tree 477 of 1000\n"
     ]
    },
    {
     "name": "stderr",
     "output_type": "stream",
     "text": [
      "[Parallel(n_jobs=-1)]: Done 474 tasks      | elapsed: 15.5min\n"
     ]
    },
    {
     "name": "stdout",
     "output_type": "stream",
     "text": [
      "building tree 478 of 1000\n"
     ]
    },
    {
     "name": "stderr",
     "output_type": "stream",
     "text": [
      "[Parallel(n_jobs=-1)]: Done 475 tasks      | elapsed: 15.5min\n"
     ]
    },
    {
     "name": "stdout",
     "output_type": "stream",
     "text": [
      "building tree 479 of 1000\n"
     ]
    },
    {
     "name": "stderr",
     "output_type": "stream",
     "text": [
      "[Parallel(n_jobs=-1)]: Done 476 tasks      | elapsed: 15.5min\n"
     ]
    },
    {
     "name": "stdout",
     "output_type": "stream",
     "text": [
      "building tree 480 of 1000\n"
     ]
    },
    {
     "name": "stderr",
     "output_type": "stream",
     "text": [
      "[Parallel(n_jobs=-1)]: Done 477 tasks      | elapsed: 15.6min\n"
     ]
    },
    {
     "name": "stdout",
     "output_type": "stream",
     "text": [
      "building tree 481 of 1000\n"
     ]
    },
    {
     "name": "stderr",
     "output_type": "stream",
     "text": [
      "[Parallel(n_jobs=-1)]: Done 478 tasks      | elapsed: 15.6min\n"
     ]
    },
    {
     "name": "stdout",
     "output_type": "stream",
     "text": [
      "building tree 482 of 1000\n",
      "building tree 483 of 1000\n"
     ]
    },
    {
     "name": "stderr",
     "output_type": "stream",
     "text": [
      "[Parallel(n_jobs=-1)]: Done 479 tasks      | elapsed: 15.6min\n",
      "[Parallel(n_jobs=-1)]: Done 480 tasks      | elapsed: 15.6min\n"
     ]
    },
    {
     "name": "stdout",
     "output_type": "stream",
     "text": [
      "building tree 484 of 1000\n"
     ]
    },
    {
     "name": "stderr",
     "output_type": "stream",
     "text": [
      "[Parallel(n_jobs=-1)]: Done 481 tasks      | elapsed: 15.7min\n"
     ]
    },
    {
     "name": "stdout",
     "output_type": "stream",
     "text": [
      "building tree 485 of 1000\n"
     ]
    },
    {
     "name": "stderr",
     "output_type": "stream",
     "text": [
      "[Parallel(n_jobs=-1)]: Done 482 tasks      | elapsed: 15.7min\n"
     ]
    },
    {
     "name": "stdout",
     "output_type": "stream",
     "text": [
      "building tree 486 of 1000\n"
     ]
    },
    {
     "name": "stderr",
     "output_type": "stream",
     "text": [
      "[Parallel(n_jobs=-1)]: Done 483 tasks      | elapsed: 15.7min\n"
     ]
    },
    {
     "name": "stdout",
     "output_type": "stream",
     "text": [
      "building tree 487 of 1000\n"
     ]
    },
    {
     "name": "stderr",
     "output_type": "stream",
     "text": [
      "[Parallel(n_jobs=-1)]: Done 484 tasks      | elapsed: 15.7min\n"
     ]
    },
    {
     "name": "stdout",
     "output_type": "stream",
     "text": [
      "building tree 488 of 1000\n"
     ]
    },
    {
     "name": "stderr",
     "output_type": "stream",
     "text": [
      "[Parallel(n_jobs=-1)]: Done 485 tasks      | elapsed: 15.8min\n"
     ]
    },
    {
     "name": "stdout",
     "output_type": "stream",
     "text": [
      "building tree 489 of 1000\n"
     ]
    },
    {
     "name": "stderr",
     "output_type": "stream",
     "text": [
      "[Parallel(n_jobs=-1)]: Done 486 tasks      | elapsed: 15.8min\n"
     ]
    },
    {
     "name": "stdout",
     "output_type": "stream",
     "text": [
      "building tree 490 of 1000\n"
     ]
    },
    {
     "name": "stderr",
     "output_type": "stream",
     "text": [
      "[Parallel(n_jobs=-1)]: Done 487 tasks      | elapsed: 15.9min\n",
      "[Parallel(n_jobs=-1)]: Done 488 tasks      | elapsed: 15.9min\n"
     ]
    },
    {
     "name": "stdout",
     "output_type": "stream",
     "text": [
      "building tree 491 of 1000\n",
      "building tree 492 of 1000\n"
     ]
    },
    {
     "name": "stderr",
     "output_type": "stream",
     "text": [
      "[Parallel(n_jobs=-1)]: Done 489 tasks      | elapsed: 15.9min\n"
     ]
    },
    {
     "name": "stdout",
     "output_type": "stream",
     "text": [
      "building tree 493 of 1000\n"
     ]
    },
    {
     "name": "stderr",
     "output_type": "stream",
     "text": [
      "[Parallel(n_jobs=-1)]: Done 490 tasks      | elapsed: 16.0min\n"
     ]
    },
    {
     "name": "stdout",
     "output_type": "stream",
     "text": [
      "building tree 494 of 1000\n"
     ]
    },
    {
     "name": "stderr",
     "output_type": "stream",
     "text": [
      "[Parallel(n_jobs=-1)]: Done 491 tasks      | elapsed: 16.0min\n",
      "[Parallel(n_jobs=-1)]: Done 492 tasks      | elapsed: 16.0min\n"
     ]
    },
    {
     "name": "stdout",
     "output_type": "stream",
     "text": [
      "building tree 495 of 1000\n",
      "building tree 496 of 1000\n"
     ]
    },
    {
     "name": "stderr",
     "output_type": "stream",
     "text": [
      "[Parallel(n_jobs=-1)]: Done 493 tasks      | elapsed: 16.1min\n"
     ]
    },
    {
     "name": "stdout",
     "output_type": "stream",
     "text": [
      "building tree 497 of 1000\n"
     ]
    },
    {
     "name": "stderr",
     "output_type": "stream",
     "text": [
      "[Parallel(n_jobs=-1)]: Done 494 tasks      | elapsed: 16.1min\n"
     ]
    },
    {
     "name": "stdout",
     "output_type": "stream",
     "text": [
      "building tree 498 of 1000\n"
     ]
    },
    {
     "name": "stderr",
     "output_type": "stream",
     "text": [
      "[Parallel(n_jobs=-1)]: Done 495 tasks      | elapsed: 16.1min\n"
     ]
    },
    {
     "name": "stdout",
     "output_type": "stream",
     "text": [
      "building tree 499 of 1000\n"
     ]
    },
    {
     "name": "stderr",
     "output_type": "stream",
     "text": [
      "[Parallel(n_jobs=-1)]: Done 496 tasks      | elapsed: 16.1min\n"
     ]
    },
    {
     "name": "stdout",
     "output_type": "stream",
     "text": [
      "building tree 500 of 1000\n"
     ]
    },
    {
     "name": "stderr",
     "output_type": "stream",
     "text": [
      "[Parallel(n_jobs=-1)]: Done 497 tasks      | elapsed: 16.2min\n"
     ]
    },
    {
     "name": "stdout",
     "output_type": "stream",
     "text": [
      "building tree 501 of 1000\n"
     ]
    },
    {
     "name": "stderr",
     "output_type": "stream",
     "text": [
      "[Parallel(n_jobs=-1)]: Done 498 tasks      | elapsed: 16.2min\n"
     ]
    },
    {
     "name": "stdout",
     "output_type": "stream",
     "text": [
      "building tree 502 of 1000\n"
     ]
    },
    {
     "name": "stderr",
     "output_type": "stream",
     "text": [
      "[Parallel(n_jobs=-1)]: Done 499 tasks      | elapsed: 16.2min\n"
     ]
    },
    {
     "name": "stdout",
     "output_type": "stream",
     "text": [
      "building tree 503 of 1000\n"
     ]
    },
    {
     "name": "stderr",
     "output_type": "stream",
     "text": [
      "[Parallel(n_jobs=-1)]: Done 500 tasks      | elapsed: 16.2min\n"
     ]
    },
    {
     "name": "stdout",
     "output_type": "stream",
     "text": [
      "building tree 504 of 1000\n"
     ]
    },
    {
     "name": "stderr",
     "output_type": "stream",
     "text": [
      "[Parallel(n_jobs=-1)]: Done 501 tasks      | elapsed: 16.3min\n",
      "[Parallel(n_jobs=-1)]: Done 502 tasks      | elapsed: 16.3min\n"
     ]
    },
    {
     "name": "stdout",
     "output_type": "stream",
     "text": [
      "building tree 505 of 1000\n",
      "building tree 506 of 1000\n"
     ]
    },
    {
     "name": "stderr",
     "output_type": "stream",
     "text": [
      "[Parallel(n_jobs=-1)]: Done 503 tasks      | elapsed: 16.3min\n"
     ]
    },
    {
     "name": "stdout",
     "output_type": "stream",
     "text": [
      "building tree 507 of 1000\n"
     ]
    },
    {
     "name": "stderr",
     "output_type": "stream",
     "text": [
      "[Parallel(n_jobs=-1)]: Done 504 tasks      | elapsed: 16.4min\n"
     ]
    },
    {
     "name": "stdout",
     "output_type": "stream",
     "text": [
      "building tree 508 of 1000\n"
     ]
    },
    {
     "name": "stderr",
     "output_type": "stream",
     "text": [
      "[Parallel(n_jobs=-1)]: Done 505 tasks      | elapsed: 16.4min\n"
     ]
    },
    {
     "name": "stdout",
     "output_type": "stream",
     "text": [
      "building tree 509 of 1000\n"
     ]
    },
    {
     "name": "stderr",
     "output_type": "stream",
     "text": [
      "[Parallel(n_jobs=-1)]: Done 506 tasks      | elapsed: 16.4min\n"
     ]
    },
    {
     "name": "stdout",
     "output_type": "stream",
     "text": [
      "building tree 510 of 1000\n"
     ]
    },
    {
     "name": "stderr",
     "output_type": "stream",
     "text": [
      "[Parallel(n_jobs=-1)]: Done 507 tasks      | elapsed: 16.5min\n"
     ]
    },
    {
     "name": "stdout",
     "output_type": "stream",
     "text": [
      "building tree 511 of 1000\n"
     ]
    },
    {
     "name": "stderr",
     "output_type": "stream",
     "text": [
      "[Parallel(n_jobs=-1)]: Done 508 tasks      | elapsed: 16.5min\n"
     ]
    },
    {
     "name": "stdout",
     "output_type": "stream",
     "text": [
      "building tree 512 of 1000\n"
     ]
    },
    {
     "name": "stderr",
     "output_type": "stream",
     "text": [
      "[Parallel(n_jobs=-1)]: Done 509 tasks      | elapsed: 16.6min\n"
     ]
    },
    {
     "name": "stdout",
     "output_type": "stream",
     "text": [
      "building tree 513 of 1000\n"
     ]
    },
    {
     "name": "stderr",
     "output_type": "stream",
     "text": [
      "[Parallel(n_jobs=-1)]: Done 510 tasks      | elapsed: 16.6min\n"
     ]
    },
    {
     "name": "stdout",
     "output_type": "stream",
     "text": [
      "building tree 514 of 1000\n"
     ]
    },
    {
     "name": "stderr",
     "output_type": "stream",
     "text": [
      "[Parallel(n_jobs=-1)]: Done 511 tasks      | elapsed: 16.6min\n",
      "[Parallel(n_jobs=-1)]: Done 512 tasks      | elapsed: 16.6min\n"
     ]
    },
    {
     "name": "stdout",
     "output_type": "stream",
     "text": [
      "building tree 515 of 1000\n",
      "building tree 516 of 1000\n"
     ]
    },
    {
     "name": "stderr",
     "output_type": "stream",
     "text": [
      "[Parallel(n_jobs=-1)]: Done 513 tasks      | elapsed: 16.7min\n"
     ]
    },
    {
     "name": "stdout",
     "output_type": "stream",
     "text": [
      "building tree 517 of 1000\n"
     ]
    },
    {
     "name": "stderr",
     "output_type": "stream",
     "text": [
      "[Parallel(n_jobs=-1)]: Done 514 tasks      | elapsed: 16.7min\n"
     ]
    },
    {
     "name": "stdout",
     "output_type": "stream",
     "text": [
      "building tree 518 of 1000\n"
     ]
    },
    {
     "name": "stderr",
     "output_type": "stream",
     "text": [
      "[Parallel(n_jobs=-1)]: Done 515 tasks      | elapsed: 16.7min\n",
      "[Parallel(n_jobs=-1)]: Done 516 tasks      | elapsed: 16.7min\n"
     ]
    },
    {
     "name": "stdout",
     "output_type": "stream",
     "text": [
      "building tree 519 of 1000\n",
      "building tree 520 of 1000\n"
     ]
    },
    {
     "name": "stderr",
     "output_type": "stream",
     "text": [
      "[Parallel(n_jobs=-1)]: Done 517 tasks      | elapsed: 16.8min\n"
     ]
    },
    {
     "name": "stdout",
     "output_type": "stream",
     "text": [
      "building tree 521 of 1000\n"
     ]
    },
    {
     "name": "stderr",
     "output_type": "stream",
     "text": [
      "[Parallel(n_jobs=-1)]: Done 518 tasks      | elapsed: 16.8min\n"
     ]
    },
    {
     "name": "stdout",
     "output_type": "stream",
     "text": [
      "building tree 522 of 1000\n"
     ]
    },
    {
     "name": "stderr",
     "output_type": "stream",
     "text": [
      "[Parallel(n_jobs=-1)]: Done 519 tasks      | elapsed: 16.8min\n",
      "[Parallel(n_jobs=-1)]: Done 520 tasks      | elapsed: 16.8min\n"
     ]
    },
    {
     "name": "stdout",
     "output_type": "stream",
     "text": [
      "building tree 523 of 1000\n",
      "building tree 524 of 1000\n"
     ]
    },
    {
     "name": "stderr",
     "output_type": "stream",
     "text": [
      "[Parallel(n_jobs=-1)]: Done 521 tasks      | elapsed: 16.9min\n"
     ]
    },
    {
     "name": "stdout",
     "output_type": "stream",
     "text": [
      "building tree 525 of 1000\n"
     ]
    },
    {
     "name": "stderr",
     "output_type": "stream",
     "text": [
      "[Parallel(n_jobs=-1)]: Done 522 tasks      | elapsed: 16.9min\n"
     ]
    },
    {
     "name": "stdout",
     "output_type": "stream",
     "text": [
      "building tree 526 of 1000\n"
     ]
    },
    {
     "name": "stderr",
     "output_type": "stream",
     "text": [
      "[Parallel(n_jobs=-1)]: Done 523 tasks      | elapsed: 17.0min\n"
     ]
    },
    {
     "name": "stdout",
     "output_type": "stream",
     "text": [
      "building tree 527 of 1000\n"
     ]
    },
    {
     "name": "stderr",
     "output_type": "stream",
     "text": [
      "[Parallel(n_jobs=-1)]: Done 524 tasks      | elapsed: 17.0min\n"
     ]
    },
    {
     "name": "stdout",
     "output_type": "stream",
     "text": [
      "building tree 528 of 1000\n"
     ]
    },
    {
     "name": "stderr",
     "output_type": "stream",
     "text": [
      "[Parallel(n_jobs=-1)]: Done 525 tasks      | elapsed: 17.0min\n"
     ]
    },
    {
     "name": "stdout",
     "output_type": "stream",
     "text": [
      "building tree 529 of 1000\n"
     ]
    },
    {
     "name": "stderr",
     "output_type": "stream",
     "text": [
      "[Parallel(n_jobs=-1)]: Done 526 tasks      | elapsed: 17.0min\n"
     ]
    },
    {
     "name": "stdout",
     "output_type": "stream",
     "text": [
      "building tree 530 of 1000\n",
      "building tree 531 of 1000\n"
     ]
    },
    {
     "name": "stderr",
     "output_type": "stream",
     "text": [
      "[Parallel(n_jobs=-1)]: Done 527 tasks      | elapsed: 17.1min\n",
      "[Parallel(n_jobs=-1)]: Done 528 tasks      | elapsed: 17.1min\n"
     ]
    },
    {
     "name": "stdout",
     "output_type": "stream",
     "text": [
      "building tree 532 of 1000\n"
     ]
    },
    {
     "name": "stderr",
     "output_type": "stream",
     "text": [
      "[Parallel(n_jobs=-1)]: Done 529 tasks      | elapsed: 17.2min\n"
     ]
    },
    {
     "name": "stdout",
     "output_type": "stream",
     "text": [
      "building tree 533 of 1000\n"
     ]
    },
    {
     "name": "stderr",
     "output_type": "stream",
     "text": [
      "[Parallel(n_jobs=-1)]: Done 530 tasks      | elapsed: 17.2min\n"
     ]
    },
    {
     "name": "stdout",
     "output_type": "stream",
     "text": [
      "building tree 534 of 1000\n",
      "building tree 535 of 1000\n"
     ]
    },
    {
     "name": "stderr",
     "output_type": "stream",
     "text": [
      "[Parallel(n_jobs=-1)]: Done 531 tasks      | elapsed: 17.2min\n",
      "[Parallel(n_jobs=-1)]: Done 532 tasks      | elapsed: 17.2min\n"
     ]
    },
    {
     "name": "stdout",
     "output_type": "stream",
     "text": [
      "building tree 536 of 1000\n"
     ]
    },
    {
     "name": "stderr",
     "output_type": "stream",
     "text": [
      "[Parallel(n_jobs=-1)]: Done 533 tasks      | elapsed: 17.3min\n"
     ]
    },
    {
     "name": "stdout",
     "output_type": "stream",
     "text": [
      "building tree 537 of 1000\n"
     ]
    },
    {
     "name": "stderr",
     "output_type": "stream",
     "text": [
      "[Parallel(n_jobs=-1)]: Done 534 tasks      | elapsed: 17.3min\n"
     ]
    },
    {
     "name": "stdout",
     "output_type": "stream",
     "text": [
      "building tree 538 of 1000\n"
     ]
    },
    {
     "name": "stderr",
     "output_type": "stream",
     "text": [
      "[Parallel(n_jobs=-1)]: Done 535 tasks      | elapsed: 17.3min\n"
     ]
    },
    {
     "name": "stdout",
     "output_type": "stream",
     "text": [
      "building tree 539 of 1000\n"
     ]
    },
    {
     "name": "stderr",
     "output_type": "stream",
     "text": [
      "[Parallel(n_jobs=-1)]: Done 536 tasks      | elapsed: 17.3min\n"
     ]
    },
    {
     "name": "stdout",
     "output_type": "stream",
     "text": [
      "building tree 540 of 1000\n"
     ]
    },
    {
     "name": "stderr",
     "output_type": "stream",
     "text": [
      "[Parallel(n_jobs=-1)]: Done 537 tasks      | elapsed: 17.4min\n"
     ]
    },
    {
     "name": "stdout",
     "output_type": "stream",
     "text": [
      "building tree 541 of 1000\n"
     ]
    },
    {
     "name": "stderr",
     "output_type": "stream",
     "text": [
      "[Parallel(n_jobs=-1)]: Done 538 tasks      | elapsed: 17.4min\n"
     ]
    },
    {
     "name": "stdout",
     "output_type": "stream",
     "text": [
      "building tree 542 of 1000\n"
     ]
    },
    {
     "name": "stderr",
     "output_type": "stream",
     "text": [
      "[Parallel(n_jobs=-1)]: Done 539 tasks      | elapsed: 17.5min\n"
     ]
    },
    {
     "name": "stdout",
     "output_type": "stream",
     "text": [
      "building tree 543 of 1000\n"
     ]
    },
    {
     "name": "stderr",
     "output_type": "stream",
     "text": [
      "[Parallel(n_jobs=-1)]: Done 540 tasks      | elapsed: 17.5min\n"
     ]
    },
    {
     "name": "stdout",
     "output_type": "stream",
     "text": [
      "building tree 544 of 1000\n",
      "building tree 545 of 1000\n"
     ]
    },
    {
     "name": "stderr",
     "output_type": "stream",
     "text": [
      "[Parallel(n_jobs=-1)]: Done 541 tasks      | elapsed: 17.5min\n",
      "[Parallel(n_jobs=-1)]: Done 542 tasks      | elapsed: 17.6min\n"
     ]
    },
    {
     "name": "stdout",
     "output_type": "stream",
     "text": [
      "building tree 546 of 1000\n",
      "building tree 547 of 1000\n"
     ]
    },
    {
     "name": "stderr",
     "output_type": "stream",
     "text": [
      "[Parallel(n_jobs=-1)]: Done 543 tasks      | elapsed: 17.6min\n",
      "[Parallel(n_jobs=-1)]: Done 544 tasks      | elapsed: 17.6min\n"
     ]
    },
    {
     "name": "stdout",
     "output_type": "stream",
     "text": [
      "building tree 548 of 1000\n",
      "building tree 549 of 1000\n"
     ]
    },
    {
     "name": "stderr",
     "output_type": "stream",
     "text": [
      "[Parallel(n_jobs=-1)]: Done 545 tasks      | elapsed: 17.7min\n"
     ]
    },
    {
     "name": "stdout",
     "output_type": "stream",
     "text": [
      "building tree 550 of 1000\n"
     ]
    },
    {
     "name": "stderr",
     "output_type": "stream",
     "text": [
      "[Parallel(n_jobs=-1)]: Done 546 tasks      | elapsed: 17.7min\n",
      "[Parallel(n_jobs=-1)]: Done 547 tasks      | elapsed: 17.7min\n"
     ]
    },
    {
     "name": "stdout",
     "output_type": "stream",
     "text": [
      "building tree 551 of 1000\n"
     ]
    },
    {
     "name": "stderr",
     "output_type": "stream",
     "text": [
      "[Parallel(n_jobs=-1)]: Done 548 tasks      | elapsed: 17.8min\n"
     ]
    },
    {
     "name": "stdout",
     "output_type": "stream",
     "text": [
      "building tree 552 of 1000\n"
     ]
    },
    {
     "name": "stderr",
     "output_type": "stream",
     "text": [
      "[Parallel(n_jobs=-1)]: Done 549 tasks      | elapsed: 17.9min\n"
     ]
    },
    {
     "name": "stdout",
     "output_type": "stream",
     "text": [
      "building tree 553 of 1000\n"
     ]
    },
    {
     "name": "stderr",
     "output_type": "stream",
     "text": [
      "[Parallel(n_jobs=-1)]: Done 550 tasks      | elapsed: 17.9min\n"
     ]
    },
    {
     "name": "stdout",
     "output_type": "stream",
     "text": [
      "building tree 554 of 1000\n"
     ]
    },
    {
     "name": "stderr",
     "output_type": "stream",
     "text": [
      "[Parallel(n_jobs=-1)]: Done 551 tasks      | elapsed: 17.9min\n"
     ]
    },
    {
     "name": "stdout",
     "output_type": "stream",
     "text": [
      "building tree 555 of 1000\n"
     ]
    },
    {
     "name": "stderr",
     "output_type": "stream",
     "text": [
      "[Parallel(n_jobs=-1)]: Done 552 tasks      | elapsed: 17.9min\n"
     ]
    },
    {
     "name": "stdout",
     "output_type": "stream",
     "text": [
      "building tree 556 of 1000\n"
     ]
    },
    {
     "name": "stderr",
     "output_type": "stream",
     "text": [
      "[Parallel(n_jobs=-1)]: Done 553 tasks      | elapsed: 18.0min\n"
     ]
    },
    {
     "name": "stdout",
     "output_type": "stream",
     "text": [
      "building tree 557 of 1000\n"
     ]
    },
    {
     "name": "stderr",
     "output_type": "stream",
     "text": [
      "[Parallel(n_jobs=-1)]: Done 554 tasks      | elapsed: 18.0min\n"
     ]
    },
    {
     "name": "stdout",
     "output_type": "stream",
     "text": [
      "building tree 558 of 1000\n"
     ]
    },
    {
     "name": "stderr",
     "output_type": "stream",
     "text": [
      "[Parallel(n_jobs=-1)]: Done 555 tasks      | elapsed: 18.0min\n"
     ]
    },
    {
     "name": "stdout",
     "output_type": "stream",
     "text": [
      "building tree 559 of 1000\n"
     ]
    },
    {
     "name": "stderr",
     "output_type": "stream",
     "text": [
      "[Parallel(n_jobs=-1)]: Done 556 tasks      | elapsed: 18.1min\n"
     ]
    },
    {
     "name": "stdout",
     "output_type": "stream",
     "text": [
      "building tree 560 of 1000\n"
     ]
    },
    {
     "name": "stderr",
     "output_type": "stream",
     "text": [
      "[Parallel(n_jobs=-1)]: Done 557 tasks      | elapsed: 18.1min\n"
     ]
    },
    {
     "name": "stdout",
     "output_type": "stream",
     "text": [
      "building tree 561 of 1000\n"
     ]
    },
    {
     "name": "stderr",
     "output_type": "stream",
     "text": [
      "[Parallel(n_jobs=-1)]: Done 558 tasks      | elapsed: 18.1min\n"
     ]
    },
    {
     "name": "stdout",
     "output_type": "stream",
     "text": [
      "building tree 562 of 1000\n"
     ]
    },
    {
     "name": "stderr",
     "output_type": "stream",
     "text": [
      "[Parallel(n_jobs=-1)]: Done 559 tasks      | elapsed: 18.2min\n"
     ]
    },
    {
     "name": "stdout",
     "output_type": "stream",
     "text": [
      "building tree 563 of 1000\n"
     ]
    },
    {
     "name": "stderr",
     "output_type": "stream",
     "text": [
      "[Parallel(n_jobs=-1)]: Done 560 tasks      | elapsed: 18.2min\n"
     ]
    },
    {
     "name": "stdout",
     "output_type": "stream",
     "text": [
      "building tree 564 of 1000\n"
     ]
    },
    {
     "name": "stderr",
     "output_type": "stream",
     "text": [
      "[Parallel(n_jobs=-1)]: Done 561 tasks      | elapsed: 18.3min\n"
     ]
    },
    {
     "name": "stdout",
     "output_type": "stream",
     "text": [
      "building tree 565 of 1000\n"
     ]
    },
    {
     "name": "stderr",
     "output_type": "stream",
     "text": [
      "[Parallel(n_jobs=-1)]: Done 562 tasks      | elapsed: 18.3min\n"
     ]
    },
    {
     "name": "stdout",
     "output_type": "stream",
     "text": [
      "building tree 566 of 1000\n"
     ]
    },
    {
     "name": "stderr",
     "output_type": "stream",
     "text": [
      "[Parallel(n_jobs=-1)]: Done 563 tasks      | elapsed: 18.3min\n"
     ]
    },
    {
     "name": "stdout",
     "output_type": "stream",
     "text": [
      "building tree 567 of 1000\n"
     ]
    },
    {
     "name": "stderr",
     "output_type": "stream",
     "text": [
      "[Parallel(n_jobs=-1)]: Done 564 tasks      | elapsed: 18.3min\n"
     ]
    },
    {
     "name": "stdout",
     "output_type": "stream",
     "text": [
      "building tree 568 of 1000\n"
     ]
    },
    {
     "name": "stderr",
     "output_type": "stream",
     "text": [
      "[Parallel(n_jobs=-1)]: Done 565 tasks      | elapsed: 18.4min\n"
     ]
    },
    {
     "name": "stdout",
     "output_type": "stream",
     "text": [
      "building tree 569 of 1000\n"
     ]
    },
    {
     "name": "stderr",
     "output_type": "stream",
     "text": [
      "[Parallel(n_jobs=-1)]: Done 566 tasks      | elapsed: 18.4min\n"
     ]
    },
    {
     "name": "stdout",
     "output_type": "stream",
     "text": [
      "building tree 570 of 1000\n"
     ]
    },
    {
     "name": "stderr",
     "output_type": "stream",
     "text": [
      "[Parallel(n_jobs=-1)]: Done 567 tasks      | elapsed: 18.4min\n"
     ]
    },
    {
     "name": "stdout",
     "output_type": "stream",
     "text": [
      "building tree 571 of 1000\n"
     ]
    },
    {
     "name": "stderr",
     "output_type": "stream",
     "text": [
      "[Parallel(n_jobs=-1)]: Done 568 tasks      | elapsed: 18.4min\n"
     ]
    },
    {
     "name": "stdout",
     "output_type": "stream",
     "text": [
      "building tree 572 of 1000\n"
     ]
    },
    {
     "name": "stderr",
     "output_type": "stream",
     "text": [
      "[Parallel(n_jobs=-1)]: Done 569 tasks      | elapsed: 18.5min\n"
     ]
    },
    {
     "name": "stdout",
     "output_type": "stream",
     "text": [
      "building tree 573 of 1000\n"
     ]
    },
    {
     "name": "stderr",
     "output_type": "stream",
     "text": [
      "[Parallel(n_jobs=-1)]: Done 570 tasks      | elapsed: 18.5min\n"
     ]
    },
    {
     "name": "stdout",
     "output_type": "stream",
     "text": [
      "building tree 574 of 1000\n"
     ]
    },
    {
     "name": "stderr",
     "output_type": "stream",
     "text": [
      "[Parallel(n_jobs=-1)]: Done 571 tasks      | elapsed: 18.5min\n"
     ]
    },
    {
     "name": "stdout",
     "output_type": "stream",
     "text": [
      "building tree 575 of 1000\n"
     ]
    },
    {
     "name": "stderr",
     "output_type": "stream",
     "text": [
      "[Parallel(n_jobs=-1)]: Done 572 tasks      | elapsed: 18.6min\n"
     ]
    },
    {
     "name": "stdout",
     "output_type": "stream",
     "text": [
      "building tree 576 of 1000\n"
     ]
    },
    {
     "name": "stderr",
     "output_type": "stream",
     "text": [
      "[Parallel(n_jobs=-1)]: Done 573 tasks      | elapsed: 18.6min\n"
     ]
    },
    {
     "name": "stdout",
     "output_type": "stream",
     "text": [
      "building tree 577 of 1000\n"
     ]
    },
    {
     "name": "stderr",
     "output_type": "stream",
     "text": [
      "[Parallel(n_jobs=-1)]: Done 574 tasks      | elapsed: 18.6min\n"
     ]
    },
    {
     "name": "stdout",
     "output_type": "stream",
     "text": [
      "building tree 578 of 1000\n"
     ]
    },
    {
     "name": "stderr",
     "output_type": "stream",
     "text": [
      "[Parallel(n_jobs=-1)]: Done 575 tasks      | elapsed: 18.7min\n"
     ]
    },
    {
     "name": "stdout",
     "output_type": "stream",
     "text": [
      "building tree 579 of 1000\n"
     ]
    },
    {
     "name": "stderr",
     "output_type": "stream",
     "text": [
      "[Parallel(n_jobs=-1)]: Done 576 tasks      | elapsed: 18.7min\n"
     ]
    },
    {
     "name": "stdout",
     "output_type": "stream",
     "text": [
      "building tree 580 of 1000\n"
     ]
    },
    {
     "name": "stderr",
     "output_type": "stream",
     "text": [
      "[Parallel(n_jobs=-1)]: Done 577 tasks      | elapsed: 18.7min\n"
     ]
    },
    {
     "name": "stdout",
     "output_type": "stream",
     "text": [
      "building tree 581 of 1000\n"
     ]
    },
    {
     "name": "stderr",
     "output_type": "stream",
     "text": [
      "[Parallel(n_jobs=-1)]: Done 578 tasks      | elapsed: 18.8min\n"
     ]
    },
    {
     "name": "stdout",
     "output_type": "stream",
     "text": [
      "building tree 582 of 1000\n"
     ]
    },
    {
     "name": "stderr",
     "output_type": "stream",
     "text": [
      "[Parallel(n_jobs=-1)]: Done 579 tasks      | elapsed: 18.8min\n"
     ]
    },
    {
     "name": "stdout",
     "output_type": "stream",
     "text": [
      "building tree 583 of 1000\n"
     ]
    },
    {
     "name": "stderr",
     "output_type": "stream",
     "text": [
      "[Parallel(n_jobs=-1)]: Done 580 tasks      | elapsed: 18.8min\n"
     ]
    },
    {
     "name": "stdout",
     "output_type": "stream",
     "text": [
      "building tree 584 of 1000\n"
     ]
    },
    {
     "name": "stderr",
     "output_type": "stream",
     "text": [
      "[Parallel(n_jobs=-1)]: Done 581 tasks      | elapsed: 18.9min\n"
     ]
    },
    {
     "name": "stdout",
     "output_type": "stream",
     "text": [
      "building tree 585 of 1000\n"
     ]
    },
    {
     "name": "stderr",
     "output_type": "stream",
     "text": [
      "[Parallel(n_jobs=-1)]: Done 582 tasks      | elapsed: 18.9min\n"
     ]
    },
    {
     "name": "stdout",
     "output_type": "stream",
     "text": [
      "building tree 586 of 1000\n"
     ]
    },
    {
     "name": "stderr",
     "output_type": "stream",
     "text": [
      "[Parallel(n_jobs=-1)]: Done 583 tasks      | elapsed: 18.9min\n"
     ]
    },
    {
     "name": "stdout",
     "output_type": "stream",
     "text": [
      "building tree 587 of 1000\n"
     ]
    },
    {
     "name": "stderr",
     "output_type": "stream",
     "text": [
      "[Parallel(n_jobs=-1)]: Done 584 tasks      | elapsed: 18.9min\n"
     ]
    },
    {
     "name": "stdout",
     "output_type": "stream",
     "text": [
      "building tree 588 of 1000\n"
     ]
    },
    {
     "name": "stderr",
     "output_type": "stream",
     "text": [
      "[Parallel(n_jobs=-1)]: Done 585 tasks      | elapsed: 19.0min\n"
     ]
    },
    {
     "name": "stdout",
     "output_type": "stream",
     "text": [
      "building tree 589 of 1000\n"
     ]
    },
    {
     "name": "stderr",
     "output_type": "stream",
     "text": [
      "[Parallel(n_jobs=-1)]: Done 586 tasks      | elapsed: 19.0min\n"
     ]
    },
    {
     "name": "stdout",
     "output_type": "stream",
     "text": [
      "building tree 590 of 1000\n"
     ]
    },
    {
     "name": "stderr",
     "output_type": "stream",
     "text": [
      "[Parallel(n_jobs=-1)]: Done 587 tasks      | elapsed: 19.0min\n"
     ]
    },
    {
     "name": "stdout",
     "output_type": "stream",
     "text": [
      "building tree 591 of 1000\n",
      "building tree 592 of 1000\n"
     ]
    },
    {
     "name": "stderr",
     "output_type": "stream",
     "text": [
      "[Parallel(n_jobs=-1)]: Done 588 tasks      | elapsed: 19.1min\n",
      "[Parallel(n_jobs=-1)]: Done 589 tasks      | elapsed: 19.1min\n"
     ]
    },
    {
     "name": "stdout",
     "output_type": "stream",
     "text": [
      "building tree 593 of 1000\n"
     ]
    },
    {
     "name": "stderr",
     "output_type": "stream",
     "text": [
      "[Parallel(n_jobs=-1)]: Done 590 tasks      | elapsed: 19.1min\n"
     ]
    },
    {
     "name": "stdout",
     "output_type": "stream",
     "text": [
      "building tree 594 of 1000\n"
     ]
    },
    {
     "name": "stderr",
     "output_type": "stream",
     "text": [
      "[Parallel(n_jobs=-1)]: Done 591 tasks      | elapsed: 19.2min\n"
     ]
    },
    {
     "name": "stdout",
     "output_type": "stream",
     "text": [
      "building tree 595 of 1000\n"
     ]
    },
    {
     "name": "stderr",
     "output_type": "stream",
     "text": [
      "[Parallel(n_jobs=-1)]: Done 592 tasks      | elapsed: 19.2min\n"
     ]
    },
    {
     "name": "stdout",
     "output_type": "stream",
     "text": [
      "building tree 596 of 1000\n"
     ]
    },
    {
     "name": "stderr",
     "output_type": "stream",
     "text": [
      "[Parallel(n_jobs=-1)]: Done 593 tasks      | elapsed: 19.2min\n"
     ]
    },
    {
     "name": "stdout",
     "output_type": "stream",
     "text": [
      "building tree 597 of 1000\n"
     ]
    },
    {
     "name": "stderr",
     "output_type": "stream",
     "text": [
      "[Parallel(n_jobs=-1)]: Done 594 tasks      | elapsed: 19.3min\n"
     ]
    },
    {
     "name": "stdout",
     "output_type": "stream",
     "text": [
      "building tree 598 of 1000\n"
     ]
    },
    {
     "name": "stderr",
     "output_type": "stream",
     "text": [
      "[Parallel(n_jobs=-1)]: Done 595 tasks      | elapsed: 19.3min\n"
     ]
    },
    {
     "name": "stdout",
     "output_type": "stream",
     "text": [
      "building tree 599 of 1000\n"
     ]
    },
    {
     "name": "stderr",
     "output_type": "stream",
     "text": [
      "[Parallel(n_jobs=-1)]: Done 596 tasks      | elapsed: 19.3min\n"
     ]
    },
    {
     "name": "stdout",
     "output_type": "stream",
     "text": [
      "building tree 600 of 1000\n"
     ]
    },
    {
     "name": "stderr",
     "output_type": "stream",
     "text": [
      "[Parallel(n_jobs=-1)]: Done 597 tasks      | elapsed: 19.4min\n"
     ]
    },
    {
     "name": "stdout",
     "output_type": "stream",
     "text": [
      "building tree 601 of 1000\n"
     ]
    },
    {
     "name": "stderr",
     "output_type": "stream",
     "text": [
      "[Parallel(n_jobs=-1)]: Done 598 tasks      | elapsed: 19.4min\n"
     ]
    },
    {
     "name": "stdout",
     "output_type": "stream",
     "text": [
      "building tree 602 of 1000\n"
     ]
    },
    {
     "name": "stderr",
     "output_type": "stream",
     "text": [
      "[Parallel(n_jobs=-1)]: Done 599 tasks      | elapsed: 19.4min\n"
     ]
    },
    {
     "name": "stdout",
     "output_type": "stream",
     "text": [
      "building tree 603 of 1000\n"
     ]
    },
    {
     "name": "stderr",
     "output_type": "stream",
     "text": [
      "[Parallel(n_jobs=-1)]: Done 600 tasks      | elapsed: 19.4min\n"
     ]
    },
    {
     "name": "stdout",
     "output_type": "stream",
     "text": [
      "building tree 604 of 1000\n"
     ]
    },
    {
     "name": "stderr",
     "output_type": "stream",
     "text": [
      "[Parallel(n_jobs=-1)]: Done 601 tasks      | elapsed: 19.5min\n"
     ]
    },
    {
     "name": "stdout",
     "output_type": "stream",
     "text": [
      "building tree 605 of 1000\n"
     ]
    },
    {
     "name": "stderr",
     "output_type": "stream",
     "text": [
      "[Parallel(n_jobs=-1)]: Done 602 tasks      | elapsed: 19.5min\n"
     ]
    },
    {
     "name": "stdout",
     "output_type": "stream",
     "text": [
      "building tree 606 of 1000\n"
     ]
    },
    {
     "name": "stderr",
     "output_type": "stream",
     "text": [
      "[Parallel(n_jobs=-1)]: Done 603 tasks      | elapsed: 19.5min\n"
     ]
    },
    {
     "name": "stdout",
     "output_type": "stream",
     "text": [
      "building tree 607 of 1000\n"
     ]
    },
    {
     "name": "stderr",
     "output_type": "stream",
     "text": [
      "[Parallel(n_jobs=-1)]: Done 604 tasks      | elapsed: 19.6min\n"
     ]
    },
    {
     "name": "stdout",
     "output_type": "stream",
     "text": [
      "building tree 608 of 1000\n"
     ]
    },
    {
     "name": "stderr",
     "output_type": "stream",
     "text": [
      "[Parallel(n_jobs=-1)]: Done 605 tasks      | elapsed: 19.6min\n"
     ]
    },
    {
     "name": "stdout",
     "output_type": "stream",
     "text": [
      "building tree 609 of 1000\n"
     ]
    },
    {
     "name": "stderr",
     "output_type": "stream",
     "text": [
      "[Parallel(n_jobs=-1)]: Done 606 tasks      | elapsed: 19.6min\n"
     ]
    },
    {
     "name": "stdout",
     "output_type": "stream",
     "text": [
      "building tree 610 of 1000\n",
      "building tree 611 of 1000\n"
     ]
    },
    {
     "name": "stderr",
     "output_type": "stream",
     "text": [
      "[Parallel(n_jobs=-1)]: Done 607 tasks      | elapsed: 19.7min\n",
      "[Parallel(n_jobs=-1)]: Done 608 tasks      | elapsed: 19.7min\n"
     ]
    },
    {
     "name": "stdout",
     "output_type": "stream",
     "text": [
      "building tree 612 of 1000\n"
     ]
    },
    {
     "name": "stderr",
     "output_type": "stream",
     "text": [
      "[Parallel(n_jobs=-1)]: Done 609 tasks      | elapsed: 19.8min\n"
     ]
    },
    {
     "name": "stdout",
     "output_type": "stream",
     "text": [
      "building tree 613 of 1000\n"
     ]
    },
    {
     "name": "stderr",
     "output_type": "stream",
     "text": [
      "[Parallel(n_jobs=-1)]: Done 610 tasks      | elapsed: 19.8min\n"
     ]
    },
    {
     "name": "stdout",
     "output_type": "stream",
     "text": [
      "building tree 614 of 1000\n"
     ]
    },
    {
     "name": "stderr",
     "output_type": "stream",
     "text": [
      "[Parallel(n_jobs=-1)]: Done 611 tasks      | elapsed: 19.8min\n"
     ]
    },
    {
     "name": "stdout",
     "output_type": "stream",
     "text": [
      "building tree 615 of 1000\n"
     ]
    },
    {
     "name": "stderr",
     "output_type": "stream",
     "text": [
      "[Parallel(n_jobs=-1)]: Done 612 tasks      | elapsed: 19.8min\n"
     ]
    },
    {
     "name": "stdout",
     "output_type": "stream",
     "text": [
      "building tree 616 of 1000\n"
     ]
    },
    {
     "name": "stderr",
     "output_type": "stream",
     "text": [
      "[Parallel(n_jobs=-1)]: Done 613 tasks      | elapsed: 19.9min\n"
     ]
    },
    {
     "name": "stdout",
     "output_type": "stream",
     "text": [
      "building tree 617 of 1000\n"
     ]
    },
    {
     "name": "stderr",
     "output_type": "stream",
     "text": [
      "[Parallel(n_jobs=-1)]: Done 614 tasks      | elapsed: 19.9min\n"
     ]
    },
    {
     "name": "stdout",
     "output_type": "stream",
     "text": [
      "building tree 618 of 1000\n"
     ]
    },
    {
     "name": "stderr",
     "output_type": "stream",
     "text": [
      "[Parallel(n_jobs=-1)]: Done 615 tasks      | elapsed: 19.9min\n"
     ]
    },
    {
     "name": "stdout",
     "output_type": "stream",
     "text": [
      "building tree 619 of 1000\n"
     ]
    },
    {
     "name": "stderr",
     "output_type": "stream",
     "text": [
      "[Parallel(n_jobs=-1)]: Done 616 tasks      | elapsed: 19.9min\n"
     ]
    },
    {
     "name": "stdout",
     "output_type": "stream",
     "text": [
      "building tree 620 of 1000\n"
     ]
    },
    {
     "name": "stderr",
     "output_type": "stream",
     "text": [
      "[Parallel(n_jobs=-1)]: Done 617 tasks      | elapsed: 20.0min\n"
     ]
    },
    {
     "name": "stdout",
     "output_type": "stream",
     "text": [
      "building tree 621 of 1000\n"
     ]
    },
    {
     "name": "stderr",
     "output_type": "stream",
     "text": [
      "[Parallel(n_jobs=-1)]: Done 618 tasks      | elapsed: 20.0min\n"
     ]
    },
    {
     "name": "stdout",
     "output_type": "stream",
     "text": [
      "building tree 622 of 1000\n"
     ]
    },
    {
     "name": "stderr",
     "output_type": "stream",
     "text": [
      "[Parallel(n_jobs=-1)]: Done 619 tasks      | elapsed: 20.0min\n"
     ]
    },
    {
     "name": "stdout",
     "output_type": "stream",
     "text": [
      "building tree 623 of 1000\n"
     ]
    },
    {
     "name": "stderr",
     "output_type": "stream",
     "text": [
      "[Parallel(n_jobs=-1)]: Done 620 tasks      | elapsed: 20.1min\n"
     ]
    },
    {
     "name": "stdout",
     "output_type": "stream",
     "text": [
      "building tree 624 of 1000\n"
     ]
    },
    {
     "name": "stderr",
     "output_type": "stream",
     "text": [
      "[Parallel(n_jobs=-1)]: Done 621 tasks      | elapsed: 20.1min\n"
     ]
    },
    {
     "name": "stdout",
     "output_type": "stream",
     "text": [
      "building tree 625 of 1000\n"
     ]
    },
    {
     "name": "stderr",
     "output_type": "stream",
     "text": [
      "[Parallel(n_jobs=-1)]: Done 622 tasks      | elapsed: 20.1min\n"
     ]
    },
    {
     "name": "stdout",
     "output_type": "stream",
     "text": [
      "building tree 626 of 1000\n"
     ]
    },
    {
     "name": "stderr",
     "output_type": "stream",
     "text": [
      "[Parallel(n_jobs=-1)]: Done 623 tasks      | elapsed: 20.2min\n"
     ]
    },
    {
     "name": "stdout",
     "output_type": "stream",
     "text": [
      "building tree 627 of 1000\n"
     ]
    },
    {
     "name": "stderr",
     "output_type": "stream",
     "text": [
      "[Parallel(n_jobs=-1)]: Done 624 tasks      | elapsed: 20.2min\n"
     ]
    },
    {
     "name": "stdout",
     "output_type": "stream",
     "text": [
      "building tree 628 of 1000\n"
     ]
    },
    {
     "name": "stderr",
     "output_type": "stream",
     "text": [
      "[Parallel(n_jobs=-1)]: Done 625 tasks      | elapsed: 20.3min\n"
     ]
    },
    {
     "name": "stdout",
     "output_type": "stream",
     "text": [
      "building tree 629 of 1000\n"
     ]
    },
    {
     "name": "stderr",
     "output_type": "stream",
     "text": [
      "[Parallel(n_jobs=-1)]: Done 626 tasks      | elapsed: 20.3min\n"
     ]
    },
    {
     "name": "stdout",
     "output_type": "stream",
     "text": [
      "building tree 630 of 1000\n"
     ]
    },
    {
     "name": "stderr",
     "output_type": "stream",
     "text": [
      "[Parallel(n_jobs=-1)]: Done 627 tasks      | elapsed: 20.3min\n"
     ]
    },
    {
     "name": "stdout",
     "output_type": "stream",
     "text": [
      "building tree 631 of 1000\n"
     ]
    },
    {
     "name": "stderr",
     "output_type": "stream",
     "text": [
      "[Parallel(n_jobs=-1)]: Done 628 tasks      | elapsed: 20.3min\n"
     ]
    },
    {
     "name": "stdout",
     "output_type": "stream",
     "text": [
      "building tree 632 of 1000\n"
     ]
    },
    {
     "name": "stderr",
     "output_type": "stream",
     "text": [
      "[Parallel(n_jobs=-1)]: Done 629 tasks      | elapsed: 20.4min\n"
     ]
    },
    {
     "name": "stdout",
     "output_type": "stream",
     "text": [
      "building tree 633 of 1000\n"
     ]
    },
    {
     "name": "stderr",
     "output_type": "stream",
     "text": [
      "[Parallel(n_jobs=-1)]: Done 630 tasks      | elapsed: 20.4min\n"
     ]
    },
    {
     "name": "stdout",
     "output_type": "stream",
     "text": [
      "building tree 634 of 1000\n"
     ]
    },
    {
     "name": "stderr",
     "output_type": "stream",
     "text": [
      "[Parallel(n_jobs=-1)]: Done 631 tasks      | elapsed: 20.4min\n"
     ]
    },
    {
     "name": "stdout",
     "output_type": "stream",
     "text": [
      "building tree 635 of 1000\n"
     ]
    },
    {
     "name": "stderr",
     "output_type": "stream",
     "text": [
      "[Parallel(n_jobs=-1)]: Done 632 tasks      | elapsed: 20.4min\n"
     ]
    },
    {
     "name": "stdout",
     "output_type": "stream",
     "text": [
      "building tree 636 of 1000\n"
     ]
    },
    {
     "name": "stderr",
     "output_type": "stream",
     "text": [
      "[Parallel(n_jobs=-1)]: Done 633 tasks      | elapsed: 20.5min\n",
      "[Parallel(n_jobs=-1)]: Done 634 tasks      | elapsed: 20.5min\n"
     ]
    },
    {
     "name": "stdout",
     "output_type": "stream",
     "text": [
      "building tree 637 of 1000\n",
      "building tree 638 of 1000\n"
     ]
    },
    {
     "name": "stderr",
     "output_type": "stream",
     "text": [
      "[Parallel(n_jobs=-1)]: Done 635 tasks      | elapsed: 20.6min\n"
     ]
    },
    {
     "name": "stdout",
     "output_type": "stream",
     "text": [
      "building tree 639 of 1000\n"
     ]
    },
    {
     "name": "stderr",
     "output_type": "stream",
     "text": [
      "[Parallel(n_jobs=-1)]: Done 636 tasks      | elapsed: 20.6min\n"
     ]
    },
    {
     "name": "stdout",
     "output_type": "stream",
     "text": [
      "building tree 640 of 1000\n"
     ]
    },
    {
     "name": "stderr",
     "output_type": "stream",
     "text": [
      "[Parallel(n_jobs=-1)]: Done 637 tasks      | elapsed: 20.7min\n",
      "[Parallel(n_jobs=-1)]: Done 638 tasks      | elapsed: 20.7min\n"
     ]
    },
    {
     "name": "stdout",
     "output_type": "stream",
     "text": [
      "building tree 641 of 1000\n",
      "building tree 642 of 1000\n"
     ]
    },
    {
     "name": "stderr",
     "output_type": "stream",
     "text": [
      "[Parallel(n_jobs=-1)]: Done 639 tasks      | elapsed: 20.7min\n"
     ]
    },
    {
     "name": "stdout",
     "output_type": "stream",
     "text": [
      "building tree 643 of 1000\n"
     ]
    },
    {
     "name": "stderr",
     "output_type": "stream",
     "text": [
      "[Parallel(n_jobs=-1)]: Done 640 tasks      | elapsed: 20.7min\n"
     ]
    },
    {
     "name": "stdout",
     "output_type": "stream",
     "text": [
      "building tree 644 of 1000\n"
     ]
    },
    {
     "name": "stderr",
     "output_type": "stream",
     "text": [
      "[Parallel(n_jobs=-1)]: Done 641 tasks      | elapsed: 20.8min\n",
      "[Parallel(n_jobs=-1)]: Done 642 tasks      | elapsed: 20.8min\n"
     ]
    },
    {
     "name": "stdout",
     "output_type": "stream",
     "text": [
      "building tree 645 of 1000\n",
      "building tree 646 of 1000\n"
     ]
    },
    {
     "name": "stderr",
     "output_type": "stream",
     "text": [
      "[Parallel(n_jobs=-1)]: Done 643 tasks      | elapsed: 20.8min\n"
     ]
    },
    {
     "name": "stdout",
     "output_type": "stream",
     "text": [
      "building tree 647 of 1000\n"
     ]
    },
    {
     "name": "stderr",
     "output_type": "stream",
     "text": [
      "[Parallel(n_jobs=-1)]: Done 644 tasks      | elapsed: 20.8min\n"
     ]
    },
    {
     "name": "stdout",
     "output_type": "stream",
     "text": [
      "building tree 648 of 1000\n"
     ]
    },
    {
     "name": "stderr",
     "output_type": "stream",
     "text": [
      "[Parallel(n_jobs=-1)]: Done 645 tasks      | elapsed: 20.9min\n",
      "[Parallel(n_jobs=-1)]: Done 646 tasks      | elapsed: 20.9min\n"
     ]
    },
    {
     "name": "stdout",
     "output_type": "stream",
     "text": [
      "building tree 649 of 1000\n",
      "building tree 650 of 1000\n"
     ]
    },
    {
     "name": "stderr",
     "output_type": "stream",
     "text": [
      "[Parallel(n_jobs=-1)]: Done 647 tasks      | elapsed: 20.9min\n"
     ]
    },
    {
     "name": "stdout",
     "output_type": "stream",
     "text": [
      "building tree 651 of 1000\n"
     ]
    },
    {
     "name": "stderr",
     "output_type": "stream",
     "text": [
      "[Parallel(n_jobs=-1)]: Done 648 tasks      | elapsed: 21.0min\n"
     ]
    },
    {
     "name": "stdout",
     "output_type": "stream",
     "text": [
      "building tree 652 of 1000\n"
     ]
    },
    {
     "name": "stderr",
     "output_type": "stream",
     "text": [
      "[Parallel(n_jobs=-1)]: Done 649 tasks      | elapsed: 21.0min\n",
      "[Parallel(n_jobs=-1)]: Done 650 tasks      | elapsed: 21.0min\n"
     ]
    },
    {
     "name": "stdout",
     "output_type": "stream",
     "text": [
      "building tree 653 of 1000\n",
      "building tree 654 of 1000\n"
     ]
    },
    {
     "name": "stderr",
     "output_type": "stream",
     "text": [
      "[Parallel(n_jobs=-1)]: Done 651 tasks      | elapsed: 21.1min\n"
     ]
    },
    {
     "name": "stdout",
     "output_type": "stream",
     "text": [
      "building tree 655 of 1000\n"
     ]
    },
    {
     "name": "stderr",
     "output_type": "stream",
     "text": [
      "[Parallel(n_jobs=-1)]: Done 652 tasks      | elapsed: 21.1min\n"
     ]
    },
    {
     "name": "stdout",
     "output_type": "stream",
     "text": [
      "building tree 656 of 1000\n"
     ]
    },
    {
     "name": "stderr",
     "output_type": "stream",
     "text": [
      "[Parallel(n_jobs=-1)]: Done 653 tasks      | elapsed: 21.2min\n",
      "[Parallel(n_jobs=-1)]: Done 654 tasks      | elapsed: 21.2min\n"
     ]
    },
    {
     "name": "stdout",
     "output_type": "stream",
     "text": [
      "building tree 657 of 1000\n",
      "building tree 658 of 1000\n"
     ]
    },
    {
     "name": "stderr",
     "output_type": "stream",
     "text": [
      "[Parallel(n_jobs=-1)]: Done 655 tasks      | elapsed: 21.2min\n"
     ]
    },
    {
     "name": "stdout",
     "output_type": "stream",
     "text": [
      "building tree 659 of 1000\n"
     ]
    },
    {
     "name": "stderr",
     "output_type": "stream",
     "text": [
      "[Parallel(n_jobs=-1)]: Done 656 tasks      | elapsed: 21.2min\n"
     ]
    },
    {
     "name": "stdout",
     "output_type": "stream",
     "text": [
      "building tree 660 of 1000\n",
      "building tree 661 of 1000\n",
      "building tree 662 of 1000\n"
     ]
    },
    {
     "name": "stderr",
     "output_type": "stream",
     "text": [
      "[Parallel(n_jobs=-1)]: Done 657 tasks      | elapsed: 21.3min\n",
      "[Parallel(n_jobs=-1)]: Done 658 tasks      | elapsed: 21.3min\n",
      "[Parallel(n_jobs=-1)]: Done 659 tasks      | elapsed: 21.3min\n"
     ]
    },
    {
     "name": "stdout",
     "output_type": "stream",
     "text": [
      "building tree 663 of 1000\n"
     ]
    },
    {
     "name": "stderr",
     "output_type": "stream",
     "text": [
      "[Parallel(n_jobs=-1)]: Done 660 tasks      | elapsed: 21.3min\n"
     ]
    },
    {
     "name": "stdout",
     "output_type": "stream",
     "text": [
      "building tree 664 of 1000\n"
     ]
    },
    {
     "name": "stderr",
     "output_type": "stream",
     "text": [
      "[Parallel(n_jobs=-1)]: Done 661 tasks      | elapsed: 21.4min\n",
      "[Parallel(n_jobs=-1)]: Done 662 tasks      | elapsed: 21.4min\n"
     ]
    },
    {
     "name": "stdout",
     "output_type": "stream",
     "text": [
      "building tree 665 of 1000\n",
      "building tree 666 of 1000\n"
     ]
    },
    {
     "name": "stderr",
     "output_type": "stream",
     "text": [
      "[Parallel(n_jobs=-1)]: Done 663 tasks      | elapsed: 21.4min\n"
     ]
    },
    {
     "name": "stdout",
     "output_type": "stream",
     "text": [
      "building tree 667 of 1000\n"
     ]
    },
    {
     "name": "stderr",
     "output_type": "stream",
     "text": [
      "[Parallel(n_jobs=-1)]: Done 664 tasks      | elapsed: 21.5min\n"
     ]
    },
    {
     "name": "stdout",
     "output_type": "stream",
     "text": [
      "building tree 668 of 1000\n"
     ]
    },
    {
     "name": "stderr",
     "output_type": "stream",
     "text": [
      "[Parallel(n_jobs=-1)]: Done 665 tasks      | elapsed: 21.5min\n",
      "[Parallel(n_jobs=-1)]: Done 666 tasks      | elapsed: 21.5min\n"
     ]
    },
    {
     "name": "stdout",
     "output_type": "stream",
     "text": [
      "building tree 669 of 1000\n",
      "building tree 670 of 1000\n"
     ]
    },
    {
     "name": "stderr",
     "output_type": "stream",
     "text": [
      "[Parallel(n_jobs=-1)]: Done 667 tasks      | elapsed: 21.6min\n"
     ]
    },
    {
     "name": "stdout",
     "output_type": "stream",
     "text": [
      "building tree 671 of 1000\n"
     ]
    },
    {
     "name": "stderr",
     "output_type": "stream",
     "text": [
      "[Parallel(n_jobs=-1)]: Done 668 tasks      | elapsed: 21.6min\n"
     ]
    },
    {
     "name": "stdout",
     "output_type": "stream",
     "text": [
      "building tree 672 of 1000\n"
     ]
    },
    {
     "name": "stderr",
     "output_type": "stream",
     "text": [
      "[Parallel(n_jobs=-1)]: Done 669 tasks      | elapsed: 21.7min\n",
      "[Parallel(n_jobs=-1)]: Done 670 tasks      | elapsed: 21.7min\n"
     ]
    },
    {
     "name": "stdout",
     "output_type": "stream",
     "text": [
      "building tree 673 of 1000\n",
      "building tree 674 of 1000\n"
     ]
    },
    {
     "name": "stderr",
     "output_type": "stream",
     "text": [
      "[Parallel(n_jobs=-1)]: Done 671 tasks      | elapsed: 21.7min\n"
     ]
    },
    {
     "name": "stdout",
     "output_type": "stream",
     "text": [
      "building tree 675 of 1000\n"
     ]
    },
    {
     "name": "stderr",
     "output_type": "stream",
     "text": [
      "[Parallel(n_jobs=-1)]: Done 672 tasks      | elapsed: 21.7min\n"
     ]
    },
    {
     "name": "stdout",
     "output_type": "stream",
     "text": [
      "building tree 676 of 1000\n"
     ]
    },
    {
     "name": "stderr",
     "output_type": "stream",
     "text": [
      "[Parallel(n_jobs=-1)]: Done 673 tasks      | elapsed: 21.8min\n",
      "[Parallel(n_jobs=-1)]: Done 674 tasks      | elapsed: 21.8min\n"
     ]
    },
    {
     "name": "stdout",
     "output_type": "stream",
     "text": [
      "building tree 677 of 1000\n",
      "building tree 678 of 1000\n"
     ]
    },
    {
     "name": "stderr",
     "output_type": "stream",
     "text": [
      "[Parallel(n_jobs=-1)]: Done 675 tasks      | elapsed: 21.8min\n"
     ]
    },
    {
     "name": "stdout",
     "output_type": "stream",
     "text": [
      "building tree 679 of 1000\n"
     ]
    },
    {
     "name": "stderr",
     "output_type": "stream",
     "text": [
      "[Parallel(n_jobs=-1)]: Done 676 tasks      | elapsed: 21.8min\n"
     ]
    },
    {
     "name": "stdout",
     "output_type": "stream",
     "text": [
      "building tree 680 of 1000\n"
     ]
    },
    {
     "name": "stderr",
     "output_type": "stream",
     "text": [
      "[Parallel(n_jobs=-1)]: Done 677 tasks      | elapsed: 21.9min\n",
      "[Parallel(n_jobs=-1)]: Done 678 tasks      | elapsed: 21.9min\n"
     ]
    },
    {
     "name": "stdout",
     "output_type": "stream",
     "text": [
      "building tree 681 of 1000\n",
      "building tree 682 of 1000\n"
     ]
    },
    {
     "name": "stderr",
     "output_type": "stream",
     "text": [
      "[Parallel(n_jobs=-1)]: Done 679 tasks      | elapsed: 21.9min\n"
     ]
    },
    {
     "name": "stdout",
     "output_type": "stream",
     "text": [
      "building tree 683 of 1000\n"
     ]
    },
    {
     "name": "stderr",
     "output_type": "stream",
     "text": [
      "[Parallel(n_jobs=-1)]: Done 680 tasks      | elapsed: 22.0min\n"
     ]
    },
    {
     "name": "stdout",
     "output_type": "stream",
     "text": [
      "building tree 684 of 1000\n"
     ]
    },
    {
     "name": "stderr",
     "output_type": "stream",
     "text": [
      "[Parallel(n_jobs=-1)]: Done 681 tasks      | elapsed: 22.0min\n",
      "[Parallel(n_jobs=-1)]: Done 682 tasks      | elapsed: 22.0min\n"
     ]
    },
    {
     "name": "stdout",
     "output_type": "stream",
     "text": [
      "building tree 685 of 1000\n",
      "building tree 686 of 1000\n"
     ]
    },
    {
     "name": "stderr",
     "output_type": "stream",
     "text": [
      "[Parallel(n_jobs=-1)]: Done 683 tasks      | elapsed: 22.1min\n"
     ]
    },
    {
     "name": "stdout",
     "output_type": "stream",
     "text": [
      "building tree 687 of 1000\n",
      "building tree 688 of 1000\n"
     ]
    },
    {
     "name": "stderr",
     "output_type": "stream",
     "text": [
      "[Parallel(n_jobs=-1)]: Done 684 tasks      | elapsed: 22.1min\n",
      "[Parallel(n_jobs=-1)]: Done 685 tasks      | elapsed: 22.1min\n",
      "[Parallel(n_jobs=-1)]: Done 686 tasks      | elapsed: 22.1min\n"
     ]
    },
    {
     "name": "stdout",
     "output_type": "stream",
     "text": [
      "building tree 689 of 1000\n",
      "building tree 690 of 1000\n"
     ]
    },
    {
     "name": "stderr",
     "output_type": "stream",
     "text": [
      "[Parallel(n_jobs=-1)]: Done 687 tasks      | elapsed: 22.2min\n"
     ]
    },
    {
     "name": "stdout",
     "output_type": "stream",
     "text": [
      "building tree 691 of 1000\n"
     ]
    },
    {
     "name": "stderr",
     "output_type": "stream",
     "text": [
      "[Parallel(n_jobs=-1)]: Done 688 tasks      | elapsed: 22.2min\n"
     ]
    },
    {
     "name": "stdout",
     "output_type": "stream",
     "text": [
      "building tree 692 of 1000\n"
     ]
    },
    {
     "name": "stderr",
     "output_type": "stream",
     "text": [
      "[Parallel(n_jobs=-1)]: Done 689 tasks      | elapsed: 22.3min\n",
      "[Parallel(n_jobs=-1)]: Done 690 tasks      | elapsed: 22.3min\n"
     ]
    },
    {
     "name": "stdout",
     "output_type": "stream",
     "text": [
      "building tree 693 of 1000\n",
      "building tree 694 of 1000\n"
     ]
    },
    {
     "name": "stderr",
     "output_type": "stream",
     "text": [
      "[Parallel(n_jobs=-1)]: Done 691 tasks      | elapsed: 22.3min\n"
     ]
    },
    {
     "name": "stdout",
     "output_type": "stream",
     "text": [
      "building tree 695 of 1000\n"
     ]
    },
    {
     "name": "stderr",
     "output_type": "stream",
     "text": [
      "[Parallel(n_jobs=-1)]: Done 692 tasks      | elapsed: 22.3min\n"
     ]
    },
    {
     "name": "stdout",
     "output_type": "stream",
     "text": [
      "building tree 696 of 1000\n"
     ]
    },
    {
     "name": "stderr",
     "output_type": "stream",
     "text": [
      "[Parallel(n_jobs=-1)]: Done 693 tasks      | elapsed: 22.4min\n",
      "[Parallel(n_jobs=-1)]: Done 694 tasks      | elapsed: 22.4min\n"
     ]
    },
    {
     "name": "stdout",
     "output_type": "stream",
     "text": [
      "building tree 697 of 1000\n",
      "building tree 698 of 1000\n"
     ]
    },
    {
     "name": "stderr",
     "output_type": "stream",
     "text": [
      "[Parallel(n_jobs=-1)]: Done 695 tasks      | elapsed: 22.4min\n"
     ]
    },
    {
     "name": "stdout",
     "output_type": "stream",
     "text": [
      "building tree 699 of 1000\n",
      "building tree 700 of 1000\n"
     ]
    },
    {
     "name": "stderr",
     "output_type": "stream",
     "text": [
      "[Parallel(n_jobs=-1)]: Done 696 tasks      | elapsed: 22.5min\n"
     ]
    },
    {
     "name": "stdout",
     "output_type": "stream",
     "text": [
      "building tree 701 of 1000\n"
     ]
    },
    {
     "name": "stderr",
     "output_type": "stream",
     "text": [
      "[Parallel(n_jobs=-1)]: Done 697 tasks      | elapsed: 22.5min\n",
      "[Parallel(n_jobs=-1)]: Done 698 tasks      | elapsed: 22.5min\n"
     ]
    },
    {
     "name": "stdout",
     "output_type": "stream",
     "text": [
      "building tree 702 of 1000\n"
     ]
    },
    {
     "name": "stderr",
     "output_type": "stream",
     "text": [
      "[Parallel(n_jobs=-1)]: Done 699 tasks      | elapsed: 22.5min\n"
     ]
    },
    {
     "name": "stdout",
     "output_type": "stream",
     "text": [
      "building tree 703 of 1000\n",
      "building tree 704 of 1000\n"
     ]
    },
    {
     "name": "stderr",
     "output_type": "stream",
     "text": [
      "[Parallel(n_jobs=-1)]: Done 700 tasks      | elapsed: 22.6min\n"
     ]
    },
    {
     "name": "stdout",
     "output_type": "stream",
     "text": [
      "building tree 705 of 1000\n"
     ]
    },
    {
     "name": "stderr",
     "output_type": "stream",
     "text": [
      "[Parallel(n_jobs=-1)]: Done 701 tasks      | elapsed: 22.6min\n",
      "[Parallel(n_jobs=-1)]: Done 702 tasks      | elapsed: 22.6min\n"
     ]
    },
    {
     "name": "stdout",
     "output_type": "stream",
     "text": [
      "building tree 706 of 1000\n"
     ]
    },
    {
     "name": "stderr",
     "output_type": "stream",
     "text": [
      "[Parallel(n_jobs=-1)]: Done 703 tasks      | elapsed: 22.7min\n"
     ]
    },
    {
     "name": "stdout",
     "output_type": "stream",
     "text": [
      "building tree 707 of 1000\n"
     ]
    },
    {
     "name": "stderr",
     "output_type": "stream",
     "text": [
      "[Parallel(n_jobs=-1)]: Done 704 tasks      | elapsed: 22.8min\n"
     ]
    },
    {
     "name": "stdout",
     "output_type": "stream",
     "text": [
      "building tree 708 of 1000\n"
     ]
    },
    {
     "name": "stderr",
     "output_type": "stream",
     "text": [
      "[Parallel(n_jobs=-1)]: Done 705 tasks      | elapsed: 22.8min\n"
     ]
    },
    {
     "name": "stdout",
     "output_type": "stream",
     "text": [
      "building tree 709 of 1000\n"
     ]
    },
    {
     "name": "stderr",
     "output_type": "stream",
     "text": [
      "[Parallel(n_jobs=-1)]: Done 706 tasks      | elapsed: 22.8min\n"
     ]
    },
    {
     "name": "stdout",
     "output_type": "stream",
     "text": [
      "building tree 710 of 1000\n"
     ]
    },
    {
     "name": "stderr",
     "output_type": "stream",
     "text": [
      "[Parallel(n_jobs=-1)]: Done 707 tasks      | elapsed: 22.8min\n"
     ]
    },
    {
     "name": "stdout",
     "output_type": "stream",
     "text": [
      "building tree 711 of 1000\n"
     ]
    },
    {
     "name": "stderr",
     "output_type": "stream",
     "text": [
      "[Parallel(n_jobs=-1)]: Done 708 tasks      | elapsed: 22.9min\n"
     ]
    },
    {
     "name": "stdout",
     "output_type": "stream",
     "text": [
      "building tree 712 of 1000\n"
     ]
    },
    {
     "name": "stderr",
     "output_type": "stream",
     "text": [
      "[Parallel(n_jobs=-1)]: Done 709 tasks      | elapsed: 22.9min\n"
     ]
    },
    {
     "name": "stdout",
     "output_type": "stream",
     "text": [
      "building tree 713 of 1000\n"
     ]
    },
    {
     "name": "stderr",
     "output_type": "stream",
     "text": [
      "[Parallel(n_jobs=-1)]: Done 710 tasks      | elapsed: 22.9min\n"
     ]
    },
    {
     "name": "stdout",
     "output_type": "stream",
     "text": [
      "building tree 714 of 1000\n"
     ]
    },
    {
     "name": "stderr",
     "output_type": "stream",
     "text": [
      "[Parallel(n_jobs=-1)]: Done 711 tasks      | elapsed: 23.0min\n"
     ]
    },
    {
     "name": "stdout",
     "output_type": "stream",
     "text": [
      "building tree 715 of 1000\n"
     ]
    },
    {
     "name": "stderr",
     "output_type": "stream",
     "text": [
      "[Parallel(n_jobs=-1)]: Done 712 tasks      | elapsed: 23.0min\n"
     ]
    },
    {
     "name": "stdout",
     "output_type": "stream",
     "text": [
      "building tree 716 of 1000\n"
     ]
    },
    {
     "name": "stderr",
     "output_type": "stream",
     "text": [
      "[Parallel(n_jobs=-1)]: Done 713 tasks      | elapsed: 23.1min\n"
     ]
    },
    {
     "name": "stdout",
     "output_type": "stream",
     "text": [
      "building tree 717 of 1000\n"
     ]
    },
    {
     "name": "stderr",
     "output_type": "stream",
     "text": [
      "[Parallel(n_jobs=-1)]: Done 714 tasks      | elapsed: 23.1min\n"
     ]
    },
    {
     "name": "stdout",
     "output_type": "stream",
     "text": [
      "building tree 718 of 1000\n"
     ]
    },
    {
     "name": "stderr",
     "output_type": "stream",
     "text": [
      "[Parallel(n_jobs=-1)]: Done 715 tasks      | elapsed: 23.1min\n"
     ]
    },
    {
     "name": "stdout",
     "output_type": "stream",
     "text": [
      "building tree 719 of 1000\n"
     ]
    },
    {
     "name": "stderr",
     "output_type": "stream",
     "text": [
      "[Parallel(n_jobs=-1)]: Done 716 tasks      | elapsed: 23.1min\n"
     ]
    },
    {
     "name": "stdout",
     "output_type": "stream",
     "text": [
      "building tree 720 of 1000\n"
     ]
    },
    {
     "name": "stderr",
     "output_type": "stream",
     "text": [
      "[Parallel(n_jobs=-1)]: Done 717 tasks      | elapsed: 23.2min\n"
     ]
    },
    {
     "name": "stdout",
     "output_type": "stream",
     "text": [
      "building tree 721 of 1000\n"
     ]
    },
    {
     "name": "stderr",
     "output_type": "stream",
     "text": [
      "[Parallel(n_jobs=-1)]: Done 718 tasks      | elapsed: 23.2min\n"
     ]
    },
    {
     "name": "stdout",
     "output_type": "stream",
     "text": [
      "building tree 722 of 1000\n",
      "building tree 723 of 1000\n"
     ]
    },
    {
     "name": "stderr",
     "output_type": "stream",
     "text": [
      "[Parallel(n_jobs=-1)]: Done 719 tasks      | elapsed: 23.2min\n",
      "[Parallel(n_jobs=-1)]: Done 720 tasks      | elapsed: 23.2min\n"
     ]
    },
    {
     "name": "stdout",
     "output_type": "stream",
     "text": [
      "building tree 724 of 1000\n"
     ]
    },
    {
     "name": "stderr",
     "output_type": "stream",
     "text": [
      "[Parallel(n_jobs=-1)]: Done 721 tasks      | elapsed: 23.3min\n"
     ]
    },
    {
     "name": "stdout",
     "output_type": "stream",
     "text": [
      "building tree 725 of 1000\n"
     ]
    },
    {
     "name": "stderr",
     "output_type": "stream",
     "text": [
      "[Parallel(n_jobs=-1)]: Done 722 tasks      | elapsed: 23.3min\n"
     ]
    },
    {
     "name": "stdout",
     "output_type": "stream",
     "text": [
      "building tree 726 of 1000\n"
     ]
    },
    {
     "name": "stderr",
     "output_type": "stream",
     "text": [
      "[Parallel(n_jobs=-1)]: Done 723 tasks      | elapsed: 23.3min\n"
     ]
    },
    {
     "name": "stdout",
     "output_type": "stream",
     "text": [
      "building tree 727 of 1000\n"
     ]
    },
    {
     "name": "stderr",
     "output_type": "stream",
     "text": [
      "[Parallel(n_jobs=-1)]: Done 724 tasks      | elapsed: 23.4min\n"
     ]
    },
    {
     "name": "stdout",
     "output_type": "stream",
     "text": [
      "building tree 728 of 1000\n"
     ]
    },
    {
     "name": "stderr",
     "output_type": "stream",
     "text": [
      "[Parallel(n_jobs=-1)]: Done 725 tasks      | elapsed: 23.4min\n"
     ]
    },
    {
     "name": "stdout",
     "output_type": "stream",
     "text": [
      "building tree 729 of 1000\n"
     ]
    },
    {
     "name": "stderr",
     "output_type": "stream",
     "text": [
      "[Parallel(n_jobs=-1)]: Done 726 tasks      | elapsed: 23.4min\n"
     ]
    },
    {
     "name": "stdout",
     "output_type": "stream",
     "text": [
      "building tree 730 of 1000\n"
     ]
    },
    {
     "name": "stderr",
     "output_type": "stream",
     "text": [
      "[Parallel(n_jobs=-1)]: Done 727 tasks      | elapsed: 23.5min\n"
     ]
    },
    {
     "name": "stdout",
     "output_type": "stream",
     "text": [
      "building tree 731 of 1000\n"
     ]
    },
    {
     "name": "stderr",
     "output_type": "stream",
     "text": [
      "[Parallel(n_jobs=-1)]: Done 728 tasks      | elapsed: 23.5min\n"
     ]
    },
    {
     "name": "stdout",
     "output_type": "stream",
     "text": [
      "building tree 732 of 1000\n"
     ]
    },
    {
     "name": "stderr",
     "output_type": "stream",
     "text": [
      "[Parallel(n_jobs=-1)]: Done 729 tasks      | elapsed: 23.5min\n"
     ]
    },
    {
     "name": "stdout",
     "output_type": "stream",
     "text": [
      "building tree 733 of 1000\n"
     ]
    },
    {
     "name": "stderr",
     "output_type": "stream",
     "text": [
      "[Parallel(n_jobs=-1)]: Done 730 tasks      | elapsed: 23.6min\n"
     ]
    },
    {
     "name": "stdout",
     "output_type": "stream",
     "text": [
      "building tree 734 of 1000\n"
     ]
    },
    {
     "name": "stderr",
     "output_type": "stream",
     "text": [
      "[Parallel(n_jobs=-1)]: Done 731 tasks      | elapsed: 23.6min\n"
     ]
    },
    {
     "name": "stdout",
     "output_type": "stream",
     "text": [
      "building tree 735 of 1000\n"
     ]
    },
    {
     "name": "stderr",
     "output_type": "stream",
     "text": [
      "[Parallel(n_jobs=-1)]: Done 732 tasks      | elapsed: 23.6min\n"
     ]
    },
    {
     "name": "stdout",
     "output_type": "stream",
     "text": [
      "building tree 736 of 1000\n"
     ]
    },
    {
     "name": "stderr",
     "output_type": "stream",
     "text": [
      "[Parallel(n_jobs=-1)]: Done 733 tasks      | elapsed: 23.7min\n"
     ]
    },
    {
     "name": "stdout",
     "output_type": "stream",
     "text": [
      "building tree 737 of 1000\n"
     ]
    },
    {
     "name": "stderr",
     "output_type": "stream",
     "text": [
      "[Parallel(n_jobs=-1)]: Done 734 tasks      | elapsed: 23.7min\n"
     ]
    },
    {
     "name": "stdout",
     "output_type": "stream",
     "text": [
      "building tree 738 of 1000\n",
      "building tree 739 of 1000\n"
     ]
    },
    {
     "name": "stderr",
     "output_type": "stream",
     "text": [
      "[Parallel(n_jobs=-1)]: Done 735 tasks      | elapsed: 23.7min\n",
      "[Parallel(n_jobs=-1)]: Done 736 tasks      | elapsed: 23.8min\n"
     ]
    },
    {
     "name": "stdout",
     "output_type": "stream",
     "text": [
      "building tree 740 of 1000\n"
     ]
    },
    {
     "name": "stderr",
     "output_type": "stream",
     "text": [
      "[Parallel(n_jobs=-1)]: Done 737 tasks      | elapsed: 23.8min\n"
     ]
    },
    {
     "name": "stdout",
     "output_type": "stream",
     "text": [
      "building tree 741 of 1000\n",
      "building tree 742 of 1000\n"
     ]
    },
    {
     "name": "stderr",
     "output_type": "stream",
     "text": [
      "[Parallel(n_jobs=-1)]: Done 738 tasks      | elapsed: 23.8min\n",
      "[Parallel(n_jobs=-1)]: Done 739 tasks      | elapsed: 23.8min\n"
     ]
    },
    {
     "name": "stdout",
     "output_type": "stream",
     "text": [
      "building tree 743 of 1000\n"
     ]
    },
    {
     "name": "stderr",
     "output_type": "stream",
     "text": [
      "[Parallel(n_jobs=-1)]: Done 740 tasks      | elapsed: 23.9min\n"
     ]
    },
    {
     "name": "stdout",
     "output_type": "stream",
     "text": [
      "building tree 744 of 1000\n"
     ]
    },
    {
     "name": "stderr",
     "output_type": "stream",
     "text": [
      "[Parallel(n_jobs=-1)]: Done 741 tasks      | elapsed: 23.9min\n"
     ]
    },
    {
     "name": "stdout",
     "output_type": "stream",
     "text": [
      "building tree 745 of 1000\n",
      "building tree 746 of 1000\n"
     ]
    },
    {
     "name": "stderr",
     "output_type": "stream",
     "text": [
      "[Parallel(n_jobs=-1)]: Done 742 tasks      | elapsed: 23.9min\n",
      "[Parallel(n_jobs=-1)]: Done 743 tasks      | elapsed: 24.0min\n"
     ]
    },
    {
     "name": "stdout",
     "output_type": "stream",
     "text": [
      "building tree 747 of 1000\n"
     ]
    },
    {
     "name": "stderr",
     "output_type": "stream",
     "text": [
      "[Parallel(n_jobs=-1)]: Done 744 tasks      | elapsed: 24.0min\n"
     ]
    },
    {
     "name": "stdout",
     "output_type": "stream",
     "text": [
      "building tree 748 of 1000\n"
     ]
    },
    {
     "name": "stderr",
     "output_type": "stream",
     "text": [
      "[Parallel(n_jobs=-1)]: Done 745 tasks      | elapsed: 24.0min\n"
     ]
    },
    {
     "name": "stdout",
     "output_type": "stream",
     "text": [
      "building tree 749 of 1000\n"
     ]
    },
    {
     "name": "stderr",
     "output_type": "stream",
     "text": [
      "[Parallel(n_jobs=-1)]: Done 746 tasks      | elapsed: 24.1min\n"
     ]
    },
    {
     "name": "stdout",
     "output_type": "stream",
     "text": [
      "building tree 750 of 1000\n"
     ]
    },
    {
     "name": "stderr",
     "output_type": "stream",
     "text": [
      "[Parallel(n_jobs=-1)]: Done 747 tasks      | elapsed: 24.1min\n"
     ]
    },
    {
     "name": "stdout",
     "output_type": "stream",
     "text": [
      "building tree 751 of 1000\n"
     ]
    },
    {
     "name": "stderr",
     "output_type": "stream",
     "text": [
      "[Parallel(n_jobs=-1)]: Done 748 tasks      | elapsed: 24.2min\n"
     ]
    },
    {
     "name": "stdout",
     "output_type": "stream",
     "text": [
      "building tree 752 of 1000\n"
     ]
    },
    {
     "name": "stderr",
     "output_type": "stream",
     "text": [
      "[Parallel(n_jobs=-1)]: Done 749 tasks      | elapsed: 24.2min\n"
     ]
    },
    {
     "name": "stdout",
     "output_type": "stream",
     "text": [
      "building tree 753 of 1000\n"
     ]
    },
    {
     "name": "stderr",
     "output_type": "stream",
     "text": [
      "[Parallel(n_jobs=-1)]: Done 750 tasks      | elapsed: 24.2min\n"
     ]
    },
    {
     "name": "stdout",
     "output_type": "stream",
     "text": [
      "building tree 754 of 1000\n"
     ]
    },
    {
     "name": "stderr",
     "output_type": "stream",
     "text": [
      "[Parallel(n_jobs=-1)]: Done 751 tasks      | elapsed: 24.3min\n"
     ]
    },
    {
     "name": "stdout",
     "output_type": "stream",
     "text": [
      "building tree 755 of 1000\n"
     ]
    },
    {
     "name": "stderr",
     "output_type": "stream",
     "text": [
      "[Parallel(n_jobs=-1)]: Done 752 tasks      | elapsed: 24.3min\n"
     ]
    },
    {
     "name": "stdout",
     "output_type": "stream",
     "text": [
      "building tree 756 of 1000\n"
     ]
    },
    {
     "name": "stderr",
     "output_type": "stream",
     "text": [
      "[Parallel(n_jobs=-1)]: Done 753 tasks      | elapsed: 24.4min\n"
     ]
    },
    {
     "name": "stdout",
     "output_type": "stream",
     "text": [
      "building tree 757 of 1000\n"
     ]
    },
    {
     "name": "stderr",
     "output_type": "stream",
     "text": [
      "[Parallel(n_jobs=-1)]: Done 754 tasks      | elapsed: 24.4min\n"
     ]
    },
    {
     "name": "stdout",
     "output_type": "stream",
     "text": [
      "building tree 758 of 1000\n"
     ]
    },
    {
     "name": "stderr",
     "output_type": "stream",
     "text": [
      "[Parallel(n_jobs=-1)]: Done 755 tasks      | elapsed: 24.4min\n"
     ]
    },
    {
     "name": "stdout",
     "output_type": "stream",
     "text": [
      "building tree 759 of 1000\n"
     ]
    },
    {
     "name": "stderr",
     "output_type": "stream",
     "text": [
      "[Parallel(n_jobs=-1)]: Done 756 tasks      | elapsed: 24.4min\n"
     ]
    },
    {
     "name": "stdout",
     "output_type": "stream",
     "text": [
      "building tree 760 of 1000\n"
     ]
    },
    {
     "name": "stderr",
     "output_type": "stream",
     "text": [
      "[Parallel(n_jobs=-1)]: Done 757 tasks      | elapsed: 24.5min\n"
     ]
    },
    {
     "name": "stdout",
     "output_type": "stream",
     "text": [
      "building tree 761 of 1000\n",
      "building tree 762 of 1000\n"
     ]
    },
    {
     "name": "stderr",
     "output_type": "stream",
     "text": [
      "[Parallel(n_jobs=-1)]: Done 758 tasks      | elapsed: 24.5min\n",
      "[Parallel(n_jobs=-1)]: Done 759 tasks      | elapsed: 24.5min\n"
     ]
    },
    {
     "name": "stdout",
     "output_type": "stream",
     "text": [
      "building tree 763 of 1000\n"
     ]
    },
    {
     "name": "stderr",
     "output_type": "stream",
     "text": [
      "[Parallel(n_jobs=-1)]: Done 760 tasks      | elapsed: 24.6min\n"
     ]
    },
    {
     "name": "stdout",
     "output_type": "stream",
     "text": [
      "building tree 764 of 1000\n"
     ]
    },
    {
     "name": "stderr",
     "output_type": "stream",
     "text": [
      "[Parallel(n_jobs=-1)]: Done 761 tasks      | elapsed: 24.6min\n"
     ]
    },
    {
     "name": "stdout",
     "output_type": "stream",
     "text": [
      "building tree 765 of 1000\n"
     ]
    },
    {
     "name": "stderr",
     "output_type": "stream",
     "text": [
      "[Parallel(n_jobs=-1)]: Done 762 tasks      | elapsed: 24.6min\n"
     ]
    },
    {
     "name": "stdout",
     "output_type": "stream",
     "text": [
      "building tree 766 of 1000\n"
     ]
    },
    {
     "name": "stderr",
     "output_type": "stream",
     "text": [
      "[Parallel(n_jobs=-1)]: Done 763 tasks      | elapsed: 24.6min\n"
     ]
    },
    {
     "name": "stdout",
     "output_type": "stream",
     "text": [
      "building tree 767 of 1000\n"
     ]
    },
    {
     "name": "stderr",
     "output_type": "stream",
     "text": [
      "[Parallel(n_jobs=-1)]: Done 764 tasks      | elapsed: 24.7min\n"
     ]
    },
    {
     "name": "stdout",
     "output_type": "stream",
     "text": [
      "building tree 768 of 1000\n"
     ]
    },
    {
     "name": "stderr",
     "output_type": "stream",
     "text": [
      "[Parallel(n_jobs=-1)]: Done 765 tasks      | elapsed: 24.7min\n"
     ]
    },
    {
     "name": "stdout",
     "output_type": "stream",
     "text": [
      "building tree 769 of 1000\n"
     ]
    },
    {
     "name": "stderr",
     "output_type": "stream",
     "text": [
      "[Parallel(n_jobs=-1)]: Done 766 tasks      | elapsed: 24.7min\n"
     ]
    },
    {
     "name": "stdout",
     "output_type": "stream",
     "text": [
      "building tree 770 of 1000\n",
      "building tree 771 of 1000\n"
     ]
    },
    {
     "name": "stderr",
     "output_type": "stream",
     "text": [
      "[Parallel(n_jobs=-1)]: Done 767 tasks      | elapsed: 24.8min\n",
      "[Parallel(n_jobs=-1)]: Done 768 tasks      | elapsed: 24.8min\n"
     ]
    },
    {
     "name": "stdout",
     "output_type": "stream",
     "text": [
      "building tree 772 of 1000\n"
     ]
    },
    {
     "name": "stderr",
     "output_type": "stream",
     "text": [
      "[Parallel(n_jobs=-1)]: Done 769 tasks      | elapsed: 24.8min\n"
     ]
    },
    {
     "name": "stdout",
     "output_type": "stream",
     "text": [
      "building tree 773 of 1000\n"
     ]
    },
    {
     "name": "stderr",
     "output_type": "stream",
     "text": [
      "[Parallel(n_jobs=-1)]: Done 770 tasks      | elapsed: 24.9min\n"
     ]
    },
    {
     "name": "stdout",
     "output_type": "stream",
     "text": [
      "building tree 774 of 1000\n"
     ]
    },
    {
     "name": "stderr",
     "output_type": "stream",
     "text": [
      "[Parallel(n_jobs=-1)]: Done 771 tasks      | elapsed: 24.9min\n"
     ]
    },
    {
     "name": "stdout",
     "output_type": "stream",
     "text": [
      "building tree 775 of 1000\n"
     ]
    },
    {
     "name": "stderr",
     "output_type": "stream",
     "text": [
      "[Parallel(n_jobs=-1)]: Done 772 tasks      | elapsed: 24.9min\n"
     ]
    },
    {
     "name": "stdout",
     "output_type": "stream",
     "text": [
      "building tree 776 of 1000\n"
     ]
    },
    {
     "name": "stderr",
     "output_type": "stream",
     "text": [
      "[Parallel(n_jobs=-1)]: Done 773 tasks      | elapsed: 25.0min\n"
     ]
    },
    {
     "name": "stdout",
     "output_type": "stream",
     "text": [
      "building tree 777 of 1000\n"
     ]
    },
    {
     "name": "stderr",
     "output_type": "stream",
     "text": [
      "[Parallel(n_jobs=-1)]: Done 774 tasks      | elapsed: 25.0min\n"
     ]
    },
    {
     "name": "stdout",
     "output_type": "stream",
     "text": [
      "building tree 778 of 1000\n"
     ]
    },
    {
     "name": "stderr",
     "output_type": "stream",
     "text": [
      "[Parallel(n_jobs=-1)]: Done 775 tasks      | elapsed: 25.0min\n"
     ]
    },
    {
     "name": "stdout",
     "output_type": "stream",
     "text": [
      "building tree 779 of 1000\n"
     ]
    },
    {
     "name": "stderr",
     "output_type": "stream",
     "text": [
      "[Parallel(n_jobs=-1)]: Done 776 tasks      | elapsed: 25.1min\n"
     ]
    },
    {
     "name": "stdout",
     "output_type": "stream",
     "text": [
      "building tree 780 of 1000\n"
     ]
    },
    {
     "name": "stderr",
     "output_type": "stream",
     "text": [
      "[Parallel(n_jobs=-1)]: Done 777 tasks      | elapsed: 25.1min\n"
     ]
    },
    {
     "name": "stdout",
     "output_type": "stream",
     "text": [
      "building tree 781 of 1000\n"
     ]
    },
    {
     "name": "stderr",
     "output_type": "stream",
     "text": [
      "[Parallel(n_jobs=-1)]: Done 778 tasks      | elapsed: 25.1min\n"
     ]
    },
    {
     "name": "stdout",
     "output_type": "stream",
     "text": [
      "building tree 782 of 1000\n",
      "building tree 783 of 1000\n"
     ]
    },
    {
     "name": "stderr",
     "output_type": "stream",
     "text": [
      "[Parallel(n_jobs=-1)]: Done 779 tasks      | elapsed: 25.1min\n",
      "[Parallel(n_jobs=-1)]: Done 780 tasks      | elapsed: 25.2min\n"
     ]
    },
    {
     "name": "stdout",
     "output_type": "stream",
     "text": [
      "building tree 784 of 1000\n",
      "building tree 785 of 1000\n"
     ]
    },
    {
     "name": "stderr",
     "output_type": "stream",
     "text": [
      "[Parallel(n_jobs=-1)]: Done 781 tasks      | elapsed: 25.2min\n",
      "[Parallel(n_jobs=-1)]: Done 782 tasks      | elapsed: 25.2min\n"
     ]
    },
    {
     "name": "stdout",
     "output_type": "stream",
     "text": [
      "building tree 786 of 1000\n"
     ]
    },
    {
     "name": "stderr",
     "output_type": "stream",
     "text": [
      "[Parallel(n_jobs=-1)]: Done 783 tasks      | elapsed: 25.3min\n"
     ]
    },
    {
     "name": "stdout",
     "output_type": "stream",
     "text": [
      "building tree 787 of 1000\n",
      "building tree 788 of 1000\n"
     ]
    },
    {
     "name": "stderr",
     "output_type": "stream",
     "text": [
      "[Parallel(n_jobs=-1)]: Done 784 tasks      | elapsed: 25.3min\n",
      "[Parallel(n_jobs=-1)]: Done 785 tasks      | elapsed: 25.3min\n"
     ]
    },
    {
     "name": "stdout",
     "output_type": "stream",
     "text": [
      "building tree 789 of 1000\n"
     ]
    },
    {
     "name": "stderr",
     "output_type": "stream",
     "text": [
      "[Parallel(n_jobs=-1)]: Done 786 tasks      | elapsed: 25.4min\n"
     ]
    },
    {
     "name": "stdout",
     "output_type": "stream",
     "text": [
      "building tree 790 of 1000\n",
      "building tree 791 of 1000\n"
     ]
    },
    {
     "name": "stderr",
     "output_type": "stream",
     "text": [
      "[Parallel(n_jobs=-1)]: Done 787 tasks      | elapsed: 25.4min\n",
      "[Parallel(n_jobs=-1)]: Done 788 tasks      | elapsed: 25.4min\n"
     ]
    },
    {
     "name": "stdout",
     "output_type": "stream",
     "text": [
      "building tree 792 of 1000\n"
     ]
    },
    {
     "name": "stderr",
     "output_type": "stream",
     "text": [
      "[Parallel(n_jobs=-1)]: Done 789 tasks      | elapsed: 25.5min\n"
     ]
    },
    {
     "name": "stdout",
     "output_type": "stream",
     "text": [
      "building tree 793 of 1000\n"
     ]
    },
    {
     "name": "stderr",
     "output_type": "stream",
     "text": [
      "[Parallel(n_jobs=-1)]: Done 790 tasks      | elapsed: 25.5min\n"
     ]
    },
    {
     "name": "stdout",
     "output_type": "stream",
     "text": [
      "building tree 794 of 1000\n"
     ]
    },
    {
     "name": "stderr",
     "output_type": "stream",
     "text": [
      "[Parallel(n_jobs=-1)]: Done 791 tasks      | elapsed: 25.5min\n"
     ]
    },
    {
     "name": "stdout",
     "output_type": "stream",
     "text": [
      "building tree 795 of 1000\n"
     ]
    },
    {
     "name": "stderr",
     "output_type": "stream",
     "text": [
      "[Parallel(n_jobs=-1)]: Done 792 tasks      | elapsed: 25.6min\n"
     ]
    },
    {
     "name": "stdout",
     "output_type": "stream",
     "text": [
      "building tree 796 of 1000\n"
     ]
    },
    {
     "name": "stderr",
     "output_type": "stream",
     "text": [
      "[Parallel(n_jobs=-1)]: Done 793 tasks      | elapsed: 25.6min\n"
     ]
    },
    {
     "name": "stdout",
     "output_type": "stream",
     "text": [
      "building tree 797 of 1000\n"
     ]
    },
    {
     "name": "stderr",
     "output_type": "stream",
     "text": [
      "[Parallel(n_jobs=-1)]: Done 794 tasks      | elapsed: 25.6min\n"
     ]
    },
    {
     "name": "stdout",
     "output_type": "stream",
     "text": [
      "building tree 798 of 1000\n"
     ]
    },
    {
     "name": "stderr",
     "output_type": "stream",
     "text": [
      "[Parallel(n_jobs=-1)]: Done 795 tasks      | elapsed: 25.6min\n"
     ]
    },
    {
     "name": "stdout",
     "output_type": "stream",
     "text": [
      "building tree 799 of 1000\n"
     ]
    },
    {
     "name": "stderr",
     "output_type": "stream",
     "text": [
      "[Parallel(n_jobs=-1)]: Done 796 tasks      | elapsed: 25.7min\n"
     ]
    },
    {
     "name": "stdout",
     "output_type": "stream",
     "text": [
      "building tree 800 of 1000\n"
     ]
    },
    {
     "name": "stderr",
     "output_type": "stream",
     "text": [
      "[Parallel(n_jobs=-1)]: Done 797 tasks      | elapsed: 25.7min\n"
     ]
    },
    {
     "name": "stdout",
     "output_type": "stream",
     "text": [
      "building tree 801 of 1000\n"
     ]
    },
    {
     "name": "stderr",
     "output_type": "stream",
     "text": [
      "[Parallel(n_jobs=-1)]: Done 798 tasks      | elapsed: 25.7min\n"
     ]
    },
    {
     "name": "stdout",
     "output_type": "stream",
     "text": [
      "building tree 802 of 1000\n"
     ]
    },
    {
     "name": "stderr",
     "output_type": "stream",
     "text": [
      "[Parallel(n_jobs=-1)]: Done 799 tasks      | elapsed: 25.8min\n"
     ]
    },
    {
     "name": "stdout",
     "output_type": "stream",
     "text": [
      "building tree 803 of 1000\n"
     ]
    },
    {
     "name": "stderr",
     "output_type": "stream",
     "text": [
      "[Parallel(n_jobs=-1)]: Done 800 tasks      | elapsed: 25.8min\n"
     ]
    },
    {
     "name": "stdout",
     "output_type": "stream",
     "text": [
      "building tree 804 of 1000\n"
     ]
    },
    {
     "name": "stderr",
     "output_type": "stream",
     "text": [
      "[Parallel(n_jobs=-1)]: Done 801 tasks      | elapsed: 25.9min\n"
     ]
    },
    {
     "name": "stdout",
     "output_type": "stream",
     "text": [
      "building tree 805 of 1000\n"
     ]
    },
    {
     "name": "stderr",
     "output_type": "stream",
     "text": [
      "[Parallel(n_jobs=-1)]: Done 802 tasks      | elapsed: 25.9min\n"
     ]
    },
    {
     "name": "stdout",
     "output_type": "stream",
     "text": [
      "building tree 806 of 1000\n"
     ]
    },
    {
     "name": "stderr",
     "output_type": "stream",
     "text": [
      "[Parallel(n_jobs=-1)]: Done 803 tasks      | elapsed: 25.9min\n"
     ]
    },
    {
     "name": "stdout",
     "output_type": "stream",
     "text": [
      "building tree 807 of 1000\n"
     ]
    },
    {
     "name": "stderr",
     "output_type": "stream",
     "text": [
      "[Parallel(n_jobs=-1)]: Done 804 tasks      | elapsed: 25.9min\n"
     ]
    },
    {
     "name": "stdout",
     "output_type": "stream",
     "text": [
      "building tree 808 of 1000\n"
     ]
    },
    {
     "name": "stderr",
     "output_type": "stream",
     "text": [
      "[Parallel(n_jobs=-1)]: Done 805 tasks      | elapsed: 26.0min\n"
     ]
    },
    {
     "name": "stdout",
     "output_type": "stream",
     "text": [
      "building tree 809 of 1000\n"
     ]
    },
    {
     "name": "stderr",
     "output_type": "stream",
     "text": [
      "[Parallel(n_jobs=-1)]: Done 806 tasks      | elapsed: 26.0min\n"
     ]
    },
    {
     "name": "stdout",
     "output_type": "stream",
     "text": [
      "building tree 810 of 1000\n"
     ]
    },
    {
     "name": "stderr",
     "output_type": "stream",
     "text": [
      "[Parallel(n_jobs=-1)]: Done 807 tasks      | elapsed: 26.0min\n"
     ]
    },
    {
     "name": "stdout",
     "output_type": "stream",
     "text": [
      "building tree 811 of 1000\n"
     ]
    },
    {
     "name": "stderr",
     "output_type": "stream",
     "text": [
      "[Parallel(n_jobs=-1)]: Done 808 tasks      | elapsed: 26.1min\n"
     ]
    },
    {
     "name": "stdout",
     "output_type": "stream",
     "text": [
      "building tree 812 of 1000\n"
     ]
    },
    {
     "name": "stderr",
     "output_type": "stream",
     "text": [
      "[Parallel(n_jobs=-1)]: Done 809 tasks      | elapsed: 26.1min\n"
     ]
    },
    {
     "name": "stdout",
     "output_type": "stream",
     "text": [
      "building tree 813 of 1000\n"
     ]
    },
    {
     "name": "stderr",
     "output_type": "stream",
     "text": [
      "[Parallel(n_jobs=-1)]: Done 810 tasks      | elapsed: 26.1min\n"
     ]
    },
    {
     "name": "stdout",
     "output_type": "stream",
     "text": [
      "building tree 814 of 1000\n"
     ]
    },
    {
     "name": "stderr",
     "output_type": "stream",
     "text": [
      "[Parallel(n_jobs=-1)]: Done 811 tasks      | elapsed: 26.1min\n"
     ]
    },
    {
     "name": "stdout",
     "output_type": "stream",
     "text": [
      "building tree 815 of 1000\n"
     ]
    },
    {
     "name": "stderr",
     "output_type": "stream",
     "text": [
      "[Parallel(n_jobs=-1)]: Done 812 tasks      | elapsed: 26.2min\n"
     ]
    },
    {
     "name": "stdout",
     "output_type": "stream",
     "text": [
      "building tree 816 of 1000\n"
     ]
    },
    {
     "name": "stderr",
     "output_type": "stream",
     "text": [
      "[Parallel(n_jobs=-1)]: Done 813 tasks      | elapsed: 26.2min\n"
     ]
    },
    {
     "name": "stdout",
     "output_type": "stream",
     "text": [
      "building tree 817 of 1000\n",
      "building tree 818 of 1000\n"
     ]
    },
    {
     "name": "stderr",
     "output_type": "stream",
     "text": [
      "[Parallel(n_jobs=-1)]: Done 814 tasks      | elapsed: 26.2min\n",
      "[Parallel(n_jobs=-1)]: Done 815 tasks      | elapsed: 26.3min\n"
     ]
    },
    {
     "name": "stdout",
     "output_type": "stream",
     "text": [
      "building tree 819 of 1000\n"
     ]
    },
    {
     "name": "stderr",
     "output_type": "stream",
     "text": [
      "[Parallel(n_jobs=-1)]: Done 816 tasks      | elapsed: 26.3min\n"
     ]
    },
    {
     "name": "stdout",
     "output_type": "stream",
     "text": [
      "building tree 820 of 1000\n"
     ]
    },
    {
     "name": "stderr",
     "output_type": "stream",
     "text": [
      "[Parallel(n_jobs=-1)]: Done 817 tasks      | elapsed: 26.4min\n"
     ]
    },
    {
     "name": "stdout",
     "output_type": "stream",
     "text": [
      "building tree 821 of 1000\n"
     ]
    },
    {
     "name": "stderr",
     "output_type": "stream",
     "text": [
      "[Parallel(n_jobs=-1)]: Done 818 tasks      | elapsed: 26.4min\n"
     ]
    },
    {
     "name": "stdout",
     "output_type": "stream",
     "text": [
      "building tree 822 of 1000\n"
     ]
    },
    {
     "name": "stderr",
     "output_type": "stream",
     "text": [
      "[Parallel(n_jobs=-1)]: Done 819 tasks      | elapsed: 26.4min\n"
     ]
    },
    {
     "name": "stdout",
     "output_type": "stream",
     "text": [
      "building tree 823 of 1000\n"
     ]
    },
    {
     "name": "stderr",
     "output_type": "stream",
     "text": [
      "[Parallel(n_jobs=-1)]: Done 820 tasks      | elapsed: 26.4min\n"
     ]
    },
    {
     "name": "stdout",
     "output_type": "stream",
     "text": [
      "building tree 824 of 1000\n"
     ]
    },
    {
     "name": "stderr",
     "output_type": "stream",
     "text": [
      "[Parallel(n_jobs=-1)]: Done 821 tasks      | elapsed: 26.5min\n"
     ]
    },
    {
     "name": "stdout",
     "output_type": "stream",
     "text": [
      "building tree 825 of 1000\n"
     ]
    },
    {
     "name": "stderr",
     "output_type": "stream",
     "text": [
      "[Parallel(n_jobs=-1)]: Done 822 tasks      | elapsed: 26.5min\n"
     ]
    },
    {
     "name": "stdout",
     "output_type": "stream",
     "text": [
      "building tree 826 of 1000\n"
     ]
    },
    {
     "name": "stderr",
     "output_type": "stream",
     "text": [
      "[Parallel(n_jobs=-1)]: Done 823 tasks      | elapsed: 26.5min\n"
     ]
    },
    {
     "name": "stdout",
     "output_type": "stream",
     "text": [
      "building tree 827 of 1000\n"
     ]
    },
    {
     "name": "stderr",
     "output_type": "stream",
     "text": [
      "[Parallel(n_jobs=-1)]: Done 824 tasks      | elapsed: 26.5min\n"
     ]
    },
    {
     "name": "stdout",
     "output_type": "stream",
     "text": [
      "building tree 828 of 1000\n"
     ]
    },
    {
     "name": "stderr",
     "output_type": "stream",
     "text": [
      "[Parallel(n_jobs=-1)]: Done 825 tasks      | elapsed: 26.6min\n"
     ]
    },
    {
     "name": "stdout",
     "output_type": "stream",
     "text": [
      "building tree 829 of 1000\n"
     ]
    },
    {
     "name": "stderr",
     "output_type": "stream",
     "text": [
      "[Parallel(n_jobs=-1)]: Done 826 tasks      | elapsed: 26.6min\n"
     ]
    },
    {
     "name": "stdout",
     "output_type": "stream",
     "text": [
      "building tree 830 of 1000\n"
     ]
    },
    {
     "name": "stderr",
     "output_type": "stream",
     "text": [
      "[Parallel(n_jobs=-1)]: Done 827 tasks      | elapsed: 26.6min\n"
     ]
    },
    {
     "name": "stdout",
     "output_type": "stream",
     "text": [
      "building tree 831 of 1000\n"
     ]
    },
    {
     "name": "stderr",
     "output_type": "stream",
     "text": [
      "[Parallel(n_jobs=-1)]: Done 828 tasks      | elapsed: 26.7min\n"
     ]
    },
    {
     "name": "stdout",
     "output_type": "stream",
     "text": [
      "building tree 832 of 1000\n"
     ]
    },
    {
     "name": "stderr",
     "output_type": "stream",
     "text": [
      "[Parallel(n_jobs=-1)]: Done 829 tasks      | elapsed: 26.7min\n"
     ]
    },
    {
     "name": "stdout",
     "output_type": "stream",
     "text": [
      "building tree 833 of 1000\n"
     ]
    },
    {
     "name": "stderr",
     "output_type": "stream",
     "text": [
      "[Parallel(n_jobs=-1)]: Done 830 tasks      | elapsed: 26.7min\n"
     ]
    },
    {
     "name": "stdout",
     "output_type": "stream",
     "text": [
      "building tree 834 of 1000\n"
     ]
    },
    {
     "name": "stderr",
     "output_type": "stream",
     "text": [
      "[Parallel(n_jobs=-1)]: Done 831 tasks      | elapsed: 26.8min\n"
     ]
    },
    {
     "name": "stdout",
     "output_type": "stream",
     "text": [
      "building tree 835 of 1000\n",
      "building tree 836 of 1000\n"
     ]
    },
    {
     "name": "stderr",
     "output_type": "stream",
     "text": [
      "[Parallel(n_jobs=-1)]: Done 832 tasks      | elapsed: 26.8min\n",
      "[Parallel(n_jobs=-1)]: Done 833 tasks      | elapsed: 26.8min\n",
      "[Parallel(n_jobs=-1)]: Done 834 tasks      | elapsed: 26.9min\n"
     ]
    },
    {
     "name": "stdout",
     "output_type": "stream",
     "text": [
      "building tree 837 of 1000\n",
      "building tree 838 of 1000\n"
     ]
    },
    {
     "name": "stderr",
     "output_type": "stream",
     "text": [
      "[Parallel(n_jobs=-1)]: Done 835 tasks      | elapsed: 26.9min\n"
     ]
    },
    {
     "name": "stdout",
     "output_type": "stream",
     "text": [
      "building tree 839 of 1000\n"
     ]
    },
    {
     "name": "stderr",
     "output_type": "stream",
     "text": [
      "[Parallel(n_jobs=-1)]: Done 836 tasks      | elapsed: 26.9min\n"
     ]
    },
    {
     "name": "stdout",
     "output_type": "stream",
     "text": [
      "building tree 840 of 1000\n"
     ]
    },
    {
     "name": "stderr",
     "output_type": "stream",
     "text": [
      "[Parallel(n_jobs=-1)]: Done 837 tasks      | elapsed: 27.0min\n"
     ]
    },
    {
     "name": "stdout",
     "output_type": "stream",
     "text": [
      "building tree 841 of 1000\n"
     ]
    },
    {
     "name": "stderr",
     "output_type": "stream",
     "text": [
      "[Parallel(n_jobs=-1)]: Done 838 tasks      | elapsed: 27.0min\n"
     ]
    },
    {
     "name": "stdout",
     "output_type": "stream",
     "text": [
      "building tree 842 of 1000\n"
     ]
    },
    {
     "name": "stderr",
     "output_type": "stream",
     "text": [
      "[Parallel(n_jobs=-1)]: Done 839 tasks      | elapsed: 27.0min\n"
     ]
    },
    {
     "name": "stdout",
     "output_type": "stream",
     "text": [
      "building tree 843 of 1000\n"
     ]
    },
    {
     "name": "stderr",
     "output_type": "stream",
     "text": [
      "[Parallel(n_jobs=-1)]: Done 840 tasks      | elapsed: 27.0min\n"
     ]
    },
    {
     "name": "stdout",
     "output_type": "stream",
     "text": [
      "building tree 844 of 1000\n"
     ]
    },
    {
     "name": "stderr",
     "output_type": "stream",
     "text": [
      "[Parallel(n_jobs=-1)]: Done 841 tasks      | elapsed: 27.1min\n"
     ]
    },
    {
     "name": "stdout",
     "output_type": "stream",
     "text": [
      "building tree 845 of 1000\n"
     ]
    },
    {
     "name": "stderr",
     "output_type": "stream",
     "text": [
      "[Parallel(n_jobs=-1)]: Done 842 tasks      | elapsed: 27.1min\n"
     ]
    },
    {
     "name": "stdout",
     "output_type": "stream",
     "text": [
      "building tree 846 of 1000\n"
     ]
    },
    {
     "name": "stderr",
     "output_type": "stream",
     "text": [
      "[Parallel(n_jobs=-1)]: Done 843 tasks      | elapsed: 27.1min\n"
     ]
    },
    {
     "name": "stdout",
     "output_type": "stream",
     "text": [
      "building tree 847 of 1000\n"
     ]
    },
    {
     "name": "stderr",
     "output_type": "stream",
     "text": [
      "[Parallel(n_jobs=-1)]: Done 844 tasks      | elapsed: 27.2min\n"
     ]
    },
    {
     "name": "stdout",
     "output_type": "stream",
     "text": [
      "building tree 848 of 1000\n"
     ]
    },
    {
     "name": "stderr",
     "output_type": "stream",
     "text": [
      "[Parallel(n_jobs=-1)]: Done 845 tasks      | elapsed: 27.2min\n"
     ]
    },
    {
     "name": "stdout",
     "output_type": "stream",
     "text": [
      "building tree 849 of 1000\n"
     ]
    },
    {
     "name": "stderr",
     "output_type": "stream",
     "text": [
      "[Parallel(n_jobs=-1)]: Done 846 tasks      | elapsed: 27.2min\n"
     ]
    },
    {
     "name": "stdout",
     "output_type": "stream",
     "text": [
      "building tree 850 of 1000\n",
      "building tree 851 of 1000\n"
     ]
    },
    {
     "name": "stderr",
     "output_type": "stream",
     "text": [
      "[Parallel(n_jobs=-1)]: Done 847 tasks      | elapsed: 27.2min\n",
      "[Parallel(n_jobs=-1)]: Done 848 tasks      | elapsed: 27.3min\n"
     ]
    },
    {
     "name": "stdout",
     "output_type": "stream",
     "text": [
      "building tree 852 of 1000\n"
     ]
    },
    {
     "name": "stderr",
     "output_type": "stream",
     "text": [
      "[Parallel(n_jobs=-1)]: Done 849 tasks      | elapsed: 27.3min\n"
     ]
    },
    {
     "name": "stdout",
     "output_type": "stream",
     "text": [
      "building tree 853 of 1000\n"
     ]
    },
    {
     "name": "stderr",
     "output_type": "stream",
     "text": [
      "[Parallel(n_jobs=-1)]: Done 850 tasks      | elapsed: 27.3min\n"
     ]
    },
    {
     "name": "stdout",
     "output_type": "stream",
     "text": [
      "building tree 854 of 1000\n"
     ]
    },
    {
     "name": "stderr",
     "output_type": "stream",
     "text": [
      "[Parallel(n_jobs=-1)]: Done 851 tasks      | elapsed: 27.4min\n"
     ]
    },
    {
     "name": "stdout",
     "output_type": "stream",
     "text": [
      "building tree 855 of 1000\n",
      "building tree 856 of 1000\n"
     ]
    },
    {
     "name": "stderr",
     "output_type": "stream",
     "text": [
      "[Parallel(n_jobs=-1)]: Done 852 tasks      | elapsed: 27.4min\n",
      "[Parallel(n_jobs=-1)]: Done 853 tasks      | elapsed: 27.5min\n",
      "[Parallel(n_jobs=-1)]: Done 854 tasks      | elapsed: 27.5min\n"
     ]
    },
    {
     "name": "stdout",
     "output_type": "stream",
     "text": [
      "building tree 857 of 1000\n",
      "building tree 858 of 1000\n"
     ]
    },
    {
     "name": "stderr",
     "output_type": "stream",
     "text": [
      "[Parallel(n_jobs=-1)]: Done 855 tasks      | elapsed: 27.5min\n"
     ]
    },
    {
     "name": "stdout",
     "output_type": "stream",
     "text": [
      "building tree 859 of 1000\n"
     ]
    },
    {
     "name": "stderr",
     "output_type": "stream",
     "text": [
      "[Parallel(n_jobs=-1)]: Done 856 tasks      | elapsed: 27.6min\n"
     ]
    },
    {
     "name": "stdout",
     "output_type": "stream",
     "text": [
      "building tree 860 of 1000\n"
     ]
    },
    {
     "name": "stderr",
     "output_type": "stream",
     "text": [
      "[Parallel(n_jobs=-1)]: Done 857 tasks      | elapsed: 27.6min\n",
      "[Parallel(n_jobs=-1)]: Done 858 tasks      | elapsed: 27.6min\n"
     ]
    },
    {
     "name": "stdout",
     "output_type": "stream",
     "text": [
      "building tree 861 of 1000\n",
      "building tree 862 of 1000\n"
     ]
    },
    {
     "name": "stderr",
     "output_type": "stream",
     "text": [
      "[Parallel(n_jobs=-1)]: Done 859 tasks      | elapsed: 27.6min\n"
     ]
    },
    {
     "name": "stdout",
     "output_type": "stream",
     "text": [
      "building tree 863 of 1000\n"
     ]
    },
    {
     "name": "stderr",
     "output_type": "stream",
     "text": [
      "[Parallel(n_jobs=-1)]: Done 860 tasks      | elapsed: 27.7min\n"
     ]
    },
    {
     "name": "stdout",
     "output_type": "stream",
     "text": [
      "building tree 864 of 1000\n"
     ]
    },
    {
     "name": "stderr",
     "output_type": "stream",
     "text": [
      "[Parallel(n_jobs=-1)]: Done 861 tasks      | elapsed: 27.7min\n",
      "[Parallel(n_jobs=-1)]: Done 862 tasks      | elapsed: 27.7min\n"
     ]
    },
    {
     "name": "stdout",
     "output_type": "stream",
     "text": [
      "building tree 865 of 1000\n",
      "building tree 866 of 1000\n"
     ]
    },
    {
     "name": "stderr",
     "output_type": "stream",
     "text": [
      "[Parallel(n_jobs=-1)]: Done 863 tasks      | elapsed: 27.7min\n"
     ]
    },
    {
     "name": "stdout",
     "output_type": "stream",
     "text": [
      "building tree 867 of 1000\n"
     ]
    },
    {
     "name": "stderr",
     "output_type": "stream",
     "text": [
      "[Parallel(n_jobs=-1)]: Done 864 tasks      | elapsed: 27.8min\n"
     ]
    },
    {
     "name": "stdout",
     "output_type": "stream",
     "text": [
      "building tree 868 of 1000\n"
     ]
    },
    {
     "name": "stderr",
     "output_type": "stream",
     "text": [
      "[Parallel(n_jobs=-1)]: Done 865 tasks      | elapsed: 27.8min\n",
      "[Parallel(n_jobs=-1)]: Done 866 tasks      | elapsed: 27.8min\n"
     ]
    },
    {
     "name": "stdout",
     "output_type": "stream",
     "text": [
      "building tree 869 of 1000\n",
      "building tree 870 of 1000\n"
     ]
    },
    {
     "name": "stderr",
     "output_type": "stream",
     "text": [
      "[Parallel(n_jobs=-1)]: Done 867 tasks      | elapsed: 27.9min\n"
     ]
    },
    {
     "name": "stdout",
     "output_type": "stream",
     "text": [
      "building tree 871 of 1000\n"
     ]
    },
    {
     "name": "stderr",
     "output_type": "stream",
     "text": [
      "[Parallel(n_jobs=-1)]: Done 868 tasks      | elapsed: 27.9min\n"
     ]
    },
    {
     "name": "stdout",
     "output_type": "stream",
     "text": [
      "building tree 872 of 1000\n"
     ]
    },
    {
     "name": "stderr",
     "output_type": "stream",
     "text": [
      "[Parallel(n_jobs=-1)]: Done 869 tasks      | elapsed: 28.0min\n",
      "[Parallel(n_jobs=-1)]: Done 870 tasks      | elapsed: 28.0min\n"
     ]
    },
    {
     "name": "stdout",
     "output_type": "stream",
     "text": [
      "building tree 873 of 1000\n",
      "building tree 874 of 1000\n"
     ]
    },
    {
     "name": "stderr",
     "output_type": "stream",
     "text": [
      "[Parallel(n_jobs=-1)]: Done 871 tasks      | elapsed: 28.0min\n"
     ]
    },
    {
     "name": "stdout",
     "output_type": "stream",
     "text": [
      "building tree 875 of 1000\n",
      "building tree 876 of 1000\n"
     ]
    },
    {
     "name": "stderr",
     "output_type": "stream",
     "text": [
      "[Parallel(n_jobs=-1)]: Done 872 tasks      | elapsed: 28.0min\n",
      "[Parallel(n_jobs=-1)]: Done 873 tasks      | elapsed: 28.1min\n",
      "[Parallel(n_jobs=-1)]: Done 874 tasks      | elapsed: 28.1min\n"
     ]
    },
    {
     "name": "stdout",
     "output_type": "stream",
     "text": [
      "building tree 877 of 1000\n",
      "building tree 878 of 1000\n"
     ]
    },
    {
     "name": "stderr",
     "output_type": "stream",
     "text": [
      "[Parallel(n_jobs=-1)]: Done 875 tasks      | elapsed: 28.1min\n"
     ]
    },
    {
     "name": "stdout",
     "output_type": "stream",
     "text": [
      "building tree 879 of 1000\n"
     ]
    },
    {
     "name": "stderr",
     "output_type": "stream",
     "text": [
      "[Parallel(n_jobs=-1)]: Done 876 tasks      | elapsed: 28.2min\n"
     ]
    },
    {
     "name": "stdout",
     "output_type": "stream",
     "text": [
      "building tree 880 of 1000\n"
     ]
    },
    {
     "name": "stderr",
     "output_type": "stream",
     "text": [
      "[Parallel(n_jobs=-1)]: Done 877 tasks      | elapsed: 28.2min\n"
     ]
    },
    {
     "name": "stdout",
     "output_type": "stream",
     "text": [
      "building tree 881 of 1000\n"
     ]
    },
    {
     "name": "stderr",
     "output_type": "stream",
     "text": [
      "[Parallel(n_jobs=-1)]: Done 878 tasks      | elapsed: 28.2min\n"
     ]
    },
    {
     "name": "stdout",
     "output_type": "stream",
     "text": [
      "building tree 882 of 1000\n"
     ]
    },
    {
     "name": "stderr",
     "output_type": "stream",
     "text": [
      "[Parallel(n_jobs=-1)]: Done 879 tasks      | elapsed: 28.2min\n"
     ]
    },
    {
     "name": "stdout",
     "output_type": "stream",
     "text": [
      "building tree 883 of 1000\n"
     ]
    },
    {
     "name": "stderr",
     "output_type": "stream",
     "text": [
      "[Parallel(n_jobs=-1)]: Done 880 tasks      | elapsed: 28.3min\n"
     ]
    },
    {
     "name": "stdout",
     "output_type": "stream",
     "text": [
      "building tree 884 of 1000\n"
     ]
    },
    {
     "name": "stderr",
     "output_type": "stream",
     "text": [
      "[Parallel(n_jobs=-1)]: Done 881 tasks      | elapsed: 28.3min\n"
     ]
    },
    {
     "name": "stdout",
     "output_type": "stream",
     "text": [
      "building tree 885 of 1000\n"
     ]
    },
    {
     "name": "stderr",
     "output_type": "stream",
     "text": [
      "[Parallel(n_jobs=-1)]: Done 882 tasks      | elapsed: 28.3min\n"
     ]
    },
    {
     "name": "stdout",
     "output_type": "stream",
     "text": [
      "building tree 886 of 1000\n"
     ]
    },
    {
     "name": "stderr",
     "output_type": "stream",
     "text": [
      "[Parallel(n_jobs=-1)]: Done 883 tasks      | elapsed: 28.4min\n"
     ]
    },
    {
     "name": "stdout",
     "output_type": "stream",
     "text": [
      "building tree 887 of 1000\n"
     ]
    },
    {
     "name": "stderr",
     "output_type": "stream",
     "text": [
      "[Parallel(n_jobs=-1)]: Done 884 tasks      | elapsed: 28.4min\n"
     ]
    },
    {
     "name": "stdout",
     "output_type": "stream",
     "text": [
      "building tree 888 of 1000\n"
     ]
    },
    {
     "name": "stderr",
     "output_type": "stream",
     "text": [
      "[Parallel(n_jobs=-1)]: Done 885 tasks      | elapsed: 28.5min\n",
      "[Parallel(n_jobs=-1)]: Done 886 tasks      | elapsed: 28.5min\n"
     ]
    },
    {
     "name": "stdout",
     "output_type": "stream",
     "text": [
      "building tree 889 of 1000\n",
      "building tree 890 of 1000\n"
     ]
    },
    {
     "name": "stderr",
     "output_type": "stream",
     "text": [
      "[Parallel(n_jobs=-1)]: Done 887 tasks      | elapsed: 28.5min\n"
     ]
    },
    {
     "name": "stdout",
     "output_type": "stream",
     "text": [
      "building tree 891 of 1000\n"
     ]
    },
    {
     "name": "stderr",
     "output_type": "stream",
     "text": [
      "[Parallel(n_jobs=-1)]: Done 888 tasks      | elapsed: 28.6min\n"
     ]
    },
    {
     "name": "stdout",
     "output_type": "stream",
     "text": [
      "building tree 892 of 1000\n"
     ]
    },
    {
     "name": "stderr",
     "output_type": "stream",
     "text": [
      "[Parallel(n_jobs=-1)]: Done 889 tasks      | elapsed: 28.6min\n",
      "[Parallel(n_jobs=-1)]: Done 890 tasks      | elapsed: 28.6min\n"
     ]
    },
    {
     "name": "stdout",
     "output_type": "stream",
     "text": [
      "building tree 893 of 1000\n",
      "building tree 894 of 1000\n"
     ]
    },
    {
     "name": "stderr",
     "output_type": "stream",
     "text": [
      "[Parallel(n_jobs=-1)]: Done 891 tasks      | elapsed: 28.7min\n"
     ]
    },
    {
     "name": "stdout",
     "output_type": "stream",
     "text": [
      "building tree 895 of 1000\n"
     ]
    },
    {
     "name": "stderr",
     "output_type": "stream",
     "text": [
      "[Parallel(n_jobs=-1)]: Done 892 tasks      | elapsed: 28.7min\n"
     ]
    },
    {
     "name": "stdout",
     "output_type": "stream",
     "text": [
      "building tree 896 of 1000\n"
     ]
    },
    {
     "name": "stderr",
     "output_type": "stream",
     "text": [
      "[Parallel(n_jobs=-1)]: Done 893 tasks      | elapsed: 28.8min\n",
      "[Parallel(n_jobs=-1)]: Done 894 tasks      | elapsed: 28.8min\n"
     ]
    },
    {
     "name": "stdout",
     "output_type": "stream",
     "text": [
      "building tree 897 of 1000\n",
      "building tree 898 of 1000\n"
     ]
    },
    {
     "name": "stderr",
     "output_type": "stream",
     "text": [
      "[Parallel(n_jobs=-1)]: Done 895 tasks      | elapsed: 28.8min\n"
     ]
    },
    {
     "name": "stdout",
     "output_type": "stream",
     "text": [
      "building tree 899 of 1000\n"
     ]
    },
    {
     "name": "stderr",
     "output_type": "stream",
     "text": [
      "[Parallel(n_jobs=-1)]: Done 896 tasks      | elapsed: 28.8min\n"
     ]
    },
    {
     "name": "stdout",
     "output_type": "stream",
     "text": [
      "building tree 900 of 1000\n"
     ]
    },
    {
     "name": "stderr",
     "output_type": "stream",
     "text": [
      "[Parallel(n_jobs=-1)]: Done 897 tasks      | elapsed: 28.9min\n",
      "[Parallel(n_jobs=-1)]: Done 898 tasks      | elapsed: 28.9min\n"
     ]
    },
    {
     "name": "stdout",
     "output_type": "stream",
     "text": [
      "building tree 901 of 1000\n",
      "building tree 902 of 1000\n"
     ]
    },
    {
     "name": "stderr",
     "output_type": "stream",
     "text": [
      "[Parallel(n_jobs=-1)]: Done 899 tasks      | elapsed: 28.9min\n"
     ]
    },
    {
     "name": "stdout",
     "output_type": "stream",
     "text": [
      "building tree 903 of 1000\n"
     ]
    },
    {
     "name": "stderr",
     "output_type": "stream",
     "text": [
      "[Parallel(n_jobs=-1)]: Done 900 tasks      | elapsed: 29.0min\n"
     ]
    },
    {
     "name": "stdout",
     "output_type": "stream",
     "text": [
      "building tree 904 of 1000\n"
     ]
    },
    {
     "name": "stderr",
     "output_type": "stream",
     "text": [
      "[Parallel(n_jobs=-1)]: Done 901 tasks      | elapsed: 29.0min\n",
      "[Parallel(n_jobs=-1)]: Done 902 tasks      | elapsed: 29.0min\n"
     ]
    },
    {
     "name": "stdout",
     "output_type": "stream",
     "text": [
      "building tree 905 of 1000\n",
      "building tree 906 of 1000\n",
      "building tree 907 of 1000\n"
     ]
    },
    {
     "name": "stderr",
     "output_type": "stream",
     "text": [
      "[Parallel(n_jobs=-1)]: Done 903 tasks      | elapsed: 29.0min\n",
      "[Parallel(n_jobs=-1)]: Done 904 tasks      | elapsed: 29.1min\n"
     ]
    },
    {
     "name": "stdout",
     "output_type": "stream",
     "text": [
      "building tree 908 of 1000\n"
     ]
    },
    {
     "name": "stderr",
     "output_type": "stream",
     "text": [
      "[Parallel(n_jobs=-1)]: Done 905 tasks      | elapsed: 29.1min\n"
     ]
    },
    {
     "name": "stdout",
     "output_type": "stream",
     "text": [
      "building tree 909 of 1000\n"
     ]
    },
    {
     "name": "stderr",
     "output_type": "stream",
     "text": [
      "[Parallel(n_jobs=-1)]: Done 906 tasks      | elapsed: 29.1min\n"
     ]
    },
    {
     "name": "stdout",
     "output_type": "stream",
     "text": [
      "building tree 910 of 1000\n"
     ]
    },
    {
     "name": "stderr",
     "output_type": "stream",
     "text": [
      "[Parallel(n_jobs=-1)]: Done 907 tasks      | elapsed: 29.2min\n"
     ]
    },
    {
     "name": "stdout",
     "output_type": "stream",
     "text": [
      "building tree 911 of 1000\n"
     ]
    },
    {
     "name": "stderr",
     "output_type": "stream",
     "text": [
      "[Parallel(n_jobs=-1)]: Done 908 tasks      | elapsed: 29.2min\n"
     ]
    },
    {
     "name": "stdout",
     "output_type": "stream",
     "text": [
      "building tree 912 of 1000\n"
     ]
    },
    {
     "name": "stderr",
     "output_type": "stream",
     "text": [
      "[Parallel(n_jobs=-1)]: Done 909 tasks      | elapsed: 29.2min\n"
     ]
    },
    {
     "name": "stdout",
     "output_type": "stream",
     "text": [
      "building tree 913 of 1000\n"
     ]
    },
    {
     "name": "stderr",
     "output_type": "stream",
     "text": [
      "[Parallel(n_jobs=-1)]: Done 910 tasks      | elapsed: 29.2min\n"
     ]
    },
    {
     "name": "stdout",
     "output_type": "stream",
     "text": [
      "building tree 914 of 1000\n"
     ]
    },
    {
     "name": "stderr",
     "output_type": "stream",
     "text": [
      "[Parallel(n_jobs=-1)]: Done 911 tasks      | elapsed: 29.3min\n"
     ]
    },
    {
     "name": "stdout",
     "output_type": "stream",
     "text": [
      "building tree 915 of 1000\n"
     ]
    },
    {
     "name": "stderr",
     "output_type": "stream",
     "text": [
      "[Parallel(n_jobs=-1)]: Done 912 tasks      | elapsed: 29.3min\n"
     ]
    },
    {
     "name": "stdout",
     "output_type": "stream",
     "text": [
      "building tree 916 of 1000\n"
     ]
    },
    {
     "name": "stderr",
     "output_type": "stream",
     "text": [
      "[Parallel(n_jobs=-1)]: Done 913 tasks      | elapsed: 29.4min\n"
     ]
    },
    {
     "name": "stdout",
     "output_type": "stream",
     "text": [
      "building tree 917 of 1000\n"
     ]
    },
    {
     "name": "stderr",
     "output_type": "stream",
     "text": [
      "[Parallel(n_jobs=-1)]: Done 914 tasks      | elapsed: 29.4min\n"
     ]
    },
    {
     "name": "stdout",
     "output_type": "stream",
     "text": [
      "building tree 918 of 1000\n"
     ]
    },
    {
     "name": "stderr",
     "output_type": "stream",
     "text": [
      "[Parallel(n_jobs=-1)]: Done 915 tasks      | elapsed: 29.4min\n"
     ]
    },
    {
     "name": "stdout",
     "output_type": "stream",
     "text": [
      "building tree 919 of 1000\n"
     ]
    },
    {
     "name": "stderr",
     "output_type": "stream",
     "text": [
      "[Parallel(n_jobs=-1)]: Done 916 tasks      | elapsed: 29.5min\n"
     ]
    },
    {
     "name": "stdout",
     "output_type": "stream",
     "text": [
      "building tree 920 of 1000\n"
     ]
    },
    {
     "name": "stderr",
     "output_type": "stream",
     "text": [
      "[Parallel(n_jobs=-1)]: Done 917 tasks      | elapsed: 29.5min\n",
      "[Parallel(n_jobs=-1)]: Done 918 tasks      | elapsed: 29.5min\n"
     ]
    },
    {
     "name": "stdout",
     "output_type": "stream",
     "text": [
      "building tree 921 of 1000\n",
      "building tree 922 of 1000\n"
     ]
    },
    {
     "name": "stderr",
     "output_type": "stream",
     "text": [
      "[Parallel(n_jobs=-1)]: Done 919 tasks      | elapsed: 29.5min\n"
     ]
    },
    {
     "name": "stdout",
     "output_type": "stream",
     "text": [
      "building tree 923 of 1000\n",
      "building tree 924 of 1000\n"
     ]
    },
    {
     "name": "stderr",
     "output_type": "stream",
     "text": [
      "[Parallel(n_jobs=-1)]: Done 920 tasks      | elapsed: 29.6min\n",
      "[Parallel(n_jobs=-1)]: Done 921 tasks      | elapsed: 29.6min\n",
      "[Parallel(n_jobs=-1)]: Done 922 tasks      | elapsed: 29.6min\n"
     ]
    },
    {
     "name": "stdout",
     "output_type": "stream",
     "text": [
      "building tree 925 of 1000\n",
      "building tree 926 of 1000\n"
     ]
    },
    {
     "name": "stderr",
     "output_type": "stream",
     "text": [
      "[Parallel(n_jobs=-1)]: Done 923 tasks      | elapsed: 29.7min\n"
     ]
    },
    {
     "name": "stdout",
     "output_type": "stream",
     "text": [
      "building tree 927 of 1000\n"
     ]
    },
    {
     "name": "stderr",
     "output_type": "stream",
     "text": [
      "[Parallel(n_jobs=-1)]: Done 924 tasks      | elapsed: 29.7min\n"
     ]
    },
    {
     "name": "stdout",
     "output_type": "stream",
     "text": [
      "building tree 928 of 1000\n"
     ]
    },
    {
     "name": "stderr",
     "output_type": "stream",
     "text": [
      "[Parallel(n_jobs=-1)]: Done 925 tasks      | elapsed: 29.7min\n"
     ]
    },
    {
     "name": "stdout",
     "output_type": "stream",
     "text": [
      "building tree 929 of 1000\n"
     ]
    },
    {
     "name": "stderr",
     "output_type": "stream",
     "text": [
      "[Parallel(n_jobs=-1)]: Done 926 tasks      | elapsed: 29.8min\n"
     ]
    },
    {
     "name": "stdout",
     "output_type": "stream",
     "text": [
      "building tree 930 of 1000\n"
     ]
    },
    {
     "name": "stderr",
     "output_type": "stream",
     "text": [
      "[Parallel(n_jobs=-1)]: Done 927 tasks      | elapsed: 29.8min\n"
     ]
    },
    {
     "name": "stdout",
     "output_type": "stream",
     "text": [
      "building tree 931 of 1000\n"
     ]
    },
    {
     "name": "stderr",
     "output_type": "stream",
     "text": [
      "[Parallel(n_jobs=-1)]: Done 928 tasks      | elapsed: 29.8min\n"
     ]
    },
    {
     "name": "stdout",
     "output_type": "stream",
     "text": [
      "building tree 932 of 1000\n"
     ]
    },
    {
     "name": "stderr",
     "output_type": "stream",
     "text": [
      "[Parallel(n_jobs=-1)]: Done 929 tasks      | elapsed: 29.9min\n"
     ]
    },
    {
     "name": "stdout",
     "output_type": "stream",
     "text": [
      "building tree 933 of 1000\n"
     ]
    },
    {
     "name": "stderr",
     "output_type": "stream",
     "text": [
      "[Parallel(n_jobs=-1)]: Done 930 tasks      | elapsed: 29.9min\n"
     ]
    },
    {
     "name": "stdout",
     "output_type": "stream",
     "text": [
      "building tree 934 of 1000\n"
     ]
    },
    {
     "name": "stderr",
     "output_type": "stream",
     "text": [
      "[Parallel(n_jobs=-1)]: Done 931 tasks      | elapsed: 29.9min\n"
     ]
    },
    {
     "name": "stdout",
     "output_type": "stream",
     "text": [
      "building tree 935 of 1000\n"
     ]
    },
    {
     "name": "stderr",
     "output_type": "stream",
     "text": [
      "[Parallel(n_jobs=-1)]: Done 932 tasks      | elapsed: 30.0min\n"
     ]
    },
    {
     "name": "stdout",
     "output_type": "stream",
     "text": [
      "building tree 936 of 1000\n"
     ]
    },
    {
     "name": "stderr",
     "output_type": "stream",
     "text": [
      "[Parallel(n_jobs=-1)]: Done 933 tasks      | elapsed: 30.0min\n"
     ]
    },
    {
     "name": "stdout",
     "output_type": "stream",
     "text": [
      "building tree 937 of 1000\n"
     ]
    },
    {
     "name": "stderr",
     "output_type": "stream",
     "text": [
      "[Parallel(n_jobs=-1)]: Done 934 tasks      | elapsed: 30.0min\n"
     ]
    },
    {
     "name": "stdout",
     "output_type": "stream",
     "text": [
      "building tree 938 of 1000\n"
     ]
    },
    {
     "name": "stderr",
     "output_type": "stream",
     "text": [
      "[Parallel(n_jobs=-1)]: Done 935 tasks      | elapsed: 30.0min\n"
     ]
    },
    {
     "name": "stdout",
     "output_type": "stream",
     "text": [
      "building tree 939 of 1000\n"
     ]
    },
    {
     "name": "stderr",
     "output_type": "stream",
     "text": [
      "[Parallel(n_jobs=-1)]: Done 936 tasks      | elapsed: 30.1min\n"
     ]
    },
    {
     "name": "stdout",
     "output_type": "stream",
     "text": [
      "building tree 940 of 1000\n"
     ]
    },
    {
     "name": "stderr",
     "output_type": "stream",
     "text": [
      "[Parallel(n_jobs=-1)]: Done 937 tasks      | elapsed: 30.1min\n"
     ]
    },
    {
     "name": "stdout",
     "output_type": "stream",
     "text": [
      "building tree 941 of 1000\n"
     ]
    },
    {
     "name": "stderr",
     "output_type": "stream",
     "text": [
      "[Parallel(n_jobs=-1)]: Done 938 tasks      | elapsed: 30.1min\n"
     ]
    },
    {
     "name": "stdout",
     "output_type": "stream",
     "text": [
      "building tree 942 of 1000\n"
     ]
    },
    {
     "name": "stderr",
     "output_type": "stream",
     "text": [
      "[Parallel(n_jobs=-1)]: Done 939 tasks      | elapsed: 30.2min\n"
     ]
    },
    {
     "name": "stdout",
     "output_type": "stream",
     "text": [
      "building tree 943 of 1000\n"
     ]
    },
    {
     "name": "stderr",
     "output_type": "stream",
     "text": [
      "[Parallel(n_jobs=-1)]: Done 940 tasks      | elapsed: 30.2min\n"
     ]
    },
    {
     "name": "stdout",
     "output_type": "stream",
     "text": [
      "building tree 944 of 1000\n"
     ]
    },
    {
     "name": "stderr",
     "output_type": "stream",
     "text": [
      "[Parallel(n_jobs=-1)]: Done 941 tasks      | elapsed: 30.2min\n"
     ]
    },
    {
     "name": "stdout",
     "output_type": "stream",
     "text": [
      "building tree 945 of 1000\n"
     ]
    },
    {
     "name": "stderr",
     "output_type": "stream",
     "text": [
      "[Parallel(n_jobs=-1)]: Done 942 tasks      | elapsed: 30.3min\n"
     ]
    },
    {
     "name": "stdout",
     "output_type": "stream",
     "text": [
      "building tree 946 of 1000\n"
     ]
    },
    {
     "name": "stderr",
     "output_type": "stream",
     "text": [
      "[Parallel(n_jobs=-1)]: Done 943 tasks      | elapsed: 30.3min\n"
     ]
    },
    {
     "name": "stdout",
     "output_type": "stream",
     "text": [
      "building tree 947 of 1000\n"
     ]
    },
    {
     "name": "stderr",
     "output_type": "stream",
     "text": [
      "[Parallel(n_jobs=-1)]: Done 944 tasks      | elapsed: 30.4min\n"
     ]
    },
    {
     "name": "stdout",
     "output_type": "stream",
     "text": [
      "building tree 948 of 1000\n"
     ]
    },
    {
     "name": "stderr",
     "output_type": "stream",
     "text": [
      "[Parallel(n_jobs=-1)]: Done 945 tasks      | elapsed: 30.4min\n"
     ]
    },
    {
     "name": "stdout",
     "output_type": "stream",
     "text": [
      "building tree 949 of 1000\n",
      "building tree 950 of 1000\n"
     ]
    },
    {
     "name": "stderr",
     "output_type": "stream",
     "text": [
      "[Parallel(n_jobs=-1)]: Done 946 tasks      | elapsed: 30.4min\n",
      "[Parallel(n_jobs=-1)]: Done 947 tasks      | elapsed: 30.5min\n"
     ]
    },
    {
     "name": "stdout",
     "output_type": "stream",
     "text": [
      "building tree 951 of 1000\n"
     ]
    },
    {
     "name": "stderr",
     "output_type": "stream",
     "text": [
      "[Parallel(n_jobs=-1)]: Done 948 tasks      | elapsed: 30.5min\n"
     ]
    },
    {
     "name": "stdout",
     "output_type": "stream",
     "text": [
      "building tree 952 of 1000\n"
     ]
    },
    {
     "name": "stderr",
     "output_type": "stream",
     "text": [
      "[Parallel(n_jobs=-1)]: Done 949 tasks      | elapsed: 30.5min\n"
     ]
    },
    {
     "name": "stdout",
     "output_type": "stream",
     "text": [
      "building tree 953 of 1000\n"
     ]
    },
    {
     "name": "stderr",
     "output_type": "stream",
     "text": [
      "[Parallel(n_jobs=-1)]: Done 950 tasks      | elapsed: 30.6min\n"
     ]
    },
    {
     "name": "stdout",
     "output_type": "stream",
     "text": [
      "building tree 954 of 1000\n"
     ]
    },
    {
     "name": "stderr",
     "output_type": "stream",
     "text": [
      "[Parallel(n_jobs=-1)]: Done 951 tasks      | elapsed: 30.6min\n"
     ]
    },
    {
     "name": "stdout",
     "output_type": "stream",
     "text": [
      "building tree 955 of 1000\n"
     ]
    },
    {
     "name": "stderr",
     "output_type": "stream",
     "text": [
      "[Parallel(n_jobs=-1)]: Done 952 tasks      | elapsed: 30.6min\n"
     ]
    },
    {
     "name": "stdout",
     "output_type": "stream",
     "text": [
      "building tree 956 of 1000\n"
     ]
    },
    {
     "name": "stderr",
     "output_type": "stream",
     "text": [
      "[Parallel(n_jobs=-1)]: Done 953 tasks      | elapsed: 30.7min\n"
     ]
    },
    {
     "name": "stdout",
     "output_type": "stream",
     "text": [
      "building tree 957 of 1000\n"
     ]
    },
    {
     "name": "stderr",
     "output_type": "stream",
     "text": [
      "[Parallel(n_jobs=-1)]: Done 954 tasks      | elapsed: 30.7min\n"
     ]
    },
    {
     "name": "stdout",
     "output_type": "stream",
     "text": [
      "building tree 958 of 1000\n",
      "building tree 959 of 1000\n"
     ]
    },
    {
     "name": "stderr",
     "output_type": "stream",
     "text": [
      "[Parallel(n_jobs=-1)]: Done 955 tasks      | elapsed: 30.7min\n",
      "[Parallel(n_jobs=-1)]: Done 956 tasks      | elapsed: 30.8min\n"
     ]
    },
    {
     "name": "stdout",
     "output_type": "stream",
     "text": [
      "building tree 960 of 1000\n"
     ]
    },
    {
     "name": "stderr",
     "output_type": "stream",
     "text": [
      "[Parallel(n_jobs=-1)]: Done 957 tasks      | elapsed: 30.8min\n"
     ]
    },
    {
     "name": "stdout",
     "output_type": "stream",
     "text": [
      "building tree 961 of 1000\n"
     ]
    },
    {
     "name": "stderr",
     "output_type": "stream",
     "text": [
      "[Parallel(n_jobs=-1)]: Done 958 tasks      | elapsed: 30.8min\n"
     ]
    },
    {
     "name": "stdout",
     "output_type": "stream",
     "text": [
      "building tree 962 of 1000\n"
     ]
    },
    {
     "name": "stderr",
     "output_type": "stream",
     "text": [
      "[Parallel(n_jobs=-1)]: Done 959 tasks      | elapsed: 30.8min\n"
     ]
    },
    {
     "name": "stdout",
     "output_type": "stream",
     "text": [
      "building tree 963 of 1000\n"
     ]
    },
    {
     "name": "stderr",
     "output_type": "stream",
     "text": [
      "[Parallel(n_jobs=-1)]: Done 960 tasks      | elapsed: 30.9min\n"
     ]
    },
    {
     "name": "stdout",
     "output_type": "stream",
     "text": [
      "building tree 964 of 1000\n"
     ]
    },
    {
     "name": "stderr",
     "output_type": "stream",
     "text": [
      "[Parallel(n_jobs=-1)]: Done 961 tasks      | elapsed: 30.9min\n"
     ]
    },
    {
     "name": "stdout",
     "output_type": "stream",
     "text": [
      "building tree 965 of 1000\n",
      "building tree 966 of 1000\n"
     ]
    },
    {
     "name": "stderr",
     "output_type": "stream",
     "text": [
      "[Parallel(n_jobs=-1)]: Done 962 tasks      | elapsed: 30.9min\n",
      "[Parallel(n_jobs=-1)]: Done 963 tasks      | elapsed: 31.0min\n"
     ]
    },
    {
     "name": "stdout",
     "output_type": "stream",
     "text": [
      "building tree 967 of 1000\n"
     ]
    },
    {
     "name": "stderr",
     "output_type": "stream",
     "text": [
      "[Parallel(n_jobs=-1)]: Done 964 tasks      | elapsed: 31.0min\n"
     ]
    },
    {
     "name": "stdout",
     "output_type": "stream",
     "text": [
      "building tree 968 of 1000\n"
     ]
    },
    {
     "name": "stderr",
     "output_type": "stream",
     "text": [
      "[Parallel(n_jobs=-1)]: Done 965 tasks      | elapsed: 31.0min\n"
     ]
    },
    {
     "name": "stdout",
     "output_type": "stream",
     "text": [
      "building tree 969 of 1000\n"
     ]
    },
    {
     "name": "stderr",
     "output_type": "stream",
     "text": [
      "[Parallel(n_jobs=-1)]: Done 966 tasks      | elapsed: 31.1min\n"
     ]
    },
    {
     "name": "stdout",
     "output_type": "stream",
     "text": [
      "building tree 970 of 1000\n"
     ]
    },
    {
     "name": "stderr",
     "output_type": "stream",
     "text": [
      "[Parallel(n_jobs=-1)]: Done 967 tasks      | elapsed: 31.1min\n"
     ]
    },
    {
     "name": "stdout",
     "output_type": "stream",
     "text": [
      "building tree 971 of 1000\n"
     ]
    },
    {
     "name": "stderr",
     "output_type": "stream",
     "text": [
      "[Parallel(n_jobs=-1)]: Done 968 tasks      | elapsed: 31.2min\n"
     ]
    },
    {
     "name": "stdout",
     "output_type": "stream",
     "text": [
      "building tree 972 of 1000\n",
      "building tree 973 of 1000\n"
     ]
    },
    {
     "name": "stderr",
     "output_type": "stream",
     "text": [
      "[Parallel(n_jobs=-1)]: Done 969 tasks      | elapsed: 31.2min\n",
      "[Parallel(n_jobs=-1)]: Done 970 tasks      | elapsed: 31.2min\n"
     ]
    },
    {
     "name": "stdout",
     "output_type": "stream",
     "text": [
      "building tree 974 of 1000\n"
     ]
    },
    {
     "name": "stderr",
     "output_type": "stream",
     "text": [
      "[Parallel(n_jobs=-1)]: Done 971 tasks      | elapsed: 31.3min\n"
     ]
    },
    {
     "name": "stdout",
     "output_type": "stream",
     "text": [
      "building tree 975 of 1000\n"
     ]
    },
    {
     "name": "stderr",
     "output_type": "stream",
     "text": [
      "[Parallel(n_jobs=-1)]: Done 972 tasks      | elapsed: 31.3min\n"
     ]
    },
    {
     "name": "stdout",
     "output_type": "stream",
     "text": [
      "building tree 976 of 1000\n"
     ]
    },
    {
     "name": "stderr",
     "output_type": "stream",
     "text": [
      "[Parallel(n_jobs=-1)]: Done 973 tasks      | elapsed: 31.3min\n"
     ]
    },
    {
     "name": "stdout",
     "output_type": "stream",
     "text": [
      "building tree 977 of 1000\n"
     ]
    },
    {
     "name": "stderr",
     "output_type": "stream",
     "text": [
      "[Parallel(n_jobs=-1)]: Done 974 tasks      | elapsed: 31.3min\n"
     ]
    },
    {
     "name": "stdout",
     "output_type": "stream",
     "text": [
      "building tree 978 of 1000\n"
     ]
    },
    {
     "name": "stderr",
     "output_type": "stream",
     "text": [
      "[Parallel(n_jobs=-1)]: Done 975 tasks      | elapsed: 31.4min\n"
     ]
    },
    {
     "name": "stdout",
     "output_type": "stream",
     "text": [
      "building tree 979 of 1000\n"
     ]
    },
    {
     "name": "stderr",
     "output_type": "stream",
     "text": [
      "[Parallel(n_jobs=-1)]: Done 976 tasks      | elapsed: 31.5min\n"
     ]
    },
    {
     "name": "stdout",
     "output_type": "stream",
     "text": [
      "building tree 980 of 1000\n"
     ]
    },
    {
     "name": "stderr",
     "output_type": "stream",
     "text": [
      "[Parallel(n_jobs=-1)]: Done 977 tasks      | elapsed: 31.5min\n"
     ]
    },
    {
     "name": "stdout",
     "output_type": "stream",
     "text": [
      "building tree 981 of 1000\n"
     ]
    },
    {
     "name": "stderr",
     "output_type": "stream",
     "text": [
      "[Parallel(n_jobs=-1)]: Done 978 tasks      | elapsed: 31.5min\n"
     ]
    },
    {
     "name": "stdout",
     "output_type": "stream",
     "text": [
      "building tree 982 of 1000\n"
     ]
    },
    {
     "name": "stderr",
     "output_type": "stream",
     "text": [
      "[Parallel(n_jobs=-1)]: Done 979 tasks      | elapsed: 31.5min\n"
     ]
    },
    {
     "name": "stdout",
     "output_type": "stream",
     "text": [
      "building tree 983 of 1000\n"
     ]
    },
    {
     "name": "stderr",
     "output_type": "stream",
     "text": [
      "[Parallel(n_jobs=-1)]: Done 980 tasks      | elapsed: 31.6min\n"
     ]
    },
    {
     "name": "stdout",
     "output_type": "stream",
     "text": [
      "building tree 984 of 1000\n"
     ]
    },
    {
     "name": "stderr",
     "output_type": "stream",
     "text": [
      "[Parallel(n_jobs=-1)]: Done 981 tasks      | elapsed: 31.6min\n"
     ]
    },
    {
     "name": "stdout",
     "output_type": "stream",
     "text": [
      "building tree 985 of 1000\n"
     ]
    },
    {
     "name": "stderr",
     "output_type": "stream",
     "text": [
      "[Parallel(n_jobs=-1)]: Done 982 tasks      | elapsed: 31.7min\n"
     ]
    },
    {
     "name": "stdout",
     "output_type": "stream",
     "text": [
      "building tree 986 of 1000\n"
     ]
    },
    {
     "name": "stderr",
     "output_type": "stream",
     "text": [
      "[Parallel(n_jobs=-1)]: Done 983 tasks      | elapsed: 31.7min\n"
     ]
    },
    {
     "name": "stdout",
     "output_type": "stream",
     "text": [
      "building tree 987 of 1000\n"
     ]
    },
    {
     "name": "stderr",
     "output_type": "stream",
     "text": [
      "[Parallel(n_jobs=-1)]: Done 984 tasks      | elapsed: 31.8min\n"
     ]
    },
    {
     "name": "stdout",
     "output_type": "stream",
     "text": [
      "building tree 988 of 1000\n"
     ]
    },
    {
     "name": "stderr",
     "output_type": "stream",
     "text": [
      "[Parallel(n_jobs=-1)]: Done 985 tasks      | elapsed: 31.8min\n"
     ]
    },
    {
     "name": "stdout",
     "output_type": "stream",
     "text": [
      "building tree 989 of 1000\n"
     ]
    },
    {
     "name": "stderr",
     "output_type": "stream",
     "text": [
      "[Parallel(n_jobs=-1)]: Done 986 tasks      | elapsed: 31.8min\n"
     ]
    },
    {
     "name": "stdout",
     "output_type": "stream",
     "text": [
      "building tree 990 of 1000\n"
     ]
    },
    {
     "name": "stderr",
     "output_type": "stream",
     "text": [
      "[Parallel(n_jobs=-1)]: Done 987 tasks      | elapsed: 31.8min\n"
     ]
    },
    {
     "name": "stdout",
     "output_type": "stream",
     "text": [
      "building tree 991 of 1000\n"
     ]
    },
    {
     "name": "stderr",
     "output_type": "stream",
     "text": [
      "[Parallel(n_jobs=-1)]: Done 988 tasks      | elapsed: 31.9min\n"
     ]
    },
    {
     "name": "stdout",
     "output_type": "stream",
     "text": [
      "building tree 992 of 1000\n"
     ]
    },
    {
     "name": "stderr",
     "output_type": "stream",
     "text": [
      "[Parallel(n_jobs=-1)]: Done 989 tasks      | elapsed: 31.9min\n"
     ]
    },
    {
     "name": "stdout",
     "output_type": "stream",
     "text": [
      "building tree 993 of 1000\n"
     ]
    },
    {
     "name": "stderr",
     "output_type": "stream",
     "text": [
      "[Parallel(n_jobs=-1)]: Done 990 tasks      | elapsed: 31.9min\n"
     ]
    },
    {
     "name": "stdout",
     "output_type": "stream",
     "text": [
      "building tree 994 of 1000\n"
     ]
    },
    {
     "name": "stderr",
     "output_type": "stream",
     "text": [
      "[Parallel(n_jobs=-1)]: Done 991 tasks      | elapsed: 32.0min\n"
     ]
    },
    {
     "name": "stdout",
     "output_type": "stream",
     "text": [
      "building tree 995 of 1000\n"
     ]
    },
    {
     "name": "stderr",
     "output_type": "stream",
     "text": [
      "[Parallel(n_jobs=-1)]: Done 992 tasks      | elapsed: 32.0min\n"
     ]
    },
    {
     "name": "stdout",
     "output_type": "stream",
     "text": [
      "building tree 996 of 1000\n"
     ]
    },
    {
     "name": "stderr",
     "output_type": "stream",
     "text": [
      "[Parallel(n_jobs=-1)]: Done 993 tasks      | elapsed: 32.0min\n"
     ]
    },
    {
     "name": "stdout",
     "output_type": "stream",
     "text": [
      "building tree 997 of 1000\n",
      "building tree 998 of 1000\n",
      "building tree 999 of 1000\n",
      "building tree 1000 of 1000\n"
     ]
    },
    {
     "name": "stderr",
     "output_type": "stream",
     "text": [
      "[Parallel(n_jobs=-1)]: Done 1000 out of 1000 | elapsed: 32.2min finished\n"
     ]
    }
   ],
   "source": [
    "RF_classifier = RandomForestClassifier()\n",
    "RF_classifier = train_classifiers(X_train,Y_train,'RF',{'n_estimators':1000, 'bootstrap':False,'n_jobs' : -1, 'verbose' : 20})  #call the function to train the Random forest classifier"
   ]
  },
  {
   "cell_type": "code",
   "execution_count": 41,
   "metadata": {},
   "outputs": [
    {
     "name": "stderr",
     "output_type": "stream",
     "text": [
      "[Parallel(n_jobs=4)]: Using backend ThreadingBackend with 4 concurrent workers.\n",
      "[Parallel(n_jobs=4)]: Done   1 tasks      | elapsed:    0.1s\n",
      "[Parallel(n_jobs=4)]: Done   2 tasks      | elapsed:    0.1s\n",
      "[Parallel(n_jobs=4)]: Done   3 tasks      | elapsed:    0.1s\n",
      "[Parallel(n_jobs=4)]: Done   4 tasks      | elapsed:    0.1s\n",
      "[Parallel(n_jobs=4)]: Done   5 tasks      | elapsed:    0.2s\n",
      "[Parallel(n_jobs=4)]: Done   6 tasks      | elapsed:    0.2s\n",
      "[Parallel(n_jobs=4)]: Done   7 tasks      | elapsed:    0.2s\n",
      "[Parallel(n_jobs=4)]: Done   8 tasks      | elapsed:    0.2s\n",
      "[Parallel(n_jobs=4)]: Done   9 tasks      | elapsed:    0.3s\n",
      "[Parallel(n_jobs=4)]: Done  10 tasks      | elapsed:    0.3s\n",
      "[Parallel(n_jobs=4)]: Done  11 tasks      | elapsed:    0.3s\n",
      "[Parallel(n_jobs=4)]: Done  12 tasks      | elapsed:    0.3s\n",
      "[Parallel(n_jobs=4)]: Done  13 tasks      | elapsed:    0.4s\n",
      "[Parallel(n_jobs=4)]: Done  14 tasks      | elapsed:    0.4s\n",
      "[Parallel(n_jobs=4)]: Done  15 tasks      | elapsed:    0.4s\n",
      "[Parallel(n_jobs=4)]: Done  16 tasks      | elapsed:    0.4s\n",
      "[Parallel(n_jobs=4)]: Done  17 tasks      | elapsed:    0.4s\n",
      "[Parallel(n_jobs=4)]: Done  18 tasks      | elapsed:    0.4s\n",
      "[Parallel(n_jobs=4)]: Done  19 tasks      | elapsed:    0.4s\n",
      "[Parallel(n_jobs=4)]: Done  20 tasks      | elapsed:    0.5s\n",
      "[Parallel(n_jobs=4)]: Done  21 tasks      | elapsed:    0.5s\n",
      "[Parallel(n_jobs=4)]: Done  22 tasks      | elapsed:    0.5s\n",
      "[Parallel(n_jobs=4)]: Done  23 tasks      | elapsed:    0.6s\n",
      "[Parallel(n_jobs=4)]: Done  24 tasks      | elapsed:    0.6s\n",
      "[Parallel(n_jobs=4)]: Done  25 tasks      | elapsed:    0.6s\n",
      "[Parallel(n_jobs=4)]: Done  26 tasks      | elapsed:    0.6s\n",
      "[Parallel(n_jobs=4)]: Done  27 tasks      | elapsed:    0.6s\n",
      "[Parallel(n_jobs=4)]: Done  28 tasks      | elapsed:    0.6s\n",
      "[Parallel(n_jobs=4)]: Done  29 tasks      | elapsed:    0.7s\n",
      "[Parallel(n_jobs=4)]: Done  30 tasks      | elapsed:    0.7s\n",
      "[Parallel(n_jobs=4)]: Done  31 tasks      | elapsed:    0.7s\n",
      "[Parallel(n_jobs=4)]: Done  32 tasks      | elapsed:    0.7s\n",
      "[Parallel(n_jobs=4)]: Done  33 tasks      | elapsed:    0.7s\n",
      "[Parallel(n_jobs=4)]: Done  34 tasks      | elapsed:    0.8s\n",
      "[Parallel(n_jobs=4)]: Done  35 tasks      | elapsed:    0.8s\n",
      "[Parallel(n_jobs=4)]: Done  36 tasks      | elapsed:    0.8s\n",
      "[Parallel(n_jobs=4)]: Done  37 tasks      | elapsed:    0.8s\n",
      "[Parallel(n_jobs=4)]: Done  38 tasks      | elapsed:    0.8s\n",
      "[Parallel(n_jobs=4)]: Done  39 tasks      | elapsed:    0.8s\n",
      "[Parallel(n_jobs=4)]: Done  40 tasks      | elapsed:    0.9s\n",
      "[Parallel(n_jobs=4)]: Done  41 tasks      | elapsed:    0.9s\n",
      "[Parallel(n_jobs=4)]: Done  42 tasks      | elapsed:    0.9s\n",
      "[Parallel(n_jobs=4)]: Done  43 tasks      | elapsed:    0.9s\n",
      "[Parallel(n_jobs=4)]: Done  44 tasks      | elapsed:    0.9s\n",
      "[Parallel(n_jobs=4)]: Done  45 tasks      | elapsed:    1.0s\n",
      "[Parallel(n_jobs=4)]: Done  46 tasks      | elapsed:    1.0s\n",
      "[Parallel(n_jobs=4)]: Done  47 tasks      | elapsed:    1.0s\n",
      "[Parallel(n_jobs=4)]: Done  48 tasks      | elapsed:    1.0s\n",
      "[Parallel(n_jobs=4)]: Done  49 tasks      | elapsed:    1.1s\n",
      "[Parallel(n_jobs=4)]: Done  50 tasks      | elapsed:    1.1s\n",
      "[Parallel(n_jobs=4)]: Done  51 tasks      | elapsed:    1.1s\n",
      "[Parallel(n_jobs=4)]: Done  52 tasks      | elapsed:    1.1s\n",
      "[Parallel(n_jobs=4)]: Done  53 tasks      | elapsed:    1.2s\n",
      "[Parallel(n_jobs=4)]: Done  54 tasks      | elapsed:    1.2s\n",
      "[Parallel(n_jobs=4)]: Done  55 tasks      | elapsed:    1.3s\n",
      "[Parallel(n_jobs=4)]: Done  56 tasks      | elapsed:    1.3s\n",
      "[Parallel(n_jobs=4)]: Done  57 tasks      | elapsed:    1.3s\n",
      "[Parallel(n_jobs=4)]: Done  58 tasks      | elapsed:    1.3s\n",
      "[Parallel(n_jobs=4)]: Done  59 tasks      | elapsed:    1.3s\n",
      "[Parallel(n_jobs=4)]: Done  60 tasks      | elapsed:    1.3s\n",
      "[Parallel(n_jobs=4)]: Done  61 tasks      | elapsed:    1.4s\n",
      "[Parallel(n_jobs=4)]: Done  62 tasks      | elapsed:    1.4s\n",
      "[Parallel(n_jobs=4)]: Done  63 tasks      | elapsed:    1.4s\n",
      "[Parallel(n_jobs=4)]: Done  64 tasks      | elapsed:    1.4s\n",
      "[Parallel(n_jobs=4)]: Done  65 tasks      | elapsed:    1.4s\n",
      "[Parallel(n_jobs=4)]: Done  66 tasks      | elapsed:    1.5s\n",
      "[Parallel(n_jobs=4)]: Done  67 tasks      | elapsed:    1.5s\n",
      "[Parallel(n_jobs=4)]: Done  68 tasks      | elapsed:    1.5s\n",
      "[Parallel(n_jobs=4)]: Done  69 tasks      | elapsed:    1.5s\n",
      "[Parallel(n_jobs=4)]: Done  70 tasks      | elapsed:    1.5s\n",
      "[Parallel(n_jobs=4)]: Done  71 tasks      | elapsed:    1.6s\n",
      "[Parallel(n_jobs=4)]: Done  72 tasks      | elapsed:    1.6s\n",
      "[Parallel(n_jobs=4)]: Done  73 tasks      | elapsed:    1.6s\n",
      "[Parallel(n_jobs=4)]: Done  74 tasks      | elapsed:    1.6s\n",
      "[Parallel(n_jobs=4)]: Done  75 tasks      | elapsed:    1.7s\n",
      "[Parallel(n_jobs=4)]: Done  76 tasks      | elapsed:    1.7s\n",
      "[Parallel(n_jobs=4)]: Done  77 tasks      | elapsed:    1.7s\n",
      "[Parallel(n_jobs=4)]: Done  78 tasks      | elapsed:    1.8s\n",
      "[Parallel(n_jobs=4)]: Done  79 tasks      | elapsed:    1.8s\n",
      "[Parallel(n_jobs=4)]: Done  80 tasks      | elapsed:    1.8s\n",
      "[Parallel(n_jobs=4)]: Done  81 tasks      | elapsed:    1.8s\n",
      "[Parallel(n_jobs=4)]: Done  82 tasks      | elapsed:    1.8s\n",
      "[Parallel(n_jobs=4)]: Done  83 tasks      | elapsed:    1.8s\n",
      "[Parallel(n_jobs=4)]: Done  84 tasks      | elapsed:    1.9s\n",
      "[Parallel(n_jobs=4)]: Done  85 tasks      | elapsed:    1.9s\n",
      "[Parallel(n_jobs=4)]: Done  86 tasks      | elapsed:    1.9s\n",
      "[Parallel(n_jobs=4)]: Done  87 tasks      | elapsed:    1.9s\n",
      "[Parallel(n_jobs=4)]: Done  88 tasks      | elapsed:    1.9s\n",
      "[Parallel(n_jobs=4)]: Done  89 tasks      | elapsed:    1.9s\n",
      "[Parallel(n_jobs=4)]: Done  90 tasks      | elapsed:    2.0s\n",
      "[Parallel(n_jobs=4)]: Done  91 tasks      | elapsed:    2.0s\n",
      "[Parallel(n_jobs=4)]: Done  92 tasks      | elapsed:    2.0s\n",
      "[Parallel(n_jobs=4)]: Done  93 tasks      | elapsed:    2.0s\n",
      "[Parallel(n_jobs=4)]: Done  94 tasks      | elapsed:    2.0s\n",
      "[Parallel(n_jobs=4)]: Done  95 tasks      | elapsed:    2.1s\n",
      "[Parallel(n_jobs=4)]: Done  96 tasks      | elapsed:    2.1s\n",
      "[Parallel(n_jobs=4)]: Done  97 tasks      | elapsed:    2.1s\n",
      "[Parallel(n_jobs=4)]: Done  98 tasks      | elapsed:    2.1s\n",
      "[Parallel(n_jobs=4)]: Done  99 tasks      | elapsed:    2.1s\n",
      "[Parallel(n_jobs=4)]: Done 100 tasks      | elapsed:    2.2s\n",
      "[Parallel(n_jobs=4)]: Done 101 tasks      | elapsed:    2.2s\n",
      "[Parallel(n_jobs=4)]: Done 102 tasks      | elapsed:    2.2s\n",
      "[Parallel(n_jobs=4)]: Done 103 tasks      | elapsed:    2.2s\n",
      "[Parallel(n_jobs=4)]: Done 104 tasks      | elapsed:    2.3s\n",
      "[Parallel(n_jobs=4)]: Done 105 tasks      | elapsed:    2.3s\n",
      "[Parallel(n_jobs=4)]: Done 106 tasks      | elapsed:    2.3s\n",
      "[Parallel(n_jobs=4)]: Done 107 tasks      | elapsed:    2.3s\n",
      "[Parallel(n_jobs=4)]: Done 108 tasks      | elapsed:    2.4s\n",
      "[Parallel(n_jobs=4)]: Done 109 tasks      | elapsed:    2.4s\n",
      "[Parallel(n_jobs=4)]: Done 110 tasks      | elapsed:    2.4s\n",
      "[Parallel(n_jobs=4)]: Done 111 tasks      | elapsed:    2.5s\n",
      "[Parallel(n_jobs=4)]: Done 112 tasks      | elapsed:    2.5s\n",
      "[Parallel(n_jobs=4)]: Done 113 tasks      | elapsed:    2.5s\n",
      "[Parallel(n_jobs=4)]: Done 114 tasks      | elapsed:    2.5s\n",
      "[Parallel(n_jobs=4)]: Done 115 tasks      | elapsed:    2.6s\n",
      "[Parallel(n_jobs=4)]: Done 116 tasks      | elapsed:    2.6s\n",
      "[Parallel(n_jobs=4)]: Done 117 tasks      | elapsed:    2.6s\n",
      "[Parallel(n_jobs=4)]: Done 118 tasks      | elapsed:    2.6s\n",
      "[Parallel(n_jobs=4)]: Done 119 tasks      | elapsed:    2.6s\n",
      "[Parallel(n_jobs=4)]: Done 120 tasks      | elapsed:    2.6s\n",
      "[Parallel(n_jobs=4)]: Done 121 tasks      | elapsed:    2.7s\n",
      "[Parallel(n_jobs=4)]: Done 122 tasks      | elapsed:    2.7s\n",
      "[Parallel(n_jobs=4)]: Done 123 tasks      | elapsed:    2.7s\n",
      "[Parallel(n_jobs=4)]: Done 124 tasks      | elapsed:    2.7s\n",
      "[Parallel(n_jobs=4)]: Done 125 tasks      | elapsed:    2.7s\n",
      "[Parallel(n_jobs=4)]: Done 126 tasks      | elapsed:    2.8s\n",
      "[Parallel(n_jobs=4)]: Done 127 tasks      | elapsed:    2.8s\n",
      "[Parallel(n_jobs=4)]: Done 128 tasks      | elapsed:    2.8s\n",
      "[Parallel(n_jobs=4)]: Done 129 tasks      | elapsed:    2.9s\n",
      "[Parallel(n_jobs=4)]: Done 130 tasks      | elapsed:    2.9s\n",
      "[Parallel(n_jobs=4)]: Done 131 tasks      | elapsed:    2.9s\n",
      "[Parallel(n_jobs=4)]: Done 132 tasks      | elapsed:    2.9s\n",
      "[Parallel(n_jobs=4)]: Done 133 tasks      | elapsed:    2.9s\n"
     ]
    },
    {
     "name": "stderr",
     "output_type": "stream",
     "text": [
      "[Parallel(n_jobs=4)]: Done 134 tasks      | elapsed:    3.1s\n",
      "[Parallel(n_jobs=4)]: Done 135 tasks      | elapsed:    3.1s\n",
      "[Parallel(n_jobs=4)]: Done 136 tasks      | elapsed:    3.1s\n",
      "[Parallel(n_jobs=4)]: Done 137 tasks      | elapsed:    3.2s\n",
      "[Parallel(n_jobs=4)]: Done 138 tasks      | elapsed:    3.2s\n",
      "[Parallel(n_jobs=4)]: Done 139 tasks      | elapsed:    3.2s\n",
      "[Parallel(n_jobs=4)]: Done 140 tasks      | elapsed:    3.2s\n",
      "[Parallel(n_jobs=4)]: Done 141 tasks      | elapsed:    3.2s\n",
      "[Parallel(n_jobs=4)]: Done 142 tasks      | elapsed:    3.2s\n",
      "[Parallel(n_jobs=4)]: Done 143 tasks      | elapsed:    3.3s\n",
      "[Parallel(n_jobs=4)]: Done 144 tasks      | elapsed:    3.3s\n",
      "[Parallel(n_jobs=4)]: Done 145 tasks      | elapsed:    3.3s\n",
      "[Parallel(n_jobs=4)]: Done 146 tasks      | elapsed:    3.3s\n",
      "[Parallel(n_jobs=4)]: Done 147 tasks      | elapsed:    3.4s\n",
      "[Parallel(n_jobs=4)]: Done 148 tasks      | elapsed:    3.4s\n",
      "[Parallel(n_jobs=4)]: Done 149 tasks      | elapsed:    3.4s\n",
      "[Parallel(n_jobs=4)]: Done 150 tasks      | elapsed:    3.4s\n",
      "[Parallel(n_jobs=4)]: Done 151 tasks      | elapsed:    3.4s\n",
      "[Parallel(n_jobs=4)]: Done 152 tasks      | elapsed:    3.5s\n",
      "[Parallel(n_jobs=4)]: Done 153 tasks      | elapsed:    3.5s\n",
      "[Parallel(n_jobs=4)]: Done 154 tasks      | elapsed:    3.5s\n",
      "[Parallel(n_jobs=4)]: Done 155 tasks      | elapsed:    3.5s\n",
      "[Parallel(n_jobs=4)]: Done 156 tasks      | elapsed:    3.6s\n",
      "[Parallel(n_jobs=4)]: Done 157 tasks      | elapsed:    3.6s\n",
      "[Parallel(n_jobs=4)]: Done 158 tasks      | elapsed:    3.7s\n",
      "[Parallel(n_jobs=4)]: Done 159 tasks      | elapsed:    3.7s\n",
      "[Parallel(n_jobs=4)]: Done 160 tasks      | elapsed:    3.7s\n",
      "[Parallel(n_jobs=4)]: Done 161 tasks      | elapsed:    3.7s\n",
      "[Parallel(n_jobs=4)]: Done 162 tasks      | elapsed:    3.8s\n",
      "[Parallel(n_jobs=4)]: Done 163 tasks      | elapsed:    3.9s\n",
      "[Parallel(n_jobs=4)]: Done 164 tasks      | elapsed:    3.9s\n",
      "[Parallel(n_jobs=4)]: Done 165 tasks      | elapsed:    3.9s\n",
      "[Parallel(n_jobs=4)]: Done 166 tasks      | elapsed:    3.9s\n",
      "[Parallel(n_jobs=4)]: Done 167 tasks      | elapsed:    4.0s\n",
      "[Parallel(n_jobs=4)]: Done 168 tasks      | elapsed:    4.0s\n",
      "[Parallel(n_jobs=4)]: Done 169 tasks      | elapsed:    4.0s\n",
      "[Parallel(n_jobs=4)]: Done 170 tasks      | elapsed:    4.1s\n",
      "[Parallel(n_jobs=4)]: Done 171 tasks      | elapsed:    4.1s\n",
      "[Parallel(n_jobs=4)]: Done 172 tasks      | elapsed:    4.1s\n",
      "[Parallel(n_jobs=4)]: Done 173 tasks      | elapsed:    4.1s\n",
      "[Parallel(n_jobs=4)]: Done 174 tasks      | elapsed:    4.2s\n",
      "[Parallel(n_jobs=4)]: Done 175 tasks      | elapsed:    4.2s\n",
      "[Parallel(n_jobs=4)]: Done 176 tasks      | elapsed:    4.2s\n",
      "[Parallel(n_jobs=4)]: Done 177 tasks      | elapsed:    4.2s\n",
      "[Parallel(n_jobs=4)]: Done 178 tasks      | elapsed:    4.3s\n",
      "[Parallel(n_jobs=4)]: Done 179 tasks      | elapsed:    4.3s\n",
      "[Parallel(n_jobs=4)]: Done 180 tasks      | elapsed:    4.3s\n",
      "[Parallel(n_jobs=4)]: Done 181 tasks      | elapsed:    4.4s\n",
      "[Parallel(n_jobs=4)]: Done 182 tasks      | elapsed:    4.4s\n",
      "[Parallel(n_jobs=4)]: Done 183 tasks      | elapsed:    4.4s\n",
      "[Parallel(n_jobs=4)]: Done 184 tasks      | elapsed:    4.4s\n",
      "[Parallel(n_jobs=4)]: Done 185 tasks      | elapsed:    4.5s\n",
      "[Parallel(n_jobs=4)]: Done 186 tasks      | elapsed:    4.5s\n",
      "[Parallel(n_jobs=4)]: Done 187 tasks      | elapsed:    4.5s\n",
      "[Parallel(n_jobs=4)]: Done 188 tasks      | elapsed:    4.6s\n",
      "[Parallel(n_jobs=4)]: Done 189 tasks      | elapsed:    4.6s\n",
      "[Parallel(n_jobs=4)]: Done 190 tasks      | elapsed:    4.6s\n",
      "[Parallel(n_jobs=4)]: Done 191 tasks      | elapsed:    4.7s\n",
      "[Parallel(n_jobs=4)]: Done 192 tasks      | elapsed:    4.7s\n",
      "[Parallel(n_jobs=4)]: Done 193 tasks      | elapsed:    4.7s\n",
      "[Parallel(n_jobs=4)]: Done 194 tasks      | elapsed:    4.7s\n",
      "[Parallel(n_jobs=4)]: Done 195 tasks      | elapsed:    4.8s\n",
      "[Parallel(n_jobs=4)]: Done 196 tasks      | elapsed:    4.8s\n",
      "[Parallel(n_jobs=4)]: Done 197 tasks      | elapsed:    4.8s\n",
      "[Parallel(n_jobs=4)]: Done 198 tasks      | elapsed:    4.8s\n",
      "[Parallel(n_jobs=4)]: Done 199 tasks      | elapsed:    4.8s\n",
      "[Parallel(n_jobs=4)]: Done 200 tasks      | elapsed:    4.9s\n",
      "[Parallel(n_jobs=4)]: Done 201 tasks      | elapsed:    4.9s\n",
      "[Parallel(n_jobs=4)]: Done 202 tasks      | elapsed:    4.9s\n",
      "[Parallel(n_jobs=4)]: Done 203 tasks      | elapsed:    5.0s\n",
      "[Parallel(n_jobs=4)]: Done 204 tasks      | elapsed:    5.0s\n",
      "[Parallel(n_jobs=4)]: Done 205 tasks      | elapsed:    5.0s\n",
      "[Parallel(n_jobs=4)]: Done 206 tasks      | elapsed:    5.1s\n",
      "[Parallel(n_jobs=4)]: Done 207 tasks      | elapsed:    5.1s\n",
      "[Parallel(n_jobs=4)]: Done 208 tasks      | elapsed:    5.1s\n",
      "[Parallel(n_jobs=4)]: Done 209 tasks      | elapsed:    5.1s\n",
      "[Parallel(n_jobs=4)]: Done 210 tasks      | elapsed:    5.2s\n",
      "[Parallel(n_jobs=4)]: Done 211 tasks      | elapsed:    5.2s\n",
      "[Parallel(n_jobs=4)]: Done 212 tasks      | elapsed:    5.3s\n",
      "[Parallel(n_jobs=4)]: Done 213 tasks      | elapsed:    5.3s\n",
      "[Parallel(n_jobs=4)]: Done 214 tasks      | elapsed:    5.3s\n",
      "[Parallel(n_jobs=4)]: Done 215 tasks      | elapsed:    5.3s\n",
      "[Parallel(n_jobs=4)]: Done 216 tasks      | elapsed:    5.3s\n",
      "[Parallel(n_jobs=4)]: Done 217 tasks      | elapsed:    5.4s\n",
      "[Parallel(n_jobs=4)]: Done 218 tasks      | elapsed:    5.4s\n",
      "[Parallel(n_jobs=4)]: Done 219 tasks      | elapsed:    5.5s\n",
      "[Parallel(n_jobs=4)]: Done 220 tasks      | elapsed:    5.5s\n",
      "[Parallel(n_jobs=4)]: Done 221 tasks      | elapsed:    5.6s\n",
      "[Parallel(n_jobs=4)]: Done 222 tasks      | elapsed:    5.6s\n",
      "[Parallel(n_jobs=4)]: Done 223 tasks      | elapsed:    5.6s\n",
      "[Parallel(n_jobs=4)]: Done 224 tasks      | elapsed:    5.6s\n",
      "[Parallel(n_jobs=4)]: Done 225 tasks      | elapsed:    5.6s\n",
      "[Parallel(n_jobs=4)]: Done 226 tasks      | elapsed:    5.6s\n",
      "[Parallel(n_jobs=4)]: Done 227 tasks      | elapsed:    5.7s\n",
      "[Parallel(n_jobs=4)]: Done 228 tasks      | elapsed:    5.7s\n",
      "[Parallel(n_jobs=4)]: Done 229 tasks      | elapsed:    5.7s\n",
      "[Parallel(n_jobs=4)]: Done 230 tasks      | elapsed:    5.8s\n",
      "[Parallel(n_jobs=4)]: Done 231 tasks      | elapsed:    5.8s\n",
      "[Parallel(n_jobs=4)]: Done 232 tasks      | elapsed:    5.8s\n",
      "[Parallel(n_jobs=4)]: Done 233 tasks      | elapsed:    5.9s\n",
      "[Parallel(n_jobs=4)]: Done 234 tasks      | elapsed:    5.9s\n",
      "[Parallel(n_jobs=4)]: Done 235 tasks      | elapsed:    6.0s\n",
      "[Parallel(n_jobs=4)]: Done 236 tasks      | elapsed:    6.0s\n",
      "[Parallel(n_jobs=4)]: Done 237 tasks      | elapsed:    6.0s\n",
      "[Parallel(n_jobs=4)]: Done 238 tasks      | elapsed:    6.0s\n",
      "[Parallel(n_jobs=4)]: Done 239 tasks      | elapsed:    6.1s\n",
      "[Parallel(n_jobs=4)]: Done 240 tasks      | elapsed:    6.1s\n",
      "[Parallel(n_jobs=4)]: Done 241 tasks      | elapsed:    6.2s\n",
      "[Parallel(n_jobs=4)]: Done 242 tasks      | elapsed:    6.2s\n",
      "[Parallel(n_jobs=4)]: Done 243 tasks      | elapsed:    6.2s\n",
      "[Parallel(n_jobs=4)]: Done 244 tasks      | elapsed:    6.2s\n",
      "[Parallel(n_jobs=4)]: Done 245 tasks      | elapsed:    6.3s\n",
      "[Parallel(n_jobs=4)]: Done 246 tasks      | elapsed:    6.3s\n",
      "[Parallel(n_jobs=4)]: Done 247 tasks      | elapsed:    6.3s\n",
      "[Parallel(n_jobs=4)]: Done 248 tasks      | elapsed:    6.4s\n",
      "[Parallel(n_jobs=4)]: Done 249 tasks      | elapsed:    6.4s\n",
      "[Parallel(n_jobs=4)]: Done 250 tasks      | elapsed:    6.4s\n",
      "[Parallel(n_jobs=4)]: Done 251 tasks      | elapsed:    6.4s\n",
      "[Parallel(n_jobs=4)]: Done 252 tasks      | elapsed:    6.5s\n",
      "[Parallel(n_jobs=4)]: Done 253 tasks      | elapsed:    6.5s\n",
      "[Parallel(n_jobs=4)]: Done 254 tasks      | elapsed:    6.5s\n",
      "[Parallel(n_jobs=4)]: Done 255 tasks      | elapsed:    6.5s\n",
      "[Parallel(n_jobs=4)]: Done 256 tasks      | elapsed:    6.6s\n",
      "[Parallel(n_jobs=4)]: Done 257 tasks      | elapsed:    6.6s\n",
      "[Parallel(n_jobs=4)]: Done 258 tasks      | elapsed:    6.6s\n",
      "[Parallel(n_jobs=4)]: Done 259 tasks      | elapsed:    6.6s\n",
      "[Parallel(n_jobs=4)]: Done 260 tasks      | elapsed:    6.6s\n",
      "[Parallel(n_jobs=4)]: Done 261 tasks      | elapsed:    6.7s\n",
      "[Parallel(n_jobs=4)]: Done 262 tasks      | elapsed:    6.7s\n",
      "[Parallel(n_jobs=4)]: Done 263 tasks      | elapsed:    6.7s\n",
      "[Parallel(n_jobs=4)]: Done 264 tasks      | elapsed:    6.8s\n",
      "[Parallel(n_jobs=4)]: Done 265 tasks      | elapsed:    6.9s\n",
      "[Parallel(n_jobs=4)]: Done 266 tasks      | elapsed:    6.9s\n",
      "[Parallel(n_jobs=4)]: Done 267 tasks      | elapsed:    6.9s\n",
      "[Parallel(n_jobs=4)]: Done 268 tasks      | elapsed:    6.9s\n",
      "[Parallel(n_jobs=4)]: Done 269 tasks      | elapsed:    7.0s\n",
      "[Parallel(n_jobs=4)]: Done 270 tasks      | elapsed:    7.0s\n",
      "[Parallel(n_jobs=4)]: Done 271 tasks      | elapsed:    7.0s\n"
     ]
    },
    {
     "name": "stderr",
     "output_type": "stream",
     "text": [
      "[Parallel(n_jobs=4)]: Done 272 tasks      | elapsed:    7.1s\n",
      "[Parallel(n_jobs=4)]: Done 273 tasks      | elapsed:    7.1s\n",
      "[Parallel(n_jobs=4)]: Done 274 tasks      | elapsed:    7.1s\n",
      "[Parallel(n_jobs=4)]: Done 275 tasks      | elapsed:    7.2s\n",
      "[Parallel(n_jobs=4)]: Done 276 tasks      | elapsed:    7.2s\n",
      "[Parallel(n_jobs=4)]: Done 277 tasks      | elapsed:    7.2s\n",
      "[Parallel(n_jobs=4)]: Done 278 tasks      | elapsed:    7.2s\n",
      "[Parallel(n_jobs=4)]: Done 279 tasks      | elapsed:    7.2s\n",
      "[Parallel(n_jobs=4)]: Done 280 tasks      | elapsed:    7.3s\n",
      "[Parallel(n_jobs=4)]: Done 281 tasks      | elapsed:    7.3s\n",
      "[Parallel(n_jobs=4)]: Done 282 tasks      | elapsed:    7.4s\n",
      "[Parallel(n_jobs=4)]: Done 283 tasks      | elapsed:    7.4s\n",
      "[Parallel(n_jobs=4)]: Done 284 tasks      | elapsed:    7.5s\n",
      "[Parallel(n_jobs=4)]: Done 285 tasks      | elapsed:    7.5s\n",
      "[Parallel(n_jobs=4)]: Done 286 tasks      | elapsed:    7.5s\n",
      "[Parallel(n_jobs=4)]: Done 287 tasks      | elapsed:    7.6s\n",
      "[Parallel(n_jobs=4)]: Done 288 tasks      | elapsed:    7.6s\n",
      "[Parallel(n_jobs=4)]: Done 289 tasks      | elapsed:    7.7s\n",
      "[Parallel(n_jobs=4)]: Done 290 tasks      | elapsed:    7.7s\n",
      "[Parallel(n_jobs=4)]: Done 291 tasks      | elapsed:    7.7s\n",
      "[Parallel(n_jobs=4)]: Done 292 tasks      | elapsed:    7.8s\n",
      "[Parallel(n_jobs=4)]: Done 293 tasks      | elapsed:    7.8s\n",
      "[Parallel(n_jobs=4)]: Done 294 tasks      | elapsed:    7.8s\n",
      "[Parallel(n_jobs=4)]: Done 295 tasks      | elapsed:    7.9s\n",
      "[Parallel(n_jobs=4)]: Done 296 tasks      | elapsed:    7.9s\n",
      "[Parallel(n_jobs=4)]: Done 297 tasks      | elapsed:    7.9s\n",
      "[Parallel(n_jobs=4)]: Done 298 tasks      | elapsed:    8.0s\n",
      "[Parallel(n_jobs=4)]: Done 299 tasks      | elapsed:    8.0s\n",
      "[Parallel(n_jobs=4)]: Done 300 tasks      | elapsed:    8.1s\n",
      "[Parallel(n_jobs=4)]: Done 301 tasks      | elapsed:    8.1s\n",
      "[Parallel(n_jobs=4)]: Done 302 tasks      | elapsed:    8.1s\n",
      "[Parallel(n_jobs=4)]: Done 303 tasks      | elapsed:    8.1s\n",
      "[Parallel(n_jobs=4)]: Done 304 tasks      | elapsed:    8.2s\n",
      "[Parallel(n_jobs=4)]: Done 305 tasks      | elapsed:    8.2s\n",
      "[Parallel(n_jobs=4)]: Done 306 tasks      | elapsed:    8.2s\n",
      "[Parallel(n_jobs=4)]: Done 307 tasks      | elapsed:    8.2s\n",
      "[Parallel(n_jobs=4)]: Done 308 tasks      | elapsed:    8.3s\n",
      "[Parallel(n_jobs=4)]: Done 309 tasks      | elapsed:    8.3s\n",
      "[Parallel(n_jobs=4)]: Done 310 tasks      | elapsed:    8.3s\n",
      "[Parallel(n_jobs=4)]: Done 311 tasks      | elapsed:    8.4s\n",
      "[Parallel(n_jobs=4)]: Done 312 tasks      | elapsed:    8.4s\n",
      "[Parallel(n_jobs=4)]: Done 313 tasks      | elapsed:    8.5s\n",
      "[Parallel(n_jobs=4)]: Done 314 tasks      | elapsed:    8.5s\n",
      "[Parallel(n_jobs=4)]: Done 315 tasks      | elapsed:    8.6s\n",
      "[Parallel(n_jobs=4)]: Done 316 tasks      | elapsed:    8.6s\n",
      "[Parallel(n_jobs=4)]: Done 317 tasks      | elapsed:    8.6s\n",
      "[Parallel(n_jobs=4)]: Done 318 tasks      | elapsed:    8.6s\n",
      "[Parallel(n_jobs=4)]: Done 319 tasks      | elapsed:    8.7s\n",
      "[Parallel(n_jobs=4)]: Done 320 tasks      | elapsed:    8.7s\n",
      "[Parallel(n_jobs=4)]: Done 321 tasks      | elapsed:    8.7s\n",
      "[Parallel(n_jobs=4)]: Done 322 tasks      | elapsed:    8.8s\n",
      "[Parallel(n_jobs=4)]: Done 323 tasks      | elapsed:    8.8s\n",
      "[Parallel(n_jobs=4)]: Done 324 tasks      | elapsed:    8.8s\n",
      "[Parallel(n_jobs=4)]: Done 325 tasks      | elapsed:    8.8s\n",
      "[Parallel(n_jobs=4)]: Done 326 tasks      | elapsed:    8.8s\n",
      "[Parallel(n_jobs=4)]: Done 327 tasks      | elapsed:    8.9s\n",
      "[Parallel(n_jobs=4)]: Done 328 tasks      | elapsed:    8.9s\n",
      "[Parallel(n_jobs=4)]: Done 329 tasks      | elapsed:    8.9s\n",
      "[Parallel(n_jobs=4)]: Done 330 tasks      | elapsed:    9.0s\n",
      "[Parallel(n_jobs=4)]: Done 331 tasks      | elapsed:    9.0s\n",
      "[Parallel(n_jobs=4)]: Done 332 tasks      | elapsed:    9.0s\n",
      "[Parallel(n_jobs=4)]: Done 333 tasks      | elapsed:    9.0s\n",
      "[Parallel(n_jobs=4)]: Done 334 tasks      | elapsed:    9.0s\n",
      "[Parallel(n_jobs=4)]: Done 335 tasks      | elapsed:    9.1s\n",
      "[Parallel(n_jobs=4)]: Done 336 tasks      | elapsed:    9.1s\n",
      "[Parallel(n_jobs=4)]: Done 337 tasks      | elapsed:    9.1s\n",
      "[Parallel(n_jobs=4)]: Done 338 tasks      | elapsed:    9.1s\n",
      "[Parallel(n_jobs=4)]: Done 339 tasks      | elapsed:    9.1s\n",
      "[Parallel(n_jobs=4)]: Done 340 tasks      | elapsed:    9.2s\n",
      "[Parallel(n_jobs=4)]: Done 341 tasks      | elapsed:    9.2s\n",
      "[Parallel(n_jobs=4)]: Done 342 tasks      | elapsed:    9.2s\n",
      "[Parallel(n_jobs=4)]: Done 343 tasks      | elapsed:    9.2s\n",
      "[Parallel(n_jobs=4)]: Done 344 tasks      | elapsed:    9.3s\n",
      "[Parallel(n_jobs=4)]: Done 345 tasks      | elapsed:    9.3s\n",
      "[Parallel(n_jobs=4)]: Done 346 tasks      | elapsed:    9.3s\n",
      "[Parallel(n_jobs=4)]: Done 347 tasks      | elapsed:    9.3s\n",
      "[Parallel(n_jobs=4)]: Done 348 tasks      | elapsed:    9.4s\n",
      "[Parallel(n_jobs=4)]: Done 349 tasks      | elapsed:    9.4s\n",
      "[Parallel(n_jobs=4)]: Done 350 tasks      | elapsed:    9.4s\n",
      "[Parallel(n_jobs=4)]: Done 351 tasks      | elapsed:    9.5s\n",
      "[Parallel(n_jobs=4)]: Done 352 tasks      | elapsed:    9.5s\n",
      "[Parallel(n_jobs=4)]: Done 353 tasks      | elapsed:    9.5s\n",
      "[Parallel(n_jobs=4)]: Done 354 tasks      | elapsed:    9.5s\n",
      "[Parallel(n_jobs=4)]: Done 355 tasks      | elapsed:    9.6s\n",
      "[Parallel(n_jobs=4)]: Done 356 tasks      | elapsed:    9.6s\n",
      "[Parallel(n_jobs=4)]: Done 357 tasks      | elapsed:    9.6s\n",
      "[Parallel(n_jobs=4)]: Done 358 tasks      | elapsed:    9.6s\n",
      "[Parallel(n_jobs=4)]: Done 359 tasks      | elapsed:    9.7s\n",
      "[Parallel(n_jobs=4)]: Done 360 tasks      | elapsed:    9.7s\n",
      "[Parallel(n_jobs=4)]: Done 361 tasks      | elapsed:    9.7s\n",
      "[Parallel(n_jobs=4)]: Done 362 tasks      | elapsed:    9.7s\n",
      "[Parallel(n_jobs=4)]: Done 363 tasks      | elapsed:    9.8s\n",
      "[Parallel(n_jobs=4)]: Done 364 tasks      | elapsed:    9.8s\n",
      "[Parallel(n_jobs=4)]: Done 365 tasks      | elapsed:    9.9s\n",
      "[Parallel(n_jobs=4)]: Done 366 tasks      | elapsed:    9.9s\n",
      "[Parallel(n_jobs=4)]: Done 367 tasks      | elapsed:   10.0s\n",
      "[Parallel(n_jobs=4)]: Done 368 tasks      | elapsed:   10.0s\n",
      "[Parallel(n_jobs=4)]: Done 369 tasks      | elapsed:   10.0s\n",
      "[Parallel(n_jobs=4)]: Done 370 tasks      | elapsed:   10.0s\n",
      "[Parallel(n_jobs=4)]: Done 371 tasks      | elapsed:   10.1s\n",
      "[Parallel(n_jobs=4)]: Done 372 tasks      | elapsed:   10.1s\n",
      "[Parallel(n_jobs=4)]: Done 373 tasks      | elapsed:   10.1s\n",
      "[Parallel(n_jobs=4)]: Done 374 tasks      | elapsed:   10.1s\n",
      "[Parallel(n_jobs=4)]: Done 375 tasks      | elapsed:   10.1s\n",
      "[Parallel(n_jobs=4)]: Done 376 tasks      | elapsed:   10.2s\n",
      "[Parallel(n_jobs=4)]: Done 377 tasks      | elapsed:   10.2s\n",
      "[Parallel(n_jobs=4)]: Done 378 tasks      | elapsed:   10.2s\n",
      "[Parallel(n_jobs=4)]: Done 379 tasks      | elapsed:   10.2s\n",
      "[Parallel(n_jobs=4)]: Done 380 tasks      | elapsed:   10.3s\n",
      "[Parallel(n_jobs=4)]: Done 381 tasks      | elapsed:   10.3s\n",
      "[Parallel(n_jobs=4)]: Done 382 tasks      | elapsed:   10.3s\n",
      "[Parallel(n_jobs=4)]: Done 383 tasks      | elapsed:   10.3s\n",
      "[Parallel(n_jobs=4)]: Done 384 tasks      | elapsed:   10.4s\n",
      "[Parallel(n_jobs=4)]: Done 385 tasks      | elapsed:   10.4s\n",
      "[Parallel(n_jobs=4)]: Done 386 tasks      | elapsed:   10.4s\n",
      "[Parallel(n_jobs=4)]: Done 387 tasks      | elapsed:   10.5s\n",
      "[Parallel(n_jobs=4)]: Done 388 tasks      | elapsed:   10.5s\n",
      "[Parallel(n_jobs=4)]: Done 389 tasks      | elapsed:   10.5s\n",
      "[Parallel(n_jobs=4)]: Done 390 tasks      | elapsed:   10.6s\n",
      "[Parallel(n_jobs=4)]: Done 391 tasks      | elapsed:   10.6s\n",
      "[Parallel(n_jobs=4)]: Done 392 tasks      | elapsed:   10.6s\n",
      "[Parallel(n_jobs=4)]: Done 393 tasks      | elapsed:   10.7s\n",
      "[Parallel(n_jobs=4)]: Done 394 tasks      | elapsed:   10.7s\n",
      "[Parallel(n_jobs=4)]: Done 395 tasks      | elapsed:   10.7s\n",
      "[Parallel(n_jobs=4)]: Done 396 tasks      | elapsed:   10.7s\n",
      "[Parallel(n_jobs=4)]: Done 397 tasks      | elapsed:   10.8s\n",
      "[Parallel(n_jobs=4)]: Done 398 tasks      | elapsed:   10.8s\n",
      "[Parallel(n_jobs=4)]: Done 399 tasks      | elapsed:   10.8s\n",
      "[Parallel(n_jobs=4)]: Done 400 tasks      | elapsed:   10.9s\n",
      "[Parallel(n_jobs=4)]: Done 401 tasks      | elapsed:   10.9s\n",
      "[Parallel(n_jobs=4)]: Done 402 tasks      | elapsed:   10.9s\n",
      "[Parallel(n_jobs=4)]: Done 403 tasks      | elapsed:   10.9s\n",
      "[Parallel(n_jobs=4)]: Done 404 tasks      | elapsed:   11.0s\n",
      "[Parallel(n_jobs=4)]: Done 405 tasks      | elapsed:   11.0s\n",
      "[Parallel(n_jobs=4)]: Done 406 tasks      | elapsed:   11.0s\n",
      "[Parallel(n_jobs=4)]: Done 407 tasks      | elapsed:   11.1s\n"
     ]
    },
    {
     "name": "stderr",
     "output_type": "stream",
     "text": [
      "[Parallel(n_jobs=4)]: Done 408 tasks      | elapsed:   11.1s\n",
      "[Parallel(n_jobs=4)]: Done 409 tasks      | elapsed:   11.1s\n",
      "[Parallel(n_jobs=4)]: Done 410 tasks      | elapsed:   11.1s\n",
      "[Parallel(n_jobs=4)]: Done 411 tasks      | elapsed:   11.2s\n",
      "[Parallel(n_jobs=4)]: Done 412 tasks      | elapsed:   11.2s\n",
      "[Parallel(n_jobs=4)]: Done 413 tasks      | elapsed:   11.3s\n",
      "[Parallel(n_jobs=4)]: Done 414 tasks      | elapsed:   11.3s\n",
      "[Parallel(n_jobs=4)]: Done 415 tasks      | elapsed:   11.3s\n",
      "[Parallel(n_jobs=4)]: Done 416 tasks      | elapsed:   11.3s\n",
      "[Parallel(n_jobs=4)]: Done 417 tasks      | elapsed:   11.3s\n",
      "[Parallel(n_jobs=4)]: Done 418 tasks      | elapsed:   11.4s\n",
      "[Parallel(n_jobs=4)]: Done 419 tasks      | elapsed:   11.4s\n",
      "[Parallel(n_jobs=4)]: Done 420 tasks      | elapsed:   11.4s\n",
      "[Parallel(n_jobs=4)]: Done 421 tasks      | elapsed:   11.5s\n",
      "[Parallel(n_jobs=4)]: Done 422 tasks      | elapsed:   11.5s\n",
      "[Parallel(n_jobs=4)]: Done 423 tasks      | elapsed:   11.6s\n",
      "[Parallel(n_jobs=4)]: Done 424 tasks      | elapsed:   11.6s\n",
      "[Parallel(n_jobs=4)]: Done 425 tasks      | elapsed:   11.6s\n",
      "[Parallel(n_jobs=4)]: Done 426 tasks      | elapsed:   11.6s\n",
      "[Parallel(n_jobs=4)]: Done 427 tasks      | elapsed:   11.7s\n",
      "[Parallel(n_jobs=4)]: Done 428 tasks      | elapsed:   11.7s\n",
      "[Parallel(n_jobs=4)]: Done 429 tasks      | elapsed:   11.7s\n",
      "[Parallel(n_jobs=4)]: Done 430 tasks      | elapsed:   11.7s\n",
      "[Parallel(n_jobs=4)]: Done 431 tasks      | elapsed:   11.8s\n",
      "[Parallel(n_jobs=4)]: Done 432 tasks      | elapsed:   11.8s\n",
      "[Parallel(n_jobs=4)]: Done 433 tasks      | elapsed:   11.8s\n",
      "[Parallel(n_jobs=4)]: Done 434 tasks      | elapsed:   11.8s\n",
      "[Parallel(n_jobs=4)]: Done 435 tasks      | elapsed:   11.9s\n",
      "[Parallel(n_jobs=4)]: Done 436 tasks      | elapsed:   11.9s\n",
      "[Parallel(n_jobs=4)]: Done 437 tasks      | elapsed:   11.9s\n",
      "[Parallel(n_jobs=4)]: Done 438 tasks      | elapsed:   11.9s\n",
      "[Parallel(n_jobs=4)]: Done 439 tasks      | elapsed:   12.0s\n",
      "[Parallel(n_jobs=4)]: Done 440 tasks      | elapsed:   12.0s\n",
      "[Parallel(n_jobs=4)]: Done 441 tasks      | elapsed:   12.0s\n",
      "[Parallel(n_jobs=4)]: Done 442 tasks      | elapsed:   12.0s\n",
      "[Parallel(n_jobs=4)]: Done 443 tasks      | elapsed:   12.1s\n",
      "[Parallel(n_jobs=4)]: Done 444 tasks      | elapsed:   12.1s\n",
      "[Parallel(n_jobs=4)]: Done 445 tasks      | elapsed:   12.2s\n",
      "[Parallel(n_jobs=4)]: Done 446 tasks      | elapsed:   12.2s\n",
      "[Parallel(n_jobs=4)]: Done 447 tasks      | elapsed:   12.3s\n",
      "[Parallel(n_jobs=4)]: Done 448 tasks      | elapsed:   12.3s\n",
      "[Parallel(n_jobs=4)]: Done 449 tasks      | elapsed:   12.3s\n",
      "[Parallel(n_jobs=4)]: Done 450 tasks      | elapsed:   12.3s\n",
      "[Parallel(n_jobs=4)]: Done 451 tasks      | elapsed:   12.3s\n",
      "[Parallel(n_jobs=4)]: Done 452 tasks      | elapsed:   12.3s\n",
      "[Parallel(n_jobs=4)]: Done 453 tasks      | elapsed:   12.4s\n",
      "[Parallel(n_jobs=4)]: Done 454 tasks      | elapsed:   12.4s\n",
      "[Parallel(n_jobs=4)]: Done 455 tasks      | elapsed:   12.4s\n",
      "[Parallel(n_jobs=4)]: Done 456 tasks      | elapsed:   12.5s\n",
      "[Parallel(n_jobs=4)]: Done 457 tasks      | elapsed:   12.5s\n",
      "[Parallel(n_jobs=4)]: Done 458 tasks      | elapsed:   12.5s\n",
      "[Parallel(n_jobs=4)]: Done 459 tasks      | elapsed:   12.6s\n",
      "[Parallel(n_jobs=4)]: Done 460 tasks      | elapsed:   12.6s\n",
      "[Parallel(n_jobs=4)]: Done 461 tasks      | elapsed:   12.6s\n",
      "[Parallel(n_jobs=4)]: Done 462 tasks      | elapsed:   12.6s\n",
      "[Parallel(n_jobs=4)]: Done 463 tasks      | elapsed:   12.7s\n",
      "[Parallel(n_jobs=4)]: Done 464 tasks      | elapsed:   12.7s\n",
      "[Parallel(n_jobs=4)]: Done 465 tasks      | elapsed:   12.7s\n",
      "[Parallel(n_jobs=4)]: Done 466 tasks      | elapsed:   12.7s\n",
      "[Parallel(n_jobs=4)]: Done 467 tasks      | elapsed:   12.7s\n",
      "[Parallel(n_jobs=4)]: Done 468 tasks      | elapsed:   12.8s\n",
      "[Parallel(n_jobs=4)]: Done 469 tasks      | elapsed:   12.8s\n",
      "[Parallel(n_jobs=4)]: Done 470 tasks      | elapsed:   12.8s\n",
      "[Parallel(n_jobs=4)]: Done 471 tasks      | elapsed:   12.9s\n",
      "[Parallel(n_jobs=4)]: Done 472 tasks      | elapsed:   12.9s\n",
      "[Parallel(n_jobs=4)]: Done 473 tasks      | elapsed:   12.9s\n",
      "[Parallel(n_jobs=4)]: Done 474 tasks      | elapsed:   13.0s\n",
      "[Parallel(n_jobs=4)]: Done 475 tasks      | elapsed:   13.0s\n",
      "[Parallel(n_jobs=4)]: Done 476 tasks      | elapsed:   13.0s\n",
      "[Parallel(n_jobs=4)]: Done 477 tasks      | elapsed:   13.0s\n",
      "[Parallel(n_jobs=4)]: Done 478 tasks      | elapsed:   13.1s\n",
      "[Parallel(n_jobs=4)]: Done 479 tasks      | elapsed:   13.1s\n",
      "[Parallel(n_jobs=4)]: Done 480 tasks      | elapsed:   13.2s\n",
      "[Parallel(n_jobs=4)]: Done 481 tasks      | elapsed:   13.2s\n",
      "[Parallel(n_jobs=4)]: Done 482 tasks      | elapsed:   13.2s\n",
      "[Parallel(n_jobs=4)]: Done 483 tasks      | elapsed:   13.2s\n",
      "[Parallel(n_jobs=4)]: Done 484 tasks      | elapsed:   13.2s\n",
      "[Parallel(n_jobs=4)]: Done 485 tasks      | elapsed:   13.3s\n",
      "[Parallel(n_jobs=4)]: Done 486 tasks      | elapsed:   13.3s\n",
      "[Parallel(n_jobs=4)]: Done 487 tasks      | elapsed:   13.3s\n",
      "[Parallel(n_jobs=4)]: Done 488 tasks      | elapsed:   13.4s\n",
      "[Parallel(n_jobs=4)]: Done 489 tasks      | elapsed:   13.4s\n",
      "[Parallel(n_jobs=4)]: Done 490 tasks      | elapsed:   13.4s\n",
      "[Parallel(n_jobs=4)]: Done 491 tasks      | elapsed:   13.5s\n",
      "[Parallel(n_jobs=4)]: Done 492 tasks      | elapsed:   13.5s\n",
      "[Parallel(n_jobs=4)]: Done 493 tasks      | elapsed:   13.5s\n",
      "[Parallel(n_jobs=4)]: Done 494 tasks      | elapsed:   13.5s\n",
      "[Parallel(n_jobs=4)]: Done 495 tasks      | elapsed:   13.6s\n",
      "[Parallel(n_jobs=4)]: Done 496 tasks      | elapsed:   13.6s\n",
      "[Parallel(n_jobs=4)]: Done 497 tasks      | elapsed:   13.6s\n",
      "[Parallel(n_jobs=4)]: Done 498 tasks      | elapsed:   13.7s\n",
      "[Parallel(n_jobs=4)]: Done 499 tasks      | elapsed:   13.7s\n",
      "[Parallel(n_jobs=4)]: Done 500 tasks      | elapsed:   13.7s\n",
      "[Parallel(n_jobs=4)]: Done 501 tasks      | elapsed:   13.7s\n",
      "[Parallel(n_jobs=4)]: Done 502 tasks      | elapsed:   13.8s\n",
      "[Parallel(n_jobs=4)]: Done 503 tasks      | elapsed:   13.8s\n",
      "[Parallel(n_jobs=4)]: Done 504 tasks      | elapsed:   13.8s\n",
      "[Parallel(n_jobs=4)]: Done 505 tasks      | elapsed:   13.9s\n",
      "[Parallel(n_jobs=4)]: Done 506 tasks      | elapsed:   13.9s\n",
      "[Parallel(n_jobs=4)]: Done 507 tasks      | elapsed:   13.9s\n",
      "[Parallel(n_jobs=4)]: Done 508 tasks      | elapsed:   13.9s\n",
      "[Parallel(n_jobs=4)]: Done 509 tasks      | elapsed:   14.0s\n",
      "[Parallel(n_jobs=4)]: Done 510 tasks      | elapsed:   14.0s\n",
      "[Parallel(n_jobs=4)]: Done 511 tasks      | elapsed:   14.0s\n",
      "[Parallel(n_jobs=4)]: Done 512 tasks      | elapsed:   14.0s\n",
      "[Parallel(n_jobs=4)]: Done 513 tasks      | elapsed:   14.1s\n",
      "[Parallel(n_jobs=4)]: Done 514 tasks      | elapsed:   14.1s\n",
      "[Parallel(n_jobs=4)]: Done 515 tasks      | elapsed:   14.1s\n",
      "[Parallel(n_jobs=4)]: Done 516 tasks      | elapsed:   14.1s\n",
      "[Parallel(n_jobs=4)]: Done 517 tasks      | elapsed:   14.2s\n",
      "[Parallel(n_jobs=4)]: Done 518 tasks      | elapsed:   14.2s\n",
      "[Parallel(n_jobs=4)]: Done 519 tasks      | elapsed:   14.2s\n",
      "[Parallel(n_jobs=4)]: Done 520 tasks      | elapsed:   14.3s\n",
      "[Parallel(n_jobs=4)]: Done 521 tasks      | elapsed:   14.3s\n",
      "[Parallel(n_jobs=4)]: Done 522 tasks      | elapsed:   14.3s\n",
      "[Parallel(n_jobs=4)]: Done 523 tasks      | elapsed:   14.3s\n",
      "[Parallel(n_jobs=4)]: Done 524 tasks      | elapsed:   14.4s\n",
      "[Parallel(n_jobs=4)]: Done 525 tasks      | elapsed:   14.4s\n",
      "[Parallel(n_jobs=4)]: Done 526 tasks      | elapsed:   14.4s\n",
      "[Parallel(n_jobs=4)]: Done 527 tasks      | elapsed:   14.4s\n",
      "[Parallel(n_jobs=4)]: Done 528 tasks      | elapsed:   14.5s\n",
      "[Parallel(n_jobs=4)]: Done 529 tasks      | elapsed:   14.5s\n",
      "[Parallel(n_jobs=4)]: Done 530 tasks      | elapsed:   14.5s\n",
      "[Parallel(n_jobs=4)]: Done 531 tasks      | elapsed:   14.6s\n",
      "[Parallel(n_jobs=4)]: Done 532 tasks      | elapsed:   14.6s\n",
      "[Parallel(n_jobs=4)]: Done 533 tasks      | elapsed:   14.6s\n",
      "[Parallel(n_jobs=4)]: Done 534 tasks      | elapsed:   14.6s\n",
      "[Parallel(n_jobs=4)]: Done 535 tasks      | elapsed:   14.7s\n",
      "[Parallel(n_jobs=4)]: Done 536 tasks      | elapsed:   14.7s\n",
      "[Parallel(n_jobs=4)]: Done 537 tasks      | elapsed:   14.7s\n",
      "[Parallel(n_jobs=4)]: Done 538 tasks      | elapsed:   14.7s\n",
      "[Parallel(n_jobs=4)]: Done 539 tasks      | elapsed:   14.8s\n",
      "[Parallel(n_jobs=4)]: Done 540 tasks      | elapsed:   14.8s\n",
      "[Parallel(n_jobs=4)]: Done 541 tasks      | elapsed:   14.8s\n",
      "[Parallel(n_jobs=4)]: Done 542 tasks      | elapsed:   14.9s\n",
      "[Parallel(n_jobs=4)]: Done 543 tasks      | elapsed:   14.9s\n",
      "[Parallel(n_jobs=4)]: Done 544 tasks      | elapsed:   14.9s\n",
      "[Parallel(n_jobs=4)]: Done 545 tasks      | elapsed:   15.0s\n",
      "[Parallel(n_jobs=4)]: Done 546 tasks      | elapsed:   15.0s\n",
      "[Parallel(n_jobs=4)]: Done 547 tasks      | elapsed:   15.0s\n",
      "[Parallel(n_jobs=4)]: Done 548 tasks      | elapsed:   15.0s\n"
     ]
    },
    {
     "name": "stderr",
     "output_type": "stream",
     "text": [
      "[Parallel(n_jobs=4)]: Done 549 tasks      | elapsed:   15.1s\n",
      "[Parallel(n_jobs=4)]: Done 550 tasks      | elapsed:   15.1s\n",
      "[Parallel(n_jobs=4)]: Done 551 tasks      | elapsed:   15.1s\n",
      "[Parallel(n_jobs=4)]: Done 552 tasks      | elapsed:   15.2s\n",
      "[Parallel(n_jobs=4)]: Done 553 tasks      | elapsed:   15.2s\n",
      "[Parallel(n_jobs=4)]: Done 554 tasks      | elapsed:   15.2s\n",
      "[Parallel(n_jobs=4)]: Done 555 tasks      | elapsed:   15.2s\n",
      "[Parallel(n_jobs=4)]: Done 556 tasks      | elapsed:   15.2s\n",
      "[Parallel(n_jobs=4)]: Done 557 tasks      | elapsed:   15.3s\n",
      "[Parallel(n_jobs=4)]: Done 558 tasks      | elapsed:   15.3s\n",
      "[Parallel(n_jobs=4)]: Done 559 tasks      | elapsed:   15.3s\n",
      "[Parallel(n_jobs=4)]: Done 560 tasks      | elapsed:   15.3s\n",
      "[Parallel(n_jobs=4)]: Done 561 tasks      | elapsed:   15.4s\n",
      "[Parallel(n_jobs=4)]: Done 562 tasks      | elapsed:   15.4s\n",
      "[Parallel(n_jobs=4)]: Done 563 tasks      | elapsed:   15.4s\n",
      "[Parallel(n_jobs=4)]: Done 564 tasks      | elapsed:   15.5s\n",
      "[Parallel(n_jobs=4)]: Done 565 tasks      | elapsed:   15.5s\n",
      "[Parallel(n_jobs=4)]: Done 566 tasks      | elapsed:   15.5s\n",
      "[Parallel(n_jobs=4)]: Done 567 tasks      | elapsed:   15.5s\n",
      "[Parallel(n_jobs=4)]: Done 568 tasks      | elapsed:   15.5s\n",
      "[Parallel(n_jobs=4)]: Done 569 tasks      | elapsed:   15.6s\n",
      "[Parallel(n_jobs=4)]: Done 570 tasks      | elapsed:   15.6s\n",
      "[Parallel(n_jobs=4)]: Done 571 tasks      | elapsed:   15.7s\n",
      "[Parallel(n_jobs=4)]: Done 572 tasks      | elapsed:   15.7s\n",
      "[Parallel(n_jobs=4)]: Done 573 tasks      | elapsed:   15.7s\n",
      "[Parallel(n_jobs=4)]: Done 574 tasks      | elapsed:   15.7s\n",
      "[Parallel(n_jobs=4)]: Done 575 tasks      | elapsed:   15.8s\n",
      "[Parallel(n_jobs=4)]: Done 576 tasks      | elapsed:   15.8s\n",
      "[Parallel(n_jobs=4)]: Done 577 tasks      | elapsed:   15.8s\n",
      "[Parallel(n_jobs=4)]: Done 578 tasks      | elapsed:   15.9s\n",
      "[Parallel(n_jobs=4)]: Done 579 tasks      | elapsed:   15.9s\n",
      "[Parallel(n_jobs=4)]: Done 580 tasks      | elapsed:   15.9s\n",
      "[Parallel(n_jobs=4)]: Done 581 tasks      | elapsed:   15.9s\n",
      "[Parallel(n_jobs=4)]: Done 582 tasks      | elapsed:   16.0s\n",
      "[Parallel(n_jobs=4)]: Done 583 tasks      | elapsed:   16.0s\n",
      "[Parallel(n_jobs=4)]: Done 584 tasks      | elapsed:   16.1s\n",
      "[Parallel(n_jobs=4)]: Done 585 tasks      | elapsed:   16.1s\n",
      "[Parallel(n_jobs=4)]: Done 586 tasks      | elapsed:   16.1s\n",
      "[Parallel(n_jobs=4)]: Done 587 tasks      | elapsed:   16.1s\n",
      "[Parallel(n_jobs=4)]: Done 588 tasks      | elapsed:   16.2s\n",
      "[Parallel(n_jobs=4)]: Done 589 tasks      | elapsed:   16.2s\n",
      "[Parallel(n_jobs=4)]: Done 590 tasks      | elapsed:   16.2s\n",
      "[Parallel(n_jobs=4)]: Done 591 tasks      | elapsed:   16.2s\n",
      "[Parallel(n_jobs=4)]: Done 592 tasks      | elapsed:   16.3s\n",
      "[Parallel(n_jobs=4)]: Done 593 tasks      | elapsed:   16.3s\n",
      "[Parallel(n_jobs=4)]: Done 594 tasks      | elapsed:   16.3s\n",
      "[Parallel(n_jobs=4)]: Done 595 tasks      | elapsed:   16.3s\n",
      "[Parallel(n_jobs=4)]: Done 596 tasks      | elapsed:   16.3s\n",
      "[Parallel(n_jobs=4)]: Done 597 tasks      | elapsed:   16.4s\n",
      "[Parallel(n_jobs=4)]: Done 598 tasks      | elapsed:   16.4s\n",
      "[Parallel(n_jobs=4)]: Done 599 tasks      | elapsed:   16.4s\n",
      "[Parallel(n_jobs=4)]: Done 600 tasks      | elapsed:   16.4s\n",
      "[Parallel(n_jobs=4)]: Done 601 tasks      | elapsed:   16.5s\n",
      "[Parallel(n_jobs=4)]: Done 602 tasks      | elapsed:   16.5s\n",
      "[Parallel(n_jobs=4)]: Done 603 tasks      | elapsed:   16.5s\n",
      "[Parallel(n_jobs=4)]: Done 604 tasks      | elapsed:   16.6s\n",
      "[Parallel(n_jobs=4)]: Done 605 tasks      | elapsed:   16.6s\n",
      "[Parallel(n_jobs=4)]: Done 606 tasks      | elapsed:   16.6s\n",
      "[Parallel(n_jobs=4)]: Done 607 tasks      | elapsed:   16.7s\n",
      "[Parallel(n_jobs=4)]: Done 608 tasks      | elapsed:   16.7s\n",
      "[Parallel(n_jobs=4)]: Done 609 tasks      | elapsed:   16.7s\n",
      "[Parallel(n_jobs=4)]: Done 610 tasks      | elapsed:   16.7s\n",
      "[Parallel(n_jobs=4)]: Done 611 tasks      | elapsed:   16.8s\n",
      "[Parallel(n_jobs=4)]: Done 612 tasks      | elapsed:   16.8s\n",
      "[Parallel(n_jobs=4)]: Done 613 tasks      | elapsed:   16.8s\n",
      "[Parallel(n_jobs=4)]: Done 614 tasks      | elapsed:   16.9s\n",
      "[Parallel(n_jobs=4)]: Done 615 tasks      | elapsed:   16.9s\n",
      "[Parallel(n_jobs=4)]: Done 616 tasks      | elapsed:   16.9s\n",
      "[Parallel(n_jobs=4)]: Done 617 tasks      | elapsed:   16.9s\n",
      "[Parallel(n_jobs=4)]: Done 618 tasks      | elapsed:   17.0s\n",
      "[Parallel(n_jobs=4)]: Done 619 tasks      | elapsed:   17.0s\n",
      "[Parallel(n_jobs=4)]: Done 620 tasks      | elapsed:   17.0s\n",
      "[Parallel(n_jobs=4)]: Done 621 tasks      | elapsed:   17.1s\n",
      "[Parallel(n_jobs=4)]: Done 622 tasks      | elapsed:   17.1s\n",
      "[Parallel(n_jobs=4)]: Done 623 tasks      | elapsed:   17.1s\n",
      "[Parallel(n_jobs=4)]: Done 624 tasks      | elapsed:   17.2s\n",
      "[Parallel(n_jobs=4)]: Done 625 tasks      | elapsed:   17.3s\n",
      "[Parallel(n_jobs=4)]: Done 626 tasks      | elapsed:   17.3s\n",
      "[Parallel(n_jobs=4)]: Done 627 tasks      | elapsed:   17.3s\n",
      "[Parallel(n_jobs=4)]: Done 628 tasks      | elapsed:   17.4s\n",
      "[Parallel(n_jobs=4)]: Done 629 tasks      | elapsed:   17.4s\n",
      "[Parallel(n_jobs=4)]: Done 630 tasks      | elapsed:   17.4s\n",
      "[Parallel(n_jobs=4)]: Done 631 tasks      | elapsed:   17.4s\n",
      "[Parallel(n_jobs=4)]: Done 632 tasks      | elapsed:   17.5s\n",
      "[Parallel(n_jobs=4)]: Done 633 tasks      | elapsed:   17.5s\n",
      "[Parallel(n_jobs=4)]: Done 634 tasks      | elapsed:   17.5s\n",
      "[Parallel(n_jobs=4)]: Done 635 tasks      | elapsed:   17.5s\n",
      "[Parallel(n_jobs=4)]: Done 636 tasks      | elapsed:   17.6s\n",
      "[Parallel(n_jobs=4)]: Done 637 tasks      | elapsed:   17.6s\n",
      "[Parallel(n_jobs=4)]: Done 638 tasks      | elapsed:   17.6s\n",
      "[Parallel(n_jobs=4)]: Done 639 tasks      | elapsed:   17.7s\n",
      "[Parallel(n_jobs=4)]: Done 640 tasks      | elapsed:   17.7s\n",
      "[Parallel(n_jobs=4)]: Done 641 tasks      | elapsed:   17.7s\n",
      "[Parallel(n_jobs=4)]: Done 642 tasks      | elapsed:   17.8s\n",
      "[Parallel(n_jobs=4)]: Done 643 tasks      | elapsed:   17.8s\n",
      "[Parallel(n_jobs=4)]: Done 644 tasks      | elapsed:   17.8s\n",
      "[Parallel(n_jobs=4)]: Done 645 tasks      | elapsed:   17.8s\n",
      "[Parallel(n_jobs=4)]: Done 646 tasks      | elapsed:   17.9s\n",
      "[Parallel(n_jobs=4)]: Done 647 tasks      | elapsed:   17.9s\n",
      "[Parallel(n_jobs=4)]: Done 648 tasks      | elapsed:   17.9s\n",
      "[Parallel(n_jobs=4)]: Done 649 tasks      | elapsed:   18.0s\n",
      "[Parallel(n_jobs=4)]: Done 650 tasks      | elapsed:   18.0s\n",
      "[Parallel(n_jobs=4)]: Done 651 tasks      | elapsed:   18.0s\n",
      "[Parallel(n_jobs=4)]: Done 652 tasks      | elapsed:   18.0s\n",
      "[Parallel(n_jobs=4)]: Done 653 tasks      | elapsed:   18.1s\n",
      "[Parallel(n_jobs=4)]: Done 654 tasks      | elapsed:   18.1s\n",
      "[Parallel(n_jobs=4)]: Done 655 tasks      | elapsed:   18.1s\n",
      "[Parallel(n_jobs=4)]: Done 656 tasks      | elapsed:   18.1s\n",
      "[Parallel(n_jobs=4)]: Done 657 tasks      | elapsed:   18.2s\n",
      "[Parallel(n_jobs=4)]: Done 658 tasks      | elapsed:   18.2s\n",
      "[Parallel(n_jobs=4)]: Done 659 tasks      | elapsed:   18.2s\n",
      "[Parallel(n_jobs=4)]: Done 660 tasks      | elapsed:   18.2s\n",
      "[Parallel(n_jobs=4)]: Done 661 tasks      | elapsed:   18.3s\n",
      "[Parallel(n_jobs=4)]: Done 662 tasks      | elapsed:   18.3s\n",
      "[Parallel(n_jobs=4)]: Done 663 tasks      | elapsed:   18.3s\n",
      "[Parallel(n_jobs=4)]: Done 664 tasks      | elapsed:   18.3s\n",
      "[Parallel(n_jobs=4)]: Done 665 tasks      | elapsed:   18.3s\n",
      "[Parallel(n_jobs=4)]: Done 666 tasks      | elapsed:   18.4s\n",
      "[Parallel(n_jobs=4)]: Done 667 tasks      | elapsed:   18.4s\n",
      "[Parallel(n_jobs=4)]: Done 668 tasks      | elapsed:   18.5s\n",
      "[Parallel(n_jobs=4)]: Done 669 tasks      | elapsed:   18.5s\n",
      "[Parallel(n_jobs=4)]: Done 670 tasks      | elapsed:   18.6s\n",
      "[Parallel(n_jobs=4)]: Done 671 tasks      | elapsed:   18.6s\n",
      "[Parallel(n_jobs=4)]: Done 672 tasks      | elapsed:   18.6s\n",
      "[Parallel(n_jobs=4)]: Done 673 tasks      | elapsed:   18.6s\n",
      "[Parallel(n_jobs=4)]: Done 674 tasks      | elapsed:   18.6s\n",
      "[Parallel(n_jobs=4)]: Done 675 tasks      | elapsed:   18.7s\n",
      "[Parallel(n_jobs=4)]: Done 676 tasks      | elapsed:   18.7s\n",
      "[Parallel(n_jobs=4)]: Done 677 tasks      | elapsed:   18.7s\n",
      "[Parallel(n_jobs=4)]: Done 678 tasks      | elapsed:   18.8s\n",
      "[Parallel(n_jobs=4)]: Done 679 tasks      | elapsed:   18.8s\n",
      "[Parallel(n_jobs=4)]: Done 680 tasks      | elapsed:   18.8s\n",
      "[Parallel(n_jobs=4)]: Done 681 tasks      | elapsed:   18.8s\n",
      "[Parallel(n_jobs=4)]: Done 682 tasks      | elapsed:   18.9s\n",
      "[Parallel(n_jobs=4)]: Done 683 tasks      | elapsed:   18.9s\n",
      "[Parallel(n_jobs=4)]: Done 684 tasks      | elapsed:   18.9s\n",
      "[Parallel(n_jobs=4)]: Done 685 tasks      | elapsed:   18.9s\n",
      "[Parallel(n_jobs=4)]: Done 686 tasks      | elapsed:   19.0s\n",
      "[Parallel(n_jobs=4)]: Done 687 tasks      | elapsed:   19.0s\n",
      "[Parallel(n_jobs=4)]: Done 688 tasks      | elapsed:   19.0s\n",
      "[Parallel(n_jobs=4)]: Done 689 tasks      | elapsed:   19.0s\n"
     ]
    },
    {
     "name": "stderr",
     "output_type": "stream",
     "text": [
      "[Parallel(n_jobs=4)]: Done 690 tasks      | elapsed:   19.1s\n",
      "[Parallel(n_jobs=4)]: Done 691 tasks      | elapsed:   19.1s\n",
      "[Parallel(n_jobs=4)]: Done 692 tasks      | elapsed:   19.1s\n",
      "[Parallel(n_jobs=4)]: Done 693 tasks      | elapsed:   19.2s\n",
      "[Parallel(n_jobs=4)]: Done 694 tasks      | elapsed:   19.2s\n",
      "[Parallel(n_jobs=4)]: Done 695 tasks      | elapsed:   19.2s\n",
      "[Parallel(n_jobs=4)]: Done 696 tasks      | elapsed:   19.2s\n",
      "[Parallel(n_jobs=4)]: Done 697 tasks      | elapsed:   19.3s\n",
      "[Parallel(n_jobs=4)]: Done 698 tasks      | elapsed:   19.3s\n",
      "[Parallel(n_jobs=4)]: Done 699 tasks      | elapsed:   19.3s\n",
      "[Parallel(n_jobs=4)]: Done 700 tasks      | elapsed:   19.3s\n",
      "[Parallel(n_jobs=4)]: Done 701 tasks      | elapsed:   19.4s\n",
      "[Parallel(n_jobs=4)]: Done 702 tasks      | elapsed:   19.4s\n",
      "[Parallel(n_jobs=4)]: Done 703 tasks      | elapsed:   19.4s\n",
      "[Parallel(n_jobs=4)]: Done 704 tasks      | elapsed:   19.4s\n",
      "[Parallel(n_jobs=4)]: Done 705 tasks      | elapsed:   19.5s\n",
      "[Parallel(n_jobs=4)]: Done 706 tasks      | elapsed:   19.5s\n",
      "[Parallel(n_jobs=4)]: Done 707 tasks      | elapsed:   19.6s\n",
      "[Parallel(n_jobs=4)]: Done 708 tasks      | elapsed:   19.6s\n",
      "[Parallel(n_jobs=4)]: Done 709 tasks      | elapsed:   19.6s\n",
      "[Parallel(n_jobs=4)]: Done 710 tasks      | elapsed:   19.7s\n",
      "[Parallel(n_jobs=4)]: Done 711 tasks      | elapsed:   19.7s\n",
      "[Parallel(n_jobs=4)]: Done 712 tasks      | elapsed:   19.7s\n",
      "[Parallel(n_jobs=4)]: Done 713 tasks      | elapsed:   19.7s\n",
      "[Parallel(n_jobs=4)]: Done 714 tasks      | elapsed:   19.8s\n",
      "[Parallel(n_jobs=4)]: Done 715 tasks      | elapsed:   19.8s\n",
      "[Parallel(n_jobs=4)]: Done 716 tasks      | elapsed:   19.8s\n",
      "[Parallel(n_jobs=4)]: Done 717 tasks      | elapsed:   19.8s\n",
      "[Parallel(n_jobs=4)]: Done 718 tasks      | elapsed:   19.9s\n",
      "[Parallel(n_jobs=4)]: Done 719 tasks      | elapsed:   19.9s\n",
      "[Parallel(n_jobs=4)]: Done 720 tasks      | elapsed:   19.9s\n",
      "[Parallel(n_jobs=4)]: Done 721 tasks      | elapsed:   19.9s\n",
      "[Parallel(n_jobs=4)]: Done 722 tasks      | elapsed:   20.0s\n",
      "[Parallel(n_jobs=4)]: Done 723 tasks      | elapsed:   20.0s\n",
      "[Parallel(n_jobs=4)]: Done 724 tasks      | elapsed:   20.0s\n",
      "[Parallel(n_jobs=4)]: Done 725 tasks      | elapsed:   20.1s\n",
      "[Parallel(n_jobs=4)]: Done 726 tasks      | elapsed:   20.1s\n",
      "[Parallel(n_jobs=4)]: Done 727 tasks      | elapsed:   20.2s\n",
      "[Parallel(n_jobs=4)]: Done 728 tasks      | elapsed:   20.2s\n",
      "[Parallel(n_jobs=4)]: Done 729 tasks      | elapsed:   20.2s\n",
      "[Parallel(n_jobs=4)]: Done 730 tasks      | elapsed:   20.2s\n",
      "[Parallel(n_jobs=4)]: Done 731 tasks      | elapsed:   20.2s\n",
      "[Parallel(n_jobs=4)]: Done 732 tasks      | elapsed:   20.3s\n",
      "[Parallel(n_jobs=4)]: Done 733 tasks      | elapsed:   20.3s\n",
      "[Parallel(n_jobs=4)]: Done 734 tasks      | elapsed:   20.3s\n",
      "[Parallel(n_jobs=4)]: Done 735 tasks      | elapsed:   20.3s\n",
      "[Parallel(n_jobs=4)]: Done 736 tasks      | elapsed:   20.4s\n",
      "[Parallel(n_jobs=4)]: Done 737 tasks      | elapsed:   20.4s\n",
      "[Parallel(n_jobs=4)]: Done 738 tasks      | elapsed:   20.5s\n",
      "[Parallel(n_jobs=4)]: Done 739 tasks      | elapsed:   20.5s\n",
      "[Parallel(n_jobs=4)]: Done 740 tasks      | elapsed:   20.6s\n",
      "[Parallel(n_jobs=4)]: Done 741 tasks      | elapsed:   20.6s\n",
      "[Parallel(n_jobs=4)]: Done 742 tasks      | elapsed:   20.6s\n",
      "[Parallel(n_jobs=4)]: Done 743 tasks      | elapsed:   20.7s\n",
      "[Parallel(n_jobs=4)]: Done 744 tasks      | elapsed:   20.7s\n",
      "[Parallel(n_jobs=4)]: Done 745 tasks      | elapsed:   20.8s\n",
      "[Parallel(n_jobs=4)]: Done 746 tasks      | elapsed:   20.8s\n",
      "[Parallel(n_jobs=4)]: Done 747 tasks      | elapsed:   20.8s\n",
      "[Parallel(n_jobs=4)]: Done 748 tasks      | elapsed:   20.9s\n",
      "[Parallel(n_jobs=4)]: Done 749 tasks      | elapsed:   20.9s\n",
      "[Parallel(n_jobs=4)]: Done 750 tasks      | elapsed:   20.9s\n",
      "[Parallel(n_jobs=4)]: Done 751 tasks      | elapsed:   21.0s\n",
      "[Parallel(n_jobs=4)]: Done 752 tasks      | elapsed:   21.0s\n",
      "[Parallel(n_jobs=4)]: Done 753 tasks      | elapsed:   21.1s\n",
      "[Parallel(n_jobs=4)]: Done 754 tasks      | elapsed:   21.1s\n",
      "[Parallel(n_jobs=4)]: Done 755 tasks      | elapsed:   21.1s\n",
      "[Parallel(n_jobs=4)]: Done 756 tasks      | elapsed:   21.2s\n",
      "[Parallel(n_jobs=4)]: Done 757 tasks      | elapsed:   21.2s\n",
      "[Parallel(n_jobs=4)]: Done 758 tasks      | elapsed:   21.2s\n",
      "[Parallel(n_jobs=4)]: Done 759 tasks      | elapsed:   21.3s\n",
      "[Parallel(n_jobs=4)]: Done 760 tasks      | elapsed:   21.3s\n",
      "[Parallel(n_jobs=4)]: Done 761 tasks      | elapsed:   21.3s\n",
      "[Parallel(n_jobs=4)]: Done 762 tasks      | elapsed:   21.3s\n",
      "[Parallel(n_jobs=4)]: Done 763 tasks      | elapsed:   21.3s\n",
      "[Parallel(n_jobs=4)]: Done 764 tasks      | elapsed:   21.3s\n",
      "[Parallel(n_jobs=4)]: Done 765 tasks      | elapsed:   21.4s\n",
      "[Parallel(n_jobs=4)]: Done 766 tasks      | elapsed:   21.4s\n",
      "[Parallel(n_jobs=4)]: Done 767 tasks      | elapsed:   21.4s\n",
      "[Parallel(n_jobs=4)]: Done 768 tasks      | elapsed:   21.5s\n",
      "[Parallel(n_jobs=4)]: Done 769 tasks      | elapsed:   21.5s\n",
      "[Parallel(n_jobs=4)]: Done 770 tasks      | elapsed:   21.5s\n",
      "[Parallel(n_jobs=4)]: Done 771 tasks      | elapsed:   21.5s\n",
      "[Parallel(n_jobs=4)]: Done 772 tasks      | elapsed:   21.5s\n",
      "[Parallel(n_jobs=4)]: Done 773 tasks      | elapsed:   21.6s\n",
      "[Parallel(n_jobs=4)]: Done 774 tasks      | elapsed:   21.6s\n",
      "[Parallel(n_jobs=4)]: Done 775 tasks      | elapsed:   21.6s\n",
      "[Parallel(n_jobs=4)]: Done 776 tasks      | elapsed:   21.6s\n",
      "[Parallel(n_jobs=4)]: Done 777 tasks      | elapsed:   21.6s\n",
      "[Parallel(n_jobs=4)]: Done 778 tasks      | elapsed:   21.7s\n",
      "[Parallel(n_jobs=4)]: Done 779 tasks      | elapsed:   21.7s\n",
      "[Parallel(n_jobs=4)]: Done 780 tasks      | elapsed:   21.7s\n",
      "[Parallel(n_jobs=4)]: Done 781 tasks      | elapsed:   21.7s\n",
      "[Parallel(n_jobs=4)]: Done 782 tasks      | elapsed:   21.7s\n",
      "[Parallel(n_jobs=4)]: Done 783 tasks      | elapsed:   21.8s\n",
      "[Parallel(n_jobs=4)]: Done 784 tasks      | elapsed:   21.8s\n",
      "[Parallel(n_jobs=4)]: Done 785 tasks      | elapsed:   21.8s\n",
      "[Parallel(n_jobs=4)]: Done 786 tasks      | elapsed:   21.8s\n",
      "[Parallel(n_jobs=4)]: Done 787 tasks      | elapsed:   21.9s\n",
      "[Parallel(n_jobs=4)]: Done 788 tasks      | elapsed:   21.9s\n",
      "[Parallel(n_jobs=4)]: Done 789 tasks      | elapsed:   21.9s\n",
      "[Parallel(n_jobs=4)]: Done 790 tasks      | elapsed:   22.0s\n",
      "[Parallel(n_jobs=4)]: Done 791 tasks      | elapsed:   22.0s\n",
      "[Parallel(n_jobs=4)]: Done 792 tasks      | elapsed:   22.0s\n",
      "[Parallel(n_jobs=4)]: Done 793 tasks      | elapsed:   22.1s\n",
      "[Parallel(n_jobs=4)]: Done 794 tasks      | elapsed:   22.1s\n",
      "[Parallel(n_jobs=4)]: Done 795 tasks      | elapsed:   22.1s\n",
      "[Parallel(n_jobs=4)]: Done 796 tasks      | elapsed:   22.1s\n",
      "[Parallel(n_jobs=4)]: Done 797 tasks      | elapsed:   22.2s\n",
      "[Parallel(n_jobs=4)]: Done 798 tasks      | elapsed:   22.3s\n",
      "[Parallel(n_jobs=4)]: Done 799 tasks      | elapsed:   22.3s\n",
      "[Parallel(n_jobs=4)]: Done 800 tasks      | elapsed:   22.3s\n",
      "[Parallel(n_jobs=4)]: Done 801 tasks      | elapsed:   22.4s\n",
      "[Parallel(n_jobs=4)]: Done 802 tasks      | elapsed:   22.4s\n",
      "[Parallel(n_jobs=4)]: Done 803 tasks      | elapsed:   22.4s\n",
      "[Parallel(n_jobs=4)]: Done 804 tasks      | elapsed:   22.4s\n",
      "[Parallel(n_jobs=4)]: Done 805 tasks      | elapsed:   22.5s\n",
      "[Parallel(n_jobs=4)]: Done 806 tasks      | elapsed:   22.5s\n",
      "[Parallel(n_jobs=4)]: Done 807 tasks      | elapsed:   22.5s\n",
      "[Parallel(n_jobs=4)]: Done 808 tasks      | elapsed:   22.6s\n",
      "[Parallel(n_jobs=4)]: Done 809 tasks      | elapsed:   22.6s\n",
      "[Parallel(n_jobs=4)]: Done 810 tasks      | elapsed:   22.7s\n",
      "[Parallel(n_jobs=4)]: Done 811 tasks      | elapsed:   22.7s\n",
      "[Parallel(n_jobs=4)]: Done 812 tasks      | elapsed:   22.7s\n",
      "[Parallel(n_jobs=4)]: Done 813 tasks      | elapsed:   22.7s\n",
      "[Parallel(n_jobs=4)]: Done 814 tasks      | elapsed:   22.8s\n",
      "[Parallel(n_jobs=4)]: Done 815 tasks      | elapsed:   22.8s\n",
      "[Parallel(n_jobs=4)]: Done 816 tasks      | elapsed:   22.8s\n",
      "[Parallel(n_jobs=4)]: Done 817 tasks      | elapsed:   22.9s\n",
      "[Parallel(n_jobs=4)]: Done 818 tasks      | elapsed:   22.9s\n",
      "[Parallel(n_jobs=4)]: Done 819 tasks      | elapsed:   22.9s\n",
      "[Parallel(n_jobs=4)]: Done 820 tasks      | elapsed:   22.9s\n",
      "[Parallel(n_jobs=4)]: Done 821 tasks      | elapsed:   23.0s\n",
      "[Parallel(n_jobs=4)]: Done 822 tasks      | elapsed:   23.0s\n",
      "[Parallel(n_jobs=4)]: Done 823 tasks      | elapsed:   23.1s\n",
      "[Parallel(n_jobs=4)]: Done 824 tasks      | elapsed:   23.1s\n",
      "[Parallel(n_jobs=4)]: Done 825 tasks      | elapsed:   23.1s\n"
     ]
    },
    {
     "name": "stderr",
     "output_type": "stream",
     "text": [
      "[Parallel(n_jobs=4)]: Done 826 tasks      | elapsed:   23.1s\n",
      "[Parallel(n_jobs=4)]: Done 827 tasks      | elapsed:   23.2s\n",
      "[Parallel(n_jobs=4)]: Done 828 tasks      | elapsed:   23.2s\n",
      "[Parallel(n_jobs=4)]: Done 829 tasks      | elapsed:   23.2s\n",
      "[Parallel(n_jobs=4)]: Done 830 tasks      | elapsed:   23.2s\n",
      "[Parallel(n_jobs=4)]: Done 831 tasks      | elapsed:   23.2s\n",
      "[Parallel(n_jobs=4)]: Done 832 tasks      | elapsed:   23.3s\n",
      "[Parallel(n_jobs=4)]: Done 833 tasks      | elapsed:   23.3s\n",
      "[Parallel(n_jobs=4)]: Done 834 tasks      | elapsed:   23.3s\n",
      "[Parallel(n_jobs=4)]: Done 835 tasks      | elapsed:   23.3s\n",
      "[Parallel(n_jobs=4)]: Done 836 tasks      | elapsed:   23.3s\n",
      "[Parallel(n_jobs=4)]: Done 837 tasks      | elapsed:   23.3s\n",
      "[Parallel(n_jobs=4)]: Done 838 tasks      | elapsed:   23.4s\n",
      "[Parallel(n_jobs=4)]: Done 839 tasks      | elapsed:   23.4s\n",
      "[Parallel(n_jobs=4)]: Done 840 tasks      | elapsed:   23.4s\n",
      "[Parallel(n_jobs=4)]: Done 841 tasks      | elapsed:   23.4s\n",
      "[Parallel(n_jobs=4)]: Done 842 tasks      | elapsed:   23.5s\n",
      "[Parallel(n_jobs=4)]: Done 843 tasks      | elapsed:   23.5s\n",
      "[Parallel(n_jobs=4)]: Done 844 tasks      | elapsed:   23.5s\n",
      "[Parallel(n_jobs=4)]: Done 845 tasks      | elapsed:   23.5s\n",
      "[Parallel(n_jobs=4)]: Done 846 tasks      | elapsed:   23.5s\n",
      "[Parallel(n_jobs=4)]: Done 847 tasks      | elapsed:   23.5s\n",
      "[Parallel(n_jobs=4)]: Done 848 tasks      | elapsed:   23.6s\n",
      "[Parallel(n_jobs=4)]: Done 849 tasks      | elapsed:   23.6s\n",
      "[Parallel(n_jobs=4)]: Done 850 tasks      | elapsed:   23.6s\n",
      "[Parallel(n_jobs=4)]: Done 851 tasks      | elapsed:   23.7s\n",
      "[Parallel(n_jobs=4)]: Done 852 tasks      | elapsed:   23.7s\n",
      "[Parallel(n_jobs=4)]: Done 853 tasks      | elapsed:   23.7s\n",
      "[Parallel(n_jobs=4)]: Done 854 tasks      | elapsed:   23.7s\n",
      "[Parallel(n_jobs=4)]: Done 855 tasks      | elapsed:   23.7s\n",
      "[Parallel(n_jobs=4)]: Done 856 tasks      | elapsed:   23.7s\n",
      "[Parallel(n_jobs=4)]: Done 857 tasks      | elapsed:   23.8s\n",
      "[Parallel(n_jobs=4)]: Done 858 tasks      | elapsed:   23.8s\n",
      "[Parallel(n_jobs=4)]: Done 859 tasks      | elapsed:   23.8s\n",
      "[Parallel(n_jobs=4)]: Done 860 tasks      | elapsed:   23.8s\n",
      "[Parallel(n_jobs=4)]: Done 861 tasks      | elapsed:   23.8s\n",
      "[Parallel(n_jobs=4)]: Done 862 tasks      | elapsed:   23.9s\n",
      "[Parallel(n_jobs=4)]: Done 863 tasks      | elapsed:   23.9s\n",
      "[Parallel(n_jobs=4)]: Done 864 tasks      | elapsed:   24.0s\n",
      "[Parallel(n_jobs=4)]: Done 865 tasks      | elapsed:   24.0s\n",
      "[Parallel(n_jobs=4)]: Done 866 tasks      | elapsed:   24.1s\n",
      "[Parallel(n_jobs=4)]: Done 867 tasks      | elapsed:   24.1s\n",
      "[Parallel(n_jobs=4)]: Done 868 tasks      | elapsed:   24.2s\n",
      "[Parallel(n_jobs=4)]: Done 869 tasks      | elapsed:   24.2s\n",
      "[Parallel(n_jobs=4)]: Done 870 tasks      | elapsed:   24.2s\n",
      "[Parallel(n_jobs=4)]: Done 871 tasks      | elapsed:   24.2s\n",
      "[Parallel(n_jobs=4)]: Done 872 tasks      | elapsed:   24.3s\n",
      "[Parallel(n_jobs=4)]: Done 873 tasks      | elapsed:   24.3s\n",
      "[Parallel(n_jobs=4)]: Done 874 tasks      | elapsed:   24.4s\n",
      "[Parallel(n_jobs=4)]: Done 875 tasks      | elapsed:   24.4s\n",
      "[Parallel(n_jobs=4)]: Done 876 tasks      | elapsed:   24.4s\n",
      "[Parallel(n_jobs=4)]: Done 877 tasks      | elapsed:   24.5s\n",
      "[Parallel(n_jobs=4)]: Done 878 tasks      | elapsed:   24.5s\n",
      "[Parallel(n_jobs=4)]: Done 879 tasks      | elapsed:   24.5s\n",
      "[Parallel(n_jobs=4)]: Done 880 tasks      | elapsed:   24.5s\n",
      "[Parallel(n_jobs=4)]: Done 881 tasks      | elapsed:   24.6s\n",
      "[Parallel(n_jobs=4)]: Done 882 tasks      | elapsed:   24.6s\n",
      "[Parallel(n_jobs=4)]: Done 883 tasks      | elapsed:   24.6s\n",
      "[Parallel(n_jobs=4)]: Done 884 tasks      | elapsed:   24.6s\n",
      "[Parallel(n_jobs=4)]: Done 885 tasks      | elapsed:   24.7s\n",
      "[Parallel(n_jobs=4)]: Done 886 tasks      | elapsed:   24.7s\n",
      "[Parallel(n_jobs=4)]: Done 887 tasks      | elapsed:   24.7s\n",
      "[Parallel(n_jobs=4)]: Done 888 tasks      | elapsed:   24.7s\n",
      "[Parallel(n_jobs=4)]: Done 889 tasks      | elapsed:   24.8s\n",
      "[Parallel(n_jobs=4)]: Done 890 tasks      | elapsed:   24.8s\n",
      "[Parallel(n_jobs=4)]: Done 891 tasks      | elapsed:   24.8s\n",
      "[Parallel(n_jobs=4)]: Done 892 tasks      | elapsed:   24.8s\n",
      "[Parallel(n_jobs=4)]: Done 893 tasks      | elapsed:   24.8s\n",
      "[Parallel(n_jobs=4)]: Done 894 tasks      | elapsed:   24.8s\n",
      "[Parallel(n_jobs=4)]: Done 895 tasks      | elapsed:   24.9s\n",
      "[Parallel(n_jobs=4)]: Done 896 tasks      | elapsed:   24.9s\n",
      "[Parallel(n_jobs=4)]: Done 897 tasks      | elapsed:   24.9s\n",
      "[Parallel(n_jobs=4)]: Done 898 tasks      | elapsed:   24.9s\n",
      "[Parallel(n_jobs=4)]: Done 899 tasks      | elapsed:   25.0s\n",
      "[Parallel(n_jobs=4)]: Done 900 tasks      | elapsed:   25.1s\n",
      "[Parallel(n_jobs=4)]: Done 901 tasks      | elapsed:   25.1s\n",
      "[Parallel(n_jobs=4)]: Done 902 tasks      | elapsed:   25.2s\n",
      "[Parallel(n_jobs=4)]: Done 903 tasks      | elapsed:   25.2s\n",
      "[Parallel(n_jobs=4)]: Done 904 tasks      | elapsed:   25.3s\n",
      "[Parallel(n_jobs=4)]: Done 905 tasks      | elapsed:   25.3s\n",
      "[Parallel(n_jobs=4)]: Done 906 tasks      | elapsed:   25.3s\n",
      "[Parallel(n_jobs=4)]: Done 907 tasks      | elapsed:   25.4s\n",
      "[Parallel(n_jobs=4)]: Done 908 tasks      | elapsed:   25.4s\n",
      "[Parallel(n_jobs=4)]: Done 909 tasks      | elapsed:   25.4s\n",
      "[Parallel(n_jobs=4)]: Done 910 tasks      | elapsed:   25.5s\n",
      "[Parallel(n_jobs=4)]: Done 911 tasks      | elapsed:   25.5s\n",
      "[Parallel(n_jobs=4)]: Done 912 tasks      | elapsed:   25.5s\n",
      "[Parallel(n_jobs=4)]: Done 913 tasks      | elapsed:   25.6s\n",
      "[Parallel(n_jobs=4)]: Done 914 tasks      | elapsed:   25.6s\n",
      "[Parallel(n_jobs=4)]: Done 915 tasks      | elapsed:   25.7s\n",
      "[Parallel(n_jobs=4)]: Done 916 tasks      | elapsed:   25.7s\n",
      "[Parallel(n_jobs=4)]: Done 917 tasks      | elapsed:   25.7s\n",
      "[Parallel(n_jobs=4)]: Done 918 tasks      | elapsed:   25.8s\n",
      "[Parallel(n_jobs=4)]: Done 919 tasks      | elapsed:   25.8s\n",
      "[Parallel(n_jobs=4)]: Done 920 tasks      | elapsed:   25.8s\n",
      "[Parallel(n_jobs=4)]: Done 921 tasks      | elapsed:   25.9s\n",
      "[Parallel(n_jobs=4)]: Done 922 tasks      | elapsed:   25.9s\n",
      "[Parallel(n_jobs=4)]: Done 923 tasks      | elapsed:   26.0s\n",
      "[Parallel(n_jobs=4)]: Done 924 tasks      | elapsed:   26.0s\n",
      "[Parallel(n_jobs=4)]: Done 925 tasks      | elapsed:   26.0s\n",
      "[Parallel(n_jobs=4)]: Done 926 tasks      | elapsed:   26.0s\n",
      "[Parallel(n_jobs=4)]: Done 927 tasks      | elapsed:   26.1s\n",
      "[Parallel(n_jobs=4)]: Done 928 tasks      | elapsed:   26.1s\n",
      "[Parallel(n_jobs=4)]: Done 929 tasks      | elapsed:   26.1s\n",
      "[Parallel(n_jobs=4)]: Done 930 tasks      | elapsed:   26.2s\n",
      "[Parallel(n_jobs=4)]: Done 931 tasks      | elapsed:   26.2s\n",
      "[Parallel(n_jobs=4)]: Done 932 tasks      | elapsed:   26.3s\n",
      "[Parallel(n_jobs=4)]: Done 933 tasks      | elapsed:   26.3s\n",
      "[Parallel(n_jobs=4)]: Done 934 tasks      | elapsed:   26.3s\n",
      "[Parallel(n_jobs=4)]: Done 935 tasks      | elapsed:   26.4s\n",
      "[Parallel(n_jobs=4)]: Done 936 tasks      | elapsed:   26.4s\n",
      "[Parallel(n_jobs=4)]: Done 937 tasks      | elapsed:   26.4s\n",
      "[Parallel(n_jobs=4)]: Done 938 tasks      | elapsed:   26.5s\n",
      "[Parallel(n_jobs=4)]: Done 939 tasks      | elapsed:   26.5s\n",
      "[Parallel(n_jobs=4)]: Done 940 tasks      | elapsed:   26.5s\n",
      "[Parallel(n_jobs=4)]: Done 941 tasks      | elapsed:   26.6s\n",
      "[Parallel(n_jobs=4)]: Done 942 tasks      | elapsed:   26.6s\n",
      "[Parallel(n_jobs=4)]: Done 943 tasks      | elapsed:   26.6s\n",
      "[Parallel(n_jobs=4)]: Done 944 tasks      | elapsed:   26.6s\n",
      "[Parallel(n_jobs=4)]: Done 945 tasks      | elapsed:   26.7s\n",
      "[Parallel(n_jobs=4)]: Done 946 tasks      | elapsed:   26.7s\n",
      "[Parallel(n_jobs=4)]: Done 947 tasks      | elapsed:   26.8s\n",
      "[Parallel(n_jobs=4)]: Done 948 tasks      | elapsed:   26.8s\n",
      "[Parallel(n_jobs=4)]: Done 949 tasks      | elapsed:   26.8s\n",
      "[Parallel(n_jobs=4)]: Done 950 tasks      | elapsed:   26.8s\n",
      "[Parallel(n_jobs=4)]: Done 951 tasks      | elapsed:   26.8s\n",
      "[Parallel(n_jobs=4)]: Done 952 tasks      | elapsed:   26.9s\n",
      "[Parallel(n_jobs=4)]: Done 953 tasks      | elapsed:   26.9s\n",
      "[Parallel(n_jobs=4)]: Done 954 tasks      | elapsed:   27.0s\n",
      "[Parallel(n_jobs=4)]: Done 955 tasks      | elapsed:   27.0s\n",
      "[Parallel(n_jobs=4)]: Done 956 tasks      | elapsed:   27.0s\n",
      "[Parallel(n_jobs=4)]: Done 957 tasks      | elapsed:   27.0s\n",
      "[Parallel(n_jobs=4)]: Done 958 tasks      | elapsed:   27.1s\n",
      "[Parallel(n_jobs=4)]: Done 959 tasks      | elapsed:   27.1s\n",
      "[Parallel(n_jobs=4)]: Done 960 tasks      | elapsed:   27.1s\n",
      "[Parallel(n_jobs=4)]: Done 961 tasks      | elapsed:   27.2s\n"
     ]
    },
    {
     "name": "stderr",
     "output_type": "stream",
     "text": [
      "[Parallel(n_jobs=4)]: Done 962 tasks      | elapsed:   27.2s\n",
      "[Parallel(n_jobs=4)]: Done 963 tasks      | elapsed:   27.2s\n",
      "[Parallel(n_jobs=4)]: Done 964 tasks      | elapsed:   27.3s\n",
      "[Parallel(n_jobs=4)]: Done 965 tasks      | elapsed:   27.3s\n",
      "[Parallel(n_jobs=4)]: Done 966 tasks      | elapsed:   27.3s\n",
      "[Parallel(n_jobs=4)]: Done 967 tasks      | elapsed:   27.3s\n",
      "[Parallel(n_jobs=4)]: Done 968 tasks      | elapsed:   27.3s\n",
      "[Parallel(n_jobs=4)]: Done 969 tasks      | elapsed:   27.4s\n",
      "[Parallel(n_jobs=4)]: Done 970 tasks      | elapsed:   27.4s\n",
      "[Parallel(n_jobs=4)]: Done 971 tasks      | elapsed:   27.4s\n",
      "[Parallel(n_jobs=4)]: Done 972 tasks      | elapsed:   27.4s\n",
      "[Parallel(n_jobs=4)]: Done 973 tasks      | elapsed:   27.5s\n",
      "[Parallel(n_jobs=4)]: Done 974 tasks      | elapsed:   27.5s\n",
      "[Parallel(n_jobs=4)]: Done 975 tasks      | elapsed:   27.5s\n",
      "[Parallel(n_jobs=4)]: Done 976 tasks      | elapsed:   27.6s\n",
      "[Parallel(n_jobs=4)]: Done 977 tasks      | elapsed:   27.6s\n",
      "[Parallel(n_jobs=4)]: Done 978 tasks      | elapsed:   27.6s\n",
      "[Parallel(n_jobs=4)]: Done 979 tasks      | elapsed:   27.7s\n",
      "[Parallel(n_jobs=4)]: Done 980 tasks      | elapsed:   27.7s\n",
      "[Parallel(n_jobs=4)]: Done 981 tasks      | elapsed:   27.7s\n",
      "[Parallel(n_jobs=4)]: Done 982 tasks      | elapsed:   27.8s\n",
      "[Parallel(n_jobs=4)]: Done 983 tasks      | elapsed:   27.8s\n",
      "[Parallel(n_jobs=4)]: Done 984 tasks      | elapsed:   27.9s\n",
      "[Parallel(n_jobs=4)]: Done 985 tasks      | elapsed:   27.9s\n",
      "[Parallel(n_jobs=4)]: Done 986 tasks      | elapsed:   27.9s\n",
      "[Parallel(n_jobs=4)]: Done 987 tasks      | elapsed:   28.0s\n",
      "[Parallel(n_jobs=4)]: Done 988 tasks      | elapsed:   28.1s\n",
      "[Parallel(n_jobs=4)]: Done 989 tasks      | elapsed:   28.1s\n",
      "[Parallel(n_jobs=4)]: Done 990 tasks      | elapsed:   28.1s\n",
      "[Parallel(n_jobs=4)]: Done 991 tasks      | elapsed:   28.2s\n",
      "[Parallel(n_jobs=4)]: Done 992 tasks      | elapsed:   28.2s\n",
      "[Parallel(n_jobs=4)]: Done 993 tasks      | elapsed:   28.3s\n",
      "[Parallel(n_jobs=4)]: Done 1000 out of 1000 | elapsed:   28.4s finished\n",
      "/Library/Frameworks/Python.framework/Versions/3.7/lib/python3.7/site-packages/sklearn/metrics/classification.py:1437: UndefinedMetricWarning: F-score is ill-defined and being set to 0.0 in labels with no predicted samples.\n",
      "  'precision', 'predicted', average, warn_for)\n",
      "/Library/Frameworks/Python.framework/Versions/3.7/lib/python3.7/site-packages/sklearn/metrics/classification.py:1439: UndefinedMetricWarning: F-score is ill-defined and being set to 0.0 in labels with no true samples.\n",
      "  'recall', 'true', average, warn_for)\n"
     ]
    },
    {
     "data": {
      "text/plain": [
       "0.7150848558408173"
      ]
     },
     "execution_count": 41,
     "metadata": {},
     "output_type": "execute_result"
    }
   ],
   "source": [
    "f1_score_RF = calculate_f1score(RF_classifier, 'RF',X_test,Y_test)\n",
    "f1_score_RF"
   ]
  },
  {
   "cell_type": "markdown",
   "metadata": {},
   "source": [
    "## Performance of Neural Network Classifier Before Tuning"
   ]
  },
  {
   "cell_type": "code",
   "execution_count": 56,
   "metadata": {},
   "outputs": [
    {
     "name": "stdout",
     "output_type": "stream",
     "text": [
      "Iteration 1, loss = 2.53319524\n",
      "Iteration 2, loss = 1.15043572\n",
      "Iteration 3, loss = 0.76161578\n",
      "Iteration 4, loss = 0.55865253\n",
      "Iteration 5, loss = 0.42723958\n",
      "Iteration 6, loss = 0.33418717\n",
      "Iteration 7, loss = 0.26639936\n",
      "Iteration 8, loss = 0.21673178\n",
      "Iteration 9, loss = 0.17995752\n",
      "Iteration 10, loss = 0.15201532\n",
      "Iteration 11, loss = 0.13043895\n",
      "Iteration 12, loss = 0.11394828\n",
      "Iteration 13, loss = 0.10041811\n",
      "Iteration 14, loss = 0.09005231\n",
      "Iteration 15, loss = 0.08100382\n",
      "Iteration 16, loss = 0.07424945\n",
      "Iteration 17, loss = 0.06887087\n",
      "Iteration 18, loss = 0.06390743\n",
      "Iteration 19, loss = 0.05991179\n",
      "Iteration 20, loss = 0.05693417\n",
      "Iteration 21, loss = 0.05448785\n",
      "Iteration 22, loss = 0.05225749\n",
      "Iteration 23, loss = 0.05046613\n",
      "Iteration 24, loss = 0.04888247\n",
      "Iteration 25, loss = 0.04772260\n",
      "Iteration 26, loss = 0.04675358\n",
      "Iteration 27, loss = 0.04590050\n",
      "Iteration 28, loss = 0.04478020\n",
      "Iteration 29, loss = 0.04396693\n",
      "Iteration 30, loss = 0.04311005\n",
      "Iteration 31, loss = 0.04291728\n",
      "Iteration 32, loss = 0.04243876\n",
      "Iteration 33, loss = 0.04156849\n",
      "Iteration 34, loss = 0.04109718\n",
      "Iteration 35, loss = 0.04074464\n",
      "Iteration 36, loss = 0.04087404\n",
      "Iteration 37, loss = 0.04029946\n",
      "Iteration 38, loss = 0.03922410\n",
      "Iteration 39, loss = 0.03990451\n",
      "Iteration 40, loss = 0.03888772\n",
      "Iteration 41, loss = 0.03862394\n",
      "Iteration 42, loss = 0.03798745\n",
      "Iteration 43, loss = 0.03814507\n",
      "Iteration 44, loss = 0.03796246\n",
      "Iteration 45, loss = 0.03806413\n",
      "Iteration 46, loss = 0.03770058\n",
      "Iteration 47, loss = 0.03729080\n",
      "Iteration 48, loss = 0.03722871\n",
      "Iteration 49, loss = 0.03658660\n",
      "Iteration 50, loss = 0.03690701\n",
      "Iteration 51, loss = 0.03612808\n",
      "Iteration 52, loss = 0.03675562\n",
      "Iteration 53, loss = 0.03622179\n",
      "Iteration 54, loss = 0.03606189\n",
      "Iteration 55, loss = 0.03557866\n",
      "Iteration 56, loss = 0.03616421\n",
      "Iteration 57, loss = 0.03522649\n",
      "Iteration 58, loss = 0.03577114\n",
      "Iteration 59, loss = 0.03559990\n",
      "Iteration 60, loss = 0.03580424\n",
      "Iteration 61, loss = 0.03541568\n",
      "Iteration 62, loss = 0.03535879\n",
      "Iteration 63, loss = 0.03513167\n",
      "Iteration 64, loss = 0.03444046\n",
      "Iteration 65, loss = 0.03413436\n",
      "Iteration 66, loss = 0.03537312\n",
      "Iteration 67, loss = 0.03467895\n",
      "Iteration 68, loss = 0.03468439\n",
      "Iteration 69, loss = 0.03454183\n",
      "Iteration 70, loss = 0.03462829\n",
      "Iteration 71, loss = 0.03429037\n",
      "Iteration 72, loss = 0.03356264\n",
      "Iteration 73, loss = 0.03433146\n",
      "Iteration 74, loss = 0.03391551\n",
      "Iteration 75, loss = 0.03392328\n",
      "Iteration 76, loss = 0.03402463\n",
      "Iteration 77, loss = 0.03378779\n",
      "Iteration 78, loss = 0.03350685\n",
      "Iteration 79, loss = 0.03452214\n",
      "Iteration 80, loss = 0.03337100\n",
      "Iteration 81, loss = 0.03386600\n",
      "Iteration 82, loss = 0.03385166\n",
      "Iteration 83, loss = 0.03321947\n",
      "Iteration 84, loss = 0.03356898\n",
      "Iteration 85, loss = 0.03323877\n",
      "Iteration 86, loss = 0.03321966\n",
      "Iteration 87, loss = 0.03311521\n",
      "Iteration 88, loss = 0.03306759\n",
      "Iteration 89, loss = 0.03342933\n",
      "Iteration 90, loss = 0.03262279\n",
      "Iteration 91, loss = 0.03320902\n",
      "Iteration 92, loss = 0.03245130\n",
      "Iteration 93, loss = 0.03337418\n",
      "Iteration 94, loss = 0.03272431\n",
      "Iteration 95, loss = 0.03253955\n",
      "Iteration 96, loss = 0.03278324\n",
      "Iteration 97, loss = 0.03291859\n",
      "Iteration 98, loss = 0.03281808\n",
      "Iteration 99, loss = 0.03330588\n",
      "Iteration 100, loss = 0.03253895\n",
      "Iteration 101, loss = 0.03245117\n",
      "Iteration 102, loss = 0.03271223\n",
      "Iteration 103, loss = 0.03249887\n",
      "Training loss did not improve more than tol=0.000100 for 10 consecutive epochs. Stopping.\n"
     ]
    }
   ],
   "source": [
    "NN_classifier = MLPClassifier()\n",
    "NN_classifier = train_classifiers(X_train,Y_train,'NN', {'verbose': 20})"
   ]
  },
  {
   "cell_type": "code",
   "execution_count": 57,
   "metadata": {},
   "outputs": [
    {
     "name": "stderr",
     "output_type": "stream",
     "text": [
      "/Library/Frameworks/Python.framework/Versions/3.7/lib/python3.7/site-packages/sklearn/metrics/classification.py:1437: UndefinedMetricWarning: F-score is ill-defined and being set to 0.0 in labels with no predicted samples.\n",
      "  'precision', 'predicted', average, warn_for)\n",
      "/Library/Frameworks/Python.framework/Versions/3.7/lib/python3.7/site-packages/sklearn/metrics/classification.py:1439: UndefinedMetricWarning: F-score is ill-defined and being set to 0.0 in labels with no true samples.\n",
      "  'recall', 'true', average, warn_for)\n"
     ]
    },
    {
     "data": {
      "text/plain": [
       "0.7746638906924626"
      ]
     },
     "execution_count": 57,
     "metadata": {},
     "output_type": "execute_result"
    }
   ],
   "source": [
    "f1_score_NN = calculate_f1score(NN_classifier,'NN',X_test,Y_test)\n",
    "f1_score_NN"
   ]
  },
  {
   "cell_type": "markdown",
   "metadata": {},
   "source": [
    "# Tuning the Neural Network Classifier"
   ]
  },
  {
   "cell_type": "code",
   "execution_count": 179,
   "metadata": {},
   "outputs": [
    {
     "name": "stdout",
     "output_type": "stream",
     "text": [
      "Fitting 5 folds for each of 9 candidates, totalling 45 fits\n",
      "[Parallel(n_jobs=-1)]: Using backend LokyBackend with 4 concurrent workers.\n"
     ]
    },
    {
     "name": "stderr",
     "output_type": "stream",
     "text": [
      "/Library/Frameworks/Python.framework/Versions/3.7/lib/python3.7/site-packages/sklearn/model_selection/_split.py:657: Warning: The least populated class in y has only 1 members, which is too few. The minimum number of members in any class cannot be less than n_splits=5.\n",
      "  % (min_groups, self.n_splits)), Warning)\n"
     ]
    },
    {
     "name": "stdout",
     "output_type": "stream",
     "text": [
      "[Parallel(n_jobs=-1)]: Done   1 tasks      | elapsed:  2.1min\n",
      "[Parallel(n_jobs=-1)]: Done   2 tasks      | elapsed:  2.4min\n",
      "[Parallel(n_jobs=-1)]: Done   3 tasks      | elapsed:  2.5min\n",
      "[Parallel(n_jobs=-1)]: Done   4 tasks      | elapsed:  3.6min\n",
      "[Parallel(n_jobs=-1)]: Done   5 tasks      | elapsed:  4.6min\n",
      "[Parallel(n_jobs=-1)]: Done   6 tasks      | elapsed: 12.3min\n",
      "[Parallel(n_jobs=-1)]: Done   7 tasks      | elapsed: 12.4min\n",
      "[Parallel(n_jobs=-1)]: Done   8 tasks      | elapsed: 13.5min\n",
      "[Parallel(n_jobs=-1)]: Done   9 tasks      | elapsed: 14.5min\n",
      "[Parallel(n_jobs=-1)]: Done  10 tasks      | elapsed: 22.2min\n",
      "[Parallel(n_jobs=-1)]: Done  11 tasks      | elapsed: 23.9min\n",
      "[Parallel(n_jobs=-1)]: Done  12 tasks      | elapsed: 23.9min\n",
      "[Parallel(n_jobs=-1)]: Done  13 tasks      | elapsed: 24.2min\n",
      "[Parallel(n_jobs=-1)]: Done  14 tasks      | elapsed: 26.3min\n",
      "[Parallel(n_jobs=-1)]: Done  15 tasks      | elapsed: 27.0min\n",
      "[Parallel(n_jobs=-1)]: Done  16 tasks      | elapsed: 28.4min\n",
      "[Parallel(n_jobs=-1)]: Done  17 tasks      | elapsed: 30.2min\n",
      "[Parallel(n_jobs=-1)]: Done  18 tasks      | elapsed: 31.1min\n",
      "[Parallel(n_jobs=-1)]: Done  19 tasks      | elapsed: 31.3min\n",
      "[Parallel(n_jobs=-1)]: Done  20 tasks      | elapsed: 32.5min\n",
      "[Parallel(n_jobs=-1)]: Done  21 tasks      | elapsed: 32.6min\n",
      "[Parallel(n_jobs=-1)]: Done  22 tasks      | elapsed: 32.8min\n",
      "[Parallel(n_jobs=-1)]: Done  23 tasks      | elapsed: 32.9min\n",
      "[Parallel(n_jobs=-1)]: Done  24 tasks      | elapsed: 33.7min\n",
      "[Parallel(n_jobs=-1)]: Done  25 tasks      | elapsed: 33.8min\n",
      "[Parallel(n_jobs=-1)]: Done  26 tasks      | elapsed: 42.4min\n",
      "[Parallel(n_jobs=-1)]: Done  27 tasks      | elapsed: 44.0min\n",
      "[Parallel(n_jobs=-1)]: Done  28 tasks      | elapsed: 44.1min\n",
      "[Parallel(n_jobs=-1)]: Done  29 tasks      | elapsed: 47.5min\n",
      "[Parallel(n_jobs=-1)]: Done  30 tasks      | elapsed: 48.0min\n",
      "[Parallel(n_jobs=-1)]: Done  31 tasks      | elapsed: 48.3min\n",
      "[Parallel(n_jobs=-1)]: Done  32 tasks      | elapsed: 50.7min\n",
      "[Parallel(n_jobs=-1)]: Done  33 tasks      | elapsed: 52.3min\n",
      "[Parallel(n_jobs=-1)]: Done  34 tasks      | elapsed: 53.4min\n",
      "[Parallel(n_jobs=-1)]: Done  35 tasks      | elapsed: 57.7min\n",
      "[Parallel(n_jobs=-1)]: Done  36 tasks      | elapsed: 66.2min\n",
      "[Parallel(n_jobs=-1)]: Done  37 tasks      | elapsed: 67.2min\n",
      "[Parallel(n_jobs=-1)]: Done  38 tasks      | elapsed: 68.2min\n",
      "[Parallel(n_jobs=-1)]: Done  39 out of  45 | elapsed: 70.7min remaining: 10.9min\n",
      "[Parallel(n_jobs=-1)]: Done  40 out of  45 | elapsed: 76.0min remaining:  9.5min\n",
      "[Parallel(n_jobs=-1)]: Done  41 out of  45 | elapsed: 79.0min remaining:  7.7min\n",
      "[Parallel(n_jobs=-1)]: Done  42 out of  45 | elapsed: 79.7min remaining:  5.7min\n",
      "[Parallel(n_jobs=-1)]: Done  43 out of  45 | elapsed: 80.1min remaining:  3.7min\n",
      "[Parallel(n_jobs=-1)]: Done  45 out of  45 | elapsed: 84.2min remaining:    0.0s\n",
      "[Parallel(n_jobs=-1)]: Done  45 out of  45 | elapsed: 84.2min finished\n"
     ]
    },
    {
     "name": "stderr",
     "output_type": "stream",
     "text": [
      "/Library/Frameworks/Python.framework/Versions/3.7/lib/python3.7/site-packages/sklearn/model_selection/_search.py:814: DeprecationWarning: The default of the `iid` parameter will change from True to False in version 0.22 and will be removed in 0.24. This will change numeric results when test-set sizes are unequal.\n",
      "  DeprecationWarning)\n"
     ]
    },
    {
     "data": {
      "text/plain": [
       "GridSearchCV(cv=5, error_score='raise-deprecating',\n",
       "             estimator=MLPClassifier(activation='relu', alpha=0.0001,\n",
       "                                     batch_size='auto', beta_1=0.9,\n",
       "                                     beta_2=0.999, early_stopping=False,\n",
       "                                     epsilon=1e-08, hidden_layer_sizes=(100,),\n",
       "                                     learning_rate='constant',\n",
       "                                     learning_rate_init=0.001, max_iter=200,\n",
       "                                     momentum=0.9, n_iter_no_change=10,\n",
       "                                     nesterovs_momentum=True, power_t=0.5,\n",
       "                                     random_state=None, shuffle=True,\n",
       "                                     solver='adam', tol=0.0001,\n",
       "                                     validation_fraction=0.1, verbose=False,\n",
       "                                     warm_start=False),\n",
       "             iid='warn', n_jobs=-1,\n",
       "             param_grid={'learning_rate': ['constant', 'invscaling',\n",
       "                                           'adaptive'],\n",
       "                         'solver': ['lbfgs', 'sgd', 'adam']},\n",
       "             pre_dispatch='2*n_jobs', refit=True, return_train_score=False,\n",
       "             scoring=None, verbose=50)"
      ]
     },
     "execution_count": 179,
     "metadata": {},
     "output_type": "execute_result"
    }
   ],
   "source": [
    "from sklearn.model_selection import GridSearchCV# Create the parameter grid based on the results of random search \n",
    " \n",
    "from sklearn.neural_network import MLPClassifier\n",
    "\n",
    "#hidden_layer_sizes = [100, 200, 400]\n",
    "learning_rate = ['constant', 'invscaling', 'adaptive']\n",
    "solver = ['lbfgs', 'sgd', 'adam']\n",
    "\n",
    "param_tune = {'learning_rate':learning_rate, 'solver':solver}\n",
    "\n",
    "NN = MLPClassifier()# Instantiate the grid search model\n",
    "\n",
    "grid_search = GridSearchCV(estimator = NN, param_grid = param_tune, \n",
    "                          cv = 5, n_jobs = -1, verbose = 50)\n",
    "\n",
    "# Fit the grid search to the data\n",
    "grid_search.fit(x_train, y_train)"
   ]
  },
  {
   "cell_type": "code",
   "execution_count": 180,
   "metadata": {},
   "outputs": [
    {
     "data": {
      "text/plain": [
       "{'learning_rate': 'adaptive', 'solver': 'adam'}"
      ]
     },
     "execution_count": 180,
     "metadata": {},
     "output_type": "execute_result"
    }
   ],
   "source": [
    "grid_search.best_params_"
   ]
  },
  {
   "cell_type": "markdown",
   "metadata": {},
   "source": [
    "## Performance of Neural Network Classifier After Tuning"
   ]
  },
  {
   "cell_type": "code",
   "execution_count": 58,
   "metadata": {},
   "outputs": [
    {
     "name": "stdout",
     "output_type": "stream",
     "text": [
      "Iteration 1, loss = 2.57235532\n",
      "Iteration 2, loss = 1.16603746\n",
      "Iteration 3, loss = 0.77120634\n",
      "Iteration 4, loss = 0.56677087\n",
      "Iteration 5, loss = 0.43270867\n",
      "Iteration 6, loss = 0.33838426\n",
      "Iteration 7, loss = 0.26975279\n",
      "Iteration 8, loss = 0.21923821\n",
      "Iteration 9, loss = 0.18195825\n",
      "Iteration 10, loss = 0.15358213\n",
      "Iteration 11, loss = 0.13216352\n",
      "Iteration 12, loss = 0.11510323\n",
      "Iteration 13, loss = 0.10146153\n",
      "Iteration 14, loss = 0.09070271\n",
      "Iteration 15, loss = 0.08231323\n",
      "Iteration 16, loss = 0.07513881\n",
      "Iteration 17, loss = 0.06941182\n",
      "Iteration 18, loss = 0.06466584\n",
      "Iteration 19, loss = 0.06064808\n",
      "Iteration 20, loss = 0.05775368\n",
      "Iteration 21, loss = 0.05528289\n",
      "Iteration 22, loss = 0.05292459\n",
      "Iteration 23, loss = 0.05106105\n",
      "Iteration 24, loss = 0.04923000\n",
      "Iteration 25, loss = 0.04799152\n",
      "Iteration 26, loss = 0.04695369\n",
      "Iteration 27, loss = 0.04611178\n",
      "Iteration 28, loss = 0.04464339\n",
      "Iteration 29, loss = 0.04435355\n",
      "Iteration 30, loss = 0.04393711\n",
      "Iteration 31, loss = 0.04317972\n",
      "Iteration 32, loss = 0.04224233\n",
      "Iteration 33, loss = 0.04180500\n",
      "Iteration 34, loss = 0.04150097\n",
      "Iteration 35, loss = 0.04092154\n",
      "Iteration 36, loss = 0.04078361\n",
      "Iteration 37, loss = 0.03996710\n",
      "Iteration 38, loss = 0.03950882\n",
      "Iteration 39, loss = 0.03946557\n",
      "Iteration 40, loss = 0.03936553\n",
      "Iteration 41, loss = 0.03893045\n",
      "Iteration 42, loss = 0.03867024\n",
      "Iteration 43, loss = 0.03884600\n",
      "Iteration 44, loss = 0.03828944\n",
      "Iteration 45, loss = 0.03801710\n",
      "Iteration 46, loss = 0.03782515\n",
      "Iteration 47, loss = 0.03839579\n",
      "Iteration 48, loss = 0.03694571\n",
      "Iteration 49, loss = 0.03715274\n",
      "Iteration 50, loss = 0.03701030\n",
      "Iteration 51, loss = 0.03630816\n",
      "Iteration 52, loss = 0.03726313\n",
      "Iteration 53, loss = 0.03661979\n",
      "Iteration 54, loss = 0.03587877\n",
      "Iteration 55, loss = 0.03657206\n",
      "Iteration 56, loss = 0.03582467\n",
      "Iteration 57, loss = 0.03579401\n",
      "Iteration 58, loss = 0.03608911\n",
      "Iteration 59, loss = 0.03582236\n",
      "Iteration 60, loss = 0.03553837\n",
      "Iteration 61, loss = 0.03526243\n",
      "Iteration 62, loss = 0.03535354\n",
      "Iteration 63, loss = 0.03574055\n",
      "Iteration 64, loss = 0.03517976\n",
      "Iteration 65, loss = 0.03554396\n",
      "Iteration 66, loss = 0.03478146\n",
      "Iteration 67, loss = 0.03417283\n",
      "Iteration 68, loss = 0.03425836\n",
      "Iteration 69, loss = 0.03430962\n",
      "Iteration 70, loss = 0.03448625\n",
      "Iteration 71, loss = 0.03458929\n",
      "Iteration 72, loss = 0.03419836\n",
      "Iteration 73, loss = 0.03459154\n",
      "Iteration 74, loss = 0.03411099\n",
      "Iteration 75, loss = 0.03427141\n",
      "Iteration 76, loss = 0.03400723\n",
      "Iteration 77, loss = 0.03362584\n",
      "Iteration 78, loss = 0.03343304\n",
      "Iteration 79, loss = 0.03393211\n",
      "Iteration 80, loss = 0.03392022\n",
      "Iteration 81, loss = 0.03371564\n",
      "Iteration 82, loss = 0.03406970\n",
      "Iteration 83, loss = 0.03376472\n",
      "Iteration 84, loss = 0.03396647\n",
      "Iteration 85, loss = 0.03374704\n",
      "Iteration 86, loss = 0.03338731\n",
      "Iteration 87, loss = 0.03317136\n",
      "Iteration 88, loss = 0.03372905\n",
      "Iteration 89, loss = 0.03326062\n",
      "Iteration 90, loss = 0.03291260\n",
      "Iteration 91, loss = 0.03311036\n",
      "Iteration 92, loss = 0.03299500\n",
      "Iteration 93, loss = 0.03348877\n",
      "Iteration 94, loss = 0.03305918\n",
      "Iteration 95, loss = 0.03275400\n",
      "Iteration 96, loss = 0.03306270\n",
      "Iteration 97, loss = 0.03260349\n",
      "Iteration 98, loss = 0.03211417\n",
      "Iteration 99, loss = 0.03283316\n",
      "Iteration 100, loss = 0.03277965\n",
      "Iteration 101, loss = 0.03292111\n",
      "Iteration 102, loss = 0.03305163\n",
      "Iteration 103, loss = 0.03279595\n",
      "Iteration 104, loss = 0.03235982\n",
      "Iteration 105, loss = 0.03279288\n",
      "Iteration 106, loss = 0.03230152\n",
      "Iteration 107, loss = 0.03233242\n",
      "Iteration 108, loss = 0.03252065\n",
      "Iteration 109, loss = 0.03264520\n",
      "Training loss did not improve more than tol=0.000100 for 10 consecutive epochs. Stopping.\n"
     ]
    }
   ],
   "source": [
    "NN_classifier = MLPClassifier()\n",
    "NN_classifier = train_classifiers(X_train,Y_train,'NN', {'verbose': 20, 'learning_rate': 'adaptive', 'solver': 'adam'})"
   ]
  },
  {
   "cell_type": "code",
   "execution_count": 59,
   "metadata": {},
   "outputs": [
    {
     "name": "stderr",
     "output_type": "stream",
     "text": [
      "/Library/Frameworks/Python.framework/Versions/3.7/lib/python3.7/site-packages/sklearn/metrics/classification.py:1437: UndefinedMetricWarning: F-score is ill-defined and being set to 0.0 in labels with no predicted samples.\n",
      "  'precision', 'predicted', average, warn_for)\n",
      "/Library/Frameworks/Python.framework/Versions/3.7/lib/python3.7/site-packages/sklearn/metrics/classification.py:1439: UndefinedMetricWarning: F-score is ill-defined and being set to 0.0 in labels with no true samples.\n",
      "  'recall', 'true', average, warn_for)\n"
     ]
    },
    {
     "data": {
      "text/plain": [
       "0.7746828912266325"
      ]
     },
     "execution_count": 59,
     "metadata": {},
     "output_type": "execute_result"
    }
   ],
   "source": [
    "f1_score_NN = calculate_f1score(NN_classifier,'NN',X_test,Y_test)\n",
    "f1_score_NN"
   ]
  },
  {
   "cell_type": "markdown",
   "metadata": {},
   "source": [
    "# Performance of Decision Tree Classifier Before Tuning"
   ]
  },
  {
   "cell_type": "code",
   "execution_count": 42,
   "metadata": {},
   "outputs": [],
   "source": [
    "DT_classifier = DecisionTreeClassifier()\n",
    "DT_classifier = train_classifiers(X_train,Y_train,'DT')"
   ]
  },
  {
   "cell_type": "code",
   "execution_count": 43,
   "metadata": {
    "scrolled": true
   },
   "outputs": [
    {
     "name": "stderr",
     "output_type": "stream",
     "text": [
      "/Library/Frameworks/Python.framework/Versions/3.7/lib/python3.7/site-packages/sklearn/metrics/classification.py:1437: UndefinedMetricWarning: F-score is ill-defined and being set to 0.0 in labels with no predicted samples.\n",
      "  'precision', 'predicted', average, warn_for)\n",
      "/Library/Frameworks/Python.framework/Versions/3.7/lib/python3.7/site-packages/sklearn/metrics/classification.py:1439: UndefinedMetricWarning: F-score is ill-defined and being set to 0.0 in labels with no true samples.\n",
      "  'recall', 'true', average, warn_for)\n"
     ]
    },
    {
     "data": {
      "text/plain": [
       "0.6251828963904881"
      ]
     },
     "execution_count": 43,
     "metadata": {},
     "output_type": "execute_result"
    }
   ],
   "source": [
    "f1_score_DT = calculate_f1score(DT_classifier,'DT',X_test,Y_test)\n",
    "f1_score_DT"
   ]
  },
  {
   "cell_type": "markdown",
   "metadata": {},
   "source": [
    "# Tuning the Decision Tree Classifier"
   ]
  },
  {
   "cell_type": "code",
   "execution_count": 101,
   "metadata": {},
   "outputs": [
    {
     "name": "stdout",
     "output_type": "stream",
     "text": [
      "Fitting 5 folds for each of 12 candidates, totalling 60 fits\n",
      "[Parallel(n_jobs=-1)]: Using backend LokyBackend with 4 concurrent workers.\n"
     ]
    },
    {
     "name": "stderr",
     "output_type": "stream",
     "text": [
      "/Library/Frameworks/Python.framework/Versions/3.7/lib/python3.7/site-packages/sklearn/model_selection/_split.py:657: Warning: The least populated class in y has only 1 members, which is too few. The minimum number of members in any class cannot be less than n_splits=5.\n",
      "  % (min_groups, self.n_splits)), Warning)\n"
     ]
    },
    {
     "name": "stdout",
     "output_type": "stream",
     "text": [
      "[Parallel(n_jobs=-1)]: Done   1 tasks      | elapsed:    7.0s\n",
      "[Parallel(n_jobs=-1)]: Done   2 tasks      | elapsed:    7.0s\n",
      "[Parallel(n_jobs=-1)]: Done   3 tasks      | elapsed:    7.1s\n",
      "[Parallel(n_jobs=-1)]: Done   4 tasks      | elapsed:    7.1s\n",
      "[Parallel(n_jobs=-1)]: Done   5 tasks      | elapsed:    7.5s\n",
      "[Parallel(n_jobs=-1)]: Done   6 tasks      | elapsed:    7.5s\n",
      "[Parallel(n_jobs=-1)]: Done   7 tasks      | elapsed:    7.5s\n",
      "[Parallel(n_jobs=-1)]: Done   8 tasks      | elapsed:    7.9s\n",
      "[Parallel(n_jobs=-1)]: Done   9 tasks      | elapsed:    7.9s\n",
      "[Parallel(n_jobs=-1)]: Done  10 tasks      | elapsed:    7.9s\n",
      "[Parallel(n_jobs=-1)]: Done  11 tasks      | elapsed:    8.3s\n",
      "[Parallel(n_jobs=-1)]: Done  12 tasks      | elapsed:    8.3s\n",
      "[Parallel(n_jobs=-1)]: Done  13 tasks      | elapsed:    8.3s\n",
      "[Parallel(n_jobs=-1)]: Done  14 tasks      | elapsed:    8.7s\n",
      "[Parallel(n_jobs=-1)]: Done  15 tasks      | elapsed:   11.8s\n",
      "[Parallel(n_jobs=-1)]: Done  16 tasks      | elapsed:   15.2s\n",
      "[Parallel(n_jobs=-1)]: Done  17 tasks      | elapsed:   15.4s\n",
      "[Parallel(n_jobs=-1)]: Done  18 tasks      | elapsed:   15.9s\n",
      "[Parallel(n_jobs=-1)]: Done  19 tasks      | elapsed:   16.4s\n",
      "[Parallel(n_jobs=-1)]: Done  20 tasks      | elapsed:   16.6s\n",
      "[Parallel(n_jobs=-1)]: Done  21 tasks      | elapsed:   17.5s\n",
      "[Parallel(n_jobs=-1)]: Done  22 tasks      | elapsed:   17.7s\n",
      "[Parallel(n_jobs=-1)]: Done  23 tasks      | elapsed:   18.0s\n",
      "[Parallel(n_jobs=-1)]: Done  24 tasks      | elapsed:   18.1s\n",
      "[Parallel(n_jobs=-1)]: Done  25 tasks      | elapsed:   19.0s\n",
      "[Parallel(n_jobs=-1)]: Done  26 tasks      | elapsed:   19.2s\n",
      "[Parallel(n_jobs=-1)]: Done  27 tasks      | elapsed:   20.0s\n",
      "[Parallel(n_jobs=-1)]: Done  28 tasks      | elapsed:   20.1s\n",
      "[Parallel(n_jobs=-1)]: Done  29 tasks      | elapsed:   21.4s\n",
      "[Parallel(n_jobs=-1)]: Done  30 tasks      | elapsed:   28.3s\n",
      "[Parallel(n_jobs=-1)]: Done  31 tasks      | elapsed:   33.4s\n",
      "[Parallel(n_jobs=-1)]: Done  32 tasks      | elapsed:   33.4s\n",
      "[Parallel(n_jobs=-1)]: Done  33 tasks      | elapsed:   35.0s\n",
      "[Parallel(n_jobs=-1)]: Done  34 tasks      | elapsed:   36.7s\n",
      "[Parallel(n_jobs=-1)]: Done  35 tasks      | elapsed:   38.4s\n",
      "[Parallel(n_jobs=-1)]: Done  36 tasks      | elapsed:   40.0s\n",
      "[Parallel(n_jobs=-1)]: Done  37 tasks      | elapsed:   40.0s\n",
      "[Parallel(n_jobs=-1)]: Done  38 tasks      | elapsed:   41.6s\n",
      "[Parallel(n_jobs=-1)]: Done  39 tasks      | elapsed:   41.7s\n",
      "[Parallel(n_jobs=-1)]: Done  40 tasks      | elapsed:   43.7s\n",
      "[Parallel(n_jobs=-1)]: Done  41 tasks      | elapsed:   43.9s\n",
      "[Parallel(n_jobs=-1)]: Done  42 tasks      | elapsed:   44.1s\n",
      "[Parallel(n_jobs=-1)]: Done  43 tasks      | elapsed:   45.7s\n",
      "[Parallel(n_jobs=-1)]: Done  44 tasks      | elapsed:   46.0s\n",
      "[Parallel(n_jobs=-1)]: Done  45 tasks      | elapsed:   46.2s\n",
      "[Parallel(n_jobs=-1)]: Done  46 tasks      | elapsed:   57.3s\n",
      "[Parallel(n_jobs=-1)]: Done  47 tasks      | elapsed:   59.5s\n",
      "[Parallel(n_jobs=-1)]: Done  48 tasks      | elapsed:   59.6s\n",
      "[Parallel(n_jobs=-1)]: Done  49 tasks      | elapsed:  1.0min\n",
      "[Parallel(n_jobs=-1)]: Done  50 tasks      | elapsed:  1.1min\n",
      "[Parallel(n_jobs=-1)]: Done  51 tasks      | elapsed:  1.1min\n",
      "[Parallel(n_jobs=-1)]: Done  52 tasks      | elapsed:  1.1min\n",
      "[Parallel(n_jobs=-1)]: Done  53 tasks      | elapsed:  1.1min\n",
      "[Parallel(n_jobs=-1)]: Done  55 out of  60 | elapsed:  1.1min remaining:    6.1s\n",
      "[Parallel(n_jobs=-1)]: Done  57 out of  60 | elapsed:  1.2min remaining:    3.6s\n",
      "[Parallel(n_jobs=-1)]: Done  60 out of  60 | elapsed:  1.2min finished\n"
     ]
    },
    {
     "data": {
      "text/plain": [
       "GridSearchCV(cv=5, error_score='raise-deprecating',\n",
       "             estimator=DecisionTreeClassifier(class_weight=None,\n",
       "                                              criterion='gini', max_depth=None,\n",
       "                                              max_features=None,\n",
       "                                              max_leaf_nodes=None,\n",
       "                                              min_impurity_decrease=0.0,\n",
       "                                              min_impurity_split=None,\n",
       "                                              min_samples_leaf=1,\n",
       "                                              min_samples_split=2,\n",
       "                                              min_weight_fraction_leaf=0.0,\n",
       "                                              presort=False, random_state=None,\n",
       "                                              splitter='best'),\n",
       "             iid='warn', n_jobs=-1,\n",
       "             param_grid={'criterion': ['gini', 'entropy'],\n",
       "                         'max_depth': [20, None],\n",
       "                         'min_impurity_decrease': [0, 0.1, 0.2]},\n",
       "             pre_dispatch='2*n_jobs', refit=True, return_train_score=False,\n",
       "             scoring=None, verbose=50)"
      ]
     },
     "execution_count": 101,
     "metadata": {},
     "output_type": "execute_result"
    }
   ],
   "source": [
    "from sklearn.model_selection import GridSearchCV# Create the parameter grid based on the results of random search \n",
    " \n",
    "from sklearn.tree import DecisionTreeClassifier\n",
    "min_impurity_decrease =[0,0.1,0.2]\n",
    "criterion = ['gini','entropy']\n",
    "max_depth = [20,None]\n",
    "\n",
    "param_tune = {'min_impurity_decrease':min_impurity_decrease, 'criterion':criterion, 'max_depth':max_depth}\n",
    "\n",
    "dt = DecisionTreeClassifier()# Instantiate the grid search model\n",
    "\n",
    "grid_search = GridSearchCV(estimator = dt, param_grid = param_tune, \n",
    "                          cv = 5, n_jobs = -1, verbose = 50)\n",
    "\n",
    "# Fit the grid search to the data\n",
    "grid_search.fit(x_train, y_train)"
   ]
  },
  {
   "cell_type": "code",
   "execution_count": 102,
   "metadata": {},
   "outputs": [
    {
     "data": {
      "text/plain": [
       "{'criterion': 'gini', 'max_depth': None, 'min_impurity_decrease': 0}"
      ]
     },
     "execution_count": 102,
     "metadata": {},
     "output_type": "execute_result"
    }
   ],
   "source": [
    "grid_search.best_params_"
   ]
  },
  {
   "cell_type": "markdown",
   "metadata": {},
   "source": [
    "# Performance of Decision Tree Classifier After Tuning"
   ]
  },
  {
   "cell_type": "code",
   "execution_count": 46,
   "metadata": {},
   "outputs": [],
   "source": [
    "DT_classifier = DecisionTreeClassifier()\n",
    "DT_classifier = train_classifiers(X_train,Y_train,'DT',\n",
    "                                  {'criterion': 'gini', 'max_depth': None, 'min_impurity_decrease': 0})"
   ]
  },
  {
   "cell_type": "code",
   "execution_count": 47,
   "metadata": {},
   "outputs": [
    {
     "name": "stderr",
     "output_type": "stream",
     "text": [
      "/Library/Frameworks/Python.framework/Versions/3.7/lib/python3.7/site-packages/sklearn/metrics/classification.py:1437: UndefinedMetricWarning: F-score is ill-defined and being set to 0.0 in labels with no predicted samples.\n",
      "  'precision', 'predicted', average, warn_for)\n",
      "/Library/Frameworks/Python.framework/Versions/3.7/lib/python3.7/site-packages/sklearn/metrics/classification.py:1439: UndefinedMetricWarning: F-score is ill-defined and being set to 0.0 in labels with no true samples.\n",
      "  'recall', 'true', average, warn_for)\n"
     ]
    },
    {
     "data": {
      "text/plain": [
       "0.6252524129925264"
      ]
     },
     "execution_count": 47,
     "metadata": {},
     "output_type": "execute_result"
    }
   ],
   "source": [
    "f1_score_DT = calculate_f1score(DT_classifier,'DT',X_test,Y_test)\n",
    "f1_score_DT"
   ]
  },
  {
   "cell_type": "markdown",
   "metadata": {},
   "source": [
    "# Performance of SVM-SVC Classifier Before Tuning"
   ]
  },
  {
   "cell_type": "code",
   "execution_count": 50,
   "metadata": {},
   "outputs": [
    {
     "name": "stderr",
     "output_type": "stream",
     "text": [
      "/Library/Frameworks/Python.framework/Versions/3.7/lib/python3.7/site-packages/sklearn/svm/base.py:193: FutureWarning: The default value of gamma will change from 'auto' to 'scale' in version 0.22 to account better for unscaled features. Set gamma explicitly to 'auto' or 'scale' to avoid this warning.\n",
      "  \"avoid this warning.\", FutureWarning)\n"
     ]
    }
   ],
   "source": [
    "SVC_classifier = train_classifiers(X_train,Y_train,'SVC')"
   ]
  },
  {
   "cell_type": "code",
   "execution_count": 52,
   "metadata": {},
   "outputs": [
    {
     "name": "stderr",
     "output_type": "stream",
     "text": [
      "/Library/Frameworks/Python.framework/Versions/3.7/lib/python3.7/site-packages/sklearn/metrics/classification.py:1437: UndefinedMetricWarning: F-score is ill-defined and being set to 0.0 in labels with no predicted samples.\n",
      "  'precision', 'predicted', average, warn_for)\n"
     ]
    },
    {
     "data": {
      "text/plain": [
       "0.07654697783178456"
      ]
     },
     "execution_count": 52,
     "metadata": {},
     "output_type": "execute_result"
    }
   ],
   "source": [
    "f1_score_SVC = calculate_f1score(SVC_classifier,'SVC',X_test,Y_test)\n",
    "f1_score_SVC"
   ]
  },
  {
   "cell_type": "markdown",
   "metadata": {},
   "source": [
    "# Tuning the SVM SVC Classifier"
   ]
  },
  {
   "cell_type": "code",
   "execution_count": 57,
   "metadata": {
    "scrolled": true
   },
   "outputs": [
    {
     "name": "stdout",
     "output_type": "stream",
     "text": [
      "Fitting 5 folds for each of 18 candidates, totalling 90 fits\n",
      "[Parallel(n_jobs=-1)]: Using backend LokyBackend with 4 concurrent workers.\n"
     ]
    },
    {
     "name": "stderr",
     "output_type": "stream",
     "text": [
      "/Library/Frameworks/Python.framework/Versions/3.7/lib/python3.7/site-packages/sklearn/model_selection/_split.py:657: Warning: The least populated class in y has only 1 members, which is too few. The minimum number of members in any class cannot be less than n_splits=5.\n",
      "  % (min_groups, self.n_splits)), Warning)\n"
     ]
    },
    {
     "name": "stdout",
     "output_type": "stream",
     "text": [
      "[Parallel(n_jobs=-1)]: Done   1 tasks      | elapsed:   41.6s\n",
      "[Parallel(n_jobs=-1)]: Done   2 tasks      | elapsed:   44.3s\n",
      "[Parallel(n_jobs=-1)]: Done   3 tasks      | elapsed:   44.6s\n",
      "[Parallel(n_jobs=-1)]: Done   4 tasks      | elapsed:   44.6s\n",
      "[Parallel(n_jobs=-1)]: Done   5 tasks      | elapsed:  1.4min\n",
      "[Parallel(n_jobs=-1)]: Done   6 tasks      | elapsed:  1.4min\n",
      "[Parallel(n_jobs=-1)]: Done   7 tasks      | elapsed:  1.5min\n",
      "[Parallel(n_jobs=-1)]: Done   8 tasks      | elapsed:  1.5min\n",
      "[Parallel(n_jobs=-1)]: Done   9 tasks      | elapsed:  1.9min\n",
      "[Parallel(n_jobs=-1)]: Done  10 tasks      | elapsed:  1.9min\n",
      "[Parallel(n_jobs=-1)]: Done  11 tasks      | elapsed:  2.1min\n",
      "[Parallel(n_jobs=-1)]: Done  12 tasks      | elapsed:  2.2min\n",
      "[Parallel(n_jobs=-1)]: Done  13 tasks      | elapsed:  2.4min\n",
      "[Parallel(n_jobs=-1)]: Done  14 tasks      | elapsed:  2.4min\n",
      "[Parallel(n_jobs=-1)]: Done  15 tasks      | elapsed:  2.6min\n",
      "[Parallel(n_jobs=-1)]: Done  16 tasks      | elapsed:  2.9min\n",
      "[Parallel(n_jobs=-1)]: Done  17 tasks      | elapsed:  3.2min\n",
      "[Parallel(n_jobs=-1)]: Done  18 tasks      | elapsed:  3.2min\n",
      "[Parallel(n_jobs=-1)]: Done  19 tasks      | elapsed:  3.4min\n",
      "[Parallel(n_jobs=-1)]: Done  20 tasks      | elapsed:  3.7min\n",
      "[Parallel(n_jobs=-1)]: Done  21 tasks      | elapsed:  4.4min\n",
      "[Parallel(n_jobs=-1)]: Done  22 tasks      | elapsed:  4.6min\n",
      "[Parallel(n_jobs=-1)]: Done  23 tasks      | elapsed:  4.8min\n",
      "[Parallel(n_jobs=-1)]: Done  24 tasks      | elapsed:  5.1min\n",
      "[Parallel(n_jobs=-1)]: Done  25 tasks      | elapsed:  5.9min\n",
      "[Parallel(n_jobs=-1)]: Done  26 tasks      | elapsed:  6.3min\n",
      "[Parallel(n_jobs=-1)]: Done  27 tasks      | elapsed:  6.8min\n",
      "[Parallel(n_jobs=-1)]: Done  28 tasks      | elapsed:  7.0min\n",
      "[Parallel(n_jobs=-1)]: Done  29 tasks      | elapsed:  7.5min\n",
      "[Parallel(n_jobs=-1)]: Done  30 tasks      | elapsed:  7.8min\n",
      "[Parallel(n_jobs=-1)]: Done  31 tasks      | elapsed:  7.8min\n",
      "[Parallel(n_jobs=-1)]: Done  32 tasks      | elapsed:  8.2min\n",
      "[Parallel(n_jobs=-1)]: Done  33 tasks      | elapsed:  8.3min\n",
      "[Parallel(n_jobs=-1)]: Done  34 tasks      | elapsed:  8.6min\n",
      "[Parallel(n_jobs=-1)]: Done  35 tasks      | elapsed:  8.6min\n",
      "[Parallel(n_jobs=-1)]: Done  36 tasks      | elapsed: 10.0min\n",
      "[Parallel(n_jobs=-1)]: Done  37 tasks      | elapsed: 10.3min\n",
      "[Parallel(n_jobs=-1)]: Done  38 tasks      | elapsed: 10.6min\n",
      "[Parallel(n_jobs=-1)]: Done  39 tasks      | elapsed: 10.7min\n",
      "[Parallel(n_jobs=-1)]: Done  40 tasks      | elapsed: 12.0min\n",
      "[Parallel(n_jobs=-1)]: Done  41 tasks      | elapsed: 12.1min\n",
      "[Parallel(n_jobs=-1)]: Done  42 tasks      | elapsed: 12.5min\n",
      "[Parallel(n_jobs=-1)]: Done  43 tasks      | elapsed: 12.6min\n",
      "[Parallel(n_jobs=-1)]: Done  44 tasks      | elapsed: 13.3min\n",
      "[Parallel(n_jobs=-1)]: Done  45 tasks      | elapsed: 13.4min\n",
      "[Parallel(n_jobs=-1)]: Done  46 tasks      | elapsed: 14.0min\n",
      "[Parallel(n_jobs=-1)]: Done  47 tasks      | elapsed: 14.0min\n",
      "[Parallel(n_jobs=-1)]: Done  48 tasks      | elapsed: 14.1min\n",
      "[Parallel(n_jobs=-1)]: Done  49 tasks      | elapsed: 14.1min\n",
      "[Parallel(n_jobs=-1)]: Done  50 tasks      | elapsed: 14.8min\n",
      "[Parallel(n_jobs=-1)]: Done  51 tasks      | elapsed: 14.8min\n",
      "[Parallel(n_jobs=-1)]: Done  52 tasks      | elapsed: 14.9min\n",
      "[Parallel(n_jobs=-1)]: Done  53 tasks      | elapsed: 15.0min\n",
      "[Parallel(n_jobs=-1)]: Done  54 tasks      | elapsed: 15.7min\n",
      "[Parallel(n_jobs=-1)]: Done  55 tasks      | elapsed: 15.7min\n",
      "[Parallel(n_jobs=-1)]: Done  56 tasks      | elapsed: 16.0min\n",
      "[Parallel(n_jobs=-1)]: Done  57 tasks      | elapsed: 16.1min\n",
      "[Parallel(n_jobs=-1)]: Done  58 tasks      | elapsed: 16.8min\n",
      "[Parallel(n_jobs=-1)]: Done  59 tasks      | elapsed: 16.8min\n",
      "[Parallel(n_jobs=-1)]: Done  60 tasks      | elapsed: 16.9min\n",
      "[Parallel(n_jobs=-1)]: Done  61 tasks      | elapsed: 17.2min\n",
      "[Parallel(n_jobs=-1)]: Done  62 tasks      | elapsed: 17.6min\n",
      "[Parallel(n_jobs=-1)]: Done  63 tasks      | elapsed: 17.6min\n",
      "[Parallel(n_jobs=-1)]: Done  64 tasks      | elapsed: 17.7min\n",
      "[Parallel(n_jobs=-1)]: Done  65 tasks      | elapsed: 17.9min\n",
      "[Parallel(n_jobs=-1)]: Done  66 tasks      | elapsed: 18.9min\n",
      "[Parallel(n_jobs=-1)]: Done  67 tasks      | elapsed: 19.1min\n",
      "[Parallel(n_jobs=-1)]: Done  68 tasks      | elapsed: 19.1min\n",
      "[Parallel(n_jobs=-1)]: Done  69 tasks      | elapsed: 19.4min\n",
      "[Parallel(n_jobs=-1)]: Done  70 tasks      | elapsed: 20.4min\n",
      "[Parallel(n_jobs=-1)]: Done  71 tasks      | elapsed: 20.8min\n",
      "[Parallel(n_jobs=-1)]: Done  72 tasks      | elapsed: 21.1min\n",
      "[Parallel(n_jobs=-1)]: Done  73 tasks      | elapsed: 21.4min\n",
      "[Parallel(n_jobs=-1)]: Done  74 tasks      | elapsed: 21.9min\n",
      "[Parallel(n_jobs=-1)]: Done  75 tasks      | elapsed: 22.2min\n",
      "[Parallel(n_jobs=-1)]: Done  76 tasks      | elapsed: 22.5min\n",
      "[Parallel(n_jobs=-1)]: Done  77 tasks      | elapsed: 22.7min\n",
      "[Parallel(n_jobs=-1)]: Done  78 tasks      | elapsed: 22.9min\n",
      "[Parallel(n_jobs=-1)]: Done  79 tasks      | elapsed: 23.1min\n",
      "[Parallel(n_jobs=-1)]: Done  80 tasks      | elapsed: 23.3min\n",
      "[Parallel(n_jobs=-1)]: Done  81 tasks      | elapsed: 24.6min\n",
      "[Parallel(n_jobs=-1)]: Done  82 tasks      | elapsed: 25.1min\n",
      "[Parallel(n_jobs=-1)]: Done  83 tasks      | elapsed: 25.2min\n",
      "[Parallel(n_jobs=-1)]: Done  85 out of  90 | elapsed: 26.7min remaining:  1.6min\n",
      "[Parallel(n_jobs=-1)]: Done  87 out of  90 | elapsed: 27.2min remaining:   56.4s\n",
      "[Parallel(n_jobs=-1)]: Done  90 out of  90 | elapsed: 28.4min finished\n"
     ]
    },
    {
     "name": "stderr",
     "output_type": "stream",
     "text": [
      "/Library/Frameworks/Python.framework/Versions/3.7/lib/python3.7/site-packages/sklearn/model_selection/_search.py:814: DeprecationWarning: The default of the `iid` parameter will change from True to False in version 0.22 and will be removed in 0.24. This will change numeric results when test-set sizes are unequal.\n",
      "  DeprecationWarning)\n"
     ]
    },
    {
     "data": {
      "text/plain": [
       "GridSearchCV(cv=5, error_score='raise-deprecating',\n",
       "             estimator=SVC(C=1.0, cache_size=200, class_weight=None, coef0=0.0,\n",
       "                           decision_function_shape='ovr', degree=3,\n",
       "                           gamma='auto_deprecated', kernel='rbf', max_iter=-1,\n",
       "                           probability=False, random_state=None, shrinking=True,\n",
       "                           tol=0.001, verbose=False),\n",
       "             iid='warn', n_jobs=-1,\n",
       "             param_grid={'C': [1, 10], 'gamma': [0.1, 1, 10],\n",
       "                         'kernel': ['linear', 'rbf', 'poly']},\n",
       "             pre_dispatch='2*n_jobs', refit=True, return_train_score=False,\n",
       "             scoring=None, verbose=50)"
      ]
     },
     "execution_count": 57,
     "metadata": {},
     "output_type": "execute_result"
    }
   ],
   "source": [
    "from sklearn.model_selection import GridSearchCV# Create the parameter grid based on the results of random search \n",
    "from sklearn import svm\n",
    "\n",
    "kernels = ['linear', 'rbf', 'poly']\n",
    "gammas = [0.1, 1, 10]\n",
    "C = [1, 10]\n",
    "\n",
    "param_tune = {'kernel':kernels, 'gamma':gammas, 'C':C}\n",
    "\n",
    "svc_lassifier = svm.SVC()\n",
    "\n",
    "grid_search = GridSearchCV(estimator = svc_lassifier, param_grid = param_tune, cv = 5, n_jobs = -1, verbose = 50)\n",
    "\n",
    "# Fit the grid search to the data\n",
    "grid_search.fit(x_train, y_train)"
   ]
  },
  {
   "cell_type": "code",
   "execution_count": 59,
   "metadata": {},
   "outputs": [
    {
     "data": {
      "text/plain": [
       "{'C': 10, 'gamma': 0.1, 'kernel': 'rbf'}"
      ]
     },
     "execution_count": 59,
     "metadata": {},
     "output_type": "execute_result"
    }
   ],
   "source": [
    "grid_search.best_params_"
   ]
  },
  {
   "cell_type": "markdown",
   "metadata": {},
   "source": [
    "# Performance of SVM-SVC Classifier After Tuning"
   ]
  },
  {
   "cell_type": "code",
   "execution_count": 53,
   "metadata": {},
   "outputs": [],
   "source": [
    "SVC_classifier = train_classifiers(X_train,Y_train,'SVC',{'C': 10, 'gamma': 0.1, 'kernel': 'rbf'})"
   ]
  },
  {
   "cell_type": "code",
   "execution_count": 54,
   "metadata": {},
   "outputs": [
    {
     "name": "stderr",
     "output_type": "stream",
     "text": [
      "/Library/Frameworks/Python.framework/Versions/3.7/lib/python3.7/site-packages/sklearn/metrics/classification.py:1439: UndefinedMetricWarning: F-score is ill-defined and being set to 0.0 in labels with no true samples.\n",
      "  'recall', 'true', average, warn_for)\n"
     ]
    },
    {
     "data": {
      "text/plain": [
       "0.7968245135799892"
      ]
     },
     "execution_count": 54,
     "metadata": {},
     "output_type": "execute_result"
    }
   ],
   "source": [
    "f1_score_SVC = calculate_f1score(SVC_classifier,'SVC',X_test,Y_test)\n",
    "f1_score_SVC"
   ]
  },
  {
   "cell_type": "markdown",
   "metadata": {},
   "source": [
    "# Performance of Linear Regression"
   ]
  },
  {
   "cell_type": "code",
   "execution_count": 71,
   "metadata": {},
   "outputs": [],
   "source": [
    "enc = LabelEncoder()\n",
    "y_enocoded = enc.fit_transform(y)\n",
    "\n",
    "X_encoded_train,X_encoded_test,Y_encoded_train,Y_encoded_test = train_test_split(x,y_enocoded,test_size = 0.3,random_state=100) \n",
    " \n",
    "linear_classifier = train_classifiers(X_encoded_train,Y_encoded_train,\"LR\")"
   ]
  },
  {
   "cell_type": "code",
   "execution_count": 77,
   "metadata": {},
   "outputs": [
    {
     "name": "stdout",
     "output_type": "stream",
     "text": [
      "mean_squared_error 1219121.9092613412\n",
      "r2_score -2084.9493927959265\n"
     ]
    }
   ],
   "source": [
    "y_predicted = linear_classifier.predict(X_encoded_test)\n",
    "\n",
    "rmse = mean_squared_error(Y_encoded_test, y_predicted)\n",
    "r2 = r2_score(Y_encoded_test, y_predicted)\n",
    "print(\"mean_squared_error\",rmse)\n",
    "print(\"r2_score\",r2)"
   ]
  },
  {
   "cell_type": "markdown",
   "metadata": {},
   "source": [
    "### Reason that I did not tune the Linear Regression Classifier:\n",
    "\n",
    "#### Linear Regression is a model used to predict discrete quantity values.\n",
    "#### Classification is used for predicting the discrete class labels\n",
    "#### As text classification in this assignment is based on text classification based on discrete class labels, \n",
    "#### I would like to conclude that Linear Regression is not an appropriate approach to test and train text data."
   ]
  },
  {
   "cell_type": "markdown",
   "metadata": {},
   "source": [
    "\n",
    "\n",
    "# Conclusion - Best classifier\n",
    "\n",
    "#### After training all the above classifiers on the training dataset and then testing it on the test data, I have come to a conclusion that Support Vector Machine classifier gives the best results for text classification. \n",
    "#### Though tuning the best parameters has improved the F1 score of all the classifiers, it still lags behind the SVM-SVC classifier. \n",
    "#### The F1 score of the SVM-SVC classifier outperforms the other classifiers and is slightly higher than that of the Neural Networks. \n",
    "#### Although Neural Networks is a good approach it has a slightly lower score compared to SVM.\n",
    "#### SVC classifier is better than MNB classifier when the training and testing is done on large datasets."
   ]
  },
  {
   "cell_type": "markdown",
   "metadata": {},
   "source": [
    "\n",
    "\n",
    "\n",
    "\n",
    "\n",
    "# REFERENCES (for all the classifiers)\n",
    "\n",
    "#### https://www.udemy.com/course/python-data-science-machine-learning-bootcamp/\n",
    "#### https://www.kaggle.com/shotashimizu/09-decisiontree-gridsearchcv\n",
    "#### https://scikit-learn.org/\n",
    "#### https://scikit-learn.org/stable/documentation.html"
   ]
  },
  {
   "cell_type": "code",
   "execution_count": null,
   "metadata": {},
   "outputs": [],
   "source": []
  }
 ],
 "metadata": {
  "kernelspec": {
   "display_name": "Python 3",
   "language": "python",
   "name": "python3"
  },
  "language_info": {
   "codemirror_mode": {
    "name": "ipython",
    "version": 3
   },
   "file_extension": ".py",
   "mimetype": "text/x-python",
   "name": "python",
   "nbconvert_exporter": "python",
   "pygments_lexer": "ipython3",
   "version": "3.7.4"
  }
 },
 "nbformat": 4,
 "nbformat_minor": 2
}
